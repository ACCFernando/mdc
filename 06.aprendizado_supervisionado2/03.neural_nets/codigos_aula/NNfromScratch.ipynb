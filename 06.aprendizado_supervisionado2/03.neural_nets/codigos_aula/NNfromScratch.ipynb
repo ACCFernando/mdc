{
  "cells": [
    {
      "cell_type": "markdown",
      "metadata": {
        "id": "KC983sAX-35t"
      },
      "source": [
        "# INF-0616 - Aula 4: construindo uma rede do zero\n",
        "\n",
        "Escrito por **Rising Odegua** ([link to his GitHub](https://heartbeat.fritz.ai/building-a-neural-network-from-scratch-using-python-part-1-6d399df8d432)), com pequenas modificações de **Esther Colombini**.\n",
        "\n",
        "Professora: Esther Colombini -- esther@ic.unicamp.br\n",
        "\n",
        "Monitora: Alana Santana -- a229999@dac.unicamp.br\n",
        "\n",
        "Este *notebook* faz parte da disciplina INF-0616 no curso de extensão MDC.  \n",
        "Demais artefatos podem ser encontrados no moodle da disciplina: \n",
        "[moodle.lab.ic.unicamp.br/469](https://moodle.lab.ic.unicamp.br/moodle/course/view.php?id=469)\n",
        "\n",
        "Instituto de Computação - Unicamp 2022\n",
        "\n",
        "\n",
        "    "
      ]
    },
    {
      "cell_type": "markdown",
      "metadata": {
        "id": "gxfP7Ylq-350"
      },
      "source": [
        "2-layer neural network for a binary classification task"
      ]
    },
    {
      "cell_type": "code",
      "execution_count": null,
      "metadata": {
        "id": "RYrmpbTw-350"
      },
      "outputs": [],
      "source": [
        "class NeuralNet():\n",
        "    '''\n",
        "    Uma rede com duas camadas\n",
        "    '''\n",
        "        \n",
        "    def __init__(self, layers=[13,8,1], learning_rate=0.001, iterations=100):\n",
        "        self.params = {}\n",
        "        self.layers = layers\n",
        "        self.learning_rate = learning_rate\n",
        "        self.iterations = iterations\n",
        "        self.loss = []\n",
        "        self.sample_size = None\n",
        "        self.X = None\n",
        "        self.y = None\n",
        "                \n",
        "    def init_weights(self):\n",
        "        '''\n",
        "        Inicialize os pesos a partir de uma distribuição normal aleatória\n",
        "        '''\n",
        "        np.random.seed(1) # Seed do gerador de números aleatórios\n",
        "        self.params[\"W1\"] = np.random.randn(self.layers[0], self.layers[1]) \n",
        "        self.params['b1']  =np.random.randn(self.layers[1],)\n",
        "        self.params['W2'] = np.random.randn(self.layers[1],self.layers[2]) \n",
        "        self.params['b2'] = np.random.randn(self.layers[2],)\n",
        "        \n",
        "    def relu(self,Z):\n",
        "        '''\n",
        "        A função ReLu executa uma operação limiar\n",
        "        para cada elemento de entrada em que valores menores que\n",
        "        zero são definidos como zero.\n",
        "        '''\n",
        "        return np.maximum(0, Z)\n",
        "        \n",
        "        \n",
        "    def sigmoid(self,Z):\n",
        "        '''\n",
        "        A função sigmóide recebe números reais em qualquer faixa e\n",
        "        adequa para uma saída com valor real entre 0 e 1.\n",
        "        '''\n",
        "        return 1.0 / (1.0 + np.exp(-Z))\n",
        "    \n",
        "    def entropy_loss(self,y, yhat):\n",
        "        nsample = len(y)\n",
        "        loss = -1/nsample * (np.sum(np.multiply(np.log(yhat), y) + np.multiply((1 - y), np.log(1 - yhat))))\n",
        "        return loss\n",
        "\n",
        "    \n",
        "    def forward_propagation(self):\n",
        "        '''\n",
        "        Executa o forward pass\n",
        "        '''\n",
        "        \n",
        "        Z1 = self.X.dot(self.params['W1']) + self.params['b1']\n",
        "        A1 = self.relu(Z1)\n",
        "        Z2 = A1.dot(self.params['W2']) + self.params['b2']\n",
        "        yhat = self.sigmoid(Z2)\n",
        "        loss = self.entropy_loss(self.y,yhat)\n",
        "\n",
        "        # save calculated parameters     \n",
        "        self.params['Z1'] = Z1\n",
        "        self.params['Z2'] = Z2\n",
        "        self.params['A1'] = A1\n",
        "\n",
        "        return yhat,loss\n",
        "\n",
        "    \n",
        "    def back_propagation(self,yhat):\n",
        "        '''\n",
        "        Computa as derivadas e atualiza os pesos e bias de acordo\n",
        "        '''\n",
        "        def dRelu(x): # derivada da função ReLu\n",
        "            x[x<=0] = 0\n",
        "            x[x>0] = 1\n",
        "            return x\n",
        "        \n",
        "        dl_wrt_yhat = -(np.divide(self.y,yhat) - np.divide((1 - self.y),(1-yhat)))\n",
        "        dl_wrt_sig = yhat * (1-yhat)\n",
        "        dl_wrt_z2 = dl_wrt_yhat * dl_wrt_sig\n",
        "\n",
        "        dl_wrt_A1 = dl_wrt_z2.dot(self.params['W2'].T)\n",
        "        dl_wrt_w2 = self.params['A1'].T.dot(dl_wrt_z2)\n",
        "        dl_wrt_b2 = np.sum(dl_wrt_z2, axis=0)\n",
        "\n",
        "        dl_wrt_z1 = dl_wrt_A1 * dRelu(self.params['Z1'])\n",
        "        dl_wrt_w1 = self.X.T.dot(dl_wrt_z1)\n",
        "        dl_wrt_b1 = np.sum(dl_wrt_z1, axis=0)\n",
        "\n",
        "        #update the weights and bias\n",
        "        self.params['W1'] = self.params['W1'] - self.learning_rate * dl_wrt_w1\n",
        "        self.params['W2'] = self.params['W2'] - self.learning_rate * dl_wrt_w2\n",
        "        self.params['b1'] = self.params['b1'] - self.learning_rate * dl_wrt_b1\n",
        "        self.params['b2'] = self.params['b2'] - self.learning_rate * dl_wrt_b2\n",
        "\n",
        "        \n",
        "    def fit(self, X, y):\n",
        "        '''\n",
        "        Treina a rede neural usando os dados e rótulos passados\n",
        "        '''\n",
        "        self.X = X\n",
        "        self.y = y\n",
        "        self.init_weights() #initializa pesos e bias\n",
        "\n",
        "\n",
        "        for i in range(self.iterations):\n",
        "            yhat, loss = self.forward_propagation()\n",
        "            self.back_propagation(yhat)\n",
        "            self.loss.append(loss)\n",
        "            \n",
        "            \n",
        "    def predict(self, X):\n",
        "        '''\n",
        "        Realiza o predict dos dados de teste\n",
        "        '''\n",
        "        Z1 = X.dot(self.params['W1']) + self.params['b1']\n",
        "        A1 = self.relu(Z1)\n",
        "        Z2 = A1.dot(self.params['W2']) + self.params['b2']\n",
        "        pred = self.sigmoid(Z2)\n",
        "        return np.round(pred)              \n",
        "\n",
        "                                \n",
        "    def acc(self, y, yhat):\n",
        "        '''\n",
        "        Calcula a acurácia entre o valor predito e o real\n",
        "        '''\n",
        "        acc = int(sum(y == yhat) / len(y) * 100)\n",
        "        return acc\n",
        "\n",
        "\n",
        "    def plot_loss(self):\n",
        "        '''\n",
        "        Plota a curva de loss\n",
        "        '''\n",
        "        plt.plot(self.loss)\n",
        "        plt.xlabel(\"Iteration\")\n",
        "        plt.ylabel(\"logloss\")\n",
        "        plt.title(\"Loss curve for training\")\n",
        "        plt.show()"
      ]
    },
    {
      "cell_type": "code",
      "execution_count": null,
      "metadata": {
        "id": "kkV8XIk1-354",
        "outputId": "2ff3d074-53f3-4bb3-ec00-d953d08a9586"
      },
      "outputs": [
        {
          "name": "stdout",
          "output_type": "stream",
          "text": [
            "Shape of train set is (242, 13)\n",
            "Shape of test set is (61, 13)\n",
            "Shape of train label is (242, 1)\n",
            "Shape of test labels is (61, 1)\n"
          ]
        },
        {
          "data": {
            "image/png": "[encoded data removed]",
            "text/plain": [
              "<Figure size 432x288 with 1 Axes>"
            ]
          },
          "metadata": {
            "needs_background": "light"
          },
          "output_type": "display_data"
        },
        {
          "name": "stdout",
          "output_type": "stream",
          "text": [
            "Train accuracy is 84\n",
            "Test accuracy is 78\n"
          ]
        }
      ],
      "source": [
        "import numpy as np\n",
        "import pandas as pd\n",
        "import warnings\n",
        "warnings.filterwarnings(\"ignore\") #sem warnings\n",
        "import matplotlib.pyplot as plt\n",
        "from sklearn.model_selection import train_test_split\n",
        "from sklearn.preprocessing import StandardScaler\n",
        "\n",
        "\n",
        "df = pd.read_csv('cleveland.csv', header = None)\n",
        "\n",
        "df.columns = ['age', 'sex', 'cp', 'trestbps', 'chol',\n",
        "              'fbs', 'restecg', 'thalach', 'exang', \n",
        "              'oldpeak', 'slope', 'ca', 'thal', 'target']\n",
        "\n",
        "### 1 = male, 0 = female\n",
        "df.isnull().sum()\n",
        "\n",
        "df['target'] = df.target.map({0: 0, 1: 1, 2: 1, 3: 1, 4: 1})\n",
        "df['thal'] = df.thal.fillna(df.thal.mean())\n",
        "df['ca'] = df.ca.fillna(df.ca.mean())\n",
        "\n",
        "X = df.iloc[:, :-1].values\n",
        "y_label = df.iloc[:, -1].values.reshape(X.shape[0], 1)\n",
        "\n",
        "#separa dados de treino e teste\n",
        "Xtrain, Xtest, ytrain, ytest = train_test_split(X, y_label, test_size=0.2, random_state=2)\n",
        "\n",
        "#normalizar o dataset\n",
        "sc = StandardScaler()\n",
        "sc.fit(Xtrain)\n",
        "Xtrain = sc.transform(Xtrain)\n",
        "Xtest = sc.transform(Xtest)\n",
        "\n",
        "print(f\"Shape of train set is {Xtrain.shape}\")\n",
        "print(f\"Shape of test set is {Xtest.shape}\")\n",
        "print(f\"Shape of train label is {ytrain.shape}\")\n",
        "print(f\"Shape of test labels is {ytest.shape}\")\n",
        "\n",
        "nn = NeuralNet() # cria o modelo da NN \n",
        "nn.fit(Xtrain, ytrain) #treine o modelo\n",
        "\n",
        "nn.plot_loss()\n",
        "\n",
        "train_pred = nn.predict(Xtrain)\n",
        "test_pred = nn.predict(Xtest)\n",
        "\n",
        "print(\"Train accuracy is {}\".format(nn.acc(ytrain, train_pred)))\n",
        "print(\"Test accuracy is {}\".format(nn.acc(ytest, test_pred)))\n",
        "\n"
      ]
    },
    {
      "cell_type": "code",
      "execution_count": null,
      "metadata": {
        "id": "37Gutpdy-355",
        "outputId": "d90436bf-964a-400c-cff9-d13bb48d25a9"
      },
      "outputs": [
        {
          "data": {
            "image/png": "[encoded data removed]",
            "text/plain": [
              "<Figure size 432x288 with 1 Axes>"
            ]
          },
          "metadata": {
            "needs_background": "light"
          },
          "output_type": "display_data"
        },
        {
          "name": "stdout",
          "output_type": "stream",
          "text": [
            "Train accuracy is 94\n",
            "Test accuracy is 81\n"
          ]
        }
      ],
      "source": [
        "nn = NeuralNet(layers=[13,20,1], learning_rate=0.001, iterations=500) # cria um novo modelo\n",
        "nn.fit(Xtrain, ytrain) #treine o modelo\n",
        "\n",
        "nn.plot_loss()\n",
        "\n",
        "train_pred = nn.predict(Xtrain)\n",
        "test_pred = nn.predict(Xtest)\n",
        "\n",
        "print(\"Train accuracy is {}\".format(nn.acc(ytrain, train_pred)))\n",
        "print(\"Test accuracy is {}\".format(nn.acc(ytest, test_pred)))\n"
      ]
    },
    {
      "cell_type": "code",
      "execution_count": null,
      "metadata": {
        "id": "4sQyFrXv-357"
      },
      "outputs": [],
      "source": []
    }
  ],
  "metadata": {
    "colab": {
      "collapsed_sections": [],
      "name": "NNfromScratch.ipynb",
      "provenance": []
    },
    "kernelspec": {
      "display_name": "Python 3",
      "language": "python",
      "name": "python3"
    },
    "language_info": {
      "codemirror_mode": {
        "name": "ipython",
        "version": 3
      },
      "file_extension": ".py",
      "mimetype": "text/x-python",
      "name": "python",
      "nbconvert_exporter": "python",
      "pygments_lexer": "ipython3",
      "version": "3.7.6"
    }
  },
  "nbformat": 4,
  "nbformat_minor": 0
}
