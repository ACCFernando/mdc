{
  "nbformat": 4,
  "nbformat_minor": 0,
  "metadata": {
    "kernelspec": {
      "display_name": "Python 3",
      "language": "python",
      "name": "python3"
    },
    "language_info": {
      "codemirror_mode": {
        "name": "ipython",
        "version": 3
      },
      "file_extension": ".py",
      "mimetype": "text/x-python",
      "name": "python",
      "nbconvert_exporter": "python",
      "pygments_lexer": "ipython3",
      "version": "3.7.3"
    },
    "colab": {
      "name": "07_Neural_Networks_IMDB.ipynb",
      "provenance": [],
      "collapsed_sections": []
    },
    "accelerator": "TPU"
  },
  "cells": [
    {
      "cell_type": "markdown",
      "metadata": {
        "id": "Bd95ZA7fFr35"
      },
      "source": [
        "# INF-0616 - Aula 4: classificação de reviews de filmes do IMDB\n",
        "O exemplo abaixo foi adaptado de fchollet/deep-learning-with-python-notebooks/.../3.5-classifying-movie-reviews.\n",
        "\n",
        "Professora: Esther Colombini -- esther@ic.unicamp.br\n",
        "\n",
        "Monitores: Alana Santana -- alana.correia@ic.unicamp.br\n",
        "\n",
        "\n",
        "Este *notebook* faz parte da disciplina INF-0616 no curso de extensão MDC.  \n",
        "Demais artefatos podem ser encontrados no moodle da disciplina: \n",
        "[moodle.lab.ic.unicamp.br/469](https://moodle.lab.ic.unicamp.br/moodle/course/view.php?id=469)\n",
        "\n",
        "Instituto de Computação - Unicamp 2022\n",
        "\n"
      ]
    },
    {
      "cell_type": "code",
      "metadata": {
        "id": "UNCAOtSLopf6"
      },
      "source": [
        "from __future__ import print_function\n",
        "\n",
        "from math import ceil\n",
        "\n",
        "import numpy as np\n",
        "import pandas as pd\n",
        "import tensorflow as tf\n",
        "\n",
        "from sklearn import datasets\n",
        "from sklearn.model_selection import train_test_split\n",
        "\n",
        "from keras import callbacks\n",
        "from keras.utils import to_categorical\n",
        "\n",
        "import matplotlib.pyplot as plt\n",
        "import seaborn as sns\n",
        "\n",
        "from IPython.display import display\n",
        "\n",
        "np.random.seed(42)\n",
        "sns.set()\n",
        "\n",
        "def readIMDBData():\n",
        "    #Just a gimmick to be able to read imdb data with this version of numpy\n",
        "    ### ============\n",
        "    np_load_old = np.load\n",
        "    np.load = lambda *a,**k: np_load_old(*a, allow_pickle=True, **k)\n",
        "\n",
        "    (x_train, y_train), (x_test, y_test) = imdb.load_data(num_words=10000)\n",
        "    np.load = np_load_old\n",
        "    \n",
        "    return (x_train, y_train), (x_test, y_test)"
      ],
      "execution_count": null,
      "outputs": []
    },
    {
      "cell_type": "markdown",
      "metadata": {
        "id": "qIPZkU_zopf_"
      },
      "source": [
        "## Determinando sentimento (positivo ou negativo) em *reviews* no **IMDB**\n",
        "### Lendo o conjunto de dados\n",
        "\n",
        "**IMDB** é um conjunto contendo reviews textuais previamente processadas e rótulos de sentimento (positivo ou negativo) associados à cada review.\n",
        "\n",
        "O conjunto é internalizado no keras e pode ser lido da seguinte forma:"
      ]
    },
    {
      "cell_type": "code",
      "metadata": {
        "id": "GyUgASa_opgA",
        "colab": {
          "base_uri": "https://localhost:8080/",
          "height": 68
        },
        "outputId": "bbc91355-81dc-4574-8f9c-b3c51565ad28"
      },
      "source": [
        "from keras.datasets import imdb\n",
        "\n",
        "(x_train, y_train), (x_test, y_test) = imdb.load_data(num_words=10000)\n",
        "\n",
        "labels = 'negative positive'.split()\n",
        "\n",
        "print(x_train.shape, x_test.shape)"
      ],
      "execution_count": null,
      "outputs": [
        {
          "output_type": "stream",
          "text": [
            "Downloading data from https://storage.googleapis.com/tensorflow/tf-keras-datasets/imdb.npz\n",
            "17465344/17464789 [==============================] - 0s 0us/step\n",
            "(25000,) (25000,)\n"
          ],
          "name": "stdout"
        }
      ]
    },
    {
      "cell_type": "markdown",
      "metadata": {
        "id": "NQLhDyEuopgD"
      },
      "source": [
        "#### 2 primeiras amostras no conjunto de treinamento\n",
        "\n",
        "Cada palavra foi codificada por um inteiro identificador. Um documento é então representado por um vetor de inteiros."
      ]
    },
    {
      "cell_type": "code",
      "metadata": {
        "scrolled": true,
        "id": "IX0ZJ7RJopgE",
        "colab": {
          "base_uri": "https://localhost:8080/",
          "height": 88
        },
        "outputId": "0c3513c0-ed5a-43bf-f002-52c19fed5e16"
      },
      "source": [
        "print(*x_train[:2], sep='\\n\\n')"
      ],
      "execution_count": null,
      "outputs": [
        {
          "output_type": "stream",
          "text": [
            "[1, 14, 22, 16, 43, 530, 973, 1622, 1385, 65, 458, 4468, 66, 3941, 4, 173, 36, 256, 5, 25, 100, 43, 838, 112, 50, 670, 2, 9, 35, 480, 284, 5, 150, 4, 172, 112, 167, 2, 336, 385, 39, 4, 172, 4536, 1111, 17, 546, 38, 13, 447, 4, 192, 50, 16, 6, 147, 2025, 19, 14, 22, 4, 1920, 4613, 469, 4, 22, 71, 87, 12, 16, 43, 530, 38, 76, 15, 13, 1247, 4, 22, 17, 515, 17, 12, 16, 626, 18, 2, 5, 62, 386, 12, 8, 316, 8, 106, 5, 4, 2223, 5244, 16, 480, 66, 3785, 33, 4, 130, 12, 16, 38, 619, 5, 25, 124, 51, 36, 135, 48, 25, 1415, 33, 6, 22, 12, 215, 28, 77, 52, 5, 14, 407, 16, 82, 2, 8, 4, 107, 117, 5952, 15, 256, 4, 2, 7, 3766, 5, 723, 36, 71, 43, 530, 476, 26, 400, 317, 46, 7, 4, 2, 1029, 13, 104, 88, 4, 381, 15, 297, 98, 32, 2071, 56, 26, 141, 6, 194, 7486, 18, 4, 226, 22, 21, 134, 476, 26, 480, 5, 144, 30, 5535, 18, 51, 36, 28, 224, 92, 25, 104, 4, 226, 65, 16, 38, 1334, 88, 12, 16, 283, 5, 16, 4472, 113, 103, 32, 15, 16, 5345, 19, 178, 32]\n",
            "\n",
            "[1, 194, 1153, 194, 8255, 78, 228, 5, 6, 1463, 4369, 5012, 134, 26, 4, 715, 8, 118, 1634, 14, 394, 20, 13, 119, 954, 189, 102, 5, 207, 110, 3103, 21, 14, 69, 188, 8, 30, 23, 7, 4, 249, 126, 93, 4, 114, 9, 2300, 1523, 5, 647, 4, 116, 9, 35, 8163, 4, 229, 9, 340, 1322, 4, 118, 9, 4, 130, 4901, 19, 4, 1002, 5, 89, 29, 952, 46, 37, 4, 455, 9, 45, 43, 38, 1543, 1905, 398, 4, 1649, 26, 6853, 5, 163, 11, 3215, 2, 4, 1153, 9, 194, 775, 7, 8255, 2, 349, 2637, 148, 605, 2, 8003, 15, 123, 125, 68, 2, 6853, 15, 349, 165, 4362, 98, 5, 4, 228, 9, 43, 2, 1157, 15, 299, 120, 5, 120, 174, 11, 220, 175, 136, 50, 9, 4373, 228, 8255, 5, 2, 656, 245, 2350, 5, 4, 9837, 131, 152, 491, 18, 2, 32, 7464, 1212, 14, 9, 6, 371, 78, 22, 625, 64, 1382, 9, 8, 168, 145, 23, 4, 1690, 15, 16, 4, 1355, 5, 28, 6, 52, 154, 462, 33, 89, 78, 285, 16, 145, 95]\n"
          ],
          "name": "stdout"
        }
      ]
    },
    {
      "cell_type": "markdown",
      "metadata": {
        "id": "6KX5-fQ9opgH"
      },
      "source": [
        "Podemos decodificar as mensagens em palavras olhando para o mapa inverso:"
      ]
    },
    {
      "cell_type": "code",
      "metadata": {
        "scrolled": true,
        "id": "Y8ylIjFaopgI",
        "colab": {
          "base_uri": "https://localhost:8080/",
          "height": 122
        },
        "outputId": "c07b85e0-11aa-415f-cb47-2d4bf190ded1"
      },
      "source": [
        "_words = imdb.get_word_index()\n",
        "_rwords = {wo: ix for ix, wo in _words.items()}\n",
        "\n",
        "def decode_review(review):\n",
        "    # Indexamos a partir do 3 pois 0, 1 and 2 sao reservados para \"padding\",\n",
        "    # \"start of sequence\", and \"unknown\".\n",
        "    return ' '.join([_rwords.get(i - 3, '?') for i in review])\n",
        "\n",
        "print(*(decode_review(r) for r in x_train[:2]), sep='\\n\\n')"
      ],
      "execution_count": null,
      "outputs": [
        {
          "output_type": "stream",
          "text": [
            "Downloading data from https://storage.googleapis.com/tensorflow/tf-keras-datasets/imdb_word_index.json\n",
            "1646592/1641221 [==============================] - 0s 0us/step\n",
            "? this film was just brilliant casting location scenery story direction everyone's really suited the part they played and you could just imagine being there robert ? is an amazing actor and now the same being director ? father came from the same scottish island as myself so i loved the fact there was a real connection with this film the witty remarks throughout the film were great it was just brilliant so much that i bought the film as soon as it was released for ? and would recommend it to everyone to watch and the fly fishing was amazing really cried at the end it was so sad and you know what they say if you cry at a film it must have been good and this definitely was also ? to the two little boy's that played the ? of norman and paul they were just brilliant children are often left out of the ? list i think because the stars that play them all grown up are such a big profile for the whole film but these children are amazing and should be praised for what they have done don't you think the whole story was so lovely because it was true and was someone's life after all that was shared with us all\n",
            "\n",
            "? big hair big boobs bad music and a giant safety pin these are the words to best describe this terrible movie i love cheesy horror movies and i've seen hundreds but this had got to be on of the worst ever made the plot is paper thin and ridiculous the acting is an abomination the script is completely laughable the best is the end showdown with the cop and how he worked out who the killer is it's just so damn terribly written the clothes are sickening and funny in equal ? the hair is big lots of boobs ? men wear those cut ? shirts that show off their ? sickening that men actually wore them and the music is just ? trash that plays over and over again in almost every scene there is trashy music boobs and ? taking away bodies and the gym still doesn't close for ? all joking aside this is a truly bad film whose only charm is to look back on the disaster that was the 80's and have a good old laugh at how bad everything was back then\n"
          ],
          "name": "stdout"
        }
      ]
    },
    {
      "cell_type": "markdown",
      "metadata": {
        "id": "yLuc9vQmopgL"
      },
      "source": [
        "E podemos ver também o rótulo destas duas amostas:"
      ]
    },
    {
      "cell_type": "code",
      "metadata": {
        "id": "L2B5_BPjopgM",
        "colab": {
          "base_uri": "https://localhost:8080/",
          "height": 34
        },
        "outputId": "5893384a-0919-4ecb-855d-8b592c6a5c6d"
      },
      "source": [
        "print([labels[y] for y in y_train[:2]])"
      ],
      "execution_count": null,
      "outputs": [
        {
          "output_type": "stream",
          "text": [
            "['positive', 'negative']\n"
          ],
          "name": "stdout"
        }
      ]
    },
    {
      "cell_type": "markdown",
      "metadata": {
        "id": "2xXMOIYQopgR"
      },
      "source": [
        "### Preprocessamento\n",
        "\n",
        "Muito pre-processamento já foi feito sobre o conjunto, como eliminação de artigos, preposições e `stop-words`. Precisamos agora vetorizar os vetores de reviews para eliminar a enumeração natural dos inteiros, de forma similar como ocorre com o vetor de classes, para casos multi-classe, onde aplicamos o *one-hot encoding*:"
      ]
    },
    {
      "cell_type": "code",
      "metadata": {
        "id": "1h4uaPn-opgR"
      },
      "source": [
        "def vectorize_sequences(sequences, dimension=10000):\n",
        "    # Create an all-zero matrix of shape (len(sequences), dimension)\n",
        "    results = np.zeros((len(sequences), dimension))\n",
        "    for i, sequence in enumerate(sequences):\n",
        "        results[i, sequence] = 1.  # set specific indices of results[i] to 1s\n",
        "    return results\n",
        "\n",
        "x_train = vectorize_sequences(x_train)\n",
        "x_test = vectorize_sequences(x_test)\n",
        "\n",
        "y_train = y_train.astype(float)\n",
        "y_test = y_test.astype(float)"
      ],
      "execution_count": null,
      "outputs": []
    },
    {
      "cell_type": "markdown",
      "metadata": {
        "id": "D3NY1kloopgV"
      },
      "source": [
        "### Visualizando frequências das classes no conjunto"
      ]
    },
    {
      "cell_type": "code",
      "metadata": {
        "id": "f_mGlFBgopgW",
        "colab": {
          "base_uri": "https://localhost:8080/",
          "height": 403
        },
        "outputId": "62199465-c63b-40f4-943e-4955aec5750e"
      },
      "source": [
        "plt.figure(figsize=(16, 4))\n",
        "\n",
        "plt.subplot(121)\n",
        "plt.title('Frequencia das classes no conjunto de treinamento (%i amostras)' % x_train.shape[0])\n",
        "_, counts = np.unique(y_train, return_counts=True)\n",
        "sns.barplot(labels, counts)\n",
        "plt.xticks(rotation=45)\n",
        "\n",
        "plt.subplot(122)\n",
        "plt.title('Frequencia das classes no conjunto de teste (%i amostras)' % x_test.shape[0])\n",
        "_, counts = np.unique(y_test, return_counts=True)\n",
        "sns.barplot(labels, counts)\n",
        "plt.xticks(rotation=45);"
      ],
      "execution_count": null,
      "outputs": [
        {
          "output_type": "stream",
          "text": [
            "/usr/local/lib/python3.6/dist-packages/seaborn/_decorators.py:43: FutureWarning: Pass the following variables as keyword args: x, y. From version 0.12, the only valid positional argument will be `data`, and passing other arguments without an explicit keyword will result in an error or misinterpretation.\n",
            "  FutureWarning\n",
            "/usr/local/lib/python3.6/dist-packages/seaborn/_decorators.py:43: FutureWarning: Pass the following variables as keyword args: x, y. From version 0.12, the only valid positional argument will be `data`, and passing other arguments without an explicit keyword will result in an error or misinterpretation.\n",
            "  FutureWarning\n"
          ],
          "name": "stderr"
        },
        {
          "output_type": "display_data",
          "data": {
            "image/png": "[encoded data removed]",
            "text/plain": [
              "<Figure size 1152x288 with 2 Axes>"
            ]
          },
          "metadata": {
            "tags": []
          }
        }
      ]
    },
    {
      "cell_type": "markdown",
      "metadata": {
        "id": "1qy_GKFXopgZ"
      },
      "source": [
        "### Definindo um determinador de sentimento\n",
        "\n",
        "Descreva as camadas da rede de detecção de sentimento.  \n",
        "Compile o modelo utilizando o otimizador `SGD` e a função de perda `binary_crossentropy`."
      ]
    },
    {
      "cell_type": "code",
      "metadata": {
        "scrolled": false,
        "id": "vxv23cd9opgc"
      },
      "source": [
        "from keras import Sequential\n",
        "from keras.layers import InputLayer, Dense\n",
        "\n",
        "model = Sequential([\n",
        "    InputLayer((10000,)),\n",
        "    Dense(512, activation=\"relu\"),\n",
        "    Dense(256, activation=\"relu\"),\n",
        "    Dense(1, activation=\"sigmoid\")\n",
        "])\n",
        "\n",
        "model.compile(optimizer='sgd',\n",
        "              loss='binary_crossentropy',\n",
        "              metrics=['binary_accuracy'])"
      ],
      "execution_count": null,
      "outputs": []
    },
    {
      "cell_type": "markdown",
      "metadata": {
        "id": "KdWsu_fUopgh"
      },
      "source": [
        "Existe uma outra forma de definir modelos no Keras, utilizando a API funcional:\n",
        "\n",
        "```\n",
        "from keras import Input, Model\n",
        "\n",
        "x = Input(shape=[1000])\n",
        "y = Dense(...)(x)\n",
        "y = Dense(...)(y)\n",
        "model = Model(inputs=x, outputs=y)\n",
        "model.compile(...)\n",
        "```"
      ]
    },
    {
      "cell_type": "markdown",
      "metadata": {
        "id": "QVVBATvPopgh"
      },
      "source": [
        "Você deve conseguir ver um sumário do seu modelo, se a definição acima foi feita corretamente:"
      ]
    },
    {
      "cell_type": "code",
      "metadata": {
        "id": "a48kD8gEopgi",
        "colab": {
          "base_uri": "https://localhost:8080/",
          "height": 255
        },
        "outputId": "8a0ecded-701d-43a6-d09f-9c329538743f"
      },
      "source": [
        "model.summary()"
      ],
      "execution_count": null,
      "outputs": [
        {
          "output_type": "stream",
          "text": [
            "Model: \"sequential\"\n",
            "_________________________________________________________________\n",
            "Layer (type)                 Output Shape              Param #   \n",
            "=================================================================\n",
            "dense (Dense)                (None, 512)               5120512   \n",
            "_________________________________________________________________\n",
            "dense_1 (Dense)              (None, 256)               131328    \n",
            "_________________________________________________________________\n",
            "dense_2 (Dense)              (None, 1)                 257       \n",
            "=================================================================\n",
            "Total params: 5,252,097\n",
            "Trainable params: 5,252,097\n",
            "Non-trainable params: 0\n",
            "_________________________________________________________________\n"
          ],
          "name": "stdout"
        }
      ]
    },
    {
      "cell_type": "markdown",
      "metadata": {
        "id": "uqvmpkLlopgl"
      },
      "source": [
        "### Treinando o modelo\n",
        "\n",
        "Treine o modelo definido acima sobre o conjunto."
      ]
    },
    {
      "cell_type": "code",
      "metadata": {
        "scrolled": true,
        "id": "EMQGRAtbopgm",
        "colab": {
          "base_uri": "https://localhost:8080/",
          "height": 697
        },
        "outputId": "5b8847a2-6f16-4dfc-8645-84eafd4a6f1b"
      },
      "source": [
        "device = '/cpu:0'  # ou '/gpu:0'\n",
        "\n",
        "epochs = 10 # ou 20, 30, 60, 70...\n",
        "batch_size = 512 # ou 128, 256, 1024, 2048...\n",
        "validation_split = .3\n",
        "\n",
        "with tf.device(device):\n",
        "    model.fit(x_train, y_train,\n",
        "              epochs=epochs,\n",
        "              batch_size=batch_size,\n",
        "              validation_split=validation_split,\n",
        "              verbose=1,\n",
        "              callbacks=[\n",
        "                  callbacks.TerminateOnNaN(),\n",
        "                  callbacks.ModelCheckpoint('networks-2-best-weights.h5',\n",
        "                                            save_best_only=True,\n",
        "                                            verbose=1),\n",
        "              ])"
      ],
      "execution_count": null,
      "outputs": [
        {
          "output_type": "stream",
          "text": [
            "Epoch 1/10\n",
            "35/35 [==============================] - ETA: 0s - loss: 0.6981 - binary_accuracy: 0.5058\n",
            "Epoch 00001: val_loss improved from inf to 0.69174, saving model to networks-2-best-weights.h5\n",
            "35/35 [==============================] - 11s 309ms/step - loss: 0.6981 - binary_accuracy: 0.5058 - val_loss: 0.6917 - val_binary_accuracy: 0.5211\n",
            "Epoch 2/10\n",
            "35/35 [==============================] - ETA: 0s - loss: 0.6879 - binary_accuracy: 0.5575\n",
            "Epoch 00002: val_loss improved from 0.69174 to 0.68424, saving model to networks-2-best-weights.h5\n",
            "35/35 [==============================] - 11s 301ms/step - loss: 0.6879 - binary_accuracy: 0.5575 - val_loss: 0.6842 - val_binary_accuracy: 0.5935\n",
            "Epoch 3/10\n",
            "35/35 [==============================] - ETA: 0s - loss: 0.6812 - binary_accuracy: 0.6138\n",
            "Epoch 00003: val_loss improved from 0.68424 to 0.67792, saving model to networks-2-best-weights.h5\n",
            "35/35 [==============================] - 11s 303ms/step - loss: 0.6812 - binary_accuracy: 0.6138 - val_loss: 0.6779 - val_binary_accuracy: 0.6359\n",
            "Epoch 4/10\n",
            "35/35 [==============================] - ETA: 0s - loss: 0.6744 - binary_accuracy: 0.6576\n",
            "Epoch 00004: val_loss improved from 0.67792 to 0.67091, saving model to networks-2-best-weights.h5\n",
            "35/35 [==============================] - 12s 337ms/step - loss: 0.6744 - binary_accuracy: 0.6576 - val_loss: 0.6709 - val_binary_accuracy: 0.6725\n",
            "Epoch 5/10\n",
            "35/35 [==============================] - ETA: 0s - loss: 0.6666 - binary_accuracy: 0.6952\n",
            "Epoch 00005: val_loss improved from 0.67091 to 0.66280, saving model to networks-2-best-weights.h5\n",
            "35/35 [==============================] - 10s 300ms/step - loss: 0.6666 - binary_accuracy: 0.6952 - val_loss: 0.6628 - val_binary_accuracy: 0.6948\n",
            "Epoch 6/10\n",
            "35/35 [==============================] - ETA: 0s - loss: 0.6576 - binary_accuracy: 0.7227\n",
            "Epoch 00006: val_loss improved from 0.66280 to 0.65330, saving model to networks-2-best-weights.h5\n",
            "35/35 [==============================] - 11s 306ms/step - loss: 0.6576 - binary_accuracy: 0.7227 - val_loss: 0.6533 - val_binary_accuracy: 0.7200\n",
            "Epoch 7/10\n",
            "35/35 [==============================] - ETA: 0s - loss: 0.6470 - binary_accuracy: 0.7427\n",
            "Epoch 00007: val_loss improved from 0.65330 to 0.64224, saving model to networks-2-best-weights.h5\n",
            "35/35 [==============================] - 11s 303ms/step - loss: 0.6470 - binary_accuracy: 0.7427 - val_loss: 0.6422 - val_binary_accuracy: 0.7393\n",
            "Epoch 8/10\n",
            "35/35 [==============================] - ETA: 0s - loss: 0.6346 - binary_accuracy: 0.7567\n",
            "Epoch 00008: val_loss improved from 0.64224 to 0.62919, saving model to networks-2-best-weights.h5\n",
            "35/35 [==============================] - 11s 306ms/step - loss: 0.6346 - binary_accuracy: 0.7567 - val_loss: 0.6292 - val_binary_accuracy: 0.7504\n",
            "Epoch 9/10\n",
            "35/35 [==============================] - ETA: 0s - loss: 0.6202 - binary_accuracy: 0.7710\n",
            "Epoch 00009: val_loss improved from 0.62919 to 0.61469, saving model to networks-2-best-weights.h5\n",
            "35/35 [==============================] - 10s 295ms/step - loss: 0.6202 - binary_accuracy: 0.7710 - val_loss: 0.6147 - val_binary_accuracy: 0.7617\n",
            "Epoch 10/10\n",
            "35/35 [==============================] - ETA: 0s - loss: 0.6041 - binary_accuracy: 0.7795\n",
            "Epoch 00010: val_loss improved from 0.61469 to 0.59781, saving model to networks-2-best-weights.h5\n",
            "35/35 [==============================] - 11s 303ms/step - loss: 0.6041 - binary_accuracy: 0.7795 - val_loss: 0.5978 - val_binary_accuracy: 0.7727\n"
          ],
          "name": "stdout"
        }
      ]
    },
    {
      "cell_type": "markdown",
      "metadata": {
        "id": "sfx8jjUSopgq"
      },
      "source": [
        "Podemos exibir o histórico do treinamento do modelo acessando `model.history`:"
      ]
    },
    {
      "cell_type": "code",
      "metadata": {
        "id": "qNExpbaRopgr",
        "colab": {
          "base_uri": "https://localhost:8080/",
          "height": 204
        },
        "outputId": "5a8ae3ac-3aa2-469b-9524-b4942277c85e"
      },
      "source": [
        "history_f = pd.DataFrame(model.history.history)\n",
        "history_f.head()"
      ],
      "execution_count": null,
      "outputs": [
        {
          "output_type": "execute_result",
          "data": {
            "text/html": [
              "<div>\n",
              "<style scoped>\n",
              "    .dataframe tbody tr th:only-of-type {\n",
              "        vertical-align: middle;\n",
              "    }\n",
              "\n",
              "    .dataframe tbody tr th {\n",
              "        vertical-align: top;\n",
              "    }\n",
              "\n",
              "    .dataframe thead th {\n",
              "        text-align: right;\n",
              "    }\n",
              "</style>\n",
              "<table border=\"1\" class=\"dataframe\">\n",
              "  <thead>\n",
              "    <tr style=\"text-align: right;\">\n",
              "      <th></th>\n",
              "      <th>val_loss</th>\n",
              "      <th>val_binary_accuracy</th>\n",
              "      <th>loss</th>\n",
              "      <th>binary_accuracy</th>\n",
              "    </tr>\n",
              "  </thead>\n",
              "  <tbody>\n",
              "    <tr>\n",
              "      <th>0</th>\n",
              "      <td>0.688362</td>\n",
              "      <td>0.551600</td>\n",
              "      <td>0.692524</td>\n",
              "      <td>0.516571</td>\n",
              "    </tr>\n",
              "    <tr>\n",
              "      <th>1</th>\n",
              "      <td>0.682084</td>\n",
              "      <td>0.599333</td>\n",
              "      <td>0.685895</td>\n",
              "      <td>0.574114</td>\n",
              "    </tr>\n",
              "    <tr>\n",
              "      <th>2</th>\n",
              "      <td>0.675248</td>\n",
              "      <td>0.647333</td>\n",
              "      <td>0.678989</td>\n",
              "      <td>0.627714</td>\n",
              "    </tr>\n",
              "    <tr>\n",
              "      <th>3</th>\n",
              "      <td>0.667351</td>\n",
              "      <td>0.685200</td>\n",
              "      <td>0.671287</td>\n",
              "      <td>0.673886</td>\n",
              "    </tr>\n",
              "    <tr>\n",
              "      <th>4</th>\n",
              "      <td>0.657927</td>\n",
              "      <td>0.714133</td>\n",
              "      <td>0.662406</td>\n",
              "      <td>0.708571</td>\n",
              "    </tr>\n",
              "  </tbody>\n",
              "</table>\n",
              "</div>"
            ],
            "text/plain": [
              "   val_loss  val_binary_accuracy      loss  binary_accuracy\n",
              "0  0.688362             0.551600  0.692524         0.516571\n",
              "1  0.682084             0.599333  0.685895         0.574114\n",
              "2  0.675248             0.647333  0.678989         0.627714\n",
              "3  0.667351             0.685200  0.671287         0.673886\n",
              "4  0.657927             0.714133  0.662406         0.708571"
            ]
          },
          "metadata": {
            "tags": []
          },
          "execution_count": 11
        }
      ]
    },
    {
      "cell_type": "code",
      "metadata": {
        "id": "DUphizbEopgt",
        "colab": {
          "base_uri": "https://localhost:8080/",
          "height": 377
        },
        "outputId": "710135c6-42fa-4902-8b8b-30a002401bd0"
      },
      "source": [
        "plt.figure(figsize=(16, 6))\n",
        "plt.subplot(121)\n",
        "sns.lineplot(data=history_f.loc[:10, ['loss', 'val_loss']])\n",
        "\n",
        "plt.subplot(122)\n",
        "sns.lineplot(data=history_f.loc[:30, ['binary_accuracy', 'val_binary_accuracy']]);"
      ],
      "execution_count": null,
      "outputs": [
        {
          "output_type": "display_data",
          "data": {
            "image/png": "[encoded data removed]",
            "text/plain": [
              "<Figure size 1152x432 with 2 Axes>"
            ]
          },
          "metadata": {
            "tags": [],
            "needs_background": "light"
          }
        }
      ]
    },
    {
      "cell_type": "markdown",
      "metadata": {
        "id": "rKpOfd8copgw"
      },
      "source": [
        "### Avaliando o modelo treinado\n",
        "\n",
        "Podemos re-utilizar as ferramentas do scikit-learn que aprendemos até agora para avaliar o modelo:"
      ]
    },
    {
      "cell_type": "code",
      "metadata": {
        "scrolled": true,
        "id": "jsSUb-szopgy",
        "colab": {
          "base_uri": "https://localhost:8080/",
          "height": 170
        },
        "outputId": "2bd717de-f9e5-42c5-dd60-2a7647a3135d"
      },
      "source": [
        "model.load_weights('networks-2-best-weights.h5')\n",
        "\n",
        "from sklearn import metrics\n",
        "\n",
        "probabilities = model.predict(x_test)\n",
        "predictions = (probabilities > .5).astype(float)\n",
        "\n",
        "print(metrics.classification_report(y_test.ravel(), predictions.ravel()))"
      ],
      "execution_count": null,
      "outputs": [
        {
          "output_type": "stream",
          "text": [
            "              precision    recall  f1-score   support\n",
            "\n",
            "         0.0       0.79      0.76      0.77     12500\n",
            "         1.0       0.77      0.79      0.78     12500\n",
            "\n",
            "    accuracy                           0.78     25000\n",
            "   macro avg       0.78      0.78      0.78     25000\n",
            "weighted avg       0.78      0.78      0.78     25000\n",
            "\n"
          ],
          "name": "stdout"
        }
      ]
    },
    {
      "cell_type": "code",
      "metadata": {
        "id": "Xzwj-tOXopg0",
        "colab": {
          "base_uri": "https://localhost:8080/",
          "height": 485
        },
        "outputId": "a7ee0bc6-67f5-410a-ff62-904ab04d3741"
      },
      "source": [
        "c = metrics.confusion_matrix(y_test, predictions)\n",
        "r = c / c.sum(axis=1).reshape(-1, 1)\n",
        "\n",
        "plt.figure(figsize=(10, 8))\n",
        "ax = sns.heatmap(r, linewidths=.5, cmap='YlGnBu', annot=True, fmt='.1%', xticklabels=labels, yticklabels=labels);"
      ],
      "execution_count": null,
      "outputs": [
        {
          "output_type": "display_data",
          "data": {
            "image/png": "[encoded data removed]",
            "text/plain": [
              "<Figure size 720x576 with 2 Axes>"
            ]
          },
          "metadata": {
            "tags": [],
            "needs_background": "light"
          }
        }
      ]
    },
    {
      "cell_type": "code",
      "metadata": {
        "id": "F28vCCMMopg4"
      },
      "source": [
        ""
      ],
      "execution_count": null,
      "outputs": []
    }
  ]
}