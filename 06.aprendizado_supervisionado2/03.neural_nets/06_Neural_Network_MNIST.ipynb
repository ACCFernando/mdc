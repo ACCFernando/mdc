{
  "nbformat": 4,
  "nbformat_minor": 0,
  "metadata": {
    "kernelspec": {
      "display_name": "Python 3",
      "language": "python",
      "name": "python3"
    },
    "language_info": {
      "codemirror_mode": {
        "name": "ipython",
        "version": 3
      },
      "file_extension": ".py",
      "mimetype": "text/x-python",
      "name": "python",
      "nbconvert_exporter": "python",
      "pygments_lexer": "ipython3",
      "version": "3.7.3"
    },
    "colab": {
      "name": "06_Neural_Network_MNIST.ipynb",
      "provenance": [],
      "collapsed_sections": []
    }
  },
  "cells": [
    {
      "cell_type": "markdown",
      "metadata": {
        "id": "Gvb3NgClEygi"
      },
      "source": [
        "# INF0616 - Aula 4: construindo uma rede simples com o Keras\n",
        "\n",
        "Escrito por **Xavier Snelgrove** ([link to his GitHub](https://github.com/wxs/keras-mnist-tutorial/blob/master/MNIST%20in%20Keras.ipynb)), com pequenas modificações de **Rafael Padilha**.\n",
        "\n",
        "Professora: Esther Colombini -- esther@ic.unicamp.br\n",
        "\n",
        "Monitores: Alana Santana -- alana.correia@ic.unicamp.br\n",
        "\n",
        "\n",
        "Este *notebook* faz parte da disciplina INF-0616 no curso de extensão MDC.  \n",
        "Demais artefatos podem ser encontrados no moodle da disciplina: \n",
        "[moodle.lab.ic.unicamp.br/469](https://moodle.lab.ic.unicamp.br/moodle/course/view.php?id=469)\n",
        "\n",
        "Instituto de Computação - Unicamp 2022\n",
        "\n",
        "\n",
        "-----------\n",
        "\n",
        "**This is a simple tutorial on working with neural networks in Keras. In this exercise, we will define, train and evaluate a simple feed-forward NN to classify handwritten digits.**"
      ]
    },
    {
      "cell_type": "code",
      "metadata": {
        "id": "4FFwJTyTFRDV"
      },
      "source": [
        "import numpy as np\n",
        "from random import shuffle, seed\n",
        "import matplotlib.pyplot as plt\n",
        "\n",
        "from keras.models import Sequential\n",
        "from keras import Model\n",
        "from keras.layers import Dense, Activation, Input\n",
        "from keras.utils import np_utils\n",
        "from keras import optimizers\n",
        "\n",
        "plt.rcParams['figure.figsize'] = (32,32) # Make the figures a bit bigger\n",
        "seed(42)\n",
        "\n",
        "%matplotlib inline"
      ],
      "execution_count": null,
      "outputs": []
    },
    {
      "cell_type": "code",
      "metadata": {
        "id": "oUALLudXoQDi",
        "colab": {
          "base_uri": "https://localhost:8080/",
          "height": 155
        },
        "outputId": "245b683e-fd37-4ae2-8d90-0feb49f30633"
      },
      "source": [
        "from sklearn.model_selection import train_test_split\n",
        "from keras.datasets import mnist\n",
        "import matplotlib.pyplot as plt\n",
        "\n",
        "nb_classes = 10\n",
        "\n",
        "# Os dados são carregados já embaralhados e separados em treino e teste.\n",
        "(trainVal_data, trainVal_label), (X_test, y_test) = mnist.load_data()\n",
        "\n",
        "# Separamos trainVal em treino e validação.\n",
        "(X_train, X_val, y_train, y_val) = train_test_split(trainVal_data, trainVal_label,\n",
        "                                                    test_size=0.2)\n",
        "print(\"X_train original shape\", X_train.shape)\n",
        "print(\"y_train original shape\", y_train.shape), \"\\n\"\n",
        "\n",
        "print(\"X_val original shape\", X_val.shape)\n",
        "print(\"y_val original shape\", y_val.shape), \"\\n\"\n",
        "\n",
        "print(\"X_test original shape\", X_test.shape)\n",
        "print(\"y_test original shape\", y_test.shape)"
      ],
      "execution_count": null,
      "outputs": [
        {
          "output_type": "stream",
          "text": [
            "Downloading data from https://storage.googleapis.com/tensorflow/tf-keras-datasets/mnist.npz\n",
            "11493376/11490434 [==============================] - 0s 0us/step\n",
            "X_train original shape (48000, 28, 28)\n",
            "y_train original shape (48000,)\n",
            "X_val original shape (12000, 28, 28)\n",
            "y_val original shape (12000,)\n",
            "X_test original shape (10000, 28, 28)\n",
            "y_test original shape (10000,)\n"
          ],
          "name": "stdout"
        }
      ]
    },
    {
      "cell_type": "markdown",
      "metadata": {
        "id": "gcF4jEYwoQDm"
      },
      "source": [
        "Let's look at some examples of the training data:"
      ]
    },
    {
      "cell_type": "code",
      "metadata": {
        "id": "FPE1w55ooQDn",
        "colab": {
          "base_uri": "https://localhost:8080/",
          "height": 248
        },
        "outputId": "aecdf046-00ad-4b83-d4fb-a450bdd63c31"
      },
      "source": [
        "for i in range(9):\n",
        "    plt.subplot(3,3,i+1)\n",
        "    plt.imshow(X_train[i], cmap='gray', interpolation='none')\n",
        "    plt.axis('off')"
      ],
      "execution_count": null,
      "outputs": [
        {
          "output_type": "display_data",
          "data": {
            "image/png": "[encoded data removed]",
            "text/plain": [
              "<Figure size 432x288 with 9 Axes>"
            ]
          },
          "metadata": {
            "tags": [],
            "needs_background": "light"
          }
        }
      ]
    },
    {
      "cell_type": "markdown",
      "metadata": {
        "id": "IPnmVyVkoQDq"
      },
      "source": [
        "## O quão balanceado é o nosso treinamento?\n",
        "Vamos encontrar quantas amostras estão contidas em cada classe e calular o peso das classes a partir disso. Isso é útil para dizer ao modelo que \"preste mais atenção\" em amostras sub-representadas, durante treinamento."
      ]
    },
    {
      "cell_type": "code",
      "metadata": {
        "id": "IfsiC4RroQDq",
        "colab": {
          "base_uri": "https://localhost:8080/",
          "height": 106
        },
        "outputId": "58087c0b-d42a-423b-81e1-d8dbd996fc66"
      },
      "source": [
        "from sklearn.utils.class_weight import compute_class_weight\n",
        "\n",
        "unique, counts = np.unique(y_train, return_counts=True)\n",
        "print (\"Train ---> \", dict(zip(unique, counts)), \"\\n\")\n",
        "\n",
        "class_weights = compute_class_weight('balanced', np.unique(y_train), y_train)\n",
        "train_class_weights = dict(enumerate(class_weights))\n",
        "print (train_class_weights, \"\\n\")"
      ],
      "execution_count": null,
      "outputs": [
        {
          "output_type": "stream",
          "text": [
            "Train --->  {0: 4742, 1: 5394, 2: 4779, 3: 4907, 4: 4668, 5: 4341, 6: 4707, 7: 5006, 8: 4682, 9: 4774} \n",
            "\n",
            "{0: 1.0122311261071277, 1: 0.8898776418242491, 2: 1.0043942247332078, 3: 0.9781944161402079, 4: 1.0282776349614395, 5: 1.10573600552868, 6: 1.0197578075207139, 7: 0.9588493807431082, 8: 1.0252029047415634, 9: 1.0054461667364893} \n",
            "\n"
          ],
          "name": "stdout"
        }
      ]
    },
    {
      "cell_type": "markdown",
      "metadata": {
        "id": "vWfsnfHIoQDt"
      },
      "source": [
        "Para o conjunto de teste, usaremos isso para encontrar a acurácia balanceada:"
      ]
    },
    {
      "cell_type": "code",
      "metadata": {
        "id": "5iQixAAsoQDu",
        "colab": {
          "base_uri": "https://localhost:8080/",
          "height": 52
        },
        "outputId": "7ba47d14-201b-4f69-a0d2-0ac1f633ff2d"
      },
      "source": [
        "unique, counts = np.unique(y_test, return_counts=True)\n",
        "print(\"Test ---> \", dict(zip(unique, counts)), \"\\n\")\n",
        "\n",
        "test_sample_per_class = counts"
      ],
      "execution_count": null,
      "outputs": [
        {
          "output_type": "stream",
          "text": [
            "Test --->  {0: 980, 1: 1135, 2: 1032, 3: 1010, 4: 982, 5: 892, 6: 958, 7: 1028, 8: 974, 9: 1009} \n",
            "\n"
          ],
          "name": "stdout"
        }
      ]
    },
    {
      "cell_type": "markdown",
      "metadata": {
        "id": "8OITsyCyoQDx"
      },
      "source": [
        "## Preprocessamento\n",
        "Nossa rede irá receber um único vetor para cada exemplo no conjunto, então precisamos \"reformatar\" o conjunto para que cada imagem de $28\\times 28$ se transforme em um único vetor de 784 dimensões. Iremos também escalar os valores para que fiquem no intervalo $[0, 1]$ em vez de $[0, 255]$."
      ]
    },
    {
      "cell_type": "code",
      "metadata": {
        "id": "CPsBPxINoQDy",
        "colab": {
          "base_uri": "https://localhost:8080/",
          "height": 69
        },
        "outputId": "a076644e-416c-4345-8962-95e261611656"
      },
      "source": [
        "size = X_train.shape[1] * X_train.shape[2]\n",
        "\n",
        "X_train = X_train.reshape(X_train.shape[0], size)\n",
        "X_val = X_val.reshape(X_val.shape[0], size)\n",
        "X_test = X_test.reshape(X_test.shape[0], size)\n",
        "\n",
        "X_train = X_train.astype('float32')\n",
        "X_val = X_val.astype('float32')\n",
        "X_test = X_test.astype('float32')\n",
        "\n",
        "X_train /= 255\n",
        "X_val /= 255\n",
        "X_test /= 255\n",
        "\n",
        "print(\"Training matrix shape\", X_train.shape)\n",
        "print(\"Validation matrix shape\", X_val.shape)\n",
        "print(\"Testing matrix shape\", X_test.shape)"
      ],
      "execution_count": null,
      "outputs": [
        {
          "output_type": "stream",
          "text": [
            "Training matrix shape (48000, 784)\n",
            "Validation matrix shape (12000, 784)\n",
            "Testing matrix shape (10000, 784)\n"
          ],
          "name": "stdout"
        }
      ]
    },
    {
      "cell_type": "markdown",
      "metadata": {
        "id": "Zn6o413ooQD1"
      },
      "source": [
        "Vamos modificar o vetor de rótulos para o formato *one-hot encoded*. Isto é:\n",
        "\n",
        "```\n",
        "0 -> [1, 0, 0, 0, 0, 0, 0, 0, 0]\n",
        "1 -> [0, 1, 0, 0, 0, 0, 0, 0, 0]\n",
        "2 -> [0, 0, 1, 0, 0, 0, 0, 0, 0]\n",
        "3 -> [0, 0, 0, 1, 0, 0, 0, 0, 0]\n",
        "...\n",
        "9 -> [0, 0, 0, 0, 0, 0, 0, 0, 1]\n",
        "```"
      ]
    },
    {
      "cell_type": "code",
      "metadata": {
        "id": "uLYzcJLjoQD2",
        "colab": {
          "base_uri": "https://localhost:8080/",
          "height": 52
        },
        "outputId": "0b686bdc-9dda-4f82-cbd4-c1540a7d2ad8"
      },
      "source": [
        "Y_train = np_utils.to_categorical(y_train, nb_classes)\n",
        "Y_val = np_utils.to_categorical(y_val, nb_classes)\n",
        "Y_test = np_utils.to_categorical(y_test, nb_classes)\n",
        "print(\"Training matrix shape\", Y_train.shape)\n",
        "print(\"Testing matrix shape\", Y_test.shape)"
      ],
      "execution_count": null,
      "outputs": [
        {
          "output_type": "stream",
          "text": [
            "Training matrix shape (48000, 10)\n",
            "Testing matrix shape (10000, 10)\n"
          ],
          "name": "stdout"
        }
      ]
    },
    {
      "cell_type": "code",
      "metadata": {
        "id": "lrVocG6YoQD7",
        "colab": {
          "base_uri": "https://localhost:8080/",
          "height": 35
        },
        "outputId": "a86fef8e-0849-4323-d54b-a906064611cc"
      },
      "source": [
        "\n",
        "print(Y_train[0])"
      ],
      "execution_count": null,
      "outputs": [
        {
          "output_type": "stream",
          "text": [
            "[0. 0. 0. 0. 0. 0. 1. 0. 0. 0.]\n"
          ],
          "name": "stdout"
        }
      ]
    },
    {
      "cell_type": "markdown",
      "metadata": {
        "id": "l1tJI2broQD-"
      },
      "source": [
        "# Construíndo a rede\n",
        "Aqui faremos uma simples rede com 4 camadas (input + duas camadas escondidas + saída), usando camadas densas (ou totalmente-conexas). Neste tipo de camada, cada unidade está conectado à cada unidade na camada anterioro. Se considerarmos a primeira camada escondida, cada unidade está conectada à cada pixel da imagem de entrada.\n",
        "<img src=\"figure.png\" />"
      ]
    },
    {
      "cell_type": "markdown",
      "metadata": {
        "id": "gqfy4Z-voQD_"
      },
      "source": [
        "Há duas formas de se instanciar redes em Keras. Uma delas é instanciando um modelo `Sequential` com uma lista de camadas. A primeira camada da rede precisa receber o parâmetro `input_shape` para que o modelo saiba calcular o número de parâmetros. "
      ]
    },
    {
      "cell_type": "code",
      "metadata": {
        "id": "Y0s-V2uqoQD_",
        "colab": {
          "base_uri": "https://localhost:8080/",
          "height": 255
        },
        "outputId": "424ea6d5-b282-47b6-d879-63f77033b7c1"
      },
      "source": [
        "model = Sequential()\n",
        "model.add(Dense(512, activation='relu', input_shape=(784,)))\n",
        "model.add(Dense(512, activation='relu'))\n",
        "model.add(Dense(10, activation='softmax'))\n",
        "model.summary()"
      ],
      "execution_count": null,
      "outputs": [
        {
          "output_type": "stream",
          "text": [
            "Model: \"sequential\"\n",
            "_________________________________________________________________\n",
            "Layer (type)                 Output Shape              Param #   \n",
            "=================================================================\n",
            "dense (Dense)                (None, 512)               401920    \n",
            "_________________________________________________________________\n",
            "dense_1 (Dense)              (None, 512)               262656    \n",
            "_________________________________________________________________\n",
            "dense_2 (Dense)              (None, 10)                5130      \n",
            "=================================================================\n",
            "Total params: 669,706\n",
            "Trainable params: 669,706\n",
            "Non-trainable params: 0\n",
            "_________________________________________________________________\n"
          ],
          "name": "stdout"
        }
      ]
    },
    {
      "cell_type": "markdown",
      "metadata": {
        "id": "l_un5DHDoQEC"
      },
      "source": [
        "Porém, a forma mais comum é utilizando a API funcional do Keras:"
      ]
    },
    {
      "cell_type": "code",
      "metadata": {
        "id": "_zBUs7CRoQEC",
        "colab": {
          "base_uri": "https://localhost:8080/",
          "height": 289
        },
        "outputId": "bb48dad0-58b7-4a4a-9d8c-c14fdef7d231"
      },
      "source": [
        "ipt = Input(shape = (784,))\n",
        "x = Dense(512, activation='relu')(ipt)\n",
        "y = Dense(512, activation='relu')(x)\n",
        "out = Dense(10, activation='softmax')(y)\n",
        "\n",
        "model = Model(inputs=ipt, outputs=out)\n",
        "model.summary()"
      ],
      "execution_count": null,
      "outputs": [
        {
          "output_type": "stream",
          "text": [
            "Model: \"functional_1\"\n",
            "_________________________________________________________________\n",
            "Layer (type)                 Output Shape              Param #   \n",
            "=================================================================\n",
            "input_1 (InputLayer)         [(None, 784)]             0         \n",
            "_________________________________________________________________\n",
            "dense_3 (Dense)              (None, 512)               401920    \n",
            "_________________________________________________________________\n",
            "dense_4 (Dense)              (None, 512)               262656    \n",
            "_________________________________________________________________\n",
            "dense_5 (Dense)              (None, 10)                5130      \n",
            "=================================================================\n",
            "Total params: 669,706\n",
            "Trainable params: 669,706\n",
            "Non-trainable params: 0\n",
            "_________________________________________________________________\n"
          ],
          "name": "stdout"
        }
      ]
    },
    {
      "cell_type": "markdown",
      "metadata": {
        "id": "VsEv1F5qoQEG"
      },
      "source": [
        "## Compile o modelo\n",
        "Keras é construido sobre o Tensorflow, Theano ou CNTK, bibliotecas de computação que permitem a utilização de diferentes dispositivos (ex.: CPU, GPU, nós em uma rede) de forma transparente e eficiente.\n",
        "\n",
        "Quando compilando um modelo, Keras requer que você especifique uma **função de perda**, seu **otimizador** e algumas **métricas**. A função de perda que usaremos aqui é chamada de *categorical crossentropy*, e é a função mais adequada para comparar duas distribuições de probabilidade.\n",
        "\n",
        "Aqui nossas predições são distribuições de probabilidade de 10 diferentes dígitos (ex: \"estamos 80% confiante que esta imagem é um 3, 10% confiante que é um 8, 5% um 2 etc\"), e o alvo é a probabilidade de 100% para a categoria correta e 0% para todas as demais. A *cross-entropy* é a medida do quão diferente sua distribuição de predição é da distribuição alvo. [Veja mais na Wikipedia](https://en.wikipedia.org/wiki/Cross_entropy)\n",
        "\n",
        "O [otimizador](https://keras.io/optimizers) ajuda a determinar o quão rápido um modelo aprende, quão resiliente ele será à \"estagnação\" ou \"explosão\" durante o treinamento. Neste exercício, utilizaremos uma variação do gradiente descendente chamado **Stocastic Gradient Descent (SGD)**. Em vez de considerar todo o conjunto de treinamento a cada iteração, o SGD somente utiliza uma pequena amostra aleatória dos dados disponíveis a cada vez.\n",
        "\n",
        "Além disso, podemos definir um número de métricas (como acurácia, MSE, MAE) para observar durante o treinamento. **Entretanto, Keras não se utiliza da acurácia balanceada!**"
      ]
    },
    {
      "cell_type": "code",
      "metadata": {
        "id": "Ti0oY1ZvoQEH"
      },
      "source": [
        "sgd = optimizers.SGD(lr=0.01) #lr = learning rate\n",
        "model.compile(loss='categorical_crossentropy', optimizer=sgd, metrics=['accuracy'])"
      ],
      "execution_count": null,
      "outputs": []
    },
    {
      "cell_type": "markdown",
      "metadata": {
        "id": "DYV4XyoHoQEK"
      },
      "source": [
        "## Treine seu modelo!\n",
        "Essa é a parte divertida: você pode alimentar seu modelo com os dados de treino carregados anteriormente e ele aprenderá a classificar digitos!\n",
        "\n",
        "Primeiro, vamos entender os argumentos:\n",
        "- **X_train & Y_train:** as amostras e rótulos de treino\n",
        "- **batch_size:** em vez de otimizar os parâmetros da rede sobre todo o conjunto de treino, nós usualmente atualizamos a cada *batch* (pequenas amostras do conjunto de treino). Neste caso, vamos atualizar nossos pesos (*backpropagation*) a cada 128 imagens\n",
        "- **epochs:** uma época na qual todos os *batches* contidos no conjunto de treino foram processados. Diremos que o conjunto de dados será processado 8 vezes\n",
        "- **verbose:** mostrar as métricas ao fim de cada época\n",
        "- **class_weight:** os pesos de cada classe, considerando que elas não são balanceadas. Isso irá ponderar a perda baseando-se em quão frequente cada classe é\n",
        "- **validation_data:** ao final de cada época, nosso modelo é utilizado para predizer este conjunto e exibir o valor de perda e métricas especificadas."
      ]
    },
    {
      "cell_type": "code",
      "metadata": {
        "id": "pPA9UbEZoQEK",
        "colab": {
          "base_uri": "https://localhost:8080/",
          "height": 306
        },
        "outputId": "7f376a24-9842-4402-9157-37fd8a9d9010"
      },
      "source": [
        "model.fit(X_train, Y_train,\n",
        "          batch_size=128, epochs=8, verbose=1,\n",
        "          class_weight = train_class_weights, \n",
        "          validation_data=(X_val, Y_val))"
      ],
      "execution_count": null,
      "outputs": [
        {
          "output_type": "stream",
          "text": [
            "Epoch 1/8\n",
            "375/375 [==============================] - 5s 13ms/step - loss: 1.2591 - accuracy: 0.7324 - val_loss: 0.6392 - val_accuracy: 0.8547\n",
            "Epoch 2/8\n",
            "375/375 [==============================] - 5s 13ms/step - loss: 0.5140 - accuracy: 0.8738 - val_loss: 0.4346 - val_accuracy: 0.8852\n",
            "Epoch 3/8\n",
            "375/375 [==============================] - 5s 13ms/step - loss: 0.3952 - accuracy: 0.8953 - val_loss: 0.3707 - val_accuracy: 0.8961\n",
            "Epoch 4/8\n",
            "375/375 [==============================] - 5s 12ms/step - loss: 0.3458 - accuracy: 0.9047 - val_loss: 0.3364 - val_accuracy: 0.9059\n",
            "Epoch 5/8\n",
            "375/375 [==============================] - 5s 12ms/step - loss: 0.3156 - accuracy: 0.9129 - val_loss: 0.3136 - val_accuracy: 0.9119\n",
            "Epoch 6/8\n",
            "375/375 [==============================] - 5s 13ms/step - loss: 0.2939 - accuracy: 0.9174 - val_loss: 0.2968 - val_accuracy: 0.9153\n",
            "Epoch 7/8\n",
            "375/375 [==============================] - 5s 13ms/step - loss: 0.2764 - accuracy: 0.9228 - val_loss: 0.2845 - val_accuracy: 0.9186\n",
            "Epoch 8/8\n",
            "375/375 [==============================] - 5s 13ms/step - loss: 0.2622 - accuracy: 0.9267 - val_loss: 0.2726 - val_accuracy: 0.9234\n"
          ],
          "name": "stdout"
        },
        {
          "output_type": "execute_result",
          "data": {
            "text/plain": [
              "<tensorflow.python.keras.callbacks.History at 0x7f0a6e61ae80>"
            ]
          },
          "metadata": {
            "tags": []
          },
          "execution_count": 37
        }
      ]
    },
    {
      "cell_type": "markdown",
      "metadata": {
        "id": "V4ZPqypwoQEN"
      },
      "source": [
        "## Finalmente, avaliamos a performance sobre um conjunto de teste"
      ]
    },
    {
      "cell_type": "code",
      "metadata": {
        "id": "gJIC93PIoQEO",
        "colab": {
          "base_uri": "https://localhost:8080/",
          "height": 68
        },
        "outputId": "73c9ee22-db3d-42a5-9ca7-d90ec3f4a529"
      },
      "source": [
        "score = model.evaluate(X_test, Y_test, verbose=1)\n",
        "print('Test loss:', score[0])\n",
        "print('Test accuracy (NOT BALANCED):', score[1])"
      ],
      "execution_count": null,
      "outputs": [
        {
          "output_type": "stream",
          "text": [
            "313/313 [==============================] - 1s 2ms/step - loss: 0.2496 - accuracy: 0.9313\n",
            "Test loss: 0.24962471425533295\n",
            "Test accuracy (NOT BALANCED): 0.9312999844551086\n"
          ],
          "name": "stdout"
        }
      ]
    },
    {
      "cell_type": "markdown",
      "metadata": {
        "id": "-bDFFgCOoQER"
      },
      "source": [
        "## Acurácia Balanceada"
      ]
    },
    {
      "cell_type": "code",
      "metadata": {
        "id": "FMIyP8zboQER",
        "colab": {
          "base_uri": "https://localhost:8080/",
          "height": 85
        },
        "outputId": "aa0d113b-11da-4f5b-f9a7-588c4c8ff047"
      },
      "source": [
        "# O método predict retorna o vetor softmax com as probabilidades de cada classe.\n",
        "probs = model.predict(X_test)\n",
        "print(\"Probs = \", probs[0,:])\n",
        "predicted_classes = np.argmax(probs, axis=-1)\n",
        "print(\"Class = \", predicted_classes[0])"
      ],
      "execution_count": null,
      "outputs": [
        {
          "output_type": "stream",
          "text": [
            "Probs =  [1.10206682e-04 2.87747497e-07 1.96007837e-04 1.17213081e-03\n",
            " 3.39123631e-06 9.89262771e-05 1.15086536e-07 9.97585773e-01\n",
            " 3.57726603e-05 7.97534420e-04]\n",
            "Class =  7\n"
          ],
          "name": "stdout"
        }
      ]
    },
    {
      "cell_type": "code",
      "metadata": {
        "id": "l9ZyXpu2oQEU",
        "colab": {
          "base_uri": "https://localhost:8080/",
          "height": 88
        },
        "outputId": "c3a7f83e-0835-4866-a12f-7cb26fed5b34"
      },
      "source": [
        "# Calcular a classe correta, utilizando o vetor `one-hot encoded`\n",
        "# que contém as classes referentes às amostras de teste.\n",
        "Y_test_classes = np.argmax(Y_test, axis=-1)\n",
        "\n",
        "accPerClass = []\n",
        "for classIdx in range(nb_classes):\n",
        "    idx = (Y_test_classes == classIdx)\n",
        "    \n",
        "    correctPred = np.sum(predicted_classes[idx] == Y_test_classes[idx])\n",
        "    accPerClass.append( correctPred / float(test_sample_per_class[classIdx]))\n",
        "    \n",
        "print (dict(zip(range(nb_classes),accPerClass)), \"\\n\")\n",
        "print (\"Balanced Acc --> \", np.mean(accPerClass))"
      ],
      "execution_count": null,
      "outputs": [
        {
          "output_type": "stream",
          "text": [
            "{0: 0.9795918367346939, 1: 0.9762114537444934, 2: 0.9098837209302325, 3: 0.9089108910891089, 4: 0.9348268839103869, 5: 0.922645739910314, 6: 0.9498956158663883, 7: 0.9231517509727627, 8: 0.8993839835728953, 9: 0.9038652130822596} \n",
            "\n",
            "Balanced Acc -->  0.9308367089813535\n"
          ],
          "name": "stdout"
        }
      ]
    },
    {
      "cell_type": "markdown",
      "metadata": {
        "id": "HAsjtZaioQEY"
      },
      "source": [
        "### Inspecionando a saída\n",
        "\n",
        "É sempre uma boa ideia inspecionar a saída e verificar que tudo parece adequado. Aqui, iremos olhar para alguns exemplos que o modelo acerta e alguns que ele erra."
      ]
    },
    {
      "cell_type": "code",
      "metadata": {
        "id": "zo4C8kuEoQEY"
      },
      "source": [
        "predicted_classes = np.argmax(model.predict(X_test), axis=-1)\n",
        "\n",
        "# Determina os índices das amostras que foram preditas corretamente/incorretamente\n",
        "correct_indices, = np.where(predicted_classes == y_test)\n",
        "incorrect_indices, = np.where(predicted_classes != y_test)"
      ],
      "execution_count": null,
      "outputs": []
    },
    {
      "cell_type": "code",
      "metadata": {
        "id": "xuBNr93boQEa",
        "colab": {
          "base_uri": "https://localhost:8080/",
          "height": 511
        },
        "outputId": "0464f0d4-17cc-4bed-d977-86c9a1eee736"
      },
      "source": [
        "plt.figure()\n",
        "for i, correct in enumerate(correct_indices[:9]):\n",
        "    plt.subplot(3,3,i+1)\n",
        "    plt.imshow(X_test[correct].reshape(28,28), cmap='gray', interpolation='none')\n",
        "    plt.title(\"Pred {}\".format(predicted_classes[correct]))\n",
        "    plt.axis('off')\n",
        "\n",
        "plt.figure()\n",
        "for i, incorrect in enumerate(incorrect_indices[:9]):\n",
        "    plt.subplot(3,3,i+1)\n",
        "    plt.imshow(X_test[incorrect].reshape(28,28), cmap='gray', interpolation='none')\n",
        "    plt.title(\"Pred {}\".format(predicted_classes[incorrect]))\n",
        "    plt.axis('off')"
      ],
      "execution_count": null,
      "outputs": [
        {
          "output_type": "display_data",
          "data": {
            "image/png": "[encoded data removed]",
            "text/plain": [
              "<Figure size 432x288 with 9 Axes>"
            ]
          },
          "metadata": {
            "tags": [],
            "needs_background": "light"
          }
        },
        {
          "output_type": "display_data",
          "data": {
            "image/png": "[encoded data removed]",
            "text/plain": [
              "<Figure size 432x288 with 9 Axes>"
            ]
          },
          "metadata": {
            "tags": [],
            "needs_background": "light"
          }
        }
      ]
    },
    {
      "cell_type": "markdown",
      "metadata": {
        "id": "Ei8MS9z6oQEd"
      },
      "source": [
        "# Referencias"
      ]
    },
    {
      "cell_type": "markdown",
      "metadata": {
        "id": "shm65uZAoQEd"
      },
      "source": [
        "Existem vários outros ótimos exemplos na página do Keras http://keras.io e em seu código-fonte https://github.com/keras-team/keras. Além desses, este notebook foi adaptado [daqui](https://github.com/wxs/keras-mnist-tutorial/blob/master/MNIST%20in%20Keras.ipynb)."
      ]
    }
  ]
}