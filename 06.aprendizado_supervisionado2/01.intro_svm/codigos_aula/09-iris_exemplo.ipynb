{
  "nbformat": 4,
  "nbformat_minor": 0,
  "metadata": {
    "kernelspec": {
      "display_name": "Python 3",
      "language": "python",
      "name": "python3"
    },
    "language_info": {
      "codemirror_mode": {
        "name": "ipython",
        "version": 3
      },
      "file_extension": ".py",
      "mimetype": "text/x-python",
      "name": "python",
      "nbconvert_exporter": "python",
      "pygments_lexer": "ipython3",
      "version": "3.7.6"
    },
    "colab": {
      "provenance": []
    }
  },
  "cells": [
    {
      "cell_type": "markdown",
      "metadata": {
        "id": "xwbzfFVSGk2M"
      },
      "source": [
        "# INF-0616 - Aula 1:  Introduzindo scikit-learn com o dataset iris\n",
        "\n",
        "Professora: Esther Colombini -- esther@ic.unicamp.br\n",
        "\n",
        "Monitora: Alana Santana -- a229999@dac.unicamp.br\n",
        "\n",
        "Este *notebook* faz parte da disciplina INF-0616 no curso de extensão MDC.  \n",
        "Demais artefatos podem ser encontrados no moodle da disciplina:\n",
        "[moodle.lab.ic.unicamp.br/391](https://moodle.lab.ic.unicamp.br/moodle/course/view.php?id=391)\n",
        "\n",
        "*Fonte: [Introduction to machine learning with scikit-learn](https://github.com/justmarkham/scikit-learn-videos) e Exemplos Scikit*\n",
        "\n",
        "Instituto de Computação - Unicamp 2020"
      ]
    },
    {
      "cell_type": "markdown",
      "metadata": {
        "id": "YVLbMuUaGk2O"
      },
      "source": [
        "## Roteiro\n",
        "\n",
        "- O dataset Iris\n",
        "- Como carregar os dados com scikit-learn?\n",
        "- Terminologia\n",
        "- Requisitos"
      ]
    },
    {
      "cell_type": "markdown",
      "metadata": {
        "id": "i6rNOUhQGk2P"
      },
      "source": [
        "## O dataset Iris"
      ]
    },
    {
      "cell_type": "markdown",
      "metadata": {
        "id": "jjoc0Vi6Gk2Q"
      },
      "source": [
        "![03_iris.png](attachment:03_iris.png)"
      ]
    },
    {
      "cell_type": "markdown",
      "metadata": {
        "id": "bpjQzDrrGk2R"
      },
      "source": [
        "- 50 exemplos de 3 diferentes especies de Iridáceas (150 total)\n",
        "- Features: comprimento da sépala, largula da sépala, comprimento da pétala, largura da pétala"
      ]
    },
    {
      "cell_type": "code",
      "metadata": {
        "id": "H7Wneo_6Gk2S",
        "outputId": "b4ced84a-4d67-42d8-ea3a-c09a68ad11f6"
      },
      "source": [
        "from IPython.display import IFrame\n",
        "IFrame('http://archive.ics.uci.edu/ml/machine-learning-databases/iris/iris.data', width=300, height=200)"
      ],
      "execution_count": null,
      "outputs": [
        {
          "output_type": "execute_result",
          "data": {
            "text/html": [
              "\n",
              "        <iframe\n",
              "            width=\"300\"\n",
              "            height=\"200\"\n",
              "            src=\"http://archive.ics.uci.edu/ml/machine-learning-databases/iris/iris.data\"\n",
              "            frameborder=\"0\"\n",
              "            allowfullscreen\n",
              "        ></iframe>\n",
              "        "
            ],
            "text/plain": [
              "<IPython.lib.display.IFrame at 0x7f3a2cd45350>"
            ]
          },
          "metadata": {
            "tags": []
          },
          "execution_count": 2
        }
      ]
    },
    {
      "cell_type": "markdown",
      "metadata": {
        "id": "LJGp1gNJGk2d"
      },
      "source": [
        "## Aprendizado de Máquina sobre o dataset Iris\n",
        "\n",
        "- **Aprendizado supervisionado**: Infere as espécies de uma iridácea com base em suas medidas (Features)\n",
        "- Famoso dataset para A.M. por ser fácil de **fácil** inferencia"
      ]
    },
    {
      "cell_type": "markdown",
      "metadata": {
        "id": "8UAwlOXDGk2d"
      },
      "source": [
        "## Carregando os dados"
      ]
    },
    {
      "cell_type": "code",
      "metadata": {
        "id": "FyyyJwfpGk2e"
      },
      "source": [
        "# importar o módulo load_iris de datasets\n",
        "from sklearn.datasets import load_iris"
      ],
      "execution_count": null,
      "outputs": []
    },
    {
      "cell_type": "code",
      "metadata": {
        "id": "qnCtFjaUGk2l",
        "outputId": "58cd4591-8b39-42db-cb42-f18b10d6ed02"
      },
      "source": [
        "# salvar um objeto contendo os dados\n",
        "iris = load_iris()\n",
        "type(iris)"
      ],
      "execution_count": null,
      "outputs": [
        {
          "output_type": "execute_result",
          "data": {
            "text/plain": [
              "sklearn.utils.Bunch"
            ]
          },
          "metadata": {
            "tags": []
          },
          "execution_count": 4
        }
      ]
    },
    {
      "cell_type": "code",
      "metadata": {
        "id": "L0BlLJpzGk2t",
        "outputId": "1b13235f-77f4-462f-ef5d-3d46a236e78a"
      },
      "source": [
        "print(iris.data)"
      ],
      "execution_count": null,
      "outputs": [
        {
          "output_type": "stream",
          "text": [
            "[[5.1 3.5 1.4 0.2]\n",
            " [4.9 3.  1.4 0.2]\n",
            " [4.7 3.2 1.3 0.2]\n",
            " [4.6 3.1 1.5 0.2]\n",
            " [5.  3.6 1.4 0.2]\n",
            " [5.4 3.9 1.7 0.4]\n",
            " [4.6 3.4 1.4 0.3]\n",
            " [5.  3.4 1.5 0.2]\n",
            " [4.4 2.9 1.4 0.2]\n",
            " [4.9 3.1 1.5 0.1]\n",
            " [5.4 3.7 1.5 0.2]\n",
            " [4.8 3.4 1.6 0.2]\n",
            " [4.8 3.  1.4 0.1]\n",
            " [4.3 3.  1.1 0.1]\n",
            " [5.8 4.  1.2 0.2]\n",
            " [5.7 4.4 1.5 0.4]\n",
            " [5.4 3.9 1.3 0.4]\n",
            " [5.1 3.5 1.4 0.3]\n",
            " [5.7 3.8 1.7 0.3]\n",
            " [5.1 3.8 1.5 0.3]\n",
            " [5.4 3.4 1.7 0.2]\n",
            " [5.1 3.7 1.5 0.4]\n",
            " [4.6 3.6 1.  0.2]\n",
            " [5.1 3.3 1.7 0.5]\n",
            " [4.8 3.4 1.9 0.2]\n",
            " [5.  3.  1.6 0.2]\n",
            " [5.  3.4 1.6 0.4]\n",
            " [5.2 3.5 1.5 0.2]\n",
            " [5.2 3.4 1.4 0.2]\n",
            " [4.7 3.2 1.6 0.2]\n",
            " [4.8 3.1 1.6 0.2]\n",
            " [5.4 3.4 1.5 0.4]\n",
            " [5.2 4.1 1.5 0.1]\n",
            " [5.5 4.2 1.4 0.2]\n",
            " [4.9 3.1 1.5 0.2]\n",
            " [5.  3.2 1.2 0.2]\n",
            " [5.5 3.5 1.3 0.2]\n",
            " [4.9 3.6 1.4 0.1]\n",
            " [4.4 3.  1.3 0.2]\n",
            " [5.1 3.4 1.5 0.2]\n",
            " [5.  3.5 1.3 0.3]\n",
            " [4.5 2.3 1.3 0.3]\n",
            " [4.4 3.2 1.3 0.2]\n",
            " [5.  3.5 1.6 0.6]\n",
            " [5.1 3.8 1.9 0.4]\n",
            " [4.8 3.  1.4 0.3]\n",
            " [5.1 3.8 1.6 0.2]\n",
            " [4.6 3.2 1.4 0.2]\n",
            " [5.3 3.7 1.5 0.2]\n",
            " [5.  3.3 1.4 0.2]\n",
            " [7.  3.2 4.7 1.4]\n",
            " [6.4 3.2 4.5 1.5]\n",
            " [6.9 3.1 4.9 1.5]\n",
            " [5.5 2.3 4.  1.3]\n",
            " [6.5 2.8 4.6 1.5]\n",
            " [5.7 2.8 4.5 1.3]\n",
            " [6.3 3.3 4.7 1.6]\n",
            " [4.9 2.4 3.3 1. ]\n",
            " [6.6 2.9 4.6 1.3]\n",
            " [5.2 2.7 3.9 1.4]\n",
            " [5.  2.  3.5 1. ]\n",
            " [5.9 3.  4.2 1.5]\n",
            " [6.  2.2 4.  1. ]\n",
            " [6.1 2.9 4.7 1.4]\n",
            " [5.6 2.9 3.6 1.3]\n",
            " [6.7 3.1 4.4 1.4]\n",
            " [5.6 3.  4.5 1.5]\n",
            " [5.8 2.7 4.1 1. ]\n",
            " [6.2 2.2 4.5 1.5]\n",
            " [5.6 2.5 3.9 1.1]\n",
            " [5.9 3.2 4.8 1.8]\n",
            " [6.1 2.8 4.  1.3]\n",
            " [6.3 2.5 4.9 1.5]\n",
            " [6.1 2.8 4.7 1.2]\n",
            " [6.4 2.9 4.3 1.3]\n",
            " [6.6 3.  4.4 1.4]\n",
            " [6.8 2.8 4.8 1.4]\n",
            " [6.7 3.  5.  1.7]\n",
            " [6.  2.9 4.5 1.5]\n",
            " [5.7 2.6 3.5 1. ]\n",
            " [5.5 2.4 3.8 1.1]\n",
            " [5.5 2.4 3.7 1. ]\n",
            " [5.8 2.7 3.9 1.2]\n",
            " [6.  2.7 5.1 1.6]\n",
            " [5.4 3.  4.5 1.5]\n",
            " [6.  3.4 4.5 1.6]\n",
            " [6.7 3.1 4.7 1.5]\n",
            " [6.3 2.3 4.4 1.3]\n",
            " [5.6 3.  4.1 1.3]\n",
            " [5.5 2.5 4.  1.3]\n",
            " [5.5 2.6 4.4 1.2]\n",
            " [6.1 3.  4.6 1.4]\n",
            " [5.8 2.6 4.  1.2]\n",
            " [5.  2.3 3.3 1. ]\n",
            " [5.6 2.7 4.2 1.3]\n",
            " [5.7 3.  4.2 1.2]\n",
            " [5.7 2.9 4.2 1.3]\n",
            " [6.2 2.9 4.3 1.3]\n",
            " [5.1 2.5 3.  1.1]\n",
            " [5.7 2.8 4.1 1.3]\n",
            " [6.3 3.3 6.  2.5]\n",
            " [5.8 2.7 5.1 1.9]\n",
            " [7.1 3.  5.9 2.1]\n",
            " [6.3 2.9 5.6 1.8]\n",
            " [6.5 3.  5.8 2.2]\n",
            " [7.6 3.  6.6 2.1]\n",
            " [4.9 2.5 4.5 1.7]\n",
            " [7.3 2.9 6.3 1.8]\n",
            " [6.7 2.5 5.8 1.8]\n",
            " [7.2 3.6 6.1 2.5]\n",
            " [6.5 3.2 5.1 2. ]\n",
            " [6.4 2.7 5.3 1.9]\n",
            " [6.8 3.  5.5 2.1]\n",
            " [5.7 2.5 5.  2. ]\n",
            " [5.8 2.8 5.1 2.4]\n",
            " [6.4 3.2 5.3 2.3]\n",
            " [6.5 3.  5.5 1.8]\n",
            " [7.7 3.8 6.7 2.2]\n",
            " [7.7 2.6 6.9 2.3]\n",
            " [6.  2.2 5.  1.5]\n",
            " [6.9 3.2 5.7 2.3]\n",
            " [5.6 2.8 4.9 2. ]\n",
            " [7.7 2.8 6.7 2. ]\n",
            " [6.3 2.7 4.9 1.8]\n",
            " [6.7 3.3 5.7 2.1]\n",
            " [7.2 3.2 6.  1.8]\n",
            " [6.2 2.8 4.8 1.8]\n",
            " [6.1 3.  4.9 1.8]\n",
            " [6.4 2.8 5.6 2.1]\n",
            " [7.2 3.  5.8 1.6]\n",
            " [7.4 2.8 6.1 1.9]\n",
            " [7.9 3.8 6.4 2. ]\n",
            " [6.4 2.8 5.6 2.2]\n",
            " [6.3 2.8 5.1 1.5]\n",
            " [6.1 2.6 5.6 1.4]\n",
            " [7.7 3.  6.1 2.3]\n",
            " [6.3 3.4 5.6 2.4]\n",
            " [6.4 3.1 5.5 1.8]\n",
            " [6.  3.  4.8 1.8]\n",
            " [6.9 3.1 5.4 2.1]\n",
            " [6.7 3.1 5.6 2.4]\n",
            " [6.9 3.1 5.1 2.3]\n",
            " [5.8 2.7 5.1 1.9]\n",
            " [6.8 3.2 5.9 2.3]\n",
            " [6.7 3.3 5.7 2.5]\n",
            " [6.7 3.  5.2 2.3]\n",
            " [6.3 2.5 5.  1.9]\n",
            " [6.5 3.  5.2 2. ]\n",
            " [6.2 3.4 5.4 2.3]\n",
            " [5.9 3.  5.1 1.8]]\n"
          ],
          "name": "stdout"
        }
      ]
    },
    {
      "cell_type": "markdown",
      "metadata": {
        "id": "_DfED_12Gk2x"
      },
      "source": [
        "## Terminologia\n",
        "\n",
        "- Cada linha é uma **observação** (sample, exemplo, instância, registro)\n",
        "- Cada coluna é uma **feature** (atributo, característica, entrada)"
      ]
    },
    {
      "cell_type": "code",
      "metadata": {
        "id": "IGx-ZtyxGk2z",
        "outputId": "e55655a0-00fe-4c67-f55e-2e93b91fcdef"
      },
      "source": [
        "# nomes das features\n",
        "print(iris.feature_names)"
      ],
      "execution_count": null,
      "outputs": [
        {
          "output_type": "stream",
          "text": [
            "['sepal length (cm)', 'sepal width (cm)', 'petal length (cm)', 'petal width (cm)']\n"
          ],
          "name": "stdout"
        }
      ]
    },
    {
      "cell_type": "code",
      "metadata": {
        "id": "vPctEk72Gk22",
        "outputId": "504b31c8-c24b-4b71-f13d-824d33ca1c92"
      },
      "source": [
        "# representação das classes\n",
        "print(iris.target)"
      ],
      "execution_count": null,
      "outputs": [
        {
          "output_type": "stream",
          "text": [
            "[0 0 0 0 0 0 0 0 0 0 0 0 0 0 0 0 0 0 0 0 0 0 0 0 0 0 0 0 0 0 0 0 0 0 0 0 0\n",
            " 0 0 0 0 0 0 0 0 0 0 0 0 0 1 1 1 1 1 1 1 1 1 1 1 1 1 1 1 1 1 1 1 1 1 1 1 1\n",
            " 1 1 1 1 1 1 1 1 1 1 1 1 1 1 1 1 1 1 1 1 1 1 1 1 1 1 2 2 2 2 2 2 2 2 2 2 2\n",
            " 2 2 2 2 2 2 2 2 2 2 2 2 2 2 2 2 2 2 2 2 2 2 2 2 2 2 2 2 2 2 2 2 2 2 2 2 2\n",
            " 2 2]\n"
          ],
          "name": "stdout"
        }
      ]
    },
    {
      "cell_type": "code",
      "metadata": {
        "id": "YXY4hZt9Gk2_",
        "outputId": "d3612a29-6196-4279-c97e-7df7960d3892"
      },
      "source": [
        "# esquema de codificação: 0 = setosa, 1 = versicolor, 2 = virginica\n",
        "print(iris.target_names)"
      ],
      "execution_count": null,
      "outputs": [
        {
          "output_type": "stream",
          "text": [
            "['setosa' 'versicolor' 'virginica']\n"
          ],
          "name": "stdout"
        }
      ]
    },
    {
      "cell_type": "markdown",
      "metadata": {
        "id": "aYoYfZ55Gk3D"
      },
      "source": [
        "- Cada valor que estamos inferindo é uma **resposta** (alvo, target, outcome, label)"
      ]
    },
    {
      "cell_type": "markdown",
      "metadata": {
        "id": "vjy9XZdYGk3E"
      },
      "source": [
        "## Requisitos\n",
        "\n",
        "1. Features e resposta são **objetos separados**\n",
        "2. Features e resposta devem ser **numéricas**\n",
        "3. Features e resposta devem ser **NumPy arrays**\n",
        "4. Features e resposta devem ter **formatos específicos**"
      ]
    },
    {
      "cell_type": "code",
      "metadata": {
        "id": "UJQAiQ5pGk3F",
        "outputId": "1419d8be-88c8-4545-a566-30dc1e623be5"
      },
      "source": [
        "print(type(iris.data))\n",
        "print(type(iris.target))"
      ],
      "execution_count": null,
      "outputs": [
        {
          "output_type": "stream",
          "text": [
            "<class 'numpy.ndarray'>\n",
            "<class 'numpy.ndarray'>\n"
          ],
          "name": "stdout"
        }
      ]
    },
    {
      "cell_type": "code",
      "metadata": {
        "id": "2p7blikuGk3I",
        "outputId": "9478ae7e-3c96-4f35-b514-8c378bfe2bf2"
      },
      "source": [
        "# formato das features (1o dimensão = número de observações, 2o dimensão = numero de features)\n",
        "print(iris.data.shape)"
      ],
      "execution_count": null,
      "outputs": [
        {
          "output_type": "stream",
          "text": [
            "(150, 4)\n"
          ],
          "name": "stdout"
        }
      ]
    },
    {
      "cell_type": "code",
      "metadata": {
        "id": "9oZLy983Gk3O",
        "outputId": "d9664330-5a53-4ca2-be22-cfe91b70066e"
      },
      "source": [
        "# formato da resposta\n",
        "print(iris.target.shape)"
      ],
      "execution_count": null,
      "outputs": [
        {
          "output_type": "stream",
          "text": [
            "(150,)\n"
          ],
          "name": "stdout"
        }
      ]
    },
    {
      "cell_type": "code",
      "metadata": {
        "id": "x8oa-ECtGk3R"
      },
      "source": [
        "# armazena matriz de features em \"X\"\n",
        "X = iris.data\n",
        "\n",
        "# armazena vetor de resposta em \"y\"\n",
        "y = iris.target"
      ],
      "execution_count": null,
      "outputs": []
    },
    {
      "cell_type": "code",
      "metadata": {
        "id": "Xu5SzPm5Gk3U"
      },
      "source": [
        "import numpy as np\n",
        "import matplotlib.pyplot as plt\n",
        "import itertools\n",
        "\n",
        "from sklearn import svm\n",
        "from sklearn.metrics import roc_curve, auc\n",
        "from sklearn.model_selection import train_test_split\n",
        "from sklearn.metrics import confusion_matrix\n",
        "from scipy import interp"
      ],
      "execution_count": null,
      "outputs": []
    },
    {
      "cell_type": "code",
      "metadata": {
        "id": "YHWhMQUEGk3Z"
      },
      "source": [
        "# Binarizar considerando elementos apenas as 2 primeiras classes\n",
        "f = np.in1d(y,[0,1])\n",
        "X, y = X[f], y[f]"
      ],
      "execution_count": null,
      "outputs": []
    },
    {
      "cell_type": "code",
      "metadata": {
        "id": "3mzPSg51Gk3g"
      },
      "source": [
        "# Nomes das 2 primeiras classes\n",
        "class_names = iris.target_names[:2]"
      ],
      "execution_count": null,
      "outputs": []
    },
    {
      "cell_type": "code",
      "metadata": {
        "id": "6rkgFiXDGk3l"
      },
      "source": [
        "# Adicionar ruído nas features para deixar o problema mais difícil\n",
        "random_state = np.random.RandomState(0)\n",
        "n_samples, n_features = X.shape\n",
        "X = np.c_[X, random_state.randn(n_samples, 200 * n_features)]"
      ],
      "execution_count": null,
      "outputs": []
    },
    {
      "cell_type": "code",
      "metadata": {
        "id": "5TtMxMhrGk3p"
      },
      "source": [
        "# Separa treino e teste\n",
        "X_train, X_test, y_train, y_test = train_test_split(X, y, test_size=.5, random_state=0)"
      ],
      "execution_count": null,
      "outputs": []
    },
    {
      "cell_type": "code",
      "metadata": {
        "id": "Q2PT3iVTGk3x",
        "outputId": "55c9ad7b-7fe0-45d4-cc83-7dcdf876e9dc"
      },
      "source": [
        "print(X_train.shape)\n",
        "print(X_test.shape)"
      ],
      "execution_count": null,
      "outputs": [
        {
          "output_type": "stream",
          "text": [
            "(50, 804)\n",
            "(50, 804)\n"
          ],
          "name": "stdout"
        }
      ]
    },
    {
      "cell_type": "code",
      "metadata": {
        "id": "qZd9H1iDGk30"
      },
      "source": [
        "# Aprendizado\n",
        "classifier = svm.SVC(kernel='linear', C=0.01)\n",
        "y_pred = classifier.fit(X_train, y_train).predict(X_test)"
      ],
      "execution_count": null,
      "outputs": []
    },
    {
      "cell_type": "code",
      "metadata": {
        "id": "EvdGfFU9Gk34"
      },
      "source": [
        "def plot_confusion_matrix(cm, classes,\n",
        "                          normalize=False,\n",
        "                          title='Matriz de Confusão',\n",
        "                          cmap=plt.cm.Blues):\n",
        "    if normalize:\n",
        "        cm = cm.astype('float') / cm.sum(axis=1)[:, np.newaxis]\n",
        "\n",
        "    print(title)\n",
        "    print(cm)\n",
        "\n",
        "    plt.imshow(cm, interpolation='nearest', cmap=cmap)\n",
        "    plt.title(title)\n",
        "    plt.colorbar()\n",
        "    tick_marks = np.arange(len(classes))\n",
        "    plt.xticks(tick_marks, classes, rotation=45)\n",
        "    plt.yticks(tick_marks, classes)\n",
        "\n",
        "    fmt = '.2f' if normalize else 'd'\n",
        "    thresh = cm.max() / 2.\n",
        "    for i, j in itertools.product(range(cm.shape[0]), range(cm.shape[1])):\n",
        "        plt.text(j, i, format(cm[i, j], fmt),\n",
        "                 horizontalalignment=\"center\",\n",
        "                 color=\"white\" if cm[i, j] > thresh else \"black\")\n",
        "\n",
        "    plt.tight_layout()\n",
        "    plt.ylabel('Verdadeiro')\n",
        "    plt.xlabel('Predito')"
      ],
      "execution_count": null,
      "outputs": []
    },
    {
      "cell_type": "code",
      "metadata": {
        "id": "hlesAaSdGk37"
      },
      "source": [
        "# Calcula matriz de confusão\n",
        "cnf_matrix = confusion_matrix(y_test, y_pred)\n",
        "np.set_printoptions(precision=2)"
      ],
      "execution_count": null,
      "outputs": []
    },
    {
      "cell_type": "code",
      "metadata": {
        "id": "bIVa-FvVGk4B",
        "outputId": "46b2f793-b0ea-4117-beb8-248d2f4a9480"
      },
      "source": [
        "title = 'Matriz de confusão (em quantidade de elementos)'\n",
        "\n",
        "plt.figure()\n",
        "plot_confusion_matrix(cnf_matrix, classes=class_names, title=title)"
      ],
      "execution_count": null,
      "outputs": [
        {
          "output_type": "stream",
          "text": [
            "Matriz de confusão (em quantidade de elementos)\n",
            "[[17  9]\n",
            " [ 7 17]]\n"
          ],
          "name": "stdout"
        },
        {
          "output_type": "display_data",
          "data": {
            "image/png": "[encoded data removed]",
            "text/plain": [
              "<matplotlib.figure.Figure at 0x10ea85198>"
            ]
          },
          "metadata": {
            "tags": [],
            "needs_background": "light"
          }
        }
      ]
    },
    {
      "cell_type": "code",
      "metadata": {
        "id": "nlKdoC4yGk4L",
        "outputId": "5b9d173f-9372-4d1c-db72-9fb6bacc9b5d"
      },
      "source": [
        "title = 'Matriz de confusão (em %)'\n",
        "\n",
        "plt.figure()\n",
        "plot_confusion_matrix(cnf_matrix, classes=class_names, title=title, normalize=True)"
      ],
      "execution_count": null,
      "outputs": [
        {
          "output_type": "stream",
          "text": [
            "Matriz de confusão (em %)\n",
            "[[0.65 0.35]\n",
            " [0.29 0.71]]\n"
          ],
          "name": "stdout"
        },
        {
          "output_type": "display_data",
          "data": {
            "image/png": "[encoded data removed]",
            "text/plain": [
              "<Figure size 432x288 with 2 Axes>"
            ]
          },
          "metadata": {
            "tags": [],
            "needs_background": "light"
          }
        }
      ]
    },
    {
      "cell_type": "code",
      "metadata": {
        "id": "yS6dxLKRGk4Q",
        "outputId": "e6bd7653-0f72-446b-e4b7-a3cefd0afd9b"
      },
      "source": [
        "from sklearn.metrics import accuracy_score, recall_score\n",
        "\n",
        "print('Classificações corretas =', accuracy_score(y_test, y_pred, normalize=False))\n",
        "print('Acurácia =', accuracy_score(y_test, y_pred))\n",
        "print('Acurácia normalizada =', recall_score(y_test, y_pred, average='macro'))"
      ],
      "execution_count": null,
      "outputs": [
        {
          "output_type": "stream",
          "text": [
            "Classificações corretas = 34\n",
            "Acurácia = 0.68\n",
            "Acurácia normalizada = 0.6810897435897436\n"
          ],
          "name": "stdout"
        }
      ]
    },
    {
      "cell_type": "code",
      "metadata": {
        "id": "b4JT1eyaGk4T",
        "outputId": "f0a9dfe8-10d4-4e50-cb5f-f8530fda6c45"
      },
      "source": [
        "from sklearn.metrics import roc_curve, auc\n",
        "fpr, tpr, thresholds = roc_curve(y_test, y_pred)\n",
        "print('AUC = {:.2f}'.format(auc(fpr, tpr)))"
      ],
      "execution_count": null,
      "outputs": [
        {
          "output_type": "stream",
          "text": [
            "AUC = 0.68\n"
          ],
          "name": "stdout"
        }
      ]
    },
    {
      "cell_type": "code",
      "metadata": {
        "id": "Tx7Jyr-_Gk4Y",
        "outputId": "9896c581-b94f-4f09-b379-313860b43ed3"
      },
      "source": [
        "from sklearn.metrics import f1_score\n",
        "print('F1 = {:.2f}'.format(f1_score(y_test, y_pred, average='binary')))"
      ],
      "execution_count": null,
      "outputs": [
        {
          "output_type": "stream",
          "text": [
            "F1 = 0.68\n"
          ],
          "name": "stdout"
        }
      ]
    },
    {
      "cell_type": "code",
      "metadata": {
        "id": "kgG1AT5ZGk4b",
        "outputId": "f87edd6c-6d97-42aa-cb16-090b4fabc774"
      },
      "source": [
        "from sklearn.metrics import classification_report\n",
        "print(classification_report(y_test, y_pred, target_names=class_names))"
      ],
      "execution_count": null,
      "outputs": [
        {
          "output_type": "stream",
          "text": [
            "              precision    recall  f1-score   support\n",
            "\n",
            "      setosa       0.71      0.65      0.68        26\n",
            "  versicolor       0.65      0.71      0.68        24\n",
            "\n",
            "    accuracy                           0.68        50\n",
            "   macro avg       0.68      0.68      0.68        50\n",
            "weighted avg       0.68      0.68      0.68        50\n",
            "\n"
          ],
          "name": "stdout"
        }
      ]
    },
    {
      "cell_type": "code",
      "metadata": {
        "id": "p5r3UpWFGk4d"
      },
      "source": [],
      "execution_count": null,
      "outputs": []
    }
  ]
}