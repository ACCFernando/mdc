{
  "cells": [
    {
      "cell_type": "markdown",
      "metadata": {
        "id": "Uy2rO8CD2fzd"
      },
      "source": [
        "# Transfer Learning\n",
        "\n",
        "Neste exemplo, usaremos os pesos da ***ResNet50***, pré-treinados no conjunto ImageNet, para classificação das imagens do CIFAR-10. A ideia é que os filtros da rede aprendidos durante o pré-treinamento com o conjunto ImageNet auxiliem na tarefa de classificação do CIFAR-10, por mais que as distribuições dos dados sejam diferentes.\n",
        "\n",
        "Para verificarmos isso, faremos dois experimentos:\n",
        "\n",
        "1. Usaremos a rede como um extrator de características, descartando a última camada e congelando as camadas restantes. Em seguida, adicionaremos uma nova camada de saída com o número de classes do CIFAR-10, ajustando a rede para o novo conjunto de dados.\n",
        "\n",
        "2. Após este primeiro treinamento, vamos descongelar as camadas e treiná-las ajustando os pesos do modelo para o conjunto CIFAR-10. Esse processo nós chamamos de _fine-tuning_."
      ]
    },
    {
      "cell_type": "code",
      "source": [
        "!pip3 install --upgrade tensorflow==2.15 &> /dev/null"
      ],
      "metadata": {
        "id": "Q6lTuFjI7mUe"
      },
      "execution_count": 1,
      "outputs": []
    },
    {
      "cell_type": "code",
      "execution_count": 2,
      "metadata": {
        "id": "r2EjL8tV2fzk"
      },
      "outputs": [],
      "source": [
        "import numpy as np\n",
        "%matplotlib inline\n",
        "import matplotlib.pyplot as plt\n",
        "import tensorflow as tf\n",
        "from tensorflow import keras\n",
        "from tensorflow.keras import layers\n",
        "from tensorflow.keras.datasets import cifar10\n",
        "\n",
        "from sklearn.model_selection import StratifiedShuffleSplit\n",
        "from sklearn.metrics import roc_auc_score\n",
        "\n",
        "#Utility to plot\n",
        "def plotImages(imgList, n_row=1, n_col=1):\n",
        "    _, axs = plt.subplots(n_row, n_col, figsize=(5, 5))\n",
        "    axs = axs.flatten()\n",
        "    for img, ax in zip(imgList, axs):\n",
        "        ax.imshow(np.uint8(img), interpolation='nearest')\n",
        "    plt.show()\n",
        "\n",
        "\n",
        "def plotImage(img):\n",
        "    fig = plt.figure(figsize=(3,3))\n",
        "    ax = fig.add_subplot(111)\n",
        "\n",
        "    ax.imshow(np.uint8(img), interpolation='nearest')\n",
        "    plt.show()"
      ]
    },
    {
      "cell_type": "markdown",
      "metadata": {
        "id": "ZWwtLHP-2fzy"
      },
      "source": [
        "## CIFAR-10\n",
        "\n",
        "Conjunto de dados composto de 60.000 imagens coloridas de dimensões 32x32, divididas em 10 classes (com 6.000 imagens por classe), sendo 50.000 para treinamento e 10.000 para teste. As classes do CIFAR-10 são **aviões, automóveis, pássaros, gatos, alces, cachorros, sapos, cavalos, navios, caminhões.**\n",
        "\n",
        "\n",
        "O código abaixo carrega e transforma os dados de entrada para ficarem prontos para serem treinados/classificados pela sua rede. Os conjuntos de treino, validação e teste estão balanceados, portanto a acurácia já estará normalizada nos métodos do Keras.\n",
        "\n",
        "***Veja como pré-processamos os dados com a função do próprio modelo pré-treinado.***"
      ]
    },
    {
      "cell_type": "code",
      "execution_count": 3,
      "metadata": {
        "colab": {
          "base_uri": "https://localhost:8080/"
        },
        "id": "zC3Zx3IE2fz3",
        "outputId": "bda4079a-4330-47de-e227-52b9c92600ce"
      },
      "outputs": [
        {
          "output_type": "stream",
          "name": "stdout",
          "text": [
            "Downloading data from https://www.cs.toronto.edu/~kriz/cifar-10-python.tar.gz\n",
            "170498071/170498071 [==============================] - 6s 0us/step\n",
            "Dados de treino: (40000, 32, 32, 3)\n",
            "Dados de validação: (10000, 32, 32, 3)\n",
            "Dados de teste: (10000, 32, 32, 3)\n",
            "\n",
            "Distribuição de amostras por classe:\n",
            " - treino: [4000 4000 4000 4000 4000 4000 4000 4000 4000]\n",
            " - validação: [1000 1000 1000 1000 1000 1000 1000 1000 1000]\n",
            " - teste: [1000 1000 1000 1000 1000 1000 1000 1000 1000]\n"
          ]
        }
      ],
      "source": [
        "# Carrega o dataset\n",
        "(trainVal_data, trainVal_label), (X_test, y_test) = cifar10.load_data()\n",
        "\n",
        "#Split trainVal data into train and val sets (already balanced)\n",
        "sss = StratifiedShuffleSplit(1, test_size=10000, random_state=0)\n",
        "for train_index, val_index in sss.split(trainVal_data, trainVal_label):\n",
        "    X_train, X_val = trainVal_data[train_index], trainVal_data[val_index]\n",
        "    y_train, y_val = trainVal_label[train_index], trainVal_label[val_index]\n",
        "\n",
        "X_train = X_train.astype('float32')\n",
        "X_val = X_val.astype('float32')\n",
        "X_test = X_test.astype('float32')\n",
        "\n",
        "print(\"Dados de treino:\", X_train.shape)\n",
        "print(\"Dados de validação:\", X_val.shape)\n",
        "print(\"Dados de teste:\", X_test.shape)\n",
        "print()\n",
        "n_classes = 10\n",
        "\n",
        "# One-hot encoding\n",
        "Y_train = tf.keras.utils.to_categorical(y_train, n_classes)\n",
        "Y_val = tf.keras.utils.to_categorical(y_val, n_classes)\n",
        "Y_test = tf.keras.utils.to_categorical(y_test, n_classes)\n",
        "\n",
        "# Computa a distribuição de amostras por classe\n",
        "num_train_classes, _ = np.histogram(y_train, bins=np.arange(n_classes)+1)\n",
        "num_valid_classes, _ = np.histogram(y_val, bins=np.arange(n_classes)+1)\n",
        "num_test_classes, _ = np.histogram(y_test, bins=np.arange(n_classes)+1)\n",
        "\n",
        "print(\"Distribuição de amostras por classe:\")\n",
        "print(\" - treino:\", num_train_classes)\n",
        "print(\" - validação:\", num_valid_classes)\n",
        "print(\" - teste:\", num_test_classes)"
      ]
    },
    {
      "cell_type": "code",
      "execution_count": 4,
      "metadata": {
        "colab": {
          "base_uri": "https://localhost:8080/",
          "height": 530
        },
        "id": "Kg4iclNSYK5w",
        "outputId": "943398c9-4b7a-4602-84da-2a28357143c8"
      },
      "outputs": [
        {
          "output_type": "stream",
          "name": "stdout",
          "text": [
            "(64, 32, 32, 3) (64, 10)\n",
            "(64, 32, 32, 3) (64, 10)\n",
            "imagens apenas com aumentações\n"
          ]
        },
        {
          "output_type": "display_data",
          "data": {
            "text/plain": [
              "<Figure size 500x500 with 2 Axes>"
            ],
            "image/png": "[encoded data removed]"
          },
          "metadata": {}
        },
        {
          "output_type": "stream",
          "name": "stdout",
          "text": [
            "imagens com aumentações + pré-processamento resnet\n"
          ]
        },
        {
          "output_type": "display_data",
          "data": {
            "text/plain": [
              "<Figure size 500x500 with 2 Axes>"
            ],
            "image/png": "[encoded data removed]"
          },
          "metadata": {}
        }
      ],
      "source": [
        "from keras.preprocessing.image import ImageDataGenerator\n",
        "\n",
        "datagen_for_printing = ImageDataGenerator(\n",
        "    rotation_range=20,\n",
        "    width_shift_range=0.2,\n",
        "    height_shift_range=0.2,\n",
        "    horizontal_flip=True)\n",
        "\n",
        "datagen_resnet = ImageDataGenerator(\n",
        "    rotation_range=20,\n",
        "    width_shift_range=0.2,\n",
        "    height_shift_range=0.2,\n",
        "    horizontal_flip=True,\n",
        "    zoom_range=[0.6, 1],\n",
        "    preprocessing_function=tf.keras.applications.resnet50.preprocess_input\n",
        "    )\n",
        "\n",
        "# datagen com preprocessing\n",
        "gerador_batches_printing = datagen_for_printing.flow(X_train, Y_train, shuffle=False, batch_size=64)\n",
        "batch_X, batch_Y = next(gerador_batches_printing)\n",
        "\n",
        "gerador_batches_resnet = datagen_resnet.flow(X_train, Y_train, shuffle=False, batch_size=64)\n",
        "batch_X_proc, batch_Y_proc = next(gerador_batches_resnet)\n",
        "\n",
        "print(batch_X.shape, batch_Y.shape)\n",
        "print(batch_X_proc.shape, batch_Y_proc.shape)\n",
        "\n",
        "print(\"imagens apenas com aumentações\")\n",
        "plotImages(batch_X[:2], 1, 2)\n",
        "\n",
        "print(\"imagens com aumentações + pré-processamento resnet\")\n",
        "plotImages(batch_X_proc[:2], 1, 2)\n"
      ]
    },
    {
      "cell_type": "markdown",
      "metadata": {
        "id": "rXshP8oD2f0e"
      },
      "source": [
        "## Usando a rede como um extrator de features\n",
        "\n",
        "### Congelamento das camadas\n",
        "\n",
        "Vamos pegar a saída da ResNet50 após todas as convoluções, remover a última camada (``include_top=false``), congelar os pesos restantes, e adicionar uma camada densa treinável para as novas classes do CIFAR-10. Assim, podemos pensar nas camadas congeladas como extrator de características.\n",
        "\n",
        "Note que neste experimento nós apenas treinamos as últimas camadas adicionadas, deixando fixos os pesos das outras camadas. Fazemos isso justamente para podermos ajustar as features extraídas pela rede para o conjunto CIFAR-10. Em seguida, tendo essas features já ajustadas para o conjunto alvo, podemos treinar um classificador qualquer (um SVM, por exemplo). Essa técnica é bastante útil em cenários de escassez de dados ou de pouco poder computacional.\n"
      ]
    },
    {
      "cell_type": "code",
      "execution_count": 5,
      "metadata": {
        "colab": {
          "base_uri": "https://localhost:8080/"
        },
        "id": "8ubAM7yv2f0j",
        "outputId": "6ae209d1-acb0-4e69-bb32-ac20c1fba6b6"
      },
      "outputs": [
        {
          "output_type": "stream",
          "name": "stdout",
          "text": [
            "Downloading data from https://storage.googleapis.com/tensorflow/keras-applications/resnet/resnet50_weights_tf_dim_ordering_tf_kernels_notop.h5\n",
            "94765736/94765736 [==============================] - 3s 0us/step\n",
            "Model: \"resnet50\"\n",
            "__________________________________________________________________________________________________\n",
            " Layer (type)                Output Shape                 Param #   Connected to                  \n",
            "==================================================================================================\n",
            " input_1 (InputLayer)        [(None, 32, 32, 3)]          0         []                            \n",
            "                                                                                                  \n",
            " conv1_pad (ZeroPadding2D)   (None, 38, 38, 3)            0         ['input_1[0][0]']             \n",
            "                                                                                                  \n",
            " conv1_conv (Conv2D)         (None, 16, 16, 64)           9472      ['conv1_pad[0][0]']           \n",
            "                                                                                                  \n",
            " conv1_bn (BatchNormalizati  (None, 16, 16, 64)           256       ['conv1_conv[0][0]']          \n",
            " on)                                                                                              \n",
            "                                                                                                  \n",
            " conv1_relu (Activation)     (None, 16, 16, 64)           0         ['conv1_bn[0][0]']            \n",
            "                                                                                                  \n",
            " pool1_pad (ZeroPadding2D)   (None, 18, 18, 64)           0         ['conv1_relu[0][0]']          \n",
            "                                                                                                  \n",
            " pool1_pool (MaxPooling2D)   (None, 8, 8, 64)             0         ['pool1_pad[0][0]']           \n",
            "                                                                                                  \n",
            " conv2_block1_1_conv (Conv2  (None, 8, 8, 64)             4160      ['pool1_pool[0][0]']          \n",
            " D)                                                                                               \n",
            "                                                                                                  \n",
            " conv2_block1_1_bn (BatchNo  (None, 8, 8, 64)             256       ['conv2_block1_1_conv[0][0]'] \n",
            " rmalization)                                                                                     \n",
            "                                                                                                  \n",
            " conv2_block1_1_relu (Activ  (None, 8, 8, 64)             0         ['conv2_block1_1_bn[0][0]']   \n",
            " ation)                                                                                           \n",
            "                                                                                                  \n",
            " conv2_block1_2_conv (Conv2  (None, 8, 8, 64)             36928     ['conv2_block1_1_relu[0][0]'] \n",
            " D)                                                                                               \n",
            "                                                                                                  \n",
            " conv2_block1_2_bn (BatchNo  (None, 8, 8, 64)             256       ['conv2_block1_2_conv[0][0]'] \n",
            " rmalization)                                                                                     \n",
            "                                                                                                  \n",
            " conv2_block1_2_relu (Activ  (None, 8, 8, 64)             0         ['conv2_block1_2_bn[0][0]']   \n",
            " ation)                                                                                           \n",
            "                                                                                                  \n",
            " conv2_block1_0_conv (Conv2  (None, 8, 8, 256)            16640     ['pool1_pool[0][0]']          \n",
            " D)                                                                                               \n",
            "                                                                                                  \n",
            " conv2_block1_3_conv (Conv2  (None, 8, 8, 256)            16640     ['conv2_block1_2_relu[0][0]'] \n",
            " D)                                                                                               \n",
            "                                                                                                  \n",
            " conv2_block1_0_bn (BatchNo  (None, 8, 8, 256)            1024      ['conv2_block1_0_conv[0][0]'] \n",
            " rmalization)                                                                                     \n",
            "                                                                                                  \n",
            " conv2_block1_3_bn (BatchNo  (None, 8, 8, 256)            1024      ['conv2_block1_3_conv[0][0]'] \n",
            " rmalization)                                                                                     \n",
            "                                                                                                  \n",
            " conv2_block1_add (Add)      (None, 8, 8, 256)            0         ['conv2_block1_0_bn[0][0]',   \n",
            "                                                                     'conv2_block1_3_bn[0][0]']   \n",
            "                                                                                                  \n",
            " conv2_block1_out (Activati  (None, 8, 8, 256)            0         ['conv2_block1_add[0][0]']    \n",
            " on)                                                                                              \n",
            "                                                                                                  \n",
            " conv2_block2_1_conv (Conv2  (None, 8, 8, 64)             16448     ['conv2_block1_out[0][0]']    \n",
            " D)                                                                                               \n",
            "                                                                                                  \n",
            " conv2_block2_1_bn (BatchNo  (None, 8, 8, 64)             256       ['conv2_block2_1_conv[0][0]'] \n",
            " rmalization)                                                                                     \n",
            "                                                                                                  \n",
            " conv2_block2_1_relu (Activ  (None, 8, 8, 64)             0         ['conv2_block2_1_bn[0][0]']   \n",
            " ation)                                                                                           \n",
            "                                                                                                  \n",
            " conv2_block2_2_conv (Conv2  (None, 8, 8, 64)             36928     ['conv2_block2_1_relu[0][0]'] \n",
            " D)                                                                                               \n",
            "                                                                                                  \n",
            " conv2_block2_2_bn (BatchNo  (None, 8, 8, 64)             256       ['conv2_block2_2_conv[0][0]'] \n",
            " rmalization)                                                                                     \n",
            "                                                                                                  \n",
            " conv2_block2_2_relu (Activ  (None, 8, 8, 64)             0         ['conv2_block2_2_bn[0][0]']   \n",
            " ation)                                                                                           \n",
            "                                                                                                  \n",
            " conv2_block2_3_conv (Conv2  (None, 8, 8, 256)            16640     ['conv2_block2_2_relu[0][0]'] \n",
            " D)                                                                                               \n",
            "                                                                                                  \n",
            " conv2_block2_3_bn (BatchNo  (None, 8, 8, 256)            1024      ['conv2_block2_3_conv[0][0]'] \n",
            " rmalization)                                                                                     \n",
            "                                                                                                  \n",
            " conv2_block2_add (Add)      (None, 8, 8, 256)            0         ['conv2_block1_out[0][0]',    \n",
            "                                                                     'conv2_block2_3_bn[0][0]']   \n",
            "                                                                                                  \n",
            " conv2_block2_out (Activati  (None, 8, 8, 256)            0         ['conv2_block2_add[0][0]']    \n",
            " on)                                                                                              \n",
            "                                                                                                  \n",
            " conv2_block3_1_conv (Conv2  (None, 8, 8, 64)             16448     ['conv2_block2_out[0][0]']    \n",
            " D)                                                                                               \n",
            "                                                                                                  \n",
            " conv2_block3_1_bn (BatchNo  (None, 8, 8, 64)             256       ['conv2_block3_1_conv[0][0]'] \n",
            " rmalization)                                                                                     \n",
            "                                                                                                  \n",
            " conv2_block3_1_relu (Activ  (None, 8, 8, 64)             0         ['conv2_block3_1_bn[0][0]']   \n",
            " ation)                                                                                           \n",
            "                                                                                                  \n",
            " conv2_block3_2_conv (Conv2  (None, 8, 8, 64)             36928     ['conv2_block3_1_relu[0][0]'] \n",
            " D)                                                                                               \n",
            "                                                                                                  \n",
            " conv2_block3_2_bn (BatchNo  (None, 8, 8, 64)             256       ['conv2_block3_2_conv[0][0]'] \n",
            " rmalization)                                                                                     \n",
            "                                                                                                  \n",
            " conv2_block3_2_relu (Activ  (None, 8, 8, 64)             0         ['conv2_block3_2_bn[0][0]']   \n",
            " ation)                                                                                           \n",
            "                                                                                                  \n",
            " conv2_block3_3_conv (Conv2  (None, 8, 8, 256)            16640     ['conv2_block3_2_relu[0][0]'] \n",
            " D)                                                                                               \n",
            "                                                                                                  \n",
            " conv2_block3_3_bn (BatchNo  (None, 8, 8, 256)            1024      ['conv2_block3_3_conv[0][0]'] \n",
            " rmalization)                                                                                     \n",
            "                                                                                                  \n",
            " conv2_block3_add (Add)      (None, 8, 8, 256)            0         ['conv2_block2_out[0][0]',    \n",
            "                                                                     'conv2_block3_3_bn[0][0]']   \n",
            "                                                                                                  \n",
            " conv2_block3_out (Activati  (None, 8, 8, 256)            0         ['conv2_block3_add[0][0]']    \n",
            " on)                                                                                              \n",
            "                                                                                                  \n",
            " conv3_block1_1_conv (Conv2  (None, 4, 4, 128)            32896     ['conv2_block3_out[0][0]']    \n",
            " D)                                                                                               \n",
            "                                                                                                  \n",
            " conv3_block1_1_bn (BatchNo  (None, 4, 4, 128)            512       ['conv3_block1_1_conv[0][0]'] \n",
            " rmalization)                                                                                     \n",
            "                                                                                                  \n",
            " conv3_block1_1_relu (Activ  (None, 4, 4, 128)            0         ['conv3_block1_1_bn[0][0]']   \n",
            " ation)                                                                                           \n",
            "                                                                                                  \n",
            " conv3_block1_2_conv (Conv2  (None, 4, 4, 128)            147584    ['conv3_block1_1_relu[0][0]'] \n",
            " D)                                                                                               \n",
            "                                                                                                  \n",
            " conv3_block1_2_bn (BatchNo  (None, 4, 4, 128)            512       ['conv3_block1_2_conv[0][0]'] \n",
            " rmalization)                                                                                     \n",
            "                                                                                                  \n",
            " conv3_block1_2_relu (Activ  (None, 4, 4, 128)            0         ['conv3_block1_2_bn[0][0]']   \n",
            " ation)                                                                                           \n",
            "                                                                                                  \n",
            " conv3_block1_0_conv (Conv2  (None, 4, 4, 512)            131584    ['conv2_block3_out[0][0]']    \n",
            " D)                                                                                               \n",
            "                                                                                                  \n",
            " conv3_block1_3_conv (Conv2  (None, 4, 4, 512)            66048     ['conv3_block1_2_relu[0][0]'] \n",
            " D)                                                                                               \n",
            "                                                                                                  \n",
            " conv3_block1_0_bn (BatchNo  (None, 4, 4, 512)            2048      ['conv3_block1_0_conv[0][0]'] \n",
            " rmalization)                                                                                     \n",
            "                                                                                                  \n",
            " conv3_block1_3_bn (BatchNo  (None, 4, 4, 512)            2048      ['conv3_block1_3_conv[0][0]'] \n",
            " rmalization)                                                                                     \n",
            "                                                                                                  \n",
            " conv3_block1_add (Add)      (None, 4, 4, 512)            0         ['conv3_block1_0_bn[0][0]',   \n",
            "                                                                     'conv3_block1_3_bn[0][0]']   \n",
            "                                                                                                  \n",
            " conv3_block1_out (Activati  (None, 4, 4, 512)            0         ['conv3_block1_add[0][0]']    \n",
            " on)                                                                                              \n",
            "                                                                                                  \n",
            " conv3_block2_1_conv (Conv2  (None, 4, 4, 128)            65664     ['conv3_block1_out[0][0]']    \n",
            " D)                                                                                               \n",
            "                                                                                                  \n",
            " conv3_block2_1_bn (BatchNo  (None, 4, 4, 128)            512       ['conv3_block2_1_conv[0][0]'] \n",
            " rmalization)                                                                                     \n",
            "                                                                                                  \n",
            " conv3_block2_1_relu (Activ  (None, 4, 4, 128)            0         ['conv3_block2_1_bn[0][0]']   \n",
            " ation)                                                                                           \n",
            "                                                                                                  \n",
            " conv3_block2_2_conv (Conv2  (None, 4, 4, 128)            147584    ['conv3_block2_1_relu[0][0]'] \n",
            " D)                                                                                               \n",
            "                                                                                                  \n",
            " conv3_block2_2_bn (BatchNo  (None, 4, 4, 128)            512       ['conv3_block2_2_conv[0][0]'] \n",
            " rmalization)                                                                                     \n",
            "                                                                                                  \n",
            " conv3_block2_2_relu (Activ  (None, 4, 4, 128)            0         ['conv3_block2_2_bn[0][0]']   \n",
            " ation)                                                                                           \n",
            "                                                                                                  \n",
            " conv3_block2_3_conv (Conv2  (None, 4, 4, 512)            66048     ['conv3_block2_2_relu[0][0]'] \n",
            " D)                                                                                               \n",
            "                                                                                                  \n",
            " conv3_block2_3_bn (BatchNo  (None, 4, 4, 512)            2048      ['conv3_block2_3_conv[0][0]'] \n",
            " rmalization)                                                                                     \n",
            "                                                                                                  \n",
            " conv3_block2_add (Add)      (None, 4, 4, 512)            0         ['conv3_block1_out[0][0]',    \n",
            "                                                                     'conv3_block2_3_bn[0][0]']   \n",
            "                                                                                                  \n",
            " conv3_block2_out (Activati  (None, 4, 4, 512)            0         ['conv3_block2_add[0][0]']    \n",
            " on)                                                                                              \n",
            "                                                                                                  \n",
            " conv3_block3_1_conv (Conv2  (None, 4, 4, 128)            65664     ['conv3_block2_out[0][0]']    \n",
            " D)                                                                                               \n",
            "                                                                                                  \n",
            " conv3_block3_1_bn (BatchNo  (None, 4, 4, 128)            512       ['conv3_block3_1_conv[0][0]'] \n",
            " rmalization)                                                                                     \n",
            "                                                                                                  \n",
            " conv3_block3_1_relu (Activ  (None, 4, 4, 128)            0         ['conv3_block3_1_bn[0][0]']   \n",
            " ation)                                                                                           \n",
            "                                                                                                  \n",
            " conv3_block3_2_conv (Conv2  (None, 4, 4, 128)            147584    ['conv3_block3_1_relu[0][0]'] \n",
            " D)                                                                                               \n",
            "                                                                                                  \n",
            " conv3_block3_2_bn (BatchNo  (None, 4, 4, 128)            512       ['conv3_block3_2_conv[0][0]'] \n",
            " rmalization)                                                                                     \n",
            "                                                                                                  \n",
            " conv3_block3_2_relu (Activ  (None, 4, 4, 128)            0         ['conv3_block3_2_bn[0][0]']   \n",
            " ation)                                                                                           \n",
            "                                                                                                  \n",
            " conv3_block3_3_conv (Conv2  (None, 4, 4, 512)            66048     ['conv3_block3_2_relu[0][0]'] \n",
            " D)                                                                                               \n",
            "                                                                                                  \n",
            " conv3_block3_3_bn (BatchNo  (None, 4, 4, 512)            2048      ['conv3_block3_3_conv[0][0]'] \n",
            " rmalization)                                                                                     \n",
            "                                                                                                  \n",
            " conv3_block3_add (Add)      (None, 4, 4, 512)            0         ['conv3_block2_out[0][0]',    \n",
            "                                                                     'conv3_block3_3_bn[0][0]']   \n",
            "                                                                                                  \n",
            " conv3_block3_out (Activati  (None, 4, 4, 512)            0         ['conv3_block3_add[0][0]']    \n",
            " on)                                                                                              \n",
            "                                                                                                  \n",
            " conv3_block4_1_conv (Conv2  (None, 4, 4, 128)            65664     ['conv3_block3_out[0][0]']    \n",
            " D)                                                                                               \n",
            "                                                                                                  \n",
            " conv3_block4_1_bn (BatchNo  (None, 4, 4, 128)            512       ['conv3_block4_1_conv[0][0]'] \n",
            " rmalization)                                                                                     \n",
            "                                                                                                  \n",
            " conv3_block4_1_relu (Activ  (None, 4, 4, 128)            0         ['conv3_block4_1_bn[0][0]']   \n",
            " ation)                                                                                           \n",
            "                                                                                                  \n",
            " conv3_block4_2_conv (Conv2  (None, 4, 4, 128)            147584    ['conv3_block4_1_relu[0][0]'] \n",
            " D)                                                                                               \n",
            "                                                                                                  \n",
            " conv3_block4_2_bn (BatchNo  (None, 4, 4, 128)            512       ['conv3_block4_2_conv[0][0]'] \n",
            " rmalization)                                                                                     \n",
            "                                                                                                  \n",
            " conv3_block4_2_relu (Activ  (None, 4, 4, 128)            0         ['conv3_block4_2_bn[0][0]']   \n",
            " ation)                                                                                           \n",
            "                                                                                                  \n",
            " conv3_block4_3_conv (Conv2  (None, 4, 4, 512)            66048     ['conv3_block4_2_relu[0][0]'] \n",
            " D)                                                                                               \n",
            "                                                                                                  \n",
            " conv3_block4_3_bn (BatchNo  (None, 4, 4, 512)            2048      ['conv3_block4_3_conv[0][0]'] \n",
            " rmalization)                                                                                     \n",
            "                                                                                                  \n",
            " conv3_block4_add (Add)      (None, 4, 4, 512)            0         ['conv3_block3_out[0][0]',    \n",
            "                                                                     'conv3_block4_3_bn[0][0]']   \n",
            "                                                                                                  \n",
            " conv3_block4_out (Activati  (None, 4, 4, 512)            0         ['conv3_block4_add[0][0]']    \n",
            " on)                                                                                              \n",
            "                                                                                                  \n",
            " conv4_block1_1_conv (Conv2  (None, 2, 2, 256)            131328    ['conv3_block4_out[0][0]']    \n",
            " D)                                                                                               \n",
            "                                                                                                  \n",
            " conv4_block1_1_bn (BatchNo  (None, 2, 2, 256)            1024      ['conv4_block1_1_conv[0][0]'] \n",
            " rmalization)                                                                                     \n",
            "                                                                                                  \n",
            " conv4_block1_1_relu (Activ  (None, 2, 2, 256)            0         ['conv4_block1_1_bn[0][0]']   \n",
            " ation)                                                                                           \n",
            "                                                                                                  \n",
            " conv4_block1_2_conv (Conv2  (None, 2, 2, 256)            590080    ['conv4_block1_1_relu[0][0]'] \n",
            " D)                                                                                               \n",
            "                                                                                                  \n",
            " conv4_block1_2_bn (BatchNo  (None, 2, 2, 256)            1024      ['conv4_block1_2_conv[0][0]'] \n",
            " rmalization)                                                                                     \n",
            "                                                                                                  \n",
            " conv4_block1_2_relu (Activ  (None, 2, 2, 256)            0         ['conv4_block1_2_bn[0][0]']   \n",
            " ation)                                                                                           \n",
            "                                                                                                  \n",
            " conv4_block1_0_conv (Conv2  (None, 2, 2, 1024)           525312    ['conv3_block4_out[0][0]']    \n",
            " D)                                                                                               \n",
            "                                                                                                  \n",
            " conv4_block1_3_conv (Conv2  (None, 2, 2, 1024)           263168    ['conv4_block1_2_relu[0][0]'] \n",
            " D)                                                                                               \n",
            "                                                                                                  \n",
            " conv4_block1_0_bn (BatchNo  (None, 2, 2, 1024)           4096      ['conv4_block1_0_conv[0][0]'] \n",
            " rmalization)                                                                                     \n",
            "                                                                                                  \n",
            " conv4_block1_3_bn (BatchNo  (None, 2, 2, 1024)           4096      ['conv4_block1_3_conv[0][0]'] \n",
            " rmalization)                                                                                     \n",
            "                                                                                                  \n",
            " conv4_block1_add (Add)      (None, 2, 2, 1024)           0         ['conv4_block1_0_bn[0][0]',   \n",
            "                                                                     'conv4_block1_3_bn[0][0]']   \n",
            "                                                                                                  \n",
            " conv4_block1_out (Activati  (None, 2, 2, 1024)           0         ['conv4_block1_add[0][0]']    \n",
            " on)                                                                                              \n",
            "                                                                                                  \n",
            " conv4_block2_1_conv (Conv2  (None, 2, 2, 256)            262400    ['conv4_block1_out[0][0]']    \n",
            " D)                                                                                               \n",
            "                                                                                                  \n",
            " conv4_block2_1_bn (BatchNo  (None, 2, 2, 256)            1024      ['conv4_block2_1_conv[0][0]'] \n",
            " rmalization)                                                                                     \n",
            "                                                                                                  \n",
            " conv4_block2_1_relu (Activ  (None, 2, 2, 256)            0         ['conv4_block2_1_bn[0][0]']   \n",
            " ation)                                                                                           \n",
            "                                                                                                  \n",
            " conv4_block2_2_conv (Conv2  (None, 2, 2, 256)            590080    ['conv4_block2_1_relu[0][0]'] \n",
            " D)                                                                                               \n",
            "                                                                                                  \n",
            " conv4_block2_2_bn (BatchNo  (None, 2, 2, 256)            1024      ['conv4_block2_2_conv[0][0]'] \n",
            " rmalization)                                                                                     \n",
            "                                                                                                  \n",
            " conv4_block2_2_relu (Activ  (None, 2, 2, 256)            0         ['conv4_block2_2_bn[0][0]']   \n",
            " ation)                                                                                           \n",
            "                                                                                                  \n",
            " conv4_block2_3_conv (Conv2  (None, 2, 2, 1024)           263168    ['conv4_block2_2_relu[0][0]'] \n",
            " D)                                                                                               \n",
            "                                                                                                  \n",
            " conv4_block2_3_bn (BatchNo  (None, 2, 2, 1024)           4096      ['conv4_block2_3_conv[0][0]'] \n",
            " rmalization)                                                                                     \n",
            "                                                                                                  \n",
            " conv4_block2_add (Add)      (None, 2, 2, 1024)           0         ['conv4_block1_out[0][0]',    \n",
            "                                                                     'conv4_block2_3_bn[0][0]']   \n",
            "                                                                                                  \n",
            " conv4_block2_out (Activati  (None, 2, 2, 1024)           0         ['conv4_block2_add[0][0]']    \n",
            " on)                                                                                              \n",
            "                                                                                                  \n",
            " conv4_block3_1_conv (Conv2  (None, 2, 2, 256)            262400    ['conv4_block2_out[0][0]']    \n",
            " D)                                                                                               \n",
            "                                                                                                  \n",
            " conv4_block3_1_bn (BatchNo  (None, 2, 2, 256)            1024      ['conv4_block3_1_conv[0][0]'] \n",
            " rmalization)                                                                                     \n",
            "                                                                                                  \n",
            " conv4_block3_1_relu (Activ  (None, 2, 2, 256)            0         ['conv4_block3_1_bn[0][0]']   \n",
            " ation)                                                                                           \n",
            "                                                                                                  \n",
            " conv4_block3_2_conv (Conv2  (None, 2, 2, 256)            590080    ['conv4_block3_1_relu[0][0]'] \n",
            " D)                                                                                               \n",
            "                                                                                                  \n",
            " conv4_block3_2_bn (BatchNo  (None, 2, 2, 256)            1024      ['conv4_block3_2_conv[0][0]'] \n",
            " rmalization)                                                                                     \n",
            "                                                                                                  \n",
            " conv4_block3_2_relu (Activ  (None, 2, 2, 256)            0         ['conv4_block3_2_bn[0][0]']   \n",
            " ation)                                                                                           \n",
            "                                                                                                  \n",
            " conv4_block3_3_conv (Conv2  (None, 2, 2, 1024)           263168    ['conv4_block3_2_relu[0][0]'] \n",
            " D)                                                                                               \n",
            "                                                                                                  \n",
            " conv4_block3_3_bn (BatchNo  (None, 2, 2, 1024)           4096      ['conv4_block3_3_conv[0][0]'] \n",
            " rmalization)                                                                                     \n",
            "                                                                                                  \n",
            " conv4_block3_add (Add)      (None, 2, 2, 1024)           0         ['conv4_block2_out[0][0]',    \n",
            "                                                                     'conv4_block3_3_bn[0][0]']   \n",
            "                                                                                                  \n",
            " conv4_block3_out (Activati  (None, 2, 2, 1024)           0         ['conv4_block3_add[0][0]']    \n",
            " on)                                                                                              \n",
            "                                                                                                  \n",
            " conv4_block4_1_conv (Conv2  (None, 2, 2, 256)            262400    ['conv4_block3_out[0][0]']    \n",
            " D)                                                                                               \n",
            "                                                                                                  \n",
            " conv4_block4_1_bn (BatchNo  (None, 2, 2, 256)            1024      ['conv4_block4_1_conv[0][0]'] \n",
            " rmalization)                                                                                     \n",
            "                                                                                                  \n",
            " conv4_block4_1_relu (Activ  (None, 2, 2, 256)            0         ['conv4_block4_1_bn[0][0]']   \n",
            " ation)                                                                                           \n",
            "                                                                                                  \n",
            " conv4_block4_2_conv (Conv2  (None, 2, 2, 256)            590080    ['conv4_block4_1_relu[0][0]'] \n",
            " D)                                                                                               \n",
            "                                                                                                  \n",
            " conv4_block4_2_bn (BatchNo  (None, 2, 2, 256)            1024      ['conv4_block4_2_conv[0][0]'] \n",
            " rmalization)                                                                                     \n",
            "                                                                                                  \n",
            " conv4_block4_2_relu (Activ  (None, 2, 2, 256)            0         ['conv4_block4_2_bn[0][0]']   \n",
            " ation)                                                                                           \n",
            "                                                                                                  \n",
            " conv4_block4_3_conv (Conv2  (None, 2, 2, 1024)           263168    ['conv4_block4_2_relu[0][0]'] \n",
            " D)                                                                                               \n",
            "                                                                                                  \n",
            " conv4_block4_3_bn (BatchNo  (None, 2, 2, 1024)           4096      ['conv4_block4_3_conv[0][0]'] \n",
            " rmalization)                                                                                     \n",
            "                                                                                                  \n",
            " conv4_block4_add (Add)      (None, 2, 2, 1024)           0         ['conv4_block3_out[0][0]',    \n",
            "                                                                     'conv4_block4_3_bn[0][0]']   \n",
            "                                                                                                  \n",
            " conv4_block4_out (Activati  (None, 2, 2, 1024)           0         ['conv4_block4_add[0][0]']    \n",
            " on)                                                                                              \n",
            "                                                                                                  \n",
            " conv4_block5_1_conv (Conv2  (None, 2, 2, 256)            262400    ['conv4_block4_out[0][0]']    \n",
            " D)                                                                                               \n",
            "                                                                                                  \n",
            " conv4_block5_1_bn (BatchNo  (None, 2, 2, 256)            1024      ['conv4_block5_1_conv[0][0]'] \n",
            " rmalization)                                                                                     \n",
            "                                                                                                  \n",
            " conv4_block5_1_relu (Activ  (None, 2, 2, 256)            0         ['conv4_block5_1_bn[0][0]']   \n",
            " ation)                                                                                           \n",
            "                                                                                                  \n",
            " conv4_block5_2_conv (Conv2  (None, 2, 2, 256)            590080    ['conv4_block5_1_relu[0][0]'] \n",
            " D)                                                                                               \n",
            "                                                                                                  \n",
            " conv4_block5_2_bn (BatchNo  (None, 2, 2, 256)            1024      ['conv4_block5_2_conv[0][0]'] \n",
            " rmalization)                                                                                     \n",
            "                                                                                                  \n",
            " conv4_block5_2_relu (Activ  (None, 2, 2, 256)            0         ['conv4_block5_2_bn[0][0]']   \n",
            " ation)                                                                                           \n",
            "                                                                                                  \n",
            " conv4_block5_3_conv (Conv2  (None, 2, 2, 1024)           263168    ['conv4_block5_2_relu[0][0]'] \n",
            " D)                                                                                               \n",
            "                                                                                                  \n",
            " conv4_block5_3_bn (BatchNo  (None, 2, 2, 1024)           4096      ['conv4_block5_3_conv[0][0]'] \n",
            " rmalization)                                                                                     \n",
            "                                                                                                  \n",
            " conv4_block5_add (Add)      (None, 2, 2, 1024)           0         ['conv4_block4_out[0][0]',    \n",
            "                                                                     'conv4_block5_3_bn[0][0]']   \n",
            "                                                                                                  \n",
            " conv4_block5_out (Activati  (None, 2, 2, 1024)           0         ['conv4_block5_add[0][0]']    \n",
            " on)                                                                                              \n",
            "                                                                                                  \n",
            " conv4_block6_1_conv (Conv2  (None, 2, 2, 256)            262400    ['conv4_block5_out[0][0]']    \n",
            " D)                                                                                               \n",
            "                                                                                                  \n",
            " conv4_block6_1_bn (BatchNo  (None, 2, 2, 256)            1024      ['conv4_block6_1_conv[0][0]'] \n",
            " rmalization)                                                                                     \n",
            "                                                                                                  \n",
            " conv4_block6_1_relu (Activ  (None, 2, 2, 256)            0         ['conv4_block6_1_bn[0][0]']   \n",
            " ation)                                                                                           \n",
            "                                                                                                  \n",
            " conv4_block6_2_conv (Conv2  (None, 2, 2, 256)            590080    ['conv4_block6_1_relu[0][0]'] \n",
            " D)                                                                                               \n",
            "                                                                                                  \n",
            " conv4_block6_2_bn (BatchNo  (None, 2, 2, 256)            1024      ['conv4_block6_2_conv[0][0]'] \n",
            " rmalization)                                                                                     \n",
            "                                                                                                  \n",
            " conv4_block6_2_relu (Activ  (None, 2, 2, 256)            0         ['conv4_block6_2_bn[0][0]']   \n",
            " ation)                                                                                           \n",
            "                                                                                                  \n",
            " conv4_block6_3_conv (Conv2  (None, 2, 2, 1024)           263168    ['conv4_block6_2_relu[0][0]'] \n",
            " D)                                                                                               \n",
            "                                                                                                  \n",
            " conv4_block6_3_bn (BatchNo  (None, 2, 2, 1024)           4096      ['conv4_block6_3_conv[0][0]'] \n",
            " rmalization)                                                                                     \n",
            "                                                                                                  \n",
            " conv4_block6_add (Add)      (None, 2, 2, 1024)           0         ['conv4_block5_out[0][0]',    \n",
            "                                                                     'conv4_block6_3_bn[0][0]']   \n",
            "                                                                                                  \n",
            " conv4_block6_out (Activati  (None, 2, 2, 1024)           0         ['conv4_block6_add[0][0]']    \n",
            " on)                                                                                              \n",
            "                                                                                                  \n",
            " conv5_block1_1_conv (Conv2  (None, 1, 1, 512)            524800    ['conv4_block6_out[0][0]']    \n",
            " D)                                                                                               \n",
            "                                                                                                  \n",
            " conv5_block1_1_bn (BatchNo  (None, 1, 1, 512)            2048      ['conv5_block1_1_conv[0][0]'] \n",
            " rmalization)                                                                                     \n",
            "                                                                                                  \n",
            " conv5_block1_1_relu (Activ  (None, 1, 1, 512)            0         ['conv5_block1_1_bn[0][0]']   \n",
            " ation)                                                                                           \n",
            "                                                                                                  \n",
            " conv5_block1_2_conv (Conv2  (None, 1, 1, 512)            2359808   ['conv5_block1_1_relu[0][0]'] \n",
            " D)                                                                                               \n",
            "                                                                                                  \n",
            " conv5_block1_2_bn (BatchNo  (None, 1, 1, 512)            2048      ['conv5_block1_2_conv[0][0]'] \n",
            " rmalization)                                                                                     \n",
            "                                                                                                  \n",
            " conv5_block1_2_relu (Activ  (None, 1, 1, 512)            0         ['conv5_block1_2_bn[0][0]']   \n",
            " ation)                                                                                           \n",
            "                                                                                                  \n",
            " conv5_block1_0_conv (Conv2  (None, 1, 1, 2048)           2099200   ['conv4_block6_out[0][0]']    \n",
            " D)                                                                                               \n",
            "                                                                                                  \n",
            " conv5_block1_3_conv (Conv2  (None, 1, 1, 2048)           1050624   ['conv5_block1_2_relu[0][0]'] \n",
            " D)                                                                                               \n",
            "                                                                                                  \n",
            " conv5_block1_0_bn (BatchNo  (None, 1, 1, 2048)           8192      ['conv5_block1_0_conv[0][0]'] \n",
            " rmalization)                                                                                     \n",
            "                                                                                                  \n",
            " conv5_block1_3_bn (BatchNo  (None, 1, 1, 2048)           8192      ['conv5_block1_3_conv[0][0]'] \n",
            " rmalization)                                                                                     \n",
            "                                                                                                  \n",
            " conv5_block1_add (Add)      (None, 1, 1, 2048)           0         ['conv5_block1_0_bn[0][0]',   \n",
            "                                                                     'conv5_block1_3_bn[0][0]']   \n",
            "                                                                                                  \n",
            " conv5_block1_out (Activati  (None, 1, 1, 2048)           0         ['conv5_block1_add[0][0]']    \n",
            " on)                                                                                              \n",
            "                                                                                                  \n",
            " conv5_block2_1_conv (Conv2  (None, 1, 1, 512)            1049088   ['conv5_block1_out[0][0]']    \n",
            " D)                                                                                               \n",
            "                                                                                                  \n",
            " conv5_block2_1_bn (BatchNo  (None, 1, 1, 512)            2048      ['conv5_block2_1_conv[0][0]'] \n",
            " rmalization)                                                                                     \n",
            "                                                                                                  \n",
            " conv5_block2_1_relu (Activ  (None, 1, 1, 512)            0         ['conv5_block2_1_bn[0][0]']   \n",
            " ation)                                                                                           \n",
            "                                                                                                  \n",
            " conv5_block2_2_conv (Conv2  (None, 1, 1, 512)            2359808   ['conv5_block2_1_relu[0][0]'] \n",
            " D)                                                                                               \n",
            "                                                                                                  \n",
            " conv5_block2_2_bn (BatchNo  (None, 1, 1, 512)            2048      ['conv5_block2_2_conv[0][0]'] \n",
            " rmalization)                                                                                     \n",
            "                                                                                                  \n",
            " conv5_block2_2_relu (Activ  (None, 1, 1, 512)            0         ['conv5_block2_2_bn[0][0]']   \n",
            " ation)                                                                                           \n",
            "                                                                                                  \n",
            " conv5_block2_3_conv (Conv2  (None, 1, 1, 2048)           1050624   ['conv5_block2_2_relu[0][0]'] \n",
            " D)                                                                                               \n",
            "                                                                                                  \n",
            " conv5_block2_3_bn (BatchNo  (None, 1, 1, 2048)           8192      ['conv5_block2_3_conv[0][0]'] \n",
            " rmalization)                                                                                     \n",
            "                                                                                                  \n",
            " conv5_block2_add (Add)      (None, 1, 1, 2048)           0         ['conv5_block1_out[0][0]',    \n",
            "                                                                     'conv5_block2_3_bn[0][0]']   \n",
            "                                                                                                  \n",
            " conv5_block2_out (Activati  (None, 1, 1, 2048)           0         ['conv5_block2_add[0][0]']    \n",
            " on)                                                                                              \n",
            "                                                                                                  \n",
            " conv5_block3_1_conv (Conv2  (None, 1, 1, 512)            1049088   ['conv5_block2_out[0][0]']    \n",
            " D)                                                                                               \n",
            "                                                                                                  \n",
            " conv5_block3_1_bn (BatchNo  (None, 1, 1, 512)            2048      ['conv5_block3_1_conv[0][0]'] \n",
            " rmalization)                                                                                     \n",
            "                                                                                                  \n",
            " conv5_block3_1_relu (Activ  (None, 1, 1, 512)            0         ['conv5_block3_1_bn[0][0]']   \n",
            " ation)                                                                                           \n",
            "                                                                                                  \n",
            " conv5_block3_2_conv (Conv2  (None, 1, 1, 512)            2359808   ['conv5_block3_1_relu[0][0]'] \n",
            " D)                                                                                               \n",
            "                                                                                                  \n",
            " conv5_block3_2_bn (BatchNo  (None, 1, 1, 512)            2048      ['conv5_block3_2_conv[0][0]'] \n",
            " rmalization)                                                                                     \n",
            "                                                                                                  \n",
            " conv5_block3_2_relu (Activ  (None, 1, 1, 512)            0         ['conv5_block3_2_bn[0][0]']   \n",
            " ation)                                                                                           \n",
            "                                                                                                  \n",
            " conv5_block3_3_conv (Conv2  (None, 1, 1, 2048)           1050624   ['conv5_block3_2_relu[0][0]'] \n",
            " D)                                                                                               \n",
            "                                                                                                  \n",
            " conv5_block3_3_bn (BatchNo  (None, 1, 1, 2048)           8192      ['conv5_block3_3_conv[0][0]'] \n",
            " rmalization)                                                                                     \n",
            "                                                                                                  \n",
            " conv5_block3_add (Add)      (None, 1, 1, 2048)           0         ['conv5_block2_out[0][0]',    \n",
            "                                                                     'conv5_block3_3_bn[0][0]']   \n",
            "                                                                                                  \n",
            " conv5_block3_out (Activati  (None, 1, 1, 2048)           0         ['conv5_block3_add[0][0]']    \n",
            " on)                                                                                              \n",
            "                                                                                                  \n",
            "==================================================================================================\n",
            "Total params: 23587712 (89.98 MB)\n",
            "Trainable params: 23534592 (89.78 MB)\n",
            "Non-trainable params: 53120 (207.50 KB)\n",
            "__________________________________________________________________________________________________\n",
            "Model: \"sequential\"\n",
            "_________________________________________________________________\n",
            " Layer (type)                Output Shape              Param #   \n",
            "=================================================================\n",
            " resnet50 (Functional)       (None, 1, 1, 2048)        23587712  \n",
            "                                                                 \n",
            " global_average_pooling2d (  (None, 2048)              0         \n",
            " GlobalAveragePooling2D)                                         \n",
            "                                                                 \n",
            " dense (Dense)               (None, 10)                20490     \n",
            "                                                                 \n",
            "=================================================================\n",
            "Total params: 23608202 (90.06 MB)\n",
            "Trainable params: 20490 (80.04 KB)\n",
            "Non-trainable params: 23587712 (89.98 MB)\n",
            "_________________________________________________________________\n"
          ]
        }
      ],
      "source": [
        "# Carregamento do modelo pré-treinado SEM a última camada densa (include_top = False)\n",
        "model = tf.keras.applications.ResNet50(weights='imagenet', include_top=False, input_shape=(32,32,3))\n",
        "model.summary()\n",
        "\n",
        "# Congela camadas pré-treinadas\n",
        "for layer in model.layers:\n",
        "    layer.trainable = False\n",
        "\n",
        "# Insere novas camadas no fim da rede para classificação\n",
        "frozen_model = tf.keras.Sequential([\n",
        "  model,\n",
        "  tf.keras.layers.GlobalAveragePooling2D(),\n",
        "  tf.keras.layers.Dense(10, activation='softmax')\n",
        "])\n",
        "\n",
        "frozen_model.summary()"
      ]
    },
    {
      "cell_type": "markdown",
      "metadata": {
        "id": "UOuJoDeH2f0t"
      },
      "source": [
        "Vamos compilar e treinar o modelo"
      ]
    },
    {
      "cell_type": "code",
      "execution_count": 6,
      "metadata": {
        "colab": {
          "base_uri": "https://localhost:8080/"
        },
        "id": "jV0SwFN-2f0z",
        "outputId": "6891e8e3-1af3-4303-befc-9238b45e71a1"
      },
      "outputs": [
        {
          "output_type": "stream",
          "name": "stdout",
          "text": [
            "Epoch 1/25\n",
            "625/625 [==============================] - 54s 76ms/step - loss: 2.0381 - accuracy: 0.4836 - val_loss: 1.8066 - val_accuracy: 0.5169\n",
            "Epoch 2/25\n",
            "625/625 [==============================] - 40s 65ms/step - loss: 1.6605 - accuracy: 0.5378 - val_loss: 1.6604 - val_accuracy: 0.5381\n",
            "Epoch 3/25\n",
            "625/625 [==============================] - 43s 69ms/step - loss: 1.6291 - accuracy: 0.5418 - val_loss: 1.6029 - val_accuracy: 0.5469\n",
            "Epoch 4/25\n",
            "625/625 [==============================] - 40s 64ms/step - loss: 1.5644 - accuracy: 0.5549 - val_loss: 1.5264 - val_accuracy: 0.5423\n",
            "Epoch 5/25\n",
            "625/625 [==============================] - 38s 62ms/step - loss: 1.5359 - accuracy: 0.5582 - val_loss: 1.5586 - val_accuracy: 0.5483\n",
            "Epoch 6/25\n",
            "625/625 [==============================] - 38s 61ms/step - loss: 1.5382 - accuracy: 0.5580 - val_loss: 1.5386 - val_accuracy: 0.5632\n",
            "Epoch 7/25\n",
            "625/625 [==============================] - 38s 62ms/step - loss: 1.5406 - accuracy: 0.5598 - val_loss: 1.6236 - val_accuracy: 0.5456\n",
            "Epoch 8/25\n",
            "625/625 [==============================] - 40s 63ms/step - loss: 1.5376 - accuracy: 0.5581 - val_loss: 1.4867 - val_accuracy: 0.5678\n",
            "Epoch 9/25\n",
            "625/625 [==============================] - 39s 63ms/step - loss: 1.5030 - accuracy: 0.5640 - val_loss: 1.5966 - val_accuracy: 0.5421\n",
            "Epoch 10/25\n",
            "625/625 [==============================] - 38s 62ms/step - loss: 1.4910 - accuracy: 0.5659 - val_loss: 1.7395 - val_accuracy: 0.5203\n",
            "Epoch 11/25\n",
            "625/625 [==============================] - 41s 66ms/step - loss: 1.5084 - accuracy: 0.5614 - val_loss: 1.5331 - val_accuracy: 0.5483\n",
            "Epoch 12/25\n",
            "625/625 [==============================] - 39s 62ms/step - loss: 1.4788 - accuracy: 0.5647 - val_loss: 1.6233 - val_accuracy: 0.5398\n",
            "Epoch 13/25\n",
            "625/625 [==============================] - 38s 61ms/step - loss: 1.4990 - accuracy: 0.5652 - val_loss: 1.5774 - val_accuracy: 0.5487\n"
          ]
        },
        {
          "output_type": "execute_result",
          "data": {
            "text/plain": [
              "<keras.src.callbacks.History at 0x7e2f2c781e40>"
            ]
          },
          "metadata": {},
          "execution_count": 6
        }
      ],
      "source": [
        "# Instancia um otimizador SGD, compila e treina o modelo completo\n",
        "sgd = tf.keras.optimizers.SGD(learning_rate=0.001, momentum=0.9, weight_decay=0.001)\n",
        "\n",
        "# Batches de treino e validação\n",
        "train_batches = datagen_resnet.flow(X_train, Y_train, shuffle=True, batch_size=64)\n",
        "val_batches = datagen_resnet.flow(X_val, Y_val, shuffle=False, batch_size=64)\n",
        "\n",
        "# Early Stopping\n",
        "early = tf.keras.callbacks.EarlyStopping(monitor='val_loss', patience=5, restore_best_weights=True)\n",
        "\n",
        "frozen_model.compile(loss='categorical_crossentropy', optimizer=sgd, metrics=['accuracy'])\n",
        "\n",
        "frozen_model.fit(train_batches,\n",
        "                 epochs=25,\n",
        "                 callbacks=[early],\n",
        "                 validation_data=val_batches)"
      ]
    },
    {
      "cell_type": "code",
      "execution_count": 7,
      "metadata": {
        "colab": {
          "base_uri": "https://localhost:8080/"
        },
        "id": "wASinznb2f1A",
        "outputId": "74e162b3-01f3-4e35-84a7-8bbfb4740db3"
      },
      "outputs": [
        {
          "output_type": "stream",
          "name": "stdout",
          "text": [
            "157/157 [==============================] - 8s 51ms/step - loss: 1.4952 - accuracy: 0.5628\n",
            "Valid loss: 1.4952123165130615\n",
            "Valid acc: 0.5627999901771545\n"
          ]
        }
      ],
      "source": [
        "# Avalia o modelo na validação\n",
        "score = frozen_model.evaluate(val_batches,verbose=1)\n",
        "\n",
        "print('Valid loss:', score[0])\n",
        "print('Valid acc:', score[1])"
      ]
    },
    {
      "cell_type": "markdown",
      "metadata": {
        "id": "7OntN2FXWHkM"
      },
      "source": [
        "### Treinando um classificador a partir das features extraídas pela rede\n",
        "\n",
        "Uma alternativa ao exemplo anterior, ainda seguinda a ideia de usar a rede como extrator de características, seria treinar um SVM ou uma MLP a partir das features extraídas pelo modelo."
      ]
    },
    {
      "cell_type": "code",
      "execution_count": 8,
      "metadata": {
        "colab": {
          "base_uri": "https://localhost:8080/"
        },
        "id": "w8pUaDN9WY-Q",
        "outputId": "4fcf7804-1a6f-45f3-aaad-5271b06068b2"
      },
      "outputs": [
        {
          "output_type": "stream",
          "name": "stdout",
          "text": [
            "1250/1250 [==============================] - 11s 7ms/step\n",
            "313/313 [==============================] - 3s 7ms/step\n"
          ]
        }
      ],
      "source": [
        "# Carrega o modelo base novamente\n",
        "model = tf.keras.applications.ResNet50(weights='imagenet', include_top=False, input_shape=(32,32,3))\n",
        "\n",
        "# Congela todas as camadas colocando o parametro treinable como false\n",
        "for layer in model.layers:\n",
        "    layer.trainable = False\n",
        "\n",
        "frozen_model = tf.keras.Sequential([\n",
        "  model,\n",
        "  tf.keras.layers.GlobalAveragePooling2D()\n",
        "])\n",
        "\n",
        "feats_train = frozen_model.predict(X_train)\n",
        "feats_val = frozen_model.predict(X_val)"
      ]
    },
    {
      "cell_type": "code",
      "execution_count": 9,
      "metadata": {
        "colab": {
          "base_uri": "https://localhost:8080/"
        },
        "id": "Z1Ja1okRWZCh",
        "outputId": "d7d60b4a-6b87-44ff-e258-68aa39fb4b49"
      },
      "outputs": [
        {
          "output_type": "stream",
          "name": "stdout",
          "text": [
            "(40000, 2048)\n"
          ]
        }
      ],
      "source": [
        "print(feats_train.shape)\n",
        "\n",
        "from sklearn.multiclass import OneVsOneClassifier\n",
        "from sklearn.svm import SVC\n",
        "from sklearn.neural_network import MLPClassifier\n",
        "\n",
        "clf = MLPClassifier(random_state=1, max_iter=300).fit(feats_train, Y_train)"
      ]
    },
    {
      "cell_type": "code",
      "execution_count": 10,
      "metadata": {
        "colab": {
          "base_uri": "https://localhost:8080/"
        },
        "id": "ylxysHOn5ZK3",
        "outputId": "eaaf0996-c512-4274-ce46-66cf2051290a"
      },
      "outputs": [
        {
          "output_type": "stream",
          "name": "stdout",
          "text": [
            "ACC MLP: 0.4586\n"
          ]
        }
      ],
      "source": [
        "acc_mlp = clf.score(feats_val, Y_val)\n",
        "print(\"ACC MLP:\", acc_mlp)"
      ]
    },
    {
      "cell_type": "markdown",
      "metadata": {
        "id": "0zG1QXnS2f1K"
      },
      "source": [
        "## Fine-tuning\n",
        "\n",
        "Vamos agora descongelar o modelo inteiro e realizar o _fine-tuning_ da rede para o CIFAR-10."
      ]
    },
    {
      "cell_type": "code",
      "execution_count": 11,
      "metadata": {
        "id": "om2c3Fgq2f1N",
        "colab": {
          "base_uri": "https://localhost:8080/"
        },
        "outputId": "af5bd8c0-eb61-42b3-a897-fdd5b78e56de"
      },
      "outputs": [
        {
          "output_type": "stream",
          "name": "stdout",
          "text": [
            "Model: \"sequential_2\"\n",
            "_________________________________________________________________\n",
            " Layer (type)                Output Shape              Param #   \n",
            "=================================================================\n",
            " resnet50 (Functional)       (None, 1, 1, 2048)        23587712  \n",
            "                                                                 \n",
            " global_average_pooling2d_2  (None, 2048)              0         \n",
            "  (GlobalAveragePooling2D)                                       \n",
            "                                                                 \n",
            " dense_1 (Dense)             (None, 10)                20490     \n",
            "                                                                 \n",
            "=================================================================\n",
            "Total params: 23608202 (90.06 MB)\n",
            "Trainable params: 23555082 (89.86 MB)\n",
            "Non-trainable params: 53120 (207.50 KB)\n",
            "_________________________________________________________________\n"
          ]
        }
      ],
      "source": [
        "# Carrega o modelo base novamente\n",
        "model = tf.keras.applications.ResNet50(weights='imagenet', include_top=False, input_shape=(32,32,3))\n",
        "\n",
        "# descongelando os pesos da rede\n",
        "for layer in model.layers:\n",
        "    layer.trainable = True\n",
        "\n",
        "ft_model = tf.keras.Sequential([\n",
        "  model,\n",
        "  tf.keras.layers.GlobalAveragePooling2D(),\n",
        "  tf.keras.layers.Dense(10, activation='softmax')\n",
        "])\n",
        "\n",
        "ft_model.summary() #Note o núúmero de paramêtros treináveis"
      ]
    },
    {
      "cell_type": "code",
      "execution_count": 12,
      "metadata": {
        "colab": {
          "base_uri": "https://localhost:8080/"
        },
        "id": "o25W2Xde2f1Y",
        "outputId": "2128af8b-6a27-4bcc-ed82-938394bf2391"
      },
      "outputs": [
        {
          "output_type": "stream",
          "name": "stdout",
          "text": [
            "Epoch 1/25\n",
            "625/625 [==============================] - 76s 87ms/step - loss: 1.5786 - accuracy: 0.4908 - val_loss: 1.4334 - val_accuracy: 0.5535\n",
            "Epoch 2/25\n",
            "625/625 [==============================] - 56s 89ms/step - loss: 1.1104 - accuracy: 0.6241 - val_loss: 1.0713 - val_accuracy: 0.6496\n",
            "Epoch 3/25\n",
            "625/625 [==============================] - 54s 87ms/step - loss: 0.9863 - accuracy: 0.6697 - val_loss: 0.9422 - val_accuracy: 0.6773\n",
            "Epoch 4/25\n",
            "625/625 [==============================] - 55s 88ms/step - loss: 0.9146 - accuracy: 0.6927 - val_loss: 0.8842 - val_accuracy: 0.7047\n",
            "Epoch 5/25\n",
            "625/625 [==============================] - 53s 86ms/step - loss: 0.8416 - accuracy: 0.7117 - val_loss: 0.8283 - val_accuracy: 0.7157\n",
            "Epoch 6/25\n",
            "625/625 [==============================] - 53s 85ms/step - loss: 0.7797 - accuracy: 0.7317 - val_loss: 0.7874 - val_accuracy: 0.7274\n",
            "Epoch 7/25\n",
            "625/625 [==============================] - 56s 89ms/step - loss: 0.7424 - accuracy: 0.7434 - val_loss: 0.8234 - val_accuracy: 0.7240\n",
            "Epoch 8/25\n",
            "625/625 [==============================] - 53s 85ms/step - loss: 0.7102 - accuracy: 0.7523 - val_loss: 0.7531 - val_accuracy: 0.7327\n",
            "Epoch 9/25\n",
            "625/625 [==============================] - 55s 88ms/step - loss: 0.6942 - accuracy: 0.7617 - val_loss: 0.7037 - val_accuracy: 0.7560\n",
            "Epoch 10/25\n",
            "625/625 [==============================] - 54s 87ms/step - loss: 0.6653 - accuracy: 0.7675 - val_loss: 0.7243 - val_accuracy: 0.7564\n",
            "Epoch 11/25\n",
            "625/625 [==============================] - 55s 88ms/step - loss: 0.6629 - accuracy: 0.7718 - val_loss: 0.7001 - val_accuracy: 0.7581\n",
            "Epoch 12/25\n",
            "625/625 [==============================] - 58s 92ms/step - loss: 0.6339 - accuracy: 0.7782 - val_loss: 0.6755 - val_accuracy: 0.7673\n",
            "Epoch 13/25\n",
            "625/625 [==============================] - 61s 98ms/step - loss: 0.6124 - accuracy: 0.7877 - val_loss: 0.6625 - val_accuracy: 0.7726\n",
            "Epoch 14/25\n",
            "625/625 [==============================] - 60s 96ms/step - loss: 0.6413 - accuracy: 0.7812 - val_loss: 0.6704 - val_accuracy: 0.7661\n",
            "Epoch 15/25\n",
            "625/625 [==============================] - 63s 101ms/step - loss: 0.5970 - accuracy: 0.7929 - val_loss: 0.6579 - val_accuracy: 0.7750\n",
            "Epoch 16/25\n",
            "625/625 [==============================] - 64s 102ms/step - loss: 0.5721 - accuracy: 0.8010 - val_loss: 0.6630 - val_accuracy: 0.7750\n",
            "Epoch 17/25\n",
            "625/625 [==============================] - 65s 103ms/step - loss: 0.5665 - accuracy: 0.8032 - val_loss: 0.6777 - val_accuracy: 0.7691\n",
            "Epoch 18/25\n",
            "625/625 [==============================] - 62s 98ms/step - loss: 0.5530 - accuracy: 0.8080 - val_loss: 0.6414 - val_accuracy: 0.7820\n",
            "Epoch 19/25\n",
            "625/625 [==============================] - 60s 96ms/step - loss: 0.5496 - accuracy: 0.8116 - val_loss: 0.6332 - val_accuracy: 0.7786\n",
            "Epoch 20/25\n",
            "625/625 [==============================] - 59s 95ms/step - loss: 0.5279 - accuracy: 0.8164 - val_loss: 0.6119 - val_accuracy: 0.7899\n",
            "Epoch 21/25\n",
            "625/625 [==============================] - 60s 96ms/step - loss: 0.5272 - accuracy: 0.8177 - val_loss: 0.6424 - val_accuracy: 0.7826\n",
            "Epoch 22/25\n",
            "625/625 [==============================] - 62s 100ms/step - loss: 0.5158 - accuracy: 0.8203 - val_loss: 0.6235 - val_accuracy: 0.7893\n",
            "Epoch 23/25\n",
            "625/625 [==============================] - 58s 93ms/step - loss: 0.4951 - accuracy: 0.8285 - val_loss: 0.6639 - val_accuracy: 0.7776\n",
            "Epoch 24/25\n",
            "625/625 [==============================] - 59s 95ms/step - loss: 0.4877 - accuracy: 0.8309 - val_loss: 0.6264 - val_accuracy: 0.7858\n",
            "Epoch 25/25\n",
            "625/625 [==============================] - 57s 91ms/step - loss: 0.4820 - accuracy: 0.8318 - val_loss: 0.6019 - val_accuracy: 0.7956\n"
          ]
        },
        {
          "output_type": "execute_result",
          "data": {
            "text/plain": [
              "<keras.src.callbacks.History at 0x7e2f29070f70>"
            ]
          },
          "metadata": {},
          "execution_count": 12
        }
      ],
      "source": [
        "# Compila e treina o modelo\n",
        "sgd = tf.keras.optimizers.SGD(learning_rate=0.001, momentum=0.9, weight_decay=0.001)\n",
        "\n",
        "# Batches de treino e validação\n",
        "train_batches = datagen_resnet.flow(X_train, Y_train, shuffle=True, batch_size=64)\n",
        "val_batches = datagen_resnet.flow(X_val, Y_val, shuffle=False, batch_size=64)\n",
        "\n",
        "ft_model.compile(loss='categorical_crossentropy', optimizer=sgd, metrics=['accuracy'])\n",
        "ft_model.fit(train_batches, epochs=25, validation_data=val_batches)"
      ]
    },
    {
      "cell_type": "code",
      "execution_count": 13,
      "metadata": {
        "colab": {
          "base_uri": "https://localhost:8080/"
        },
        "id": "Oxet68nu2f1m",
        "outputId": "d637ea02-5bc2-4b2b-9f1d-b40fb7f1afed"
      },
      "outputs": [
        {
          "output_type": "stream",
          "name": "stdout",
          "text": [
            "157/157 [==============================] - 8s 51ms/step - loss: 0.6001 - accuracy: 0.7978\n",
            "Val loss: 0.6000809073448181\n",
            "Val acc: 0.7978000044822693\n"
          ]
        }
      ],
      "source": [
        "score = ft_model.evaluate(val_batches,verbose=1)\n",
        "print('Val loss:', score[0])\n",
        "print('Val acc:', score[1])"
      ]
    },
    {
      "cell_type": "markdown",
      "metadata": {
        "id": "SbUUeMt_nYUA"
      },
      "source": [
        "### Resultados em validação\n",
        "\n",
        "| Modelo | Acurácia (%) |\n",
        "|--------|--------------|\n",
        "| modelo  congelado + MLP | 45.68 |\n",
        "| modelo  congelado + FC  | 56.98 |\n",
        "| modelo  descongelado (finetuning)  | 78.93 |"
      ]
    },
    {
      "cell_type": "markdown",
      "metadata": {
        "id": "T5ZiY-Hx2f1j"
      },
      "source": [
        "### Avaliando o modelo no conjunto de teste\n",
        "\n",
        "Finalmente, após todos os nossos experimentos, avaliaremos o modelo final no conjunto de teste."
      ]
    },
    {
      "cell_type": "code",
      "execution_count": 14,
      "metadata": {
        "colab": {
          "base_uri": "https://localhost:8080/"
        },
        "id": "omgO0IuapTo6",
        "outputId": "26ffa2a4-54ae-41a3-81d0-976f2d20592d"
      },
      "outputs": [
        {
          "output_type": "stream",
          "name": "stdout",
          "text": [
            "157/157 [==============================] - 9s 59ms/step - loss: 0.5958 - accuracy: 0.7990\n",
            "Test loss: 0.5957561731338501\n",
            "Test acc: 0.7990000247955322\n"
          ]
        }
      ],
      "source": [
        "test_batches = datagen_resnet.flow(X_test, Y_test, shuffle=False, batch_size=64)\n",
        "\n",
        "score_test = ft_model.evaluate(test_batches,verbose=1)\n",
        "print('Test loss:', score_test[0])\n",
        "print('Test acc:', score_test[1])"
      ]
    }
  ],
  "metadata": {
    "accelerator": "GPU",
    "colab": {
      "provenance": []
    },
    "kernelspec": {
      "display_name": "Python 3 (ipykernel)",
      "language": "python",
      "name": "python3"
    },
    "language_info": {
      "codemirror_mode": {
        "name": "ipython",
        "version": 3
      },
      "file_extension": ".py",
      "mimetype": "text/x-python",
      "name": "python",
      "nbconvert_exporter": "python",
      "pygments_lexer": "ipython3",
      "version": "3.8.13"
    }
  },
  "nbformat": 4,
  "nbformat_minor": 0
}