{
 "cells": [
  {
   "cell_type": "code",
   "execution_count": 1,
   "metadata": {},
   "outputs": [],
   "source": [
    "import pandas as pd"
   ]
  },
  {
   "cell_type": "code",
   "execution_count": 5,
   "metadata": {},
   "outputs": [],
   "source": [
    "df = pd.read_csv(\"./Periodic-Table-of-Elements.csv\", encoding=\"latin\")"
   ]
  },
  {
   "cell_type": "code",
   "execution_count": 7,
   "metadata": {},
   "outputs": [
    {
     "data": {
      "text/html": [
       "<div>\n",
       "<style scoped>\n",
       "    .dataframe tbody tr th:only-of-type {\n",
       "        vertical-align: middle;\n",
       "    }\n",
       "\n",
       "    .dataframe tbody tr th {\n",
       "        vertical-align: top;\n",
       "    }\n",
       "\n",
       "    .dataframe thead th {\n",
       "        text-align: right;\n",
       "    }\n",
       "</style>\n",
       "<table border=\"1\" class=\"dataframe\">\n",
       "  <thead>\n",
       "    <tr style=\"text-align: right;\">\n",
       "      <th></th>\n",
       "      <th>Atomic Number</th>\n",
       "      <th>Element</th>\n",
       "      <th>Symbol</th>\n",
       "      <th>Atomic Weight</th>\n",
       "      <th>Period</th>\n",
       "      <th>Group</th>\n",
       "      <th>Phase</th>\n",
       "      <th>Most Stable Crystal</th>\n",
       "      <th>Type</th>\n",
       "      <th>Ionic Radius</th>\n",
       "      <th>Atomic Radius</th>\n",
       "      <th>Electronegativity</th>\n",
       "      <th>First Ionization Potential</th>\n",
       "      <th>Density</th>\n",
       "      <th>Melting Point (K)</th>\n",
       "      <th>Boiling Point (K)</th>\n",
       "      <th>Isotopes</th>\n",
       "      <th>Discoverer</th>\n",
       "      <th>Year of Discovery</th>\n",
       "      <th>Specific Heat Capacity</th>\n",
       "      <th>Electron Configuration</th>\n",
       "      <th>Display Row</th>\n",
       "      <th>Display Column</th>\n",
       "    </tr>\n",
       "  </thead>\n",
       "  <tbody>\n",
       "    <tr>\n",
       "      <th>0</th>\n",
       "      <td>1</td>\n",
       "      <td>Hydrogen</td>\n",
       "      <td>H</td>\n",
       "      <td>1.007940</td>\n",
       "      <td>1</td>\n",
       "      <td>1</td>\n",
       "      <td>gas</td>\n",
       "      <td>NaN</td>\n",
       "      <td>Nonmetal</td>\n",
       "      <td>0.012</td>\n",
       "      <td>0.79</td>\n",
       "      <td>2.20</td>\n",
       "      <td>13.5984</td>\n",
       "      <td>0.000090</td>\n",
       "      <td>14.175</td>\n",
       "      <td>20.28</td>\n",
       "      <td>3.0</td>\n",
       "      <td>Cavendish</td>\n",
       "      <td>1766.0</td>\n",
       "      <td>14.304</td>\n",
       "      <td>1s1</td>\n",
       "      <td>1</td>\n",
       "      <td>1</td>\n",
       "    </tr>\n",
       "    <tr>\n",
       "      <th>1</th>\n",
       "      <td>2</td>\n",
       "      <td>Helium</td>\n",
       "      <td>He</td>\n",
       "      <td>4.002602</td>\n",
       "      <td>1</td>\n",
       "      <td>18</td>\n",
       "      <td>gas</td>\n",
       "      <td>NaN</td>\n",
       "      <td>Noble Gas</td>\n",
       "      <td>NaN</td>\n",
       "      <td>0.49</td>\n",
       "      <td>NaN</td>\n",
       "      <td>24.5874</td>\n",
       "      <td>0.000179</td>\n",
       "      <td>NaN</td>\n",
       "      <td>4.22</td>\n",
       "      <td>5.0</td>\n",
       "      <td>Janssen</td>\n",
       "      <td>1868.0</td>\n",
       "      <td>5.193</td>\n",
       "      <td>1s2</td>\n",
       "      <td>1</td>\n",
       "      <td>18</td>\n",
       "    </tr>\n",
       "    <tr>\n",
       "      <th>2</th>\n",
       "      <td>3</td>\n",
       "      <td>Lithium</td>\n",
       "      <td>Li</td>\n",
       "      <td>6.941000</td>\n",
       "      <td>2</td>\n",
       "      <td>1</td>\n",
       "      <td>solid</td>\n",
       "      <td>bcc</td>\n",
       "      <td>Alkali Metal</td>\n",
       "      <td>0.760</td>\n",
       "      <td>2.10</td>\n",
       "      <td>0.98</td>\n",
       "      <td>5.3917</td>\n",
       "      <td>0.534000</td>\n",
       "      <td>453.850</td>\n",
       "      <td>1615.00</td>\n",
       "      <td>5.0</td>\n",
       "      <td>Arfvedson</td>\n",
       "      <td>1817.0</td>\n",
       "      <td>3.582</td>\n",
       "      <td>[He] 2s1</td>\n",
       "      <td>2</td>\n",
       "      <td>1</td>\n",
       "    </tr>\n",
       "    <tr>\n",
       "      <th>3</th>\n",
       "      <td>4</td>\n",
       "      <td>Beryllium</td>\n",
       "      <td>Be</td>\n",
       "      <td>9.012182</td>\n",
       "      <td>2</td>\n",
       "      <td>2</td>\n",
       "      <td>solid</td>\n",
       "      <td>hex</td>\n",
       "      <td>Alkaline Earth Metal</td>\n",
       "      <td>0.350</td>\n",
       "      <td>1.40</td>\n",
       "      <td>1.57</td>\n",
       "      <td>9.3227</td>\n",
       "      <td>1.850000</td>\n",
       "      <td>1560.150</td>\n",
       "      <td>2742.00</td>\n",
       "      <td>6.0</td>\n",
       "      <td>Vaulquelin</td>\n",
       "      <td>1798.0</td>\n",
       "      <td>1.825</td>\n",
       "      <td>[He] 2s2</td>\n",
       "      <td>2</td>\n",
       "      <td>2</td>\n",
       "    </tr>\n",
       "    <tr>\n",
       "      <th>4</th>\n",
       "      <td>5</td>\n",
       "      <td>Boron</td>\n",
       "      <td>B</td>\n",
       "      <td>10.811000</td>\n",
       "      <td>2</td>\n",
       "      <td>13</td>\n",
       "      <td>solid</td>\n",
       "      <td>rho</td>\n",
       "      <td>Metalloid</td>\n",
       "      <td>0.230</td>\n",
       "      <td>1.20</td>\n",
       "      <td>2.04</td>\n",
       "      <td>8.2980</td>\n",
       "      <td>2.340000</td>\n",
       "      <td>2573.150</td>\n",
       "      <td>4200.00</td>\n",
       "      <td>6.0</td>\n",
       "      <td>Gay-Lussac</td>\n",
       "      <td>1808.0</td>\n",
       "      <td>1.026</td>\n",
       "      <td>[He] 2s2 2p1</td>\n",
       "      <td>2</td>\n",
       "      <td>13</td>\n",
       "    </tr>\n",
       "  </tbody>\n",
       "</table>\n",
       "</div>"
      ],
      "text/plain": [
       "   Atomic Number    Element Symbol  Atomic Weight  Period  Group  Phase  \\\n",
       "0              1   Hydrogen      H       1.007940       1      1    gas   \n",
       "1              2     Helium     He       4.002602       1     18    gas   \n",
       "2              3    Lithium     Li       6.941000       2      1  solid   \n",
       "3              4  Beryllium     Be       9.012182       2      2  solid   \n",
       "4              5      Boron      B      10.811000       2     13  solid   \n",
       "\n",
       "  Most Stable Crystal                  Type  Ionic Radius  Atomic Radius  \\\n",
       "0                 NaN              Nonmetal         0.012           0.79   \n",
       "1                 NaN             Noble Gas           NaN           0.49   \n",
       "2                 bcc          Alkali Metal         0.760           2.10   \n",
       "3                 hex  Alkaline Earth Metal         0.350           1.40   \n",
       "4                 rho             Metalloid         0.230           1.20   \n",
       "\n",
       "   Electronegativity  First Ionization Potential   Density  Melting Point (K)  \\\n",
       "0               2.20                     13.5984  0.000090             14.175   \n",
       "1                NaN                     24.5874  0.000179                NaN   \n",
       "2               0.98                      5.3917  0.534000            453.850   \n",
       "3               1.57                      9.3227  1.850000           1560.150   \n",
       "4               2.04                      8.2980  2.340000           2573.150   \n",
       "\n",
       "   Boiling Point (K)  Isotopes  Discoverer  Year of Discovery  \\\n",
       "0              20.28       3.0   Cavendish             1766.0   \n",
       "1               4.22       5.0     Janssen             1868.0   \n",
       "2            1615.00       5.0   Arfvedson             1817.0   \n",
       "3            2742.00       6.0  Vaulquelin             1798.0   \n",
       "4            4200.00       6.0  Gay-Lussac             1808.0   \n",
       "\n",
       "   Specific Heat Capacity Electron Configuration  Display Row  Display Column  \n",
       "0                  14.304                    1s1            1               1  \n",
       "1                   5.193                    1s2            1              18  \n",
       "2                   3.582               [He] 2s1            2               1  \n",
       "3                   1.825               [He] 2s2            2               2  \n",
       "4                   1.026           [He] 2s2 2p1            2              13  "
      ]
     },
     "execution_count": 7,
     "metadata": {},
     "output_type": "execute_result"
    }
   ],
   "source": [
    "pd.options.display.max_columns = None\n",
    "df.head()"
   ]
  },
  {
   "cell_type": "code",
   "execution_count": 10,
   "metadata": {},
   "outputs": [],
   "source": [
    "df[['Atomic Weight',\n",
    "       'Phase', 'Most Stable Crystal', 'Type', 'Ionic Radius',\n",
    "       'Atomic Radius', 'Electronegativity', 'First Ionization Potential',\n",
    "       'Density', 'Melting Point (K)', 'Boiling Point (K)', 'Isotopes',\n",
    "       'Discoverer', 'Specific Heat Capacity',\n",
    "       'Electron Configuration']].to_csv(\"./num_periodic_table.csv\", index=False)"
   ]
  },
  {
   "cell_type": "code",
   "execution_count": null,
   "metadata": {},
   "outputs": [],
   "source": []
  },
  {
   "cell_type": "code",
   "execution_count": 15,
   "metadata": {},
   "outputs": [],
   "source": [
    "df = pd.read_csv(\"./Periodic-Table-of-Elements-adapted-v2.csv\", encoding=\"latin\")\n",
    "df[['Atomic Weight',\n",
    "       'Phase', 'Most Stable Crystal', 'Type', 'Ionic Radius',\n",
    "       'Atomic Radius', 'Electronegativity', 'First Ionization Potential',\n",
    "       'Density', 'Melting Point (K)', 'Boiling Point (K)', 'Isotopes',\n",
    "       'Discoverer', 'Specific Heat Capacity',\n",
    "       'Electron Configuration']].to_csv(\"./num_periodic_table_adapted.csv\", index=False)"
   ]
  },
  {
   "cell_type": "code",
   "execution_count": 13,
   "metadata": {},
   "outputs": [
    {
     "data": {
      "text/plain": [
       "Index(['Atomic Number', 'Element', 'Symbol', 'Atomic Weight', 'Period',\n",
       "       'Group', 'Phase', 'Most Stable Crystal', 'Type', 'Ionic Radius',\n",
       "       'Atomic Radius', 'Electronegativity', 'First Ionization Potential',\n",
       "       'Density', 'Melting Point (K)', 'Boiling Point (K)', 'Isotopes',\n",
       "       'Discoverer', 'Year of Discovery', 'Specific Heat Capacity',\n",
       "       'Electron Configuration', 'Display Row', 'Display Column'],\n",
       "      dtype='object')"
      ]
     },
     "execution_count": 13,
     "metadata": {},
     "output_type": "execute_result"
    }
   ],
   "source": [
    "df.columns"
   ]
  },
  {
   "cell_type": "code",
   "execution_count": 14,
   "metadata": {},
   "outputs": [
    {
     "data": {
      "text/plain": [
       "array([1766, 1868, 1817, 1798, 1808,   -1, 1772, 1774, 1886, 1898, 1807,\n",
       "       1755, 1827, 1824, 1669, 1894, 1878, 1791, 1801, 1797, 1735, 1751,\n",
       "       1875, 1250, 1826, 1861, 1794, 1789, 1778, 1937, 1844, 1803, 1863,\n",
       "       1782, 1811, 1860, 1839, 1885, 1945, 1879, 1901, 1880, 1843, 1907,\n",
       "       1923, 1783, 1925, 1804, 1753, 1940, 1900, 1939, 1899, 1828, 1917,\n",
       "       1841, 1944, 1949, 1950, 1952, 1953, 1955, 1958, 1961, 1969, 1970,\n",
       "       1974, 1981, 1983, 1982])"
      ]
     },
     "execution_count": 14,
     "metadata": {},
     "output_type": "execute_result"
    }
   ],
   "source": [
    "df[\"Year of Discovery\"].unique()"
   ]
  },
  {
   "cell_type": "code",
   "execution_count": 12,
   "metadata": {},
   "outputs": [
    {
     "data": {
      "text/html": [
       "<div>\n",
       "<style scoped>\n",
       "    .dataframe tbody tr th:only-of-type {\n",
       "        vertical-align: middle;\n",
       "    }\n",
       "\n",
       "    .dataframe tbody tr th {\n",
       "        vertical-align: top;\n",
       "    }\n",
       "\n",
       "    .dataframe thead th {\n",
       "        text-align: right;\n",
       "    }\n",
       "</style>\n",
       "<table border=\"1\" class=\"dataframe\">\n",
       "  <thead>\n",
       "    <tr style=\"text-align: right;\">\n",
       "      <th></th>\n",
       "      <th>Atomic Number</th>\n",
       "      <th>Element</th>\n",
       "      <th>Symbol</th>\n",
       "      <th>Atomic Weight</th>\n",
       "      <th>Period</th>\n",
       "      <th>Group</th>\n",
       "      <th>Phase</th>\n",
       "      <th>Most Stable Crystal</th>\n",
       "      <th>Type</th>\n",
       "      <th>Ionic Radius</th>\n",
       "      <th>Atomic Radius</th>\n",
       "      <th>Electronegativity</th>\n",
       "      <th>First Ionization Potential</th>\n",
       "      <th>Density</th>\n",
       "      <th>Melting Point (K)</th>\n",
       "      <th>Boiling Point (K)</th>\n",
       "      <th>Isotopes</th>\n",
       "      <th>Discoverer</th>\n",
       "      <th>Year of Discovery</th>\n",
       "      <th>Specific Heat Capacity</th>\n",
       "      <th>Electron Configuration</th>\n",
       "      <th>Display Row</th>\n",
       "      <th>Display Column</th>\n",
       "    </tr>\n",
       "  </thead>\n",
       "  <tbody>\n",
       "    <tr>\n",
       "      <th>0</th>\n",
       "      <td>1</td>\n",
       "      <td>Hydrogen</td>\n",
       "      <td>H</td>\n",
       "      <td>1.007940</td>\n",
       "      <td>1</td>\n",
       "      <td>1</td>\n",
       "      <td>gas</td>\n",
       "      <td>(undefined)</td>\n",
       "      <td>Nonmetal</td>\n",
       "      <td>0.012</td>\n",
       "      <td>0.79</td>\n",
       "      <td>2.20</td>\n",
       "      <td>13.5984</td>\n",
       "      <td>0.000090</td>\n",
       "      <td>14.175</td>\n",
       "      <td>20.28</td>\n",
       "      <td>3</td>\n",
       "      <td>Cavendish</td>\n",
       "      <td>1766</td>\n",
       "      <td>14.304</td>\n",
       "      <td>1s1</td>\n",
       "      <td>1</td>\n",
       "      <td>1</td>\n",
       "    </tr>\n",
       "    <tr>\n",
       "      <th>1</th>\n",
       "      <td>2</td>\n",
       "      <td>Helium</td>\n",
       "      <td>He</td>\n",
       "      <td>4.002602</td>\n",
       "      <td>1</td>\n",
       "      <td>18</td>\n",
       "      <td>gas</td>\n",
       "      <td>(undefined)</td>\n",
       "      <td>Noble Gas</td>\n",
       "      <td>-1.000</td>\n",
       "      <td>0.49</td>\n",
       "      <td>-1.00</td>\n",
       "      <td>24.5874</td>\n",
       "      <td>0.000179</td>\n",
       "      <td>-1.000</td>\n",
       "      <td>4.22</td>\n",
       "      <td>5</td>\n",
       "      <td>Janssen</td>\n",
       "      <td>1868</td>\n",
       "      <td>5.193</td>\n",
       "      <td>1s2</td>\n",
       "      <td>1</td>\n",
       "      <td>18</td>\n",
       "    </tr>\n",
       "    <tr>\n",
       "      <th>2</th>\n",
       "      <td>3</td>\n",
       "      <td>Lithium</td>\n",
       "      <td>Li</td>\n",
       "      <td>6.941000</td>\n",
       "      <td>2</td>\n",
       "      <td>1</td>\n",
       "      <td>solid</td>\n",
       "      <td>bcc</td>\n",
       "      <td>Alkali Metal</td>\n",
       "      <td>0.760</td>\n",
       "      <td>2.10</td>\n",
       "      <td>0.98</td>\n",
       "      <td>5.3917</td>\n",
       "      <td>0.534000</td>\n",
       "      <td>453.850</td>\n",
       "      <td>1615.00</td>\n",
       "      <td>5</td>\n",
       "      <td>Arfvedson</td>\n",
       "      <td>1817</td>\n",
       "      <td>3.582</td>\n",
       "      <td>[He] 2s1</td>\n",
       "      <td>2</td>\n",
       "      <td>1</td>\n",
       "    </tr>\n",
       "    <tr>\n",
       "      <th>3</th>\n",
       "      <td>4</td>\n",
       "      <td>Beryllium</td>\n",
       "      <td>Be</td>\n",
       "      <td>9.012182</td>\n",
       "      <td>2</td>\n",
       "      <td>2</td>\n",
       "      <td>solid</td>\n",
       "      <td>hex</td>\n",
       "      <td>Alkaline Earth Metal</td>\n",
       "      <td>0.350</td>\n",
       "      <td>1.40</td>\n",
       "      <td>1.57</td>\n",
       "      <td>9.3227</td>\n",
       "      <td>1.850000</td>\n",
       "      <td>1560.150</td>\n",
       "      <td>2742.00</td>\n",
       "      <td>6</td>\n",
       "      <td>Vaulquelin</td>\n",
       "      <td>1798</td>\n",
       "      <td>1.825</td>\n",
       "      <td>[He] 2s2</td>\n",
       "      <td>2</td>\n",
       "      <td>2</td>\n",
       "    </tr>\n",
       "    <tr>\n",
       "      <th>4</th>\n",
       "      <td>5</td>\n",
       "      <td>Boron</td>\n",
       "      <td>B</td>\n",
       "      <td>10.811000</td>\n",
       "      <td>2</td>\n",
       "      <td>13</td>\n",
       "      <td>solid</td>\n",
       "      <td>rho</td>\n",
       "      <td>Metalloid</td>\n",
       "      <td>0.230</td>\n",
       "      <td>1.20</td>\n",
       "      <td>2.04</td>\n",
       "      <td>8.2980</td>\n",
       "      <td>2.340000</td>\n",
       "      <td>2573.150</td>\n",
       "      <td>4200.00</td>\n",
       "      <td>6</td>\n",
       "      <td>Gay-Lussac</td>\n",
       "      <td>1808</td>\n",
       "      <td>1.026</td>\n",
       "      <td>[He] 2s2 2p1</td>\n",
       "      <td>2</td>\n",
       "      <td>13</td>\n",
       "    </tr>\n",
       "  </tbody>\n",
       "</table>\n",
       "</div>"
      ],
      "text/plain": [
       "   Atomic Number    Element Symbol  Atomic Weight  Period  Group  Phase  \\\n",
       "0              1   Hydrogen      H       1.007940       1      1    gas   \n",
       "1              2     Helium     He       4.002602       1     18    gas   \n",
       "2              3    Lithium     Li       6.941000       2      1  solid   \n",
       "3              4  Beryllium     Be       9.012182       2      2  solid   \n",
       "4              5      Boron      B      10.811000       2     13  solid   \n",
       "\n",
       "  Most Stable Crystal                  Type  Ionic Radius  Atomic Radius  \\\n",
       "0         (undefined)              Nonmetal         0.012           0.79   \n",
       "1         (undefined)             Noble Gas        -1.000           0.49   \n",
       "2                 bcc          Alkali Metal         0.760           2.10   \n",
       "3                 hex  Alkaline Earth Metal         0.350           1.40   \n",
       "4                 rho             Metalloid         0.230           1.20   \n",
       "\n",
       "   Electronegativity  First Ionization Potential   Density  Melting Point (K)  \\\n",
       "0               2.20                     13.5984  0.000090             14.175   \n",
       "1              -1.00                     24.5874  0.000179             -1.000   \n",
       "2               0.98                      5.3917  0.534000            453.850   \n",
       "3               1.57                      9.3227  1.850000           1560.150   \n",
       "4               2.04                      8.2980  2.340000           2573.150   \n",
       "\n",
       "   Boiling Point (K)  Isotopes  Discoverer  Year of Discovery  \\\n",
       "0              20.28         3   Cavendish               1766   \n",
       "1               4.22         5     Janssen               1868   \n",
       "2            1615.00         5   Arfvedson               1817   \n",
       "3            2742.00         6  Vaulquelin               1798   \n",
       "4            4200.00         6  Gay-Lussac               1808   \n",
       "\n",
       "   Specific Heat Capacity Electron Configuration  Display Row  Display Column  \n",
       "0                  14.304                    1s1            1               1  \n",
       "1                   5.193                    1s2            1              18  \n",
       "2                   3.582               [He] 2s1            2               1  \n",
       "3                   1.825               [He] 2s2            2               2  \n",
       "4                   1.026           [He] 2s2 2p1            2              13  "
      ]
     },
     "execution_count": 12,
     "metadata": {},
     "output_type": "execute_result"
    }
   ],
   "source": [
    "df.head()"
   ]
  },
  {
   "cell_type": "code",
   "execution_count": 33,
   "metadata": {},
   "outputs": [
    {
     "ename": "KeyError",
     "evalue": "'Atomic Weight'",
     "output_type": "error",
     "traceback": [
      "\u001b[0;31m---------------------------------------------------------------------------\u001b[0m",
      "\u001b[0;31mKeyError\u001b[0m                                  Traceback (most recent call last)",
      "File \u001b[0;32m~/.local/lib/python3.8/site-packages/pandas/core/indexes/base.py:3653\u001b[0m, in \u001b[0;36mIndex.get_loc\u001b[0;34m(self, key)\u001b[0m\n\u001b[1;32m   3652\u001b[0m \u001b[38;5;28;01mtry\u001b[39;00m:\n\u001b[0;32m-> 3653\u001b[0m     \u001b[38;5;28;01mreturn\u001b[39;00m \u001b[38;5;28;43mself\u001b[39;49m\u001b[38;5;241;43m.\u001b[39;49m\u001b[43m_engine\u001b[49m\u001b[38;5;241;43m.\u001b[39;49m\u001b[43mget_loc\u001b[49m\u001b[43m(\u001b[49m\u001b[43mcasted_key\u001b[49m\u001b[43m)\u001b[49m\n\u001b[1;32m   3654\u001b[0m \u001b[38;5;28;01mexcept\u001b[39;00m \u001b[38;5;167;01mKeyError\u001b[39;00m \u001b[38;5;28;01mas\u001b[39;00m err:\n",
      "File \u001b[0;32m~/.local/lib/python3.8/site-packages/pandas/_libs/index.pyx:147\u001b[0m, in \u001b[0;36mpandas._libs.index.IndexEngine.get_loc\u001b[0;34m()\u001b[0m\n",
      "File \u001b[0;32m~/.local/lib/python3.8/site-packages/pandas/_libs/index.pyx:176\u001b[0m, in \u001b[0;36mpandas._libs.index.IndexEngine.get_loc\u001b[0;34m()\u001b[0m\n",
      "File \u001b[0;32mpandas/_libs/hashtable_class_helper.pxi:7080\u001b[0m, in \u001b[0;36mpandas._libs.hashtable.PyObjectHashTable.get_item\u001b[0;34m()\u001b[0m\n",
      "File \u001b[0;32mpandas/_libs/hashtable_class_helper.pxi:7088\u001b[0m, in \u001b[0;36mpandas._libs.hashtable.PyObjectHashTable.get_item\u001b[0;34m()\u001b[0m\n",
      "\u001b[0;31mKeyError\u001b[0m: 'Atomic Weight'",
      "\nThe above exception was the direct cause of the following exception:\n",
      "\u001b[0;31mKeyError\u001b[0m                                  Traceback (most recent call last)",
      "Cell \u001b[0;32mIn[33], line 1\u001b[0m\n\u001b[0;32m----> 1\u001b[0m \u001b[43mdf\u001b[49m\u001b[43m[\u001b[49m\u001b[38;5;124;43m\"\u001b[39;49m\u001b[38;5;124;43mAtomic Weight\u001b[39;49m\u001b[38;5;124;43m\"\u001b[39;49m\u001b[43m]\u001b[49m\u001b[38;5;241m.\u001b[39munique()\n",
      "File \u001b[0;32m~/.local/lib/python3.8/site-packages/pandas/core/frame.py:3761\u001b[0m, in \u001b[0;36mDataFrame.__getitem__\u001b[0;34m(self, key)\u001b[0m\n\u001b[1;32m   3759\u001b[0m \u001b[38;5;28;01mif\u001b[39;00m \u001b[38;5;28mself\u001b[39m\u001b[38;5;241m.\u001b[39mcolumns\u001b[38;5;241m.\u001b[39mnlevels \u001b[38;5;241m>\u001b[39m \u001b[38;5;241m1\u001b[39m:\n\u001b[1;32m   3760\u001b[0m     \u001b[38;5;28;01mreturn\u001b[39;00m \u001b[38;5;28mself\u001b[39m\u001b[38;5;241m.\u001b[39m_getitem_multilevel(key)\n\u001b[0;32m-> 3761\u001b[0m indexer \u001b[38;5;241m=\u001b[39m \u001b[38;5;28;43mself\u001b[39;49m\u001b[38;5;241;43m.\u001b[39;49m\u001b[43mcolumns\u001b[49m\u001b[38;5;241;43m.\u001b[39;49m\u001b[43mget_loc\u001b[49m\u001b[43m(\u001b[49m\u001b[43mkey\u001b[49m\u001b[43m)\u001b[49m\n\u001b[1;32m   3762\u001b[0m \u001b[38;5;28;01mif\u001b[39;00m is_integer(indexer):\n\u001b[1;32m   3763\u001b[0m     indexer \u001b[38;5;241m=\u001b[39m [indexer]\n",
      "File \u001b[0;32m~/.local/lib/python3.8/site-packages/pandas/core/indexes/base.py:3655\u001b[0m, in \u001b[0;36mIndex.get_loc\u001b[0;34m(self, key)\u001b[0m\n\u001b[1;32m   3653\u001b[0m     \u001b[38;5;28;01mreturn\u001b[39;00m \u001b[38;5;28mself\u001b[39m\u001b[38;5;241m.\u001b[39m_engine\u001b[38;5;241m.\u001b[39mget_loc(casted_key)\n\u001b[1;32m   3654\u001b[0m \u001b[38;5;28;01mexcept\u001b[39;00m \u001b[38;5;167;01mKeyError\u001b[39;00m \u001b[38;5;28;01mas\u001b[39;00m err:\n\u001b[0;32m-> 3655\u001b[0m     \u001b[38;5;28;01mraise\u001b[39;00m \u001b[38;5;167;01mKeyError\u001b[39;00m(key) \u001b[38;5;28;01mfrom\u001b[39;00m \u001b[38;5;21;01merr\u001b[39;00m\n\u001b[1;32m   3656\u001b[0m \u001b[38;5;28;01mexcept\u001b[39;00m \u001b[38;5;167;01mTypeError\u001b[39;00m:\n\u001b[1;32m   3657\u001b[0m     \u001b[38;5;66;03m# If we have a listlike key, _check_indexing_error will raise\u001b[39;00m\n\u001b[1;32m   3658\u001b[0m     \u001b[38;5;66;03m#  InvalidIndexError. Otherwise we fall through and re-raise\u001b[39;00m\n\u001b[1;32m   3659\u001b[0m     \u001b[38;5;66;03m#  the TypeError.\u001b[39;00m\n\u001b[1;32m   3660\u001b[0m     \u001b[38;5;28mself\u001b[39m\u001b[38;5;241m.\u001b[39m_check_indexing_error(key)\n",
      "\u001b[0;31mKeyError\u001b[0m: 'Atomic Weight'"
     ]
    }
   ],
   "source": [
    "df[\"Atomic Weight\"].unique()"
   ]
  },
  {
   "cell_type": "code",
   "execution_count": 16,
   "metadata": {},
   "outputs": [
    {
     "data": {
      "text/plain": [
       "Index(['Atomic Number', 'Element', 'Symbol', 'Atomic Weight', 'Period',\n",
       "       'Group', 'Phase', 'Most Stable Crystal', 'Type', 'Ionic Radius',\n",
       "       'Atomic Radius', 'Electronegativity', 'First Ionization Potential',\n",
       "       'Density', 'Melting Point (K)', 'Boiling Point (K)', 'Isotopes',\n",
       "       'Discoverer', 'Year of Discovery', 'Specific Heat Capacity',\n",
       "       'Electron Configuration', 'Display Row', 'Display Column'],\n",
       "      dtype='object')"
      ]
     },
     "execution_count": 16,
     "metadata": {},
     "output_type": "execute_result"
    }
   ],
   "source": [
    "df.columns"
   ]
  },
  {
   "cell_type": "code",
   "execution_count": 17,
   "metadata": {},
   "outputs": [],
   "source": [
    "import plotly.express as px"
   ]
  },
  {
   "cell_type": "code",
   "execution_count": null,
   "metadata": {},
   "outputs": [],
   "source": []
  },
  {
   "cell_type": "code",
   "execution_count": 31,
   "metadata": {},
   "outputs": [
    {
     "data": {
      "application/vnd.plotly.v1+json": {
       "config": {
        "plotlyServerURL": "https://plot.ly"
       },
       "data": [
        {
         "dimensions": [
          {
           "axis": {
            "matches": true
           },
           "label": "AWeight",
           "values": [
            1.00794,
            4.002602,
            14.0067,
            15.9994,
            18.9984032,
            20.1797,
            35.453,
            39.948,
            83.798,
            131.293,
            222
           ]
          },
          {
           "axis": {
            "matches": true
           },
           "label": "IRadius",
           "values": [
            0.012,
            -1,
            0.13,
            1.4,
            1.3,
            -1,
            1.8,
            -1,
            -1,
            -1,
            -1
           ]
          },
          {
           "axis": {
            "matches": true
           },
           "label": "ARadius",
           "values": [
            0.79,
            0.49,
            0.75,
            0.65,
            0.57,
            0.51,
            0.97,
            0.88,
            1,
            1.2,
            1.3
           ]
          },
          {
           "axis": {
            "matches": true
           },
           "label": "ENeg",
           "values": [
            2.2,
            -1,
            3.04,
            3.44,
            3.98,
            -1,
            3.16,
            -1,
            -1,
            -1,
            -1
           ]
          },
          {
           "axis": {
            "matches": true
           },
           "label": "FIP",
           "values": [
            13.5984,
            24.5874,
            14.5341,
            13.6181,
            17.4228,
            21.5645,
            12.9676,
            15.7596,
            13.9996,
            12.1298,
            10.7485
           ]
          },
          {
           "axis": {
            "matches": true
           },
           "label": "Dens",
           "values": [
            0.00008988,
            0.0001785,
            0.0012506,
            0.001429,
            0.001696,
            0.0008999,
            0.003214,
            0.0017837,
            0.003733,
            0.005887,
            0.00973
           ]
          },
          {
           "axis": {
            "matches": true
           },
           "label": "MP(K)",
           "values": [
            14.175,
            -1,
            63.29,
            50.5,
            53.63,
            24.703,
            172.31,
            83.96,
            115.93,
            161.45,
            202.15
           ]
          },
          {
           "axis": {
            "matches": true
           },
           "label": "BP(K)",
           "values": [
            20.28,
            4.22,
            77.36,
            90.2,
            85.03,
            27.07,
            239.11,
            87.3,
            119.93,
            165.03,
            211.3
           ]
          },
          {
           "axis": {
            "matches": true
           },
           "label": "SHC",
           "values": [
            14.304,
            5.193,
            1.04,
            0.918,
            0.824,
            1.03,
            0.479,
            0.52,
            0.248,
            0.158,
            0.094
           ]
          }
         ],
         "hovertemplate": "Phase=gas<br>%{xaxis.title.text}=%{x}<br>%{yaxis.title.text}=%{y}<extra></extra>",
         "legendgroup": "gas",
         "marker": {
          "color": "#636efa",
          "symbol": "circle"
         },
         "name": "gas",
         "showlegend": true,
         "type": "splom"
        },
        {
         "dimensions": [
          {
           "axis": {
            "matches": true
           },
           "label": "AWeight",
           "values": [
            6.941,
            9.012182,
            10.811,
            12.0107,
            22.98976928,
            24.305,
            26.9815386,
            28.0855,
            30.973762,
            32.065,
            39.0983,
            40.078,
            44.955912,
            47.867,
            50.9415,
            51.9961,
            54.938045,
            55.845,
            58.933195,
            58.6934,
            63.546,
            65.38,
            69.723,
            72.64,
            74.9216,
            78.96,
            85.4678,
            87.62,
            88.90585,
            91.224,
            92.90638,
            95.96,
            101.07,
            102.9055,
            106.42,
            107.8682,
            112.411,
            114.818,
            118.71,
            121.76,
            127.6,
            126.90447,
            132.9054519,
            137.327,
            138.90547,
            140.116,
            140.90765,
            144.242,
            150.36,
            151.964,
            157.25,
            158.92535,
            162.5,
            164.93032,
            167.259,
            168.93421,
            173.054,
            174.9668,
            178.49,
            180.94788,
            183.84,
            186.207,
            190.23,
            192.217,
            195.084,
            196.966569,
            204.3833,
            207.2,
            208.9804,
            210,
            210,
            223,
            226,
            227,
            232.03806,
            231.03588,
            238.02891
           ]
          },
          {
           "axis": {
            "matches": true
           },
           "label": "IRadius",
           "values": [
            0.76,
            0.35,
            0.23,
            -1,
            1,
            0.72,
            0.54,
            0.4,
            0.38,
            0.37,
            1.4,
            0.99,
            0.75,
            0.61,
            0.59,
            0.52,
            0.46,
            0.65,
            0.75,
            0.69,
            0.73,
            0.74,
            0.62,
            0.53,
            0.58,
            0.5,
            1.5,
            1.1,
            0.9,
            0.72,
            0.69,
            0.65,
            0.68,
            0.68,
            0.86,
            1.3,
            0.97,
            0.8,
            0.69,
            0.76,
            0.97,
            2.2,
            1.7,
            1.4,
            1.1,
            1,
            1,
            1,
            0.96,
            0.95,
            0.94,
            0.92,
            0.91,
            0.9,
            0.88,
            0.87,
            0.86,
            0.85,
            0.71,
            0.64,
            0.62,
            0.56,
            0.63,
            0.63,
            0.63,
            0.85,
            1.5,
            1.2,
            1,
            2.3,
            -1,
            1.8,
            1.4,
            1.1,
            0.97,
            0.78,
            0.52
           ]
          },
          {
           "axis": {
            "matches": true
           },
           "label": "ARadius",
           "values": [
            2.1,
            1.4,
            1.2,
            0.91,
            2.2,
            1.7,
            1.8,
            1.5,
            1.2,
            1.1,
            2.8,
            2.2,
            2.1,
            2,
            1.9,
            1.9,
            1.8,
            1.7,
            1.7,
            1.6,
            1.6,
            1.5,
            1.8,
            1.5,
            1.3,
            1.2,
            3,
            2.5,
            2.3,
            2.2,
            2.1,
            2,
            1.9,
            1.8,
            1.8,
            1.8,
            1.7,
            2,
            1.7,
            1.5,
            1.4,
            1.3,
            3.3,
            2.8,
            2.7,
            2.7,
            2.7,
            2.6,
            2.6,
            2.6,
            2.5,
            2.5,
            2.5,
            2.5,
            2.5,
            2.4,
            2.4,
            2.3,
            2.2,
            2.1,
            2,
            2,
            1.9,
            1.9,
            1.8,
            1.8,
            2.1,
            1.8,
            1.6,
            1.5,
            1.4,
            -1,
            -1,
            -1,
            -1,
            -1,
            -1
           ]
          },
          {
           "axis": {
            "matches": true
           },
           "label": "ENeg",
           "values": [
            0.98,
            1.57,
            2.04,
            2.55,
            0.93,
            1.31,
            1.61,
            1.9,
            2.19,
            2.58,
            0.82,
            1,
            1.36,
            1.54,
            1.63,
            1.66,
            1.55,
            1.83,
            1.88,
            1.91,
            1.9,
            1.65,
            1.81,
            2.01,
            2.18,
            2.55,
            0.82,
            0.95,
            1.22,
            1.33,
            1.6,
            2.16,
            2.2,
            2.28,
            2.2,
            1.93,
            1.69,
            1.78,
            1.96,
            2.05,
            2.1,
            2.66,
            0.79,
            0.89,
            1.1,
            1.12,
            1.13,
            1.14,
            1.17,
            1.2,
            1.2,
            1.2,
            1.22,
            1.23,
            1.24,
            1.25,
            1.1,
            1.27,
            1.3,
            1.5,
            2.36,
            1.9,
            2.2,
            2.2,
            2.28,
            2.54,
            2.04,
            2.33,
            2.02,
            2,
            2.2,
            0.7,
            0.9,
            1.1,
            1.3,
            1.5,
            1.38
           ]
          },
          {
           "axis": {
            "matches": true
           },
           "label": "FIP",
           "values": [
            5.3917,
            9.3227,
            8.298,
            11.2603,
            5.1391,
            7.6462,
            5.9858,
            8.1517,
            10.4867,
            10.36,
            4.3407,
            6.1132,
            6.5615,
            6.8281,
            6.7462,
            6.7665,
            7.434,
            7.9024,
            7.881,
            7.6398,
            7.7264,
            9.3942,
            5.9993,
            7.8994,
            9.7886,
            9.7524,
            4.1771,
            5.6949,
            6.2173,
            6.6339,
            6.7589,
            7.0924,
            7.3605,
            7.4589,
            8.3369,
            7.5762,
            8.9938,
            5.7864,
            7.3439,
            8.6084,
            9.0096,
            10.4513,
            3.8939,
            5.2117,
            5.5769,
            5.5387,
            5.473,
            5.525,
            5.6437,
            5.6704,
            6.1501,
            5.8638,
            5.9389,
            6.0215,
            6.1077,
            6.1843,
            6.2542,
            5.4259,
            6.8251,
            7.5496,
            7.864,
            7.8335,
            8.4382,
            8.967,
            8.9587,
            9.2255,
            6.1082,
            7.4167,
            7.2856,
            8.417,
            9.3,
            4.0727,
            5.2784,
            5.17,
            6.3067,
            5.89,
            6.1941
           ]
          },
          {
           "axis": {
            "matches": true
           },
           "label": "Dens",
           "values": [
            0.534,
            1.85,
            2.34,
            2.267,
            0.971,
            1.738,
            2.698,
            2.3296,
            1.82,
            2.067,
            0.862,
            1.54,
            2.989,
            4.54,
            6.11,
            7.15,
            7.44,
            7.874,
            8.86,
            8.912,
            8.96,
            7.134,
            5.907,
            5.323,
            5.776,
            4.809,
            1.532,
            2.64,
            4.469,
            6.506,
            8.57,
            10.22,
            12.37,
            12.41,
            12.02,
            10.501,
            8.69,
            7.31,
            7.287,
            6.685,
            6.232,
            4.93,
            1.873,
            3.594,
            6.145,
            6.77,
            6.773,
            7.007,
            7.52,
            5.243,
            7.895,
            8.229,
            8.55,
            8.795,
            9.066,
            9.321,
            6.965,
            9.84,
            13.31,
            16.654,
            19.25,
            21.02,
            22.61,
            22.56,
            21.46,
            19.282,
            11.85,
            11.342,
            9.807,
            9.32,
            7,
            1.87,
            5.5,
            10.07,
            11.72,
            15.37,
            18.95
           ]
          },
          {
           "axis": {
            "matches": true
           },
           "label": "MP(K)",
           "values": [
            453.85,
            1560.15,
            2573.15,
            3948.15,
            371.15,
            923.15,
            933.4,
            1683.15,
            317.25,
            388.51,
            336.5,
            1112.15,
            1812.15,
            1933.15,
            2175.15,
            2130.15,
            1519.15,
            1808.15,
            1768.15,
            1726.15,
            1357.75,
            692.88,
            302.91,
            1211.45,
            1090.15,
            494.15,
            312.79,
            1042.15,
            1799.15,
            2125.15,
            2741.15,
            2890.15,
            2523.15,
            2239.15,
            1825.15,
            1234.15,
            594.33,
            429.91,
            505.21,
            904.05,
            722.8,
            386.65,
            301.7,
            1002.15,
            1193.15,
            1071.15,
            1204.15,
            1289.15,
            1345.15,
            1095.15,
            1585.15,
            1630.15,
            1680.15,
            1743.15,
            1795.15,
            1818.15,
            1097.15,
            1936.15,
            2500.15,
            3269.15,
            3680.15,
            3453.15,
            3300.15,
            2716.15,
            2045.15,
            1337.73,
            577.15,
            600.75,
            544.67,
            527.15,
            575.15,
            300.15,
            973.15,
            1323.15,
            2028.15,
            1873.15,
            1405.15
           ]
          },
          {
           "axis": {
            "matches": true
           },
           "label": "BP(K)",
           "values": [
            1615,
            2742,
            4200,
            4300,
            1156,
            1363,
            2792,
            3538,
            553,
            717.8,
            1032,
            1757,
            3109,
            3560,
            3680,
            2944,
            2334,
            3134,
            3200,
            3186,
            2835,
            1180,
            2477,
            3106,
            887,
            958,
            961,
            1655,
            3609,
            4682,
            5017,
            4912,
            4423,
            3968,
            3236,
            2435,
            1040,
            2345,
            2875,
            1860,
            1261,
            457.4,
            944,
            2170,
            3737,
            3716,
            3793,
            3347,
            2067,
            1802,
            3546,
            3503,
            2840,
            2993,
            3503,
            2223,
            1469,
            3675,
            4876,
            5731,
            5828,
            5869,
            5285,
            4701,
            4098,
            3129,
            1746,
            2022,
            1837,
            1235,
            610,
            950,
            2010,
            3471,
            5061,
            4300,
            4404
           ]
          },
          {
           "axis": {
            "matches": true
           },
           "label": "SHC",
           "values": [
            3.582,
            1.825,
            1.026,
            0.709,
            1.228,
            1.023,
            0.897,
            0.705,
            0.769,
            0.71,
            0.757,
            0.647,
            0.568,
            0.523,
            0.489,
            0.449,
            0.479,
            0.449,
            0.421,
            0.444,
            0.385,
            0.388,
            0.371,
            0.32,
            0.329,
            0.321,
            0.363,
            0.301,
            0.298,
            0.278,
            0.265,
            0.251,
            0.238,
            0.243,
            0.244,
            0.235,
            0.232,
            0.233,
            0.228,
            0.207,
            0.202,
            0.214,
            0.242,
            0.204,
            0.195,
            0.192,
            0.193,
            0.19,
            0.197,
            0.182,
            0.236,
            0.182,
            0.17,
            0.165,
            0.168,
            0.16,
            0.155,
            0.154,
            0.144,
            0.14,
            0.132,
            0.137,
            0.13,
            0.131,
            0.133,
            0.129,
            0.129,
            0.129,
            0.122,
            -1,
            -1,
            -1,
            -1,
            0.12,
            0.113,
            -1,
            0.116
           ]
          }
         ],
         "hovertemplate": "Phase=solid<br>%{xaxis.title.text}=%{x}<br>%{yaxis.title.text}=%{y}<extra></extra>",
         "legendgroup": "solid",
         "marker": {
          "color": "#EF553B",
          "symbol": "circle"
         },
         "name": "solid",
         "showlegend": true,
         "type": "splom"
        },
        {
         "dimensions": [
          {
           "axis": {
            "matches": true
           },
           "label": "AWeight",
           "values": [
            79.904,
            200.59
           ]
          },
          {
           "axis": {
            "matches": true
           },
           "label": "IRadius",
           "values": [
            2,
            1
           ]
          },
          {
           "axis": {
            "matches": true
           },
           "label": "ARadius",
           "values": [
            1.1,
            1.8
           ]
          },
          {
           "axis": {
            "matches": true
           },
           "label": "ENeg",
           "values": [
            2.96,
            2
           ]
          },
          {
           "axis": {
            "matches": true
           },
           "label": "FIP",
           "values": [
            11.8138,
            10.4375
           ]
          },
          {
           "axis": {
            "matches": true
           },
           "label": "Dens",
           "values": [
            3.122,
            13.5336
           ]
          },
          {
           "axis": {
            "matches": true
           },
           "label": "MP(K)",
           "values": [
            266.05,
            234.43
           ]
          },
          {
           "axis": {
            "matches": true
           },
           "label": "BP(K)",
           "values": [
            332,
            630
           ]
          },
          {
           "axis": {
            "matches": true
           },
           "label": "SHC",
           "values": [
            0.474,
            0.14
           ]
          }
         ],
         "hovertemplate": "Phase=liq<br>%{xaxis.title.text}=%{x}<br>%{yaxis.title.text}=%{y}<extra></extra>",
         "legendgroup": "liq",
         "marker": {
          "color": "#00cc96",
          "symbol": "circle"
         },
         "name": "liq",
         "showlegend": true,
         "type": "splom"
        },
        {
         "dimensions": [
          {
           "axis": {
            "matches": true
           },
           "label": "AWeight",
           "values": [
            98,
            145,
            237,
            244,
            243,
            247,
            247,
            251,
            252,
            257,
            258,
            259,
            262,
            261,
            262,
            266,
            264,
            267,
            268,
            271,
            272,
            285,
            284,
            289,
            288,
            292,
            295,
            294
           ]
          },
          {
           "axis": {
            "matches": true
           },
           "label": "IRadius",
           "values": [
            0.56,
            0.98,
            0.75,
            0.89,
            0.98,
            0.97,
            0.95,
            0.93,
            -1,
            -1,
            -1,
            -1,
            -1,
            -1,
            -1,
            -1,
            -1,
            -1,
            -1,
            -1,
            -1,
            -1,
            -1,
            -1,
            -1,
            -1,
            -1,
            -1
           ]
          },
          {
           "axis": {
            "matches": true
           },
           "label": "ARadius",
           "values": [
            2,
            2.6,
            -1,
            -1,
            -1,
            -1,
            -1,
            -1,
            -1,
            -1,
            -1,
            -1,
            -1,
            -1,
            -1,
            -1,
            -1,
            -1,
            -1,
            -1,
            -1,
            -1,
            -1,
            -1,
            -1,
            -1,
            -1,
            -1
           ]
          },
          {
           "axis": {
            "matches": true
           },
           "label": "ENeg",
           "values": [
            1.9,
            1.13,
            1.36,
            1.28,
            1.3,
            1.3,
            1.3,
            1.3,
            1.3,
            1.3,
            1.3,
            1.3,
            -1,
            -1,
            -1,
            -1,
            -1,
            -1,
            -1,
            -1,
            -1,
            -1,
            -1,
            -1,
            -1,
            -1,
            -1,
            -1
           ]
          },
          {
           "axis": {
            "matches": true
           },
           "label": "FIP",
           "values": [
            7.28,
            5.582,
            6.2657,
            6.0262,
            5.9738,
            5.9915,
            6.1979,
            6.2817,
            6.42,
            6.5,
            6.58,
            6.65,
            -1,
            -1,
            -1,
            -1,
            -1,
            -1,
            -1,
            -1,
            -1,
            -1,
            -1,
            -1,
            -1,
            -1,
            -1,
            -1
           ]
          },
          {
           "axis": {
            "matches": true
           },
           "label": "Dens",
           "values": [
            11.5,
            7.26,
            20.45,
            19.84,
            13.69,
            13.51,
            14.79,
            15.1,
            13.5,
            -1,
            -1,
            -1,
            -1,
            18.1,
            39,
            35,
            37,
            41,
            35,
            -1,
            -1,
            -1,
            -1,
            -1,
            -1,
            -1,
            -1,
            -1
           ]
          },
          {
           "axis": {
            "matches": true
           },
           "label": "MP(K)",
           "values": [
            2473.15,
            1204.15,
            913.15,
            913.15,
            1267.15,
            1340.15,
            1259.15,
            1925.15,
            1133.15,
            -1,
            -1,
            -1,
            -1,
            -1,
            -1,
            -1,
            -1,
            -1,
            -1,
            -1,
            -1,
            -1,
            -1,
            -1,
            -1,
            -1,
            -1,
            -1
           ]
          },
          {
           "axis": {
            "matches": true
           },
           "label": "BP(K)",
           "values": [
            5150,
            3273,
            4273,
            3501,
            2880,
            3383,
            983,
            1173,
            -1,
            -1,
            -1,
            -1,
            -1,
            -1,
            -1,
            -1,
            -1,
            -1,
            -1,
            -1,
            -1,
            -1,
            -1,
            -1,
            -1,
            -1,
            -1,
            -1
           ]
          },
          {
           "axis": {
            "matches": true
           },
           "label": "SHC",
           "values": [
            -1,
            -1,
            -1,
            -1,
            -1,
            -1,
            -1,
            -1,
            -1,
            -1,
            -1,
            -1,
            -1,
            -1,
            -1,
            -1,
            -1,
            -1,
            -1,
            -1,
            -1,
            -1,
            -1,
            -1,
            -1,
            -1,
            -1,
            -1
           ]
          }
         ],
         "hovertemplate": "Phase=artificial<br>%{xaxis.title.text}=%{x}<br>%{yaxis.title.text}=%{y}<extra></extra>",
         "legendgroup": "artificial",
         "marker": {
          "color": "#ab63fa",
          "symbol": "circle"
         },
         "name": "artificial",
         "showlegend": true,
         "type": "splom"
        }
       ],
       "layout": {
        "autosize": false,
        "dragmode": "select",
        "height": 700,
        "legend": {
         "title": {
          "text": "Phase"
         },
         "tracegroupgap": 0
        },
        "margin": {
         "t": 60
        },
        "template": {
         "data": {
          "bar": [
           {
            "error_x": {
             "color": "#2a3f5f"
            },
            "error_y": {
             "color": "#2a3f5f"
            },
            "marker": {
             "line": {
              "color": "#E5ECF6",
              "width": 0.5
             },
             "pattern": {
              "fillmode": "overlay",
              "size": 10,
              "solidity": 0.2
             }
            },
            "type": "bar"
           }
          ],
          "barpolar": [
           {
            "marker": {
             "line": {
              "color": "#E5ECF6",
              "width": 0.5
             },
             "pattern": {
              "fillmode": "overlay",
              "size": 10,
              "solidity": 0.2
             }
            },
            "type": "barpolar"
           }
          ],
          "carpet": [
           {
            "aaxis": {
             "endlinecolor": "#2a3f5f",
             "gridcolor": "white",
             "linecolor": "white",
             "minorgridcolor": "white",
             "startlinecolor": "#2a3f5f"
            },
            "baxis": {
             "endlinecolor": "#2a3f5f",
             "gridcolor": "white",
             "linecolor": "white",
             "minorgridcolor": "white",
             "startlinecolor": "#2a3f5f"
            },
            "type": "carpet"
           }
          ],
          "choropleth": [
           {
            "colorbar": {
             "outlinewidth": 0,
             "ticks": ""
            },
            "type": "choropleth"
           }
          ],
          "contour": [
           {
            "colorbar": {
             "outlinewidth": 0,
             "ticks": ""
            },
            "colorscale": [
             [
              0,
              "#0d0887"
             ],
             [
              0.1111111111111111,
              "#46039f"
             ],
             [
              0.2222222222222222,
              "#7201a8"
             ],
             [
              0.3333333333333333,
              "#9c179e"
             ],
             [
              0.4444444444444444,
              "#bd3786"
             ],
             [
              0.5555555555555556,
              "#d8576b"
             ],
             [
              0.6666666666666666,
              "#ed7953"
             ],
             [
              0.7777777777777778,
              "#fb9f3a"
             ],
             [
              0.8888888888888888,
              "#fdca26"
             ],
             [
              1,
              "#f0f921"
             ]
            ],
            "type": "contour"
           }
          ],
          "contourcarpet": [
           {
            "colorbar": {
             "outlinewidth": 0,
             "ticks": ""
            },
            "type": "contourcarpet"
           }
          ],
          "heatmap": [
           {
            "colorbar": {
             "outlinewidth": 0,
             "ticks": ""
            },
            "colorscale": [
             [
              0,
              "#0d0887"
             ],
             [
              0.1111111111111111,
              "#46039f"
             ],
             [
              0.2222222222222222,
              "#7201a8"
             ],
             [
              0.3333333333333333,
              "#9c179e"
             ],
             [
              0.4444444444444444,
              "#bd3786"
             ],
             [
              0.5555555555555556,
              "#d8576b"
             ],
             [
              0.6666666666666666,
              "#ed7953"
             ],
             [
              0.7777777777777778,
              "#fb9f3a"
             ],
             [
              0.8888888888888888,
              "#fdca26"
             ],
             [
              1,
              "#f0f921"
             ]
            ],
            "type": "heatmap"
           }
          ],
          "heatmapgl": [
           {
            "colorbar": {
             "outlinewidth": 0,
             "ticks": ""
            },
            "colorscale": [
             [
              0,
              "#0d0887"
             ],
             [
              0.1111111111111111,
              "#46039f"
             ],
             [
              0.2222222222222222,
              "#7201a8"
             ],
             [
              0.3333333333333333,
              "#9c179e"
             ],
             [
              0.4444444444444444,
              "#bd3786"
             ],
             [
              0.5555555555555556,
              "#d8576b"
             ],
             [
              0.6666666666666666,
              "#ed7953"
             ],
             [
              0.7777777777777778,
              "#fb9f3a"
             ],
             [
              0.8888888888888888,
              "#fdca26"
             ],
             [
              1,
              "#f0f921"
             ]
            ],
            "type": "heatmapgl"
           }
          ],
          "histogram": [
           {
            "marker": {
             "pattern": {
              "fillmode": "overlay",
              "size": 10,
              "solidity": 0.2
             }
            },
            "type": "histogram"
           }
          ],
          "histogram2d": [
           {
            "colorbar": {
             "outlinewidth": 0,
             "ticks": ""
            },
            "colorscale": [
             [
              0,
              "#0d0887"
             ],
             [
              0.1111111111111111,
              "#46039f"
             ],
             [
              0.2222222222222222,
              "#7201a8"
             ],
             [
              0.3333333333333333,
              "#9c179e"
             ],
             [
              0.4444444444444444,
              "#bd3786"
             ],
             [
              0.5555555555555556,
              "#d8576b"
             ],
             [
              0.6666666666666666,
              "#ed7953"
             ],
             [
              0.7777777777777778,
              "#fb9f3a"
             ],
             [
              0.8888888888888888,
              "#fdca26"
             ],
             [
              1,
              "#f0f921"
             ]
            ],
            "type": "histogram2d"
           }
          ],
          "histogram2dcontour": [
           {
            "colorbar": {
             "outlinewidth": 0,
             "ticks": ""
            },
            "colorscale": [
             [
              0,
              "#0d0887"
             ],
             [
              0.1111111111111111,
              "#46039f"
             ],
             [
              0.2222222222222222,
              "#7201a8"
             ],
             [
              0.3333333333333333,
              "#9c179e"
             ],
             [
              0.4444444444444444,
              "#bd3786"
             ],
             [
              0.5555555555555556,
              "#d8576b"
             ],
             [
              0.6666666666666666,
              "#ed7953"
             ],
             [
              0.7777777777777778,
              "#fb9f3a"
             ],
             [
              0.8888888888888888,
              "#fdca26"
             ],
             [
              1,
              "#f0f921"
             ]
            ],
            "type": "histogram2dcontour"
           }
          ],
          "mesh3d": [
           {
            "colorbar": {
             "outlinewidth": 0,
             "ticks": ""
            },
            "type": "mesh3d"
           }
          ],
          "parcoords": [
           {
            "line": {
             "colorbar": {
              "outlinewidth": 0,
              "ticks": ""
             }
            },
            "type": "parcoords"
           }
          ],
          "pie": [
           {
            "automargin": true,
            "type": "pie"
           }
          ],
          "scatter": [
           {
            "fillpattern": {
             "fillmode": "overlay",
             "size": 10,
             "solidity": 0.2
            },
            "type": "scatter"
           }
          ],
          "scatter3d": [
           {
            "line": {
             "colorbar": {
              "outlinewidth": 0,
              "ticks": ""
             }
            },
            "marker": {
             "colorbar": {
              "outlinewidth": 0,
              "ticks": ""
             }
            },
            "type": "scatter3d"
           }
          ],
          "scattercarpet": [
           {
            "marker": {
             "colorbar": {
              "outlinewidth": 0,
              "ticks": ""
             }
            },
            "type": "scattercarpet"
           }
          ],
          "scattergeo": [
           {
            "marker": {
             "colorbar": {
              "outlinewidth": 0,
              "ticks": ""
             }
            },
            "type": "scattergeo"
           }
          ],
          "scattergl": [
           {
            "marker": {
             "colorbar": {
              "outlinewidth": 0,
              "ticks": ""
             }
            },
            "type": "scattergl"
           }
          ],
          "scattermapbox": [
           {
            "marker": {
             "colorbar": {
              "outlinewidth": 0,
              "ticks": ""
             }
            },
            "type": "scattermapbox"
           }
          ],
          "scatterpolar": [
           {
            "marker": {
             "colorbar": {
              "outlinewidth": 0,
              "ticks": ""
             }
            },
            "type": "scatterpolar"
           }
          ],
          "scatterpolargl": [
           {
            "marker": {
             "colorbar": {
              "outlinewidth": 0,
              "ticks": ""
             }
            },
            "type": "scatterpolargl"
           }
          ],
          "scatterternary": [
           {
            "marker": {
             "colorbar": {
              "outlinewidth": 0,
              "ticks": ""
             }
            },
            "type": "scatterternary"
           }
          ],
          "surface": [
           {
            "colorbar": {
             "outlinewidth": 0,
             "ticks": ""
            },
            "colorscale": [
             [
              0,
              "#0d0887"
             ],
             [
              0.1111111111111111,
              "#46039f"
             ],
             [
              0.2222222222222222,
              "#7201a8"
             ],
             [
              0.3333333333333333,
              "#9c179e"
             ],
             [
              0.4444444444444444,
              "#bd3786"
             ],
             [
              0.5555555555555556,
              "#d8576b"
             ],
             [
              0.6666666666666666,
              "#ed7953"
             ],
             [
              0.7777777777777778,
              "#fb9f3a"
             ],
             [
              0.8888888888888888,
              "#fdca26"
             ],
             [
              1,
              "#f0f921"
             ]
            ],
            "type": "surface"
           }
          ],
          "table": [
           {
            "cells": {
             "fill": {
              "color": "#EBF0F8"
             },
             "line": {
              "color": "white"
             }
            },
            "header": {
             "fill": {
              "color": "#C8D4E3"
             },
             "line": {
              "color": "white"
             }
            },
            "type": "table"
           }
          ]
         },
         "layout": {
          "annotationdefaults": {
           "arrowcolor": "#2a3f5f",
           "arrowhead": 0,
           "arrowwidth": 1
          },
          "autotypenumbers": "strict",
          "coloraxis": {
           "colorbar": {
            "outlinewidth": 0,
            "ticks": ""
           }
          },
          "colorscale": {
           "diverging": [
            [
             0,
             "#8e0152"
            ],
            [
             0.1,
             "#c51b7d"
            ],
            [
             0.2,
             "#de77ae"
            ],
            [
             0.3,
             "#f1b6da"
            ],
            [
             0.4,
             "#fde0ef"
            ],
            [
             0.5,
             "#f7f7f7"
            ],
            [
             0.6,
             "#e6f5d0"
            ],
            [
             0.7,
             "#b8e186"
            ],
            [
             0.8,
             "#7fbc41"
            ],
            [
             0.9,
             "#4d9221"
            ],
            [
             1,
             "#276419"
            ]
           ],
           "sequential": [
            [
             0,
             "#0d0887"
            ],
            [
             0.1111111111111111,
             "#46039f"
            ],
            [
             0.2222222222222222,
             "#7201a8"
            ],
            [
             0.3333333333333333,
             "#9c179e"
            ],
            [
             0.4444444444444444,
             "#bd3786"
            ],
            [
             0.5555555555555556,
             "#d8576b"
            ],
            [
             0.6666666666666666,
             "#ed7953"
            ],
            [
             0.7777777777777778,
             "#fb9f3a"
            ],
            [
             0.8888888888888888,
             "#fdca26"
            ],
            [
             1,
             "#f0f921"
            ]
           ],
           "sequentialminus": [
            [
             0,
             "#0d0887"
            ],
            [
             0.1111111111111111,
             "#46039f"
            ],
            [
             0.2222222222222222,
             "#7201a8"
            ],
            [
             0.3333333333333333,
             "#9c179e"
            ],
            [
             0.4444444444444444,
             "#bd3786"
            ],
            [
             0.5555555555555556,
             "#d8576b"
            ],
            [
             0.6666666666666666,
             "#ed7953"
            ],
            [
             0.7777777777777778,
             "#fb9f3a"
            ],
            [
             0.8888888888888888,
             "#fdca26"
            ],
            [
             1,
             "#f0f921"
            ]
           ]
          },
          "colorway": [
           "#636efa",
           "#EF553B",
           "#00cc96",
           "#ab63fa",
           "#FFA15A",
           "#19d3f3",
           "#FF6692",
           "#B6E880",
           "#FF97FF",
           "#FECB52"
          ],
          "font": {
           "color": "#2a3f5f"
          },
          "geo": {
           "bgcolor": "white",
           "lakecolor": "white",
           "landcolor": "#E5ECF6",
           "showlakes": true,
           "showland": true,
           "subunitcolor": "white"
          },
          "hoverlabel": {
           "align": "left"
          },
          "hovermode": "closest",
          "mapbox": {
           "style": "light"
          },
          "paper_bgcolor": "white",
          "plot_bgcolor": "#E5ECF6",
          "polar": {
           "angularaxis": {
            "gridcolor": "white",
            "linecolor": "white",
            "ticks": ""
           },
           "bgcolor": "#E5ECF6",
           "radialaxis": {
            "gridcolor": "white",
            "linecolor": "white",
            "ticks": ""
           }
          },
          "scene": {
           "xaxis": {
            "backgroundcolor": "#E5ECF6",
            "gridcolor": "white",
            "gridwidth": 2,
            "linecolor": "white",
            "showbackground": true,
            "ticks": "",
            "zerolinecolor": "white"
           },
           "yaxis": {
            "backgroundcolor": "#E5ECF6",
            "gridcolor": "white",
            "gridwidth": 2,
            "linecolor": "white",
            "showbackground": true,
            "ticks": "",
            "zerolinecolor": "white"
           },
           "zaxis": {
            "backgroundcolor": "#E5ECF6",
            "gridcolor": "white",
            "gridwidth": 2,
            "linecolor": "white",
            "showbackground": true,
            "ticks": "",
            "zerolinecolor": "white"
           }
          },
          "shapedefaults": {
           "line": {
            "color": "#2a3f5f"
           }
          },
          "ternary": {
           "aaxis": {
            "gridcolor": "white",
            "linecolor": "white",
            "ticks": ""
           },
           "baxis": {
            "gridcolor": "white",
            "linecolor": "white",
            "ticks": ""
           },
           "bgcolor": "#E5ECF6",
           "caxis": {
            "gridcolor": "white",
            "linecolor": "white",
            "ticks": ""
           }
          },
          "title": {
           "x": 0.05
          },
          "xaxis": {
           "automargin": true,
           "gridcolor": "white",
           "linecolor": "white",
           "ticks": "",
           "title": {
            "standoff": 15
           },
           "zerolinecolor": "white",
           "zerolinewidth": 2
          },
          "yaxis": {
           "automargin": true,
           "gridcolor": "white",
           "linecolor": "white",
           "ticks": "",
           "title": {
            "standoff": 15
           },
           "zerolinecolor": "white",
           "zerolinewidth": 2
          }
         }
        },
        "width": 700,
        "xaxis": {
         "tickfont": {
          "size": 1
         }
        },
        "yaxis": {
         "tickfont": {
          "size": 1
         }
        }
       }
      }
     },
     "metadata": {},
     "output_type": "display_data"
    }
   ],
   "source": [
    "df = df.rename(columns={\n",
    "    'Atomic Weight': 'AWeight',\n",
    "    'Ionic Radius': 'IRadius',\n",
    "    'Atomic Radius': 'ARadius',\n",
    "    'Electronegativity': 'ENeg',\n",
    "    'First Ionization Potential': 'FIP',\n",
    "    'Density': 'Dens',\n",
    "    'Melting Point (K)': 'MP(K)',\n",
    "    'Boiling Point (K)': 'BP(K)',\n",
    "    'Specific Heat Capacity': 'SHC'\n",
    "})\n",
    "\n",
    "# Now create the plot with the renamed columns\n",
    "fig = px.scatter_matrix(df,\n",
    "    dimensions=['AWeight', 'IRadius', 'ARadius', 'ENeg', 'FIP', 'Dens', 'MP(K)', 'BP(K)', 'SHC'],\n",
    "    color=\"Phase\")\n",
    "\n",
    "fig.update_layout(autosize=False, width=700, height=700)\n",
    "\n",
    "# Adjust the font size of the labels\n",
    "fig.update_xaxes(tickfont=dict(size=1))\n",
    "fig.update_yaxes(tickfont=dict(size=1))\n",
    "\n",
    "fig.show()"
   ]
  },
  {
   "cell_type": "code",
   "execution_count": 23,
   "metadata": {},
   "outputs": [
    {
     "data": {
      "application/vnd.plotly.v1+json": {
       "config": {
        "plotlyServerURL": "https://plot.ly"
       },
       "data": [
        {
         "dimensions": [
          {
           "label": "Atomic Weight",
           "values": [
            1.00794,
            4.002602,
            6.941,
            9.012182,
            10.811,
            12.0107,
            14.0067,
            15.9994,
            18.9984032,
            20.1797,
            22.98976928,
            24.305,
            26.9815386,
            28.0855,
            30.973762,
            32.065,
            35.453,
            39.948,
            39.0983,
            40.078,
            44.955912,
            47.867,
            50.9415,
            51.9961,
            54.938045,
            55.845,
            58.933195,
            58.6934,
            63.546,
            65.38,
            69.723,
            72.64,
            74.9216,
            78.96,
            79.904,
            83.798,
            85.4678,
            87.62,
            88.90585,
            91.224,
            92.90638,
            95.96,
            98,
            101.07,
            102.9055,
            106.42,
            107.8682,
            112.411,
            114.818,
            118.71,
            121.76,
            127.6,
            126.90447,
            131.293,
            132.9054519,
            137.327,
            138.90547,
            140.116,
            140.90765,
            144.242,
            145,
            150.36,
            151.964,
            157.25,
            158.92535,
            162.5,
            164.93032,
            167.259,
            168.93421,
            173.054,
            174.9668,
            178.49,
            180.94788,
            183.84,
            186.207,
            190.23,
            192.217,
            195.084,
            196.966569,
            200.59,
            204.3833,
            207.2,
            208.9804,
            210,
            210,
            222,
            223,
            226,
            227,
            232.03806,
            231.03588,
            238.02891,
            237,
            244,
            243,
            247,
            247,
            251,
            252,
            257,
            258,
            259,
            262,
            261,
            262,
            266,
            264,
            267,
            268,
            271,
            272,
            285,
            284,
            289,
            288,
            292,
            295,
            294
           ]
          },
          {
           "label": "Atomic Radius",
           "values": [
            0.79,
            0.49,
            2.1,
            1.4,
            1.2,
            0.91,
            0.75,
            0.65,
            0.57,
            0.51,
            2.2,
            1.7,
            1.8,
            1.5,
            1.2,
            1.1,
            0.97,
            0.88,
            2.8,
            2.2,
            2.1,
            2,
            1.9,
            1.9,
            1.8,
            1.7,
            1.7,
            1.6,
            1.6,
            1.5,
            1.8,
            1.5,
            1.3,
            1.2,
            1.1,
            1,
            3,
            2.5,
            2.3,
            2.2,
            2.1,
            2,
            2,
            1.9,
            1.8,
            1.8,
            1.8,
            1.7,
            2,
            1.7,
            1.5,
            1.4,
            1.3,
            1.2,
            3.3,
            2.8,
            2.7,
            2.7,
            2.7,
            2.6,
            2.6,
            2.6,
            2.6,
            2.5,
            2.5,
            2.5,
            2.5,
            2.5,
            2.4,
            2.4,
            2.3,
            2.2,
            2.1,
            2,
            2,
            1.9,
            1.9,
            1.8,
            1.8,
            1.8,
            2.1,
            1.8,
            1.6,
            1.5,
            1.4,
            1.3,
            -1,
            -1,
            -1,
            -1,
            -1,
            -1,
            -1,
            -1,
            -1,
            -1,
            -1,
            -1,
            -1,
            -1,
            -1,
            -1,
            -1,
            -1,
            -1,
            -1,
            -1,
            -1,
            -1,
            -1,
            -1,
            -1,
            -1,
            -1,
            -1,
            -1,
            -1,
            -1
           ]
          },
          {
           "label": "Ionic Radius",
           "values": [
            0.012,
            -1,
            0.76,
            0.35,
            0.23,
            -1,
            0.13,
            1.4,
            1.3,
            -1,
            1,
            0.72,
            0.54,
            0.4,
            0.38,
            0.37,
            1.8,
            -1,
            1.4,
            0.99,
            0.75,
            0.61,
            0.59,
            0.52,
            0.46,
            0.65,
            0.75,
            0.69,
            0.73,
            0.74,
            0.62,
            0.53,
            0.58,
            0.5,
            2,
            -1,
            1.5,
            1.1,
            0.9,
            0.72,
            0.69,
            0.65,
            0.56,
            0.68,
            0.68,
            0.86,
            1.3,
            0.97,
            0.8,
            0.69,
            0.76,
            0.97,
            2.2,
            -1,
            1.7,
            1.4,
            1.1,
            1,
            1,
            1,
            0.98,
            0.96,
            0.95,
            0.94,
            0.92,
            0.91,
            0.9,
            0.88,
            0.87,
            0.86,
            0.85,
            0.71,
            0.64,
            0.62,
            0.56,
            0.63,
            0.63,
            0.63,
            0.85,
            1,
            1.5,
            1.2,
            1,
            2.3,
            -1,
            -1,
            1.8,
            1.4,
            1.1,
            0.97,
            0.78,
            0.52,
            0.75,
            0.89,
            0.98,
            0.97,
            0.95,
            0.93,
            -1,
            -1,
            -1,
            -1,
            -1,
            -1,
            -1,
            -1,
            -1,
            -1,
            -1,
            -1,
            -1,
            -1,
            -1,
            -1,
            -1,
            -1,
            -1,
            -1
           ]
          },
          {
           "label": "Electronegativity",
           "values": [
            2.2,
            -1,
            0.98,
            1.57,
            2.04,
            2.55,
            3.04,
            3.44,
            3.98,
            -1,
            0.93,
            1.31,
            1.61,
            1.9,
            2.19,
            2.58,
            3.16,
            -1,
            0.82,
            1,
            1.36,
            1.54,
            1.63,
            1.66,
            1.55,
            1.83,
            1.88,
            1.91,
            1.9,
            1.65,
            1.81,
            2.01,
            2.18,
            2.55,
            2.96,
            -1,
            0.82,
            0.95,
            1.22,
            1.33,
            1.6,
            2.16,
            1.9,
            2.2,
            2.28,
            2.2,
            1.93,
            1.69,
            1.78,
            1.96,
            2.05,
            2.1,
            2.66,
            -1,
            0.79,
            0.89,
            1.1,
            1.12,
            1.13,
            1.14,
            1.13,
            1.17,
            1.2,
            1.2,
            1.2,
            1.22,
            1.23,
            1.24,
            1.25,
            1.1,
            1.27,
            1.3,
            1.5,
            2.36,
            1.9,
            2.2,
            2.2,
            2.28,
            2.54,
            2,
            2.04,
            2.33,
            2.02,
            2,
            2.2,
            -1,
            0.7,
            0.9,
            1.1,
            1.3,
            1.5,
            1.38,
            1.36,
            1.28,
            1.3,
            1.3,
            1.3,
            1.3,
            1.3,
            1.3,
            1.3,
            1.3,
            -1,
            -1,
            -1,
            -1,
            -1,
            -1,
            -1,
            -1,
            -1,
            -1,
            -1,
            -1,
            -1,
            -1,
            -1,
            -1
           ]
          },
          {
           "label": "Density",
           "values": [
            0.00008988,
            0.0001785,
            0.534,
            1.85,
            2.34,
            2.267,
            0.0012506,
            0.001429,
            0.001696,
            0.0008999,
            0.971,
            1.738,
            2.698,
            2.3296,
            1.82,
            2.067,
            0.003214,
            0.0017837,
            0.862,
            1.54,
            2.989,
            4.54,
            6.11,
            7.15,
            7.44,
            7.874,
            8.86,
            8.912,
            8.96,
            7.134,
            5.907,
            5.323,
            5.776,
            4.809,
            3.122,
            0.003733,
            1.532,
            2.64,
            4.469,
            6.506,
            8.57,
            10.22,
            11.5,
            12.37,
            12.41,
            12.02,
            10.501,
            8.69,
            7.31,
            7.287,
            6.685,
            6.232,
            4.93,
            0.005887,
            1.873,
            3.594,
            6.145,
            6.77,
            6.773,
            7.007,
            7.26,
            7.52,
            5.243,
            7.895,
            8.229,
            8.55,
            8.795,
            9.066,
            9.321,
            6.965,
            9.84,
            13.31,
            16.654,
            19.25,
            21.02,
            22.61,
            22.56,
            21.46,
            19.282,
            13.5336,
            11.85,
            11.342,
            9.807,
            9.32,
            7,
            0.00973,
            1.87,
            5.5,
            10.07,
            11.72,
            15.37,
            18.95,
            20.45,
            19.84,
            13.69,
            13.51,
            14.79,
            15.1,
            13.5,
            -1,
            -1,
            -1,
            -1,
            18.1,
            39,
            35,
            37,
            41,
            35,
            -1,
            -1,
            -1,
            -1,
            -1,
            -1,
            -1,
            -1,
            -1
           ]
          },
          {
           "label": "Year of Discovery",
           "values": [
            1766,
            1868,
            1817,
            1798,
            1808,
            -1,
            1772,
            1774,
            1886,
            1898,
            1807,
            1755,
            1827,
            1824,
            1669,
            -1,
            1774,
            1894,
            1807,
            1808,
            1878,
            1791,
            1801,
            1797,
            1774,
            -1,
            1735,
            1751,
            -1,
            -1,
            1875,
            1886,
            1250,
            1817,
            1826,
            1898,
            1861,
            1808,
            1794,
            1789,
            1801,
            1778,
            1937,
            1844,
            1803,
            1803,
            -1,
            1817,
            1863,
            -1,
            -1,
            1782,
            1811,
            1898,
            1860,
            1808,
            1839,
            1803,
            1885,
            1885,
            1945,
            1879,
            1901,
            1880,
            1843,
            1886,
            1878,
            1843,
            1879,
            1878,
            1907,
            1923,
            1801,
            1783,
            1925,
            1803,
            1804,
            1735,
            -1,
            -1,
            1861,
            -1,
            1753,
            1898,
            1940,
            1900,
            1939,
            1898,
            1899,
            1828,
            1917,
            1841,
            1940,
            1940,
            1944,
            1944,
            1949,
            1950,
            1952,
            1953,
            1955,
            1958,
            1961,
            1969,
            1970,
            1974,
            1981,
            1983,
            1982,
            -1,
            -1,
            -1,
            -1,
            -1,
            -1,
            -1,
            -1,
            -1
           ]
          },
          {
           "label": "Specific Heat Capacity",
           "values": [
            14.304,
            5.193,
            3.582,
            1.825,
            1.026,
            0.709,
            1.04,
            0.918,
            0.824,
            1.03,
            1.228,
            1.023,
            0.897,
            0.705,
            0.769,
            0.71,
            0.479,
            0.52,
            0.757,
            0.647,
            0.568,
            0.523,
            0.489,
            0.449,
            0.479,
            0.449,
            0.421,
            0.444,
            0.385,
            0.388,
            0.371,
            0.32,
            0.329,
            0.321,
            0.474,
            0.248,
            0.363,
            0.301,
            0.298,
            0.278,
            0.265,
            0.251,
            -1,
            0.238,
            0.243,
            0.244,
            0.235,
            0.232,
            0.233,
            0.228,
            0.207,
            0.202,
            0.214,
            0.158,
            0.242,
            0.204,
            0.195,
            0.192,
            0.193,
            0.19,
            -1,
            0.197,
            0.182,
            0.236,
            0.182,
            0.17,
            0.165,
            0.168,
            0.16,
            0.155,
            0.154,
            0.144,
            0.14,
            0.132,
            0.137,
            0.13,
            0.131,
            0.133,
            0.129,
            0.14,
            0.129,
            0.129,
            0.122,
            -1,
            -1,
            0.094,
            -1,
            -1,
            0.12,
            0.113,
            -1,
            0.116,
            -1,
            -1,
            -1,
            -1,
            -1,
            -1,
            -1,
            -1,
            -1,
            -1,
            -1,
            -1,
            -1,
            -1,
            -1,
            -1,
            -1,
            -1,
            -1,
            -1,
            -1,
            -1,
            -1,
            -1,
            -1,
            -1
           ]
          }
         ],
         "domain": {
          "x": [
           0,
           1
          ],
          "y": [
           0,
           1
          ]
         },
         "name": "",
         "type": "parcoords"
        }
       ],
       "layout": {
        "legend": {
         "tracegroupgap": 0
        },
        "margin": {
         "t": 60
        },
        "template": {
         "data": {
          "bar": [
           {
            "error_x": {
             "color": "#2a3f5f"
            },
            "error_y": {
             "color": "#2a3f5f"
            },
            "marker": {
             "line": {
              "color": "#E5ECF6",
              "width": 0.5
             },
             "pattern": {
              "fillmode": "overlay",
              "size": 10,
              "solidity": 0.2
             }
            },
            "type": "bar"
           }
          ],
          "barpolar": [
           {
            "marker": {
             "line": {
              "color": "#E5ECF6",
              "width": 0.5
             },
             "pattern": {
              "fillmode": "overlay",
              "size": 10,
              "solidity": 0.2
             }
            },
            "type": "barpolar"
           }
          ],
          "carpet": [
           {
            "aaxis": {
             "endlinecolor": "#2a3f5f",
             "gridcolor": "white",
             "linecolor": "white",
             "minorgridcolor": "white",
             "startlinecolor": "#2a3f5f"
            },
            "baxis": {
             "endlinecolor": "#2a3f5f",
             "gridcolor": "white",
             "linecolor": "white",
             "minorgridcolor": "white",
             "startlinecolor": "#2a3f5f"
            },
            "type": "carpet"
           }
          ],
          "choropleth": [
           {
            "colorbar": {
             "outlinewidth": 0,
             "ticks": ""
            },
            "type": "choropleth"
           }
          ],
          "contour": [
           {
            "colorbar": {
             "outlinewidth": 0,
             "ticks": ""
            },
            "colorscale": [
             [
              0,
              "#0d0887"
             ],
             [
              0.1111111111111111,
              "#46039f"
             ],
             [
              0.2222222222222222,
              "#7201a8"
             ],
             [
              0.3333333333333333,
              "#9c179e"
             ],
             [
              0.4444444444444444,
              "#bd3786"
             ],
             [
              0.5555555555555556,
              "#d8576b"
             ],
             [
              0.6666666666666666,
              "#ed7953"
             ],
             [
              0.7777777777777778,
              "#fb9f3a"
             ],
             [
              0.8888888888888888,
              "#fdca26"
             ],
             [
              1,
              "#f0f921"
             ]
            ],
            "type": "contour"
           }
          ],
          "contourcarpet": [
           {
            "colorbar": {
             "outlinewidth": 0,
             "ticks": ""
            },
            "type": "contourcarpet"
           }
          ],
          "heatmap": [
           {
            "colorbar": {
             "outlinewidth": 0,
             "ticks": ""
            },
            "colorscale": [
             [
              0,
              "#0d0887"
             ],
             [
              0.1111111111111111,
              "#46039f"
             ],
             [
              0.2222222222222222,
              "#7201a8"
             ],
             [
              0.3333333333333333,
              "#9c179e"
             ],
             [
              0.4444444444444444,
              "#bd3786"
             ],
             [
              0.5555555555555556,
              "#d8576b"
             ],
             [
              0.6666666666666666,
              "#ed7953"
             ],
             [
              0.7777777777777778,
              "#fb9f3a"
             ],
             [
              0.8888888888888888,
              "#fdca26"
             ],
             [
              1,
              "#f0f921"
             ]
            ],
            "type": "heatmap"
           }
          ],
          "heatmapgl": [
           {
            "colorbar": {
             "outlinewidth": 0,
             "ticks": ""
            },
            "colorscale": [
             [
              0,
              "#0d0887"
             ],
             [
              0.1111111111111111,
              "#46039f"
             ],
             [
              0.2222222222222222,
              "#7201a8"
             ],
             [
              0.3333333333333333,
              "#9c179e"
             ],
             [
              0.4444444444444444,
              "#bd3786"
             ],
             [
              0.5555555555555556,
              "#d8576b"
             ],
             [
              0.6666666666666666,
              "#ed7953"
             ],
             [
              0.7777777777777778,
              "#fb9f3a"
             ],
             [
              0.8888888888888888,
              "#fdca26"
             ],
             [
              1,
              "#f0f921"
             ]
            ],
            "type": "heatmapgl"
           }
          ],
          "histogram": [
           {
            "marker": {
             "pattern": {
              "fillmode": "overlay",
              "size": 10,
              "solidity": 0.2
             }
            },
            "type": "histogram"
           }
          ],
          "histogram2d": [
           {
            "colorbar": {
             "outlinewidth": 0,
             "ticks": ""
            },
            "colorscale": [
             [
              0,
              "#0d0887"
             ],
             [
              0.1111111111111111,
              "#46039f"
             ],
             [
              0.2222222222222222,
              "#7201a8"
             ],
             [
              0.3333333333333333,
              "#9c179e"
             ],
             [
              0.4444444444444444,
              "#bd3786"
             ],
             [
              0.5555555555555556,
              "#d8576b"
             ],
             [
              0.6666666666666666,
              "#ed7953"
             ],
             [
              0.7777777777777778,
              "#fb9f3a"
             ],
             [
              0.8888888888888888,
              "#fdca26"
             ],
             [
              1,
              "#f0f921"
             ]
            ],
            "type": "histogram2d"
           }
          ],
          "histogram2dcontour": [
           {
            "colorbar": {
             "outlinewidth": 0,
             "ticks": ""
            },
            "colorscale": [
             [
              0,
              "#0d0887"
             ],
             [
              0.1111111111111111,
              "#46039f"
             ],
             [
              0.2222222222222222,
              "#7201a8"
             ],
             [
              0.3333333333333333,
              "#9c179e"
             ],
             [
              0.4444444444444444,
              "#bd3786"
             ],
             [
              0.5555555555555556,
              "#d8576b"
             ],
             [
              0.6666666666666666,
              "#ed7953"
             ],
             [
              0.7777777777777778,
              "#fb9f3a"
             ],
             [
              0.8888888888888888,
              "#fdca26"
             ],
             [
              1,
              "#f0f921"
             ]
            ],
            "type": "histogram2dcontour"
           }
          ],
          "mesh3d": [
           {
            "colorbar": {
             "outlinewidth": 0,
             "ticks": ""
            },
            "type": "mesh3d"
           }
          ],
          "parcoords": [
           {
            "line": {
             "colorbar": {
              "outlinewidth": 0,
              "ticks": ""
             }
            },
            "type": "parcoords"
           }
          ],
          "pie": [
           {
            "automargin": true,
            "type": "pie"
           }
          ],
          "scatter": [
           {
            "fillpattern": {
             "fillmode": "overlay",
             "size": 10,
             "solidity": 0.2
            },
            "type": "scatter"
           }
          ],
          "scatter3d": [
           {
            "line": {
             "colorbar": {
              "outlinewidth": 0,
              "ticks": ""
             }
            },
            "marker": {
             "colorbar": {
              "outlinewidth": 0,
              "ticks": ""
             }
            },
            "type": "scatter3d"
           }
          ],
          "scattercarpet": [
           {
            "marker": {
             "colorbar": {
              "outlinewidth": 0,
              "ticks": ""
             }
            },
            "type": "scattercarpet"
           }
          ],
          "scattergeo": [
           {
            "marker": {
             "colorbar": {
              "outlinewidth": 0,
              "ticks": ""
             }
            },
            "type": "scattergeo"
           }
          ],
          "scattergl": [
           {
            "marker": {
             "colorbar": {
              "outlinewidth": 0,
              "ticks": ""
             }
            },
            "type": "scattergl"
           }
          ],
          "scattermapbox": [
           {
            "marker": {
             "colorbar": {
              "outlinewidth": 0,
              "ticks": ""
             }
            },
            "type": "scattermapbox"
           }
          ],
          "scatterpolar": [
           {
            "marker": {
             "colorbar": {
              "outlinewidth": 0,
              "ticks": ""
             }
            },
            "type": "scatterpolar"
           }
          ],
          "scatterpolargl": [
           {
            "marker": {
             "colorbar": {
              "outlinewidth": 0,
              "ticks": ""
             }
            },
            "type": "scatterpolargl"
           }
          ],
          "scatterternary": [
           {
            "marker": {
             "colorbar": {
              "outlinewidth": 0,
              "ticks": ""
             }
            },
            "type": "scatterternary"
           }
          ],
          "surface": [
           {
            "colorbar": {
             "outlinewidth": 0,
             "ticks": ""
            },
            "colorscale": [
             [
              0,
              "#0d0887"
             ],
             [
              0.1111111111111111,
              "#46039f"
             ],
             [
              0.2222222222222222,
              "#7201a8"
             ],
             [
              0.3333333333333333,
              "#9c179e"
             ],
             [
              0.4444444444444444,
              "#bd3786"
             ],
             [
              0.5555555555555556,
              "#d8576b"
             ],
             [
              0.6666666666666666,
              "#ed7953"
             ],
             [
              0.7777777777777778,
              "#fb9f3a"
             ],
             [
              0.8888888888888888,
              "#fdca26"
             ],
             [
              1,
              "#f0f921"
             ]
            ],
            "type": "surface"
           }
          ],
          "table": [
           {
            "cells": {
             "fill": {
              "color": "#EBF0F8"
             },
             "line": {
              "color": "white"
             }
            },
            "header": {
             "fill": {
              "color": "#C8D4E3"
             },
             "line": {
              "color": "white"
             }
            },
            "type": "table"
           }
          ]
         },
         "layout": {
          "annotationdefaults": {
           "arrowcolor": "#2a3f5f",
           "arrowhead": 0,
           "arrowwidth": 1
          },
          "autotypenumbers": "strict",
          "coloraxis": {
           "colorbar": {
            "outlinewidth": 0,
            "ticks": ""
           }
          },
          "colorscale": {
           "diverging": [
            [
             0,
             "#8e0152"
            ],
            [
             0.1,
             "#c51b7d"
            ],
            [
             0.2,
             "#de77ae"
            ],
            [
             0.3,
             "#f1b6da"
            ],
            [
             0.4,
             "#fde0ef"
            ],
            [
             0.5,
             "#f7f7f7"
            ],
            [
             0.6,
             "#e6f5d0"
            ],
            [
             0.7,
             "#b8e186"
            ],
            [
             0.8,
             "#7fbc41"
            ],
            [
             0.9,
             "#4d9221"
            ],
            [
             1,
             "#276419"
            ]
           ],
           "sequential": [
            [
             0,
             "#0d0887"
            ],
            [
             0.1111111111111111,
             "#46039f"
            ],
            [
             0.2222222222222222,
             "#7201a8"
            ],
            [
             0.3333333333333333,
             "#9c179e"
            ],
            [
             0.4444444444444444,
             "#bd3786"
            ],
            [
             0.5555555555555556,
             "#d8576b"
            ],
            [
             0.6666666666666666,
             "#ed7953"
            ],
            [
             0.7777777777777778,
             "#fb9f3a"
            ],
            [
             0.8888888888888888,
             "#fdca26"
            ],
            [
             1,
             "#f0f921"
            ]
           ],
           "sequentialminus": [
            [
             0,
             "#0d0887"
            ],
            [
             0.1111111111111111,
             "#46039f"
            ],
            [
             0.2222222222222222,
             "#7201a8"
            ],
            [
             0.3333333333333333,
             "#9c179e"
            ],
            [
             0.4444444444444444,
             "#bd3786"
            ],
            [
             0.5555555555555556,
             "#d8576b"
            ],
            [
             0.6666666666666666,
             "#ed7953"
            ],
            [
             0.7777777777777778,
             "#fb9f3a"
            ],
            [
             0.8888888888888888,
             "#fdca26"
            ],
            [
             1,
             "#f0f921"
            ]
           ]
          },
          "colorway": [
           "#636efa",
           "#EF553B",
           "#00cc96",
           "#ab63fa",
           "#FFA15A",
           "#19d3f3",
           "#FF6692",
           "#B6E880",
           "#FF97FF",
           "#FECB52"
          ],
          "font": {
           "color": "#2a3f5f"
          },
          "geo": {
           "bgcolor": "white",
           "lakecolor": "white",
           "landcolor": "#E5ECF6",
           "showlakes": true,
           "showland": true,
           "subunitcolor": "white"
          },
          "hoverlabel": {
           "align": "left"
          },
          "hovermode": "closest",
          "mapbox": {
           "style": "light"
          },
          "paper_bgcolor": "white",
          "plot_bgcolor": "#E5ECF6",
          "polar": {
           "angularaxis": {
            "gridcolor": "white",
            "linecolor": "white",
            "ticks": ""
           },
           "bgcolor": "#E5ECF6",
           "radialaxis": {
            "gridcolor": "white",
            "linecolor": "white",
            "ticks": ""
           }
          },
          "scene": {
           "xaxis": {
            "backgroundcolor": "#E5ECF6",
            "gridcolor": "white",
            "gridwidth": 2,
            "linecolor": "white",
            "showbackground": true,
            "ticks": "",
            "zerolinecolor": "white"
           },
           "yaxis": {
            "backgroundcolor": "#E5ECF6",
            "gridcolor": "white",
            "gridwidth": 2,
            "linecolor": "white",
            "showbackground": true,
            "ticks": "",
            "zerolinecolor": "white"
           },
           "zaxis": {
            "backgroundcolor": "#E5ECF6",
            "gridcolor": "white",
            "gridwidth": 2,
            "linecolor": "white",
            "showbackground": true,
            "ticks": "",
            "zerolinecolor": "white"
           }
          },
          "shapedefaults": {
           "line": {
            "color": "#2a3f5f"
           }
          },
          "ternary": {
           "aaxis": {
            "gridcolor": "white",
            "linecolor": "white",
            "ticks": ""
           },
           "baxis": {
            "gridcolor": "white",
            "linecolor": "white",
            "ticks": ""
           },
           "bgcolor": "#E5ECF6",
           "caxis": {
            "gridcolor": "white",
            "linecolor": "white",
            "ticks": ""
           }
          },
          "title": {
           "x": 0.05
          },
          "xaxis": {
           "automargin": true,
           "gridcolor": "white",
           "linecolor": "white",
           "ticks": "",
           "title": {
            "standoff": 15
           },
           "zerolinecolor": "white",
           "zerolinewidth": 2
          },
          "yaxis": {
           "automargin": true,
           "gridcolor": "white",
           "linecolor": "white",
           "ticks": "",
           "title": {
            "standoff": 15
           },
           "zerolinecolor": "white",
           "zerolinewidth": 2
          }
         }
        }
       }
      }
     },
     "metadata": {},
     "output_type": "display_data"
    }
   ],
   "source": [
    "fig = px.parallel_coordinates(df, \n",
    "                            #   color=\"Atomic Radius\",\n",
    "                              dimensions=['Atomic Weight',\n",
    "       \"Atomic Radius\", 'Phase', 'Most Stable Crystal', 'Type', 'Ionic Radius', \n",
    "       'Electronegativity',\n",
    "       'Density', 'Year of Discovery', 'Specific Heat Capacity'],\n",
    "                              color_continuous_scale=px.colors.diverging.Tealrose,\n",
    "                              color_continuous_midpoint=2)\n",
    "fig.show()"
   ]
  }
 ],
 "metadata": {
  "kernelspec": {
   "display_name": "Python 3",
   "language": "python",
   "name": "python3"
  },
  "language_info": {
   "codemirror_mode": {
    "name": "ipython",
    "version": 3
   },
   "file_extension": ".py",
   "mimetype": "text/x-python",
   "name": "python",
   "nbconvert_exporter": "python",
   "pygments_lexer": "ipython3",
   "version": "3.8.10"
  }
 },
 "nbformat": 4,
 "nbformat_minor": 2
}
