{
  "cells": [
    {
      "cell_type": "markdown",
      "metadata": {
        "id": "pZrBq6MYZx-h"
      },
      "source": [
        "# Dados de Entrada\n",
        "* Link: https://tinyurl.com/bigdata-gut-pt\n",
        "* Selecione \"Adicionar ao Drive\"\n",
        "\n",
        "\n",
        "\n"
      ]
    },
    {
      "cell_type": "markdown",
      "metadata": {
        "id": "qKUDHjlNvN1p"
      },
      "source": [
        "# Setup"
      ]
    },
    {
      "cell_type": "code",
      "execution_count": 1,
      "metadata": {
        "id": "SAgm1b_iEW9l",
        "colab": {
          "base_uri": "https://localhost:8080/"
        },
        "outputId": "f4ee830d-efad-43db-b402-3f931ca9acfa"
      },
      "outputs": [
        {
          "output_type": "stream",
          "name": "stdout",
          "text": [
            "Mounted at /content/drive\n"
          ]
        }
      ],
      "source": [
        "from google.colab import drive\n",
        "drive.mount(\"/content/drive\")"
      ]
    },
    {
      "cell_type": "code",
      "execution_count": 2,
      "metadata": {
        "id": "io8C2VOBrhXI",
        "colab": {
          "base_uri": "https://localhost:8080/"
        },
        "outputId": "695df29a-5367-4b68-d075-068b2eea8212"
      },
      "outputs": [
        {
          "output_type": "stream",
          "name": "stdout",
          "text": [
            "Collecting findspark\n",
            "  Downloading findspark-2.0.1-py2.py3-none-any.whl (4.4 kB)\n",
            "Collecting pyspark\n",
            "  Downloading pyspark-3.5.1.tar.gz (317.0 MB)\n",
            "\u001b[2K     \u001b[90m━━━━━━━━━━━━━━━━━━━━━━━━━━━━━━━━━━━━━━━━\u001b[0m \u001b[32m317.0/317.0 MB\u001b[0m \u001b[31m3.4 MB/s\u001b[0m eta \u001b[36m0:00:00\u001b[0m\n",
            "\u001b[?25h  Preparing metadata (setup.py) ... \u001b[?25l\u001b[?25hdone\n",
            "Requirement already satisfied: py4j==0.10.9.7 in /usr/local/lib/python3.10/dist-packages (from pyspark) (0.10.9.7)\n",
            "Building wheels for collected packages: pyspark\n",
            "  Building wheel for pyspark (setup.py) ... \u001b[?25l\u001b[?25hdone\n",
            "  Created wheel for pyspark: filename=pyspark-3.5.1-py2.py3-none-any.whl size=317488491 sha256=272d595a586e8d3b921666d757feda9693e57b5e7be5a375b08dbef54062993a\n",
            "  Stored in directory: /root/.cache/pip/wheels/80/1d/60/2c256ed38dddce2fdd93be545214a63e02fbd8d74fb0b7f3a6\n",
            "Successfully built pyspark\n",
            "Installing collected packages: findspark, pyspark\n",
            "Successfully installed findspark-2.0.1 pyspark-3.5.1\n"
          ]
        }
      ],
      "source": [
        "!apt-get update  > /dev/null\n",
        "!apt-get install openjdk-8-jdk-headless -qq > /dev/null\n",
        "!wget -q https://archive.apache.org/dist/spark/spark-3.5.1/spark-3.5.1-bin-hadoop3.tgz\n",
        "!tar xf spark-3.5.1-bin-hadoop3.tgz\n",
        "!pip install findspark pyspark"
      ]
    },
    {
      "cell_type": "code",
      "execution_count": 3,
      "metadata": {
        "id": "o636IcyBGXA8",
        "colab": {
          "base_uri": "https://localhost:8080/"
        },
        "outputId": "fea49b4a-6468-4045-ead9-69d37921f469"
      },
      "outputs": [
        {
          "output_type": "stream",
          "name": "stdout",
          "text": [
            "env: PYTHONHASHSEED=1234\n",
            "env: JAVA_HOME=/usr/lib/jvm/java-8-openjdk-amd64\n",
            "env: SPARK_HOME=/content/spark-3.5.1-bin-hadoop3\n"
          ]
        }
      ],
      "source": [
        "%env PYTHONHASHSEED=1234\n",
        "%env JAVA_HOME=/usr/lib/jvm/java-8-openjdk-amd64\n",
        "%env SPARK_HOME=/content/spark-3.5.1-bin-hadoop3"
      ]
    },
    {
      "cell_type": "code",
      "execution_count": 4,
      "metadata": {
        "id": "W0gLXPcaY8L6"
      },
      "outputs": [],
      "source": [
        "import findspark\n",
        "findspark.init(\"/content/spark-3.5.1-bin-hadoop3\")"
      ]
    },
    {
      "cell_type": "code",
      "execution_count": 5,
      "metadata": {
        "id": "umR86cbmZAQv"
      },
      "outputs": [],
      "source": [
        "from pyspark.sql import SparkSession\n",
        "\n",
        "from datetime import datetime\n",
        "\n",
        "appName = 'Big Data'\n",
        "master = 'local'\n",
        "\n",
        "spark = SparkSession.builder     \\\n",
        "    .master(master) \\\n",
        "    .appName(appName) \\\n",
        "    .getOrCreate()\n",
        "\n",
        "spark.sparkContext.setLogLevel(\"WARN\")"
      ]
    },
    {
      "cell_type": "markdown",
      "metadata": {
        "id": "8N9zp-0pmJEj"
      },
      "source": [
        "# Entradas de teste e validação\n",
        "\n",
        "Os comandos abaixo criam duas entradas para desenvolvimento e validação no diretório `entradas_teste`:\n",
        "\n",
        "*   Arquivo A.txt: \"Um carro está dirigindo na rua.\"\n",
        "*   Arquivo B.txt: \"Um caminhão está dirigindo na rodovia.\"\n",
        "*   Arquivo C.txt: \"Um motorista encontrou com outro motorista.\"\n",
        "\n",
        "O resultado esperado para a etapa de cálculo de TF para estes arquivos é:\n",
        "\n",
        "```\n",
        "[(('A.txt', 'um'), 0.16666666666666666),\n",
        " (('A.txt', 'carro'), 0.16666666666666666),\n",
        " (('A.txt', 'está'), 0.16666666666666666),\n",
        " (('A.txt', 'dirigindo'), 0.16666666666666666),\n",
        " (('A.txt', 'na'), 0.16666666666666666),\n",
        " (('A.txt', 'rua'), 0.16666666666666666),\n",
        " (('B.txt', 'um'), 0.16666666666666666),\n",
        " (('B.txt', 'caminhão'), 0.16666666666666666),\n",
        " (('B.txt', 'está'), 0.16666666666666666),\n",
        " (('B.txt', 'dirigindo'), 0.16666666666666666),\n",
        " (('B.txt', 'na'), 0.16666666666666666),\n",
        " (('B.txt', 'rodovia'), 0.16666666666666666),\n",
        " (('C.txt', 'um'), 0.16666666666666666),\n",
        " (('C.txt', 'motorista'), 0.3333333333333333),\n",
        " (('C.txt', 'encontrou'), 0.16666666666666666),\n",
        " (('C.txt', 'com'), 0.16666666666666666),\n",
        " (('C.txt', 'outro'), 0.16666666666666666)]\n",
        " ```\n",
        "\n",
        " O resultado esperado para o cálculo de IDF é:\n",
        "\n",
        "````\n",
        "[('um', 0.0),\n",
        " ('carro', 1.0986122886681098),\n",
        " ('está', 0.4054651081081644),\n",
        " ('dirigindo', 0.4054651081081644),\n",
        " ('na', 0.4054651081081644),\n",
        " ('rua', 1.0986122886681098),\n",
        " ('caminhão', 1.0986122886681098),\n",
        " ('rodovia', 1.0986122886681098),\n",
        " ('motorista', 1.0986122886681098),\n",
        " ('encontrou', 1.0986122886681098),\n",
        " ('com', 1.0986122886681098),\n",
        " ('outro', 1.0986122886681098)]\n",
        " ````\n",
        "\n",
        "Finalmente, o resultado final (TD IDF ordenado) esperado é:\n",
        "\n",
        "```\n",
        "[(('C.txt', 'motorista'), 0.37),\n",
        " (('B.txt', 'caminhão'), 0.18),\n",
        " (('B.txt', 'rodovia'), 0.18),\n",
        " (('C.txt', 'encontrou'), 0.18),\n",
        " (('C.txt', 'com'), 0.18),\n",
        " (('C.txt', 'outro'), 0.18),\n",
        " (('A.txt', 'carro'), 0.18),\n",
        " (('A.txt', 'rua'), 0.18),\n",
        " (('A.txt', 'está'), 0.07),\n",
        " (('B.txt', 'está'), 0.07),\n",
        " (('A.txt', 'dirigindo'), 0.07),\n",
        " (('B.txt', 'dirigindo'), 0.07),\n",
        " (('A.txt', 'na'), 0.07),\n",
        " (('B.txt', 'na'), 0.07),\n",
        " (('A.txt', 'um'), 0.0),\n",
        " (('B.txt', 'um'), 0.0),\n",
        " (('C.txt', 'um'), 0.0)]\n",
        "```\n",
        "\n",
        "Use estas entradas para desenvolvimento, testes, e validação. Para a solução final, processe todos os arquivos no diretório `all` do pacote de dados.\n"
      ]
    },
    {
      "cell_type": "code",
      "execution_count": 6,
      "metadata": {
        "id": "xhnasJeFIMP6"
      },
      "outputs": [],
      "source": [
        "!mkdir entradas_teste"
      ]
    },
    {
      "cell_type": "code",
      "execution_count": 7,
      "metadata": {
        "id": "qF8tdmE3fz4R",
        "colab": {
          "base_uri": "https://localhost:8080/"
        },
        "outputId": "11ac4962-7f31-4ec8-af66-d6f7dd73b497"
      },
      "outputs": [
        {
          "output_type": "stream",
          "name": "stdout",
          "text": [
            "rm: cannot remove 'entradas_teste/*': No such file or directory\n"
          ]
        }
      ],
      "source": [
        "!rm entradas_teste/*"
      ]
    },
    {
      "cell_type": "code",
      "execution_count": 8,
      "metadata": {
        "id": "RsImx0Foe72L"
      },
      "outputs": [],
      "source": [
        "!echo \"Um carro está dirigindo na rua.\" >> entradas_teste/A.txt"
      ]
    },
    {
      "cell_type": "code",
      "execution_count": 9,
      "metadata": {
        "id": "By7CBb75fAIv"
      },
      "outputs": [],
      "source": [
        "!echo \"Um caminhão está dirigindo na rodovia.\" >> entradas_teste/B.txt"
      ]
    },
    {
      "cell_type": "code",
      "execution_count": 10,
      "metadata": {
        "id": "9tJakBvu5F_y"
      },
      "outputs": [],
      "source": [
        "!echo \"Um motorista encontrou com outro motorista.\" >> entradas_teste/C.txt"
      ]
    },
    {
      "cell_type": "markdown",
      "metadata": {
        "id": "vCld0ByDIM1c"
      },
      "source": [
        "# Solução"
      ]
    },
    {
      "cell_type": "code",
      "source": [
        "input_dir = \"/content/entradas_teste/\"\n",
        "input_files = spark.sparkContext.wholeTextFiles(input_dir + \"*\")"
      ],
      "metadata": {
        "id": "CJWcVGqaoehB"
      },
      "execution_count": 11,
      "outputs": []
    },
    {
      "cell_type": "code",
      "source": [
        "input_files.take(3)"
      ],
      "metadata": {
        "colab": {
          "base_uri": "https://localhost:8080/"
        },
        "id": "T0MxpUXloedj",
        "outputId": "95db06e1-5a74-44dc-91b0-6347896e1024"
      },
      "execution_count": 108,
      "outputs": [
        {
          "output_type": "execute_result",
          "data": {
            "text/plain": [
              "[('file:/content/entradas_teste/A.txt', 'Um carro está dirigindo na rua.\\n'),\n",
              " ('file:/content/entradas_teste/B.txt',\n",
              "  'Um caminhão está dirigindo na rodovia.\\n'),\n",
              " ('file:/content/entradas_teste/C.txt',\n",
              "  'Um motorista encontrou com outro motorista.\\n')]"
            ]
          },
          "metadata": {},
          "execution_count": 108
        }
      ]
    },
    {
      "cell_type": "code",
      "source": [
        "D = input_files.count()"
      ],
      "metadata": {
        "id": "oXxbY3122U5C"
      },
      "execution_count": 142,
      "outputs": []
    },
    {
      "cell_type": "code",
      "source": [
        "import re\n",
        "\n",
        "def process_file(file):\n",
        "\n",
        "    filename, text = file[0], file[1]\n",
        "\n",
        "    filename = re.sub(input_dir, \"\", filename)\n",
        "\n",
        "    text = re.sub(\"\\*End of .*Project Gutenberg.*\", \"\", text, flags=re.IGNORECASE|re.DOTALL)\n",
        "    text = re.sub(\"[^a-zà-ù ]\", \" \", text.lower())\n",
        "\n",
        "    words = text.split()\n",
        "    for w in words :\n",
        "        yield ((filename, w), 1 / len(words))"
      ],
      "metadata": {
        "id": "_w5pVWHsoeaw"
      },
      "execution_count": 22,
      "outputs": []
    },
    {
      "cell_type": "code",
      "source": [
        "wp = input_files.flatMap(process_file)"
      ],
      "metadata": {
        "id": "o0SjMSg0oeYH"
      },
      "execution_count": 23,
      "outputs": []
    },
    {
      "cell_type": "code",
      "source": [
        "wp.take(2)"
      ],
      "metadata": {
        "colab": {
          "base_uri": "https://localhost:8080/"
        },
        "id": "fNusgBKooeVj",
        "outputId": "6d8c9555-7cde-43d8-be4c-78a56a88cbb9"
      },
      "execution_count": 24,
      "outputs": [
        {
          "output_type": "execute_result",
          "data": {
            "text/plain": [
              "[(('file:A.txt', 'um'), 0.16666666666666666),\n",
              " (('file:A.txt', 'carro'), 0.16666666666666666)]"
            ]
          },
          "metadata": {},
          "execution_count": 24
        }
      ]
    },
    {
      "cell_type": "code",
      "source": [
        "wtf = wp.reduceByKey(lambda acc, value: acc + value)"
      ],
      "metadata": {
        "id": "ohwoR85ioeS1"
      },
      "execution_count": 25,
      "outputs": []
    },
    {
      "cell_type": "code",
      "source": [
        "wtf.take(20)"
      ],
      "metadata": {
        "colab": {
          "base_uri": "https://localhost:8080/"
        },
        "id": "lECJCzg2p9nf",
        "outputId": "508f7a9b-863c-46fd-9b4b-f78aa2992272"
      },
      "execution_count": 26,
      "outputs": [
        {
          "output_type": "execute_result",
          "data": {
            "text/plain": [
              "[(('file:A.txt', 'um'), 0.16666666666666666),\n",
              " (('file:A.txt', 'carro'), 0.16666666666666666),\n",
              " (('file:A.txt', 'está'), 0.16666666666666666),\n",
              " (('file:A.txt', 'dirigindo'), 0.16666666666666666),\n",
              " (('file:A.txt', 'na'), 0.16666666666666666),\n",
              " (('file:A.txt', 'rua'), 0.16666666666666666),\n",
              " (('file:B.txt', 'um'), 0.16666666666666666),\n",
              " (('file:B.txt', 'caminhão'), 0.16666666666666666),\n",
              " (('file:B.txt', 'está'), 0.16666666666666666),\n",
              " (('file:B.txt', 'dirigindo'), 0.16666666666666666),\n",
              " (('file:B.txt', 'na'), 0.16666666666666666),\n",
              " (('file:B.txt', 'rodovia'), 0.16666666666666666),\n",
              " (('file:C.txt', 'um'), 0.16666666666666666),\n",
              " (('file:C.txt', 'motorista'), 0.3333333333333333),\n",
              " (('file:C.txt', 'encontrou'), 0.16666666666666666),\n",
              " (('file:C.txt', 'com'), 0.16666666666666666),\n",
              " (('file:C.txt', 'outro'), 0.16666666666666666)]"
            ]
          },
          "metadata": {},
          "execution_count": 26
        }
      ]
    },
    {
      "cell_type": "code",
      "source": [
        "def process_file_adjusted(file):\n",
        "\n",
        "    filename, text = file[0], file[1]\n",
        "\n",
        "    filename = re.sub(input_dir, \"\", filename)\n",
        "\n",
        "    text = re.sub(\"\\*End of .*Project Gutenberg.*\", \"\", text, flags=re.IGNORECASE|re.DOTALL)\n",
        "    text = re.sub(\"[^a-zà-ù ]\", \" \", text.lower())\n",
        "\n",
        "    words = text.split()\n",
        "    for w in words :\n",
        "        yield (w, filename)"
      ],
      "metadata": {
        "id": "8e1kFyeGp9kY"
      },
      "execution_count": 27,
      "outputs": []
    },
    {
      "cell_type": "code",
      "source": [
        "term_file = input_files.flatMap(process_file_adjusted)"
      ],
      "metadata": {
        "id": "HJMmk_03p9iN"
      },
      "execution_count": 28,
      "outputs": []
    },
    {
      "cell_type": "code",
      "source": [
        "term_file.take(10)"
      ],
      "metadata": {
        "colab": {
          "base_uri": "https://localhost:8080/"
        },
        "id": "opd_YM_7p9fd",
        "outputId": "10f43ddb-cac0-45fe-e971-8c3c70844b70"
      },
      "execution_count": 30,
      "outputs": [
        {
          "output_type": "execute_result",
          "data": {
            "text/plain": [
              "[('um', 'file:A.txt'),\n",
              " ('carro', 'file:A.txt'),\n",
              " ('está', 'file:A.txt'),\n",
              " ('dirigindo', 'file:A.txt'),\n",
              " ('na', 'file:A.txt'),\n",
              " ('rua', 'file:A.txt'),\n",
              " ('um', 'file:B.txt'),\n",
              " ('caminhão', 'file:B.txt'),\n",
              " ('está', 'file:B.txt'),\n",
              " ('dirigindo', 'file:B.txt')]"
            ]
          },
          "metadata": {},
          "execution_count": 30
        }
      ]
    },
    {
      "cell_type": "code",
      "source": [
        "def agg_element(acc, file):\n",
        "    return acc.union({file})\n",
        "\n",
        "def agg_partials(acc1, acc2):\n",
        "    return None # acc1.union(acc2)\n",
        "\n",
        "term_file_agg = term_file.aggregateByKey(set(), agg_element, agg_partials)\n",
        "term_file_agg.take(20)"
      ],
      "metadata": {
        "colab": {
          "base_uri": "https://localhost:8080/"
        },
        "id": "KaP0Flvr_3Ix",
        "outputId": "00a4c77d-d452-454e-a85e-5468153d949d"
      },
      "execution_count": 112,
      "outputs": [
        {
          "output_type": "execute_result",
          "data": {
            "text/plain": [
              "[('um', {'file:A.txt', 'file:B.txt', 'file:C.txt'}),\n",
              " ('carro', {'file:A.txt'}),\n",
              " ('está', {'file:A.txt', 'file:B.txt'}),\n",
              " ('dirigindo', {'file:A.txt', 'file:B.txt'}),\n",
              " ('na', {'file:A.txt', 'file:B.txt'}),\n",
              " ('rua', {'file:A.txt'}),\n",
              " ('caminhão', {'file:B.txt'}),\n",
              " ('rodovia', {'file:B.txt'}),\n",
              " ('motorista', {'file:C.txt'}),\n",
              " ('encontrou', {'file:C.txt'}),\n",
              " ('com', {'file:C.txt'}),\n",
              " ('outro', {'file:C.txt'})]"
            ]
          },
          "metadata": {},
          "execution_count": 112
        }
      ]
    },
    {
      "cell_type": "code",
      "source": [
        "term_file_count = term_file_agg.mapValues(len)\n",
        "term_file_count.take(20)"
      ],
      "metadata": {
        "colab": {
          "base_uri": "https://localhost:8080/"
        },
        "id": "7WgjF7S-Be0o",
        "outputId": "99e69f49-8102-4837-9225-f19e8745f30f"
      },
      "execution_count": 113,
      "outputs": [
        {
          "output_type": "execute_result",
          "data": {
            "text/plain": [
              "[('um', 3),\n",
              " ('carro', 1),\n",
              " ('está', 2),\n",
              " ('dirigindo', 2),\n",
              " ('na', 2),\n",
              " ('rua', 1),\n",
              " ('caminhão', 1),\n",
              " ('rodovia', 1),\n",
              " ('motorista', 1),\n",
              " ('encontrou', 1),\n",
              " ('com', 1),\n",
              " ('outro', 1)]"
            ]
          },
          "metadata": {},
          "execution_count": 113
        }
      ]
    },
    {
      "cell_type": "code",
      "source": [
        "term_file_partial = term_file_agg.join(term_file_count)\n",
        "term_file_partial.take(20)"
      ],
      "metadata": {
        "colab": {
          "base_uri": "https://localhost:8080/"
        },
        "id": "SFwJDpriBkj9",
        "outputId": "ea800c12-7fe0-442e-987b-372b15800988"
      },
      "execution_count": 136,
      "outputs": [
        {
          "output_type": "execute_result",
          "data": {
            "text/plain": [
              "[('um', ({'file:A.txt', 'file:B.txt', 'file:C.txt'}, 3)),\n",
              " ('carro', ({'file:A.txt'}, 1)),\n",
              " ('está', ({'file:A.txt', 'file:B.txt'}, 2)),\n",
              " ('dirigindo', ({'file:A.txt', 'file:B.txt'}, 2)),\n",
              " ('na', ({'file:A.txt', 'file:B.txt'}, 2)),\n",
              " ('rua', ({'file:A.txt'}, 1)),\n",
              " ('caminhão', ({'file:B.txt'}, 1)),\n",
              " ('rodovia', ({'file:B.txt'}, 1)),\n",
              " ('motorista', ({'file:C.txt'}, 1)),\n",
              " ('encontrou', ({'file:C.txt'}, 1)),\n",
              " ('com', ({'file:C.txt'}, 1)),\n",
              " ('outro', ({'file:C.txt'}, 1))]"
            ]
          },
          "metadata": {},
          "execution_count": 136
        }
      ]
    },
    {
      "cell_type": "code",
      "source": [
        "term_file = term_file_partial.map(lambda value: (value[0], value[1][1]))\n",
        "term_file.take(20)"
      ],
      "metadata": {
        "colab": {
          "base_uri": "https://localhost:8080/"
        },
        "id": "LG1eJc28B5Wr",
        "outputId": "94759893-2a92-4d14-c141-bde0a45b1be2"
      },
      "execution_count": 137,
      "outputs": [
        {
          "output_type": "execute_result",
          "data": {
            "text/plain": [
              "[('um', 3),\n",
              " ('carro', 1),\n",
              " ('está', 2),\n",
              " ('dirigindo', 2),\n",
              " ('na', 2),\n",
              " ('rua', 1),\n",
              " ('caminhão', 1),\n",
              " ('rodovia', 1),\n",
              " ('motorista', 1),\n",
              " ('encontrou', 1),\n",
              " ('com', 1),\n",
              " ('outro', 1)]"
            ]
          },
          "metadata": {},
          "execution_count": 137
        }
      ]
    },
    {
      "cell_type": "code",
      "source": [
        "import math\n",
        "\n",
        "w_idf = term_file.mapValues(lambda value: math.log(D / value))"
      ],
      "metadata": {
        "id": "queGrUO_xYti"
      },
      "execution_count": 138,
      "outputs": []
    },
    {
      "cell_type": "code",
      "source": [
        "w_idf.take(20)"
      ],
      "metadata": {
        "colab": {
          "base_uri": "https://localhost:8080/"
        },
        "id": "_bvPym99xYqj",
        "outputId": "7f676e39-8cb9-4edc-d331-8ebacb6f2ee8"
      },
      "execution_count": 123,
      "outputs": [
        {
          "output_type": "execute_result",
          "data": {
            "text/plain": [
              "[('um', 0.0),\n",
              " ('carro', 1.0986122886681098),\n",
              " ('está', 0.4054651081081644),\n",
              " ('dirigindo', 0.4054651081081644),\n",
              " ('na', 0.4054651081081644),\n",
              " ('rua', 1.0986122886681098),\n",
              " ('caminhão', 1.0986122886681098),\n",
              " ('rodovia', 1.0986122886681098),\n",
              " ('motorista', 1.0986122886681098),\n",
              " ('encontrou', 1.0986122886681098),\n",
              " ('com', 1.0986122886681098),\n",
              " ('outro', 1.0986122886681098)]"
            ]
          },
          "metadata": {},
          "execution_count": 123
        }
      ]
    },
    {
      "cell_type": "code",
      "source": [
        "0.3333333333333333 * 1.0986122886681098"
      ],
      "metadata": {
        "colab": {
          "base_uri": "https://localhost:8080/"
        },
        "id": "cSAwTk92-wbt",
        "outputId": "63c198d5-dd21-43be-936c-0d8d7d9361fa"
      },
      "execution_count": 124,
      "outputs": [
        {
          "output_type": "execute_result",
          "data": {
            "text/plain": [
              "0.3662040962227032"
            ]
          },
          "metadata": {},
          "execution_count": 124
        }
      ]
    },
    {
      "cell_type": "code",
      "source": [
        "wtf.take(3)"
      ],
      "metadata": {
        "colab": {
          "base_uri": "https://localhost:8080/"
        },
        "id": "0StZoo7F5rNn",
        "outputId": "d9352d14-ef07-45db-ff8c-63f05de80561"
      },
      "execution_count": 125,
      "outputs": [
        {
          "output_type": "execute_result",
          "data": {
            "text/plain": [
              "[(('file:A.txt', 'um'), 0.16666666666666666),\n",
              " (('file:A.txt', 'carro'), 0.16666666666666666),\n",
              " (('file:A.txt', 'está'), 0.16666666666666666)]"
            ]
          },
          "metadata": {},
          "execution_count": 125
        }
      ]
    },
    {
      "cell_type": "code",
      "source": [
        "wtf_adjusted = wtf.map(lambda value: (value[0][1], (value[0][0], value[1])))"
      ],
      "metadata": {
        "id": "9uqr3bFg5qEJ"
      },
      "execution_count": 126,
      "outputs": []
    },
    {
      "cell_type": "code",
      "source": [
        "wtf_adjusted.take(1)"
      ],
      "metadata": {
        "colab": {
          "base_uri": "https://localhost:8080/"
        },
        "id": "cyvwpB598ELD",
        "outputId": "ec19f357-a804-4281-fac3-03563cb03c54"
      },
      "execution_count": 127,
      "outputs": [
        {
          "output_type": "execute_result",
          "data": {
            "text/plain": [
              "[('um', ('file:A.txt', 0.16666666666666666))]"
            ]
          },
          "metadata": {},
          "execution_count": 127
        }
      ]
    },
    {
      "cell_type": "code",
      "source": [
        "w_tfidf = wtf_adjusted.join(w_idf)"
      ],
      "metadata": {
        "id": "cLjV55Sf3uBX"
      },
      "execution_count": 139,
      "outputs": []
    },
    {
      "cell_type": "code",
      "source": [
        "w_tfidf.take(1)"
      ],
      "metadata": {
        "colab": {
          "base_uri": "https://localhost:8080/"
        },
        "id": "YZmvBMlC6vpX",
        "outputId": "d3f07a77-3da9-429e-c652-5952b10ebe74"
      },
      "execution_count": 129,
      "outputs": [
        {
          "output_type": "execute_result",
          "data": {
            "text/plain": [
              "[('está', (('file:A.txt', 0.16666666666666666), 0.4054651081081644))]"
            ]
          },
          "metadata": {},
          "execution_count": 129
        }
      ]
    },
    {
      "cell_type": "code",
      "source": [
        "0.16666666666666666 * 0.4054651081081644"
      ],
      "metadata": {
        "colab": {
          "base_uri": "https://localhost:8080/"
        },
        "id": "5Fkv9T1H8NJX",
        "outputId": "7338f6d7-75aa-4c39-b1d5-b6a746d35a5f"
      },
      "execution_count": 80,
      "outputs": [
        {
          "output_type": "execute_result",
          "data": {
            "text/plain": [
              "0.06757751801802739"
            ]
          },
          "metadata": {},
          "execution_count": 80
        }
      ]
    },
    {
      "cell_type": "code",
      "source": [
        "w_tfidf_adjusted = w_tfidf.map(lambda value: ( (value[1][0][0], value[0] ), value[1][0][1] * value[1][1]) )"
      ],
      "metadata": {
        "id": "HpEC47f83t-V"
      },
      "execution_count": 130,
      "outputs": []
    },
    {
      "cell_type": "code",
      "source": [
        "tfidf_sorted = w_tfidf_adjusted.mapValues(lambda value: round(value, 2))\\\n",
        "                    .sortBy(lambda value: value[1], ascending=False)"
      ],
      "metadata": {
        "id": "WdgkkwxM9Gtg"
      },
      "execution_count": 131,
      "outputs": []
    },
    {
      "cell_type": "code",
      "source": [
        "tfidf_sorted.collect()"
      ],
      "metadata": {
        "colab": {
          "base_uri": "https://localhost:8080/"
        },
        "id": "8in-XgDl3t7z",
        "outputId": "c24e6d94-296f-4e8a-d56c-9b46786dbb21"
      },
      "execution_count": 132,
      "outputs": [
        {
          "output_type": "execute_result",
          "data": {
            "text/plain": [
              "[(('file:C.txt', 'motorista'), 0.37),\n",
              " (('file:B.txt', 'caminhão'), 0.18),\n",
              " (('file:B.txt', 'rodovia'), 0.18),\n",
              " (('file:C.txt', 'encontrou'), 0.18),\n",
              " (('file:C.txt', 'com'), 0.18),\n",
              " (('file:C.txt', 'outro'), 0.18),\n",
              " (('file:A.txt', 'carro'), 0.18),\n",
              " (('file:A.txt', 'rua'), 0.18),\n",
              " (('file:A.txt', 'está'), 0.07),\n",
              " (('file:B.txt', 'está'), 0.07),\n",
              " (('file:A.txt', 'dirigindo'), 0.07),\n",
              " (('file:B.txt', 'dirigindo'), 0.07),\n",
              " (('file:A.txt', 'na'), 0.07),\n",
              " (('file:B.txt', 'na'), 0.07),\n",
              " (('file:A.txt', 'um'), 0.0),\n",
              " (('file:B.txt', 'um'), 0.0),\n",
              " (('file:C.txt', 'um'), 0.0)]"
            ]
          },
          "metadata": {},
          "execution_count": 132
        }
      ]
    },
    {
      "cell_type": "code",
      "execution_count": 140,
      "metadata": {
        "id": "L5haJj2U-0D_"
      },
      "outputs": [],
      "source": [
        "# Conjunto completo (para solução final)\n",
        "input_dir = \"/content/drive/MyDrive/Colab Notebooks/gut-pt/all/\"\n",
        "\n",
        "# Conjunto menor (para desenvolvimento)\n",
        "small_input_dir = \"/content/drive/MyDrive/Colab Notebooks/gut-pt/small/\"\n",
        "\n",
        "# Entradas teste (para testes e verificação)\n",
        "test_dir = \"/content/entradas_teste/\""
      ]
    },
    {
      "cell_type": "code",
      "source": [
        "import re\n",
        "import math\n",
        "\n",
        "\n",
        "def process_file(file):\n",
        "\n",
        "    filename, text = file[0], file[1]\n",
        "\n",
        "    filename = re.sub(input_dir, \"\", filename)\n",
        "\n",
        "    text = re.sub(\"\\*End of .*Project Gutenberg.*\", \"\", text, flags=re.IGNORECASE|re.DOTALL)\n",
        "    text = re.sub(\"[^a-zà-ù ]\", \" \", text.lower())\n",
        "\n",
        "    words = text.split()\n",
        "    for w in words :\n",
        "        yield ((filename, w), 1 / len(words))\n",
        "\n",
        "def process_file_adjusted(file):\n",
        "\n",
        "    filename, text = file[0], file[1]\n",
        "\n",
        "    filename = re.sub(input_dir, \"\", filename)\n",
        "\n",
        "    text = re.sub(\"\\*End of .*Project Gutenberg.*\", \"\", text, flags=re.IGNORECASE|re.DOTALL)\n",
        "    text = re.sub(\"[^a-zà-ù ]\", \" \", text.lower())\n",
        "\n",
        "    words = text.split()\n",
        "    for w in words :\n",
        "        yield (w, filename)\n",
        "\n",
        "def agg_element(acc, file):\n",
        "    return acc.union({file})\n",
        "\n",
        "def agg_partials(acc1, acc2):\n",
        "    return None"
      ],
      "metadata": {
        "id": "i4lTgwHkD0fu"
      },
      "execution_count": 143,
      "outputs": []
    },
    {
      "cell_type": "code",
      "source": [
        "input_files = spark.sparkContext.wholeTextFiles(small_input_dir+\"*\")\n",
        "D = input_files.count()"
      ],
      "metadata": {
        "id": "y8Lk3ngnD-Uj"
      },
      "execution_count": 144,
      "outputs": []
    },
    {
      "cell_type": "code",
      "source": [
        "wp = input_files.flatMap(process_file)\n",
        "wtf = wp.reduceByKey(lambda acc, value: acc + value)\n",
        "term_file = input_files.flatMap(process_file_adjusted)\n",
        "\n",
        "term_file_agg = term_file.aggregateByKey(set(), agg_element, agg_partials)\n",
        "term_file_count = term_file_agg.mapValues(len)\n",
        "term_file_partial = term_file_agg.join(term_file_count)\n",
        "term_file = term_file_partial.map(lambda value: (value[0], value[1][1]))\n",
        "\n",
        "\n",
        "w_idf = term_file.mapValues(lambda value: math.log(D / value))\n",
        "\n",
        "wtf_adjusted = wtf.map(lambda value: (value[0][1], (value[0][0], value[1])))\n",
        "\n",
        "w_tfidf = wtf_adjusted.join(w_idf)\n",
        "w_tfidf_adjusted = w_tfidf.map(lambda value: ( (value[1][0][0], value[0] ), value[1][0][1] * value[1][1]) )\n",
        "\n",
        "tfidf_sorted = w_tfidf_adjusted.mapValues(lambda value: round(value, 2))\\\n",
        "                    .sortBy(lambda value: value[1], ascending=False)"
      ],
      "metadata": {
        "id": "BR1Z9H0SD5Fd"
      },
      "execution_count": 145,
      "outputs": []
    },
    {
      "cell_type": "code",
      "execution_count": 146,
      "metadata": {
        "id": "lYV-sfHedrgr",
        "colab": {
          "base_uri": "https://localhost:8080/"
        },
        "outputId": "5824ced7-7bbf-4101-c227-92590584270f"
      },
      "outputs": [
        {
          "output_type": "execute_result",
          "data": {
            "text/plain": [
              "[(('file:/content/drive/MyDrive/Colab Notebooks/gut-pt/small/u-55682-8',\n",
              "   'rubião'),\n",
              "  0.01),\n",
              " (('file:/content/drive/MyDrive/Colab Notebooks/gut-pt/small/u-27350-8',\n",
              "   'gutenberg'),\n",
              "  0.0),\n",
              " (('file:/content/drive/MyDrive/Colab Notebooks/gut-pt/small/u-29040-8',\n",
              "   'gutenberg'),\n",
              "  0.0),\n",
              " (('file:/content/drive/MyDrive/Colab Notebooks/gut-pt/small/u-33056-8',\n",
              "   'gutenberg'),\n",
              "  0.0),\n",
              " (('file:/content/drive/MyDrive/Colab Notebooks/gut-pt/small/u-54829-8',\n",
              "   'gutenberg'),\n",
              "  0.0),\n",
              " (('file:/content/drive/MyDrive/Colab Notebooks/gut-pt/small/u-55682-8',\n",
              "   'gutenberg'),\n",
              "  0.0),\n",
              " (('file:/content/drive/MyDrive/Colab Notebooks/gut-pt/small/u-27350-8',\n",
              "   'ebook'),\n",
              "  0.0),\n",
              " (('file:/content/drive/MyDrive/Colab Notebooks/gut-pt/small/u-29040-8',\n",
              "   'ebook'),\n",
              "  0.0),\n",
              " (('file:/content/drive/MyDrive/Colab Notebooks/gut-pt/small/u-33056-8',\n",
              "   'ebook'),\n",
              "  0.0),\n",
              " (('file:/content/drive/MyDrive/Colab Notebooks/gut-pt/small/u-54829-8',\n",
              "   'ebook'),\n",
              "  0.0)]"
            ]
          },
          "metadata": {},
          "execution_count": 146
        }
      ],
      "source": [
        "tfidf_sorted.take(10)"
      ]
    },
    {
      "cell_type": "code",
      "execution_count": null,
      "metadata": {
        "id": "R-0AbnBc_o6d"
      },
      "outputs": [],
      "source": []
    }
  ],
  "metadata": {
    "colab": {
      "provenance": []
    },
    "kernelspec": {
      "display_name": "Python 3",
      "name": "python3"
    }
  },
  "nbformat": 4,
  "nbformat_minor": 0
}