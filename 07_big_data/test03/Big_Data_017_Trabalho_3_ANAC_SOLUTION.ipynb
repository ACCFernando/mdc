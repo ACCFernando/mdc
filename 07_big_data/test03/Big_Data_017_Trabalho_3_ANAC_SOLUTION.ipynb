{
  "nbformat": 4,
  "nbformat_minor": 0,
  "metadata": {
    "colab": {
      "provenance": []
    },
    "kernelspec": {
      "name": "python3",
      "display_name": "Python 3"
    }
  },
  "cells": [
    {
      "cell_type": "markdown",
      "metadata": {
        "id": "pZrBq6MYZx-h"
      },
      "source": [
        "# Dados de Entrada\n",
        "* Selecione \"Adicionar ao Drive\"\n",
        "  *   https://tinyurl.com/bd-anac\n",
        "\n",
        "\n",
        "\n",
        "\n",
        "\n"
      ]
    },
    {
      "cell_type": "markdown",
      "metadata": {
        "id": "8b0DSUv3g0WJ"
      },
      "source": [
        "## Acesso ao Drive"
      ]
    },
    {
      "cell_type": "code",
      "metadata": {
        "id": "SAgm1b_iEW9l",
        "colab": {
          "base_uri": "https://localhost:8080/"
        },
        "outputId": "36638b95-c969-4859-b0f9-4741a583984e"
      },
      "source": [
        "from google.colab import drive\n",
        "drive.mount(\"/content/drive\")"
      ],
      "execution_count": 1,
      "outputs": [
        {
          "output_type": "stream",
          "name": "stdout",
          "text": [
            "Drive already mounted at /content/drive; to attempt to forcibly remount, call drive.mount(\"/content/drive\", force_remount=True).\n"
          ]
        }
      ]
    },
    {
      "cell_type": "markdown",
      "metadata": {
        "id": "qKUDHjlNvN1p"
      },
      "source": [
        "# Setup"
      ]
    },
    {
      "cell_type": "markdown",
      "metadata": {
        "id": "kNY4NS1pgk9N"
      },
      "source": [
        "## Instalação de pacotes"
      ]
    },
    {
      "cell_type": "code",
      "metadata": {
        "id": "io8C2VOBrhXI",
        "colab": {
          "base_uri": "https://localhost:8080/"
        },
        "outputId": "e3c6f3e3-c085-4507-e8ef-95ae6b86cb84"
      },
      "source": [
        "!apt-get update  > /dev/null\n",
        "!apt-get install openjdk-8-jdk-headless -qq > /dev/null\n",
        "!wget -q https://archive.apache.org/dist/spark/spark-3.5.1/spark-3.5.1-bin-hadoop3.tgz\n",
        "!tar xf spark-3.5.1-bin-hadoop3.tgz\n",
        "!pip install findspark pyspark"
      ],
      "execution_count": 2,
      "outputs": [
        {
          "output_type": "stream",
          "name": "stdout",
          "text": [
            "Requirement already satisfied: findspark in /usr/local/lib/python3.10/dist-packages (2.0.1)\n",
            "Requirement already satisfied: pyspark in /usr/local/lib/python3.10/dist-packages (3.5.1)\n",
            "Requirement already satisfied: py4j==0.10.9.7 in /usr/local/lib/python3.10/dist-packages (from pyspark) (0.10.9.7)\n"
          ]
        }
      ]
    },
    {
      "cell_type": "markdown",
      "metadata": {
        "id": "b6uaGuaAvePq"
      },
      "source": [
        "## Preparação do ambiente"
      ]
    },
    {
      "cell_type": "code",
      "metadata": {
        "id": "o636IcyBGXA8",
        "colab": {
          "base_uri": "https://localhost:8080/"
        },
        "outputId": "69415b2a-ce17-4791-888a-e3cf15819776"
      },
      "source": [
        "%env PYTHONHASHSEED=1234\n",
        "%env JAVA_HOME=/usr/lib/jvm/java-8-openjdk-amd64\n",
        "%env SPARK_HOME=/content/spark-3.5.1-bin-hadoop3"
      ],
      "execution_count": 3,
      "outputs": [
        {
          "output_type": "stream",
          "name": "stdout",
          "text": [
            "env: PYTHONHASHSEED=1234\n",
            "env: JAVA_HOME=/usr/lib/jvm/java-8-openjdk-amd64\n",
            "env: SPARK_HOME=/content/spark-3.5.1-bin-hadoop3\n"
          ]
        }
      ]
    },
    {
      "cell_type": "code",
      "metadata": {
        "id": "W0gLXPcaY8L6"
      },
      "source": [
        "import findspark\n",
        "findspark.init(\"/content/spark-3.5.1-bin-hadoop3\")"
      ],
      "execution_count": 4,
      "outputs": []
    },
    {
      "cell_type": "code",
      "metadata": {
        "id": "umR86cbmZAQv"
      },
      "source": [
        "from pyspark.sql import SparkSession\n",
        "from pyspark.sql import Row\n",
        "from pyspark.sql.types import *\n",
        "from pyspark.sql.functions import *\n",
        "\n",
        "from datetime import datetime\n",
        "\n",
        "appName = \"Big Data ANAC\"\n",
        "master = \"local[*]\"\n",
        "\n",
        "spark = SparkSession.builder     \\\n",
        "    .master(master) \\\n",
        "    .appName(appName) \\\n",
        "    .getOrCreate()\n",
        "\n",
        "spark.sparkContext.setLogLevel(\"WARN\")"
      ],
      "execution_count": 5,
      "outputs": []
    },
    {
      "cell_type": "markdown",
      "source": [
        "## Leitura de Dados"
      ],
      "metadata": {
        "id": "Bw_Ij-e9mnDL"
      }
    },
    {
      "cell_type": "code",
      "source": [
        "import os"
      ],
      "metadata": {
        "id": "qbJlhxrafOVt"
      },
      "execution_count": 6,
      "outputs": []
    },
    {
      "cell_type": "code",
      "source": [
        "anac_path = \"/content/drive/MyDrive/Colab Notebooks/anac/\"\n",
        "flights_path = os.path.join(anac_path, \"anac2023.parquet\")\n",
        "flights = spark.read.parquet(flights_path)"
      ],
      "metadata": {
        "id": "7zpi5D5qjOes"
      },
      "execution_count": 7,
      "outputs": []
    },
    {
      "cell_type": "code",
      "source": [
        "flights.printSchema()"
      ],
      "metadata": {
        "colab": {
          "base_uri": "https://localhost:8080/"
        },
        "id": "PJ9VDFglXDzk",
        "outputId": "d85dc80c-4c83-4ffa-990b-a7b8a6cd5aea"
      },
      "execution_count": 8,
      "outputs": [
        {
          "output_type": "stream",
          "name": "stdout",
          "text": [
            "root\n",
            " |-- sigla_icao_empresa_aerea: string (nullable = true)\n",
            " |-- numero_voo: integer (nullable = true)\n",
            " |-- codigo_di: integer (nullable = true)\n",
            " |-- codigo_tipo_linha: string (nullable = true)\n",
            " |-- sigla_icao_aeroporto_origem: string (nullable = true)\n",
            " |-- partida_prevista: timestamp (nullable = true)\n",
            " |-- partida_real: timestamp (nullable = true)\n",
            " |-- sigla_icao_aeroporto_destino: string (nullable = true)\n",
            " |-- chegada_prevista: timestamp (nullable = true)\n",
            " |-- chegada_real: timestamp (nullable = true)\n",
            " |-- situacao_voo: string (nullable = true)\n",
            "\n"
          ]
        }
      ]
    },
    {
      "cell_type": "code",
      "source": [
        "aeroportos_path = os.path.join(anac_path, \"aeroportos.parquet\")\n",
        "airports = spark.read.parquet(aeroportos_path)\n"
      ],
      "metadata": {
        "id": "_svdEIPomYto"
      },
      "execution_count": 9,
      "outputs": []
    },
    {
      "cell_type": "code",
      "source": [
        "airports.printSchema()"
      ],
      "metadata": {
        "colab": {
          "base_uri": "https://localhost:8080/"
        },
        "id": "HCkyGdFtmr7O",
        "outputId": "777421da-06ce-41ff-9ef4-8a619c168f66"
      },
      "execution_count": 10,
      "outputs": [
        {
          "output_type": "stream",
          "name": "stdout",
          "text": [
            "root\n",
            " |-- nome: string (nullable = true)\n",
            " |-- cidade: string (nullable = true)\n",
            " |-- pais: string (nullable = true)\n",
            " |-- sigla_iata: string (nullable = true)\n",
            " |-- sigla_icao: string (nullable = true)\n",
            " |-- latitude: float (nullable = true)\n",
            " |-- longitude: float (nullable = true)\n",
            "\n"
          ]
        }
      ]
    },
    {
      "cell_type": "markdown",
      "source": [
        "# Join dos Dataframes\n"
      ],
      "metadata": {
        "id": "8Rh5BfoNDFXv"
      }
    },
    {
      "cell_type": "code",
      "source": [
        "flights.createOrReplaceTempView(\"flights\")\n",
        "airports.createOrReplaceTempView(\"airports\")"
      ],
      "metadata": {
        "id": "BnlZmjAIDJPK"
      },
      "execution_count": 11,
      "outputs": []
    },
    {
      "cell_type": "code",
      "source": [
        "spark.sql(\"select * from flights limit 10\").show()"
      ],
      "metadata": {
        "colab": {
          "base_uri": "https://localhost:8080/"
        },
        "id": "4k53W5L6hhka",
        "outputId": "21c84887-fba9-4a0e-cf74-05a06ceb45d2"
      },
      "execution_count": 12,
      "outputs": [
        {
          "output_type": "stream",
          "name": "stdout",
          "text": [
            "+------------------------+----------+---------+-----------------+---------------------------+-------------------+-------------------+----------------------------+-------------------+-------------------+------------+\n",
            "|sigla_icao_empresa_aerea|numero_voo|codigo_di|codigo_tipo_linha|sigla_icao_aeroporto_origem|   partida_prevista|       partida_real|sigla_icao_aeroporto_destino|   chegada_prevista|       chegada_real|situacao_voo|\n",
            "+------------------------+----------+---------+-----------------+---------------------------+-------------------+-------------------+----------------------------+-------------------+-------------------+------------+\n",
            "|                     AAL|       905|        0|                I|                       KMIA|2023-01-01 21:45:00|2023-01-01 00:56:00|                        SBGL|2023-01-02 06:20:00|2023-01-01 09:03:00|   REALIZADO|\n",
            "|                     AAL|       929|        0|                I|                       KMIA|2023-01-01 21:45:00|2023-01-01 21:51:00|                        SBGR|2023-01-02 06:20:00|2023-01-02 06:33:00|   REALIZADO|\n",
            "|                     AAL|       930|        0|                I|                       SBGR|2023-01-01 22:00:00|2023-01-01 22:27:00|                        KMIA|2023-01-02 06:55:00|2023-01-02 06:33:00|   REALIZADO|\n",
            "|                     AAL|       950|        0|                I|                       SBGR|2023-01-01 23:20:00|2023-01-01 23:18:00|                        KJFK|2023-01-02 09:03:00|2023-01-02 09:43:00|   REALIZADO|\n",
            "|                     AAL|       951|        0|                I|                       KJFK|2023-01-01 00:59:00|2023-01-01 00:52:00|                        SBGR|2023-01-01 10:25:00|2023-01-01 11:02:00|   REALIZADO|\n",
            "|                     AAL|       957|        0|                I|                       KMIA|2023-01-01 23:00:00|2023-01-02 01:27:00|                        SBGR|2023-01-02 07:25:00|2023-01-02 09:24:00|   REALIZADO|\n",
            "|                     AAL|       958|        0|                I|                       SBGR|2023-01-01 10:50:00|2023-01-01 12:50:00|                        KMIA|2023-01-01 19:10:00|2023-01-01 21:48:00|   REALIZADO|\n",
            "|                     AAL|       962|        0|                I|                       SBGR|2023-01-01 21:50:00|2023-01-02 12:33:00|                        KDFW|2023-01-02 08:13:00|2023-01-02 22:48:00|   REALIZADO|\n",
            "|                     AAL|       963|        0|                I|                       KDFW|2023-01-01 22:36:00|2023-01-01 22:34:00|                        SBGR|2023-01-02 08:35:00|2023-01-02 08:28:00|   REALIZADO|\n",
            "|                     AAL|       974|        2|                X|                       SBGL|               NULL|2023-01-01 22:47:00|                        KJFK|               NULL|2023-01-02 08:27:00|   REALIZADO|\n",
            "+------------------------+----------+---------+-----------------+---------------------------+-------------------+-------------------+----------------------------+-------------------+-------------------+------------+\n",
            "\n"
          ]
        }
      ]
    },
    {
      "cell_type": "code",
      "source": [
        "spark.sql(\"select * from airports limit 10\").show()"
      ],
      "metadata": {
        "colab": {
          "base_uri": "https://localhost:8080/"
        },
        "id": "CKhTOFUih1bd",
        "outputId": "cbb3d951-2087-49b2-f68f-60811c4f08c0"
      },
      "execution_count": 13,
      "outputs": [
        {
          "output_type": "stream",
          "name": "stdout",
          "text": [
            "+--------------------+------------+----------------+----------+----------+---------+---------+\n",
            "|                nome|      cidade|            pais|sigla_iata|sigla_icao| latitude|longitude|\n",
            "+--------------------+------------+----------------+----------+----------+---------+---------+\n",
            "|      Goroka Airport|      Goroka|Papua New Guinea|       GKA|      AYGA| -6.08169|  145.392|\n",
            "|      Madang Airport|      Madang|Papua New Guinea|       MAG|      AYMD| -5.20708|  145.789|\n",
            "|Mount Hagen Kagam...| Mount Hagen|Papua New Guinea|       HGU|      AYMH| -5.82679|  144.296|\n",
            "|      Nadzab Airport|      Nadzab|Papua New Guinea|       LAE|      AYNZ|-6.569803|146.72598|\n",
            "|Port Moresby Jack...|Port Moresby|Papua New Guinea|       POM|      AYPY| -9.44338|   147.22|\n",
            "|Wewak Internation...|       Wewak|Papua New Guinea|       WWK|      AYWK| -3.58383|  143.669|\n",
            "|  Narsarsuaq Airport|Narssarssuaq|       Greenland|       UAK|      BGBW|  61.1605|  -45.426|\n",
            "|Godthaab / Nuuk A...|    Godthaab|       Greenland|       GOH|      BGGH|  64.1909| -51.6781|\n",
            "|Kangerlussuaq Air...| Sondrestrom|       Greenland|       SFJ|      BGSF| 67.01222| -50.7116|\n",
            "|      Thule Air Base|       Thule|       Greenland|       THU|      BGTL|  76.5312| -68.7032|\n",
            "+--------------------+------------+----------------+----------+----------+---------+---------+\n",
            "\n"
          ]
        }
      ]
    },
    {
      "cell_type": "code",
      "source": [
        "flights_infos = spark.sql(\"\"\"\n",
        "        select\n",
        "            f.*\n",
        "            ,a.nome as nome_origem\n",
        "            ,a.cidade as cidade_origem\n",
        "            ,a.pais as pais_origem\n",
        "            ,a.latitude as latitude_origem\n",
        "            ,a.longitude as longitude_origem\n",
        "            ,b.nome as nome_destino\n",
        "            ,b.cidade as cidade_destino\n",
        "            ,b.pais as pais_destino\n",
        "            ,b.latitude as latitude_destino\n",
        "            ,b.longitude as longitude_destino\n",
        "        from flights f\n",
        "        left join airports a\n",
        "            on f.sigla_icao_aeroporto_origem = a.sigla_icao\n",
        "        left join airports b\n",
        "            on f.sigla_icao_aeroporto_destino = b.sigla_icao\n",
        "\"\"\")"
      ],
      "metadata": {
        "id": "O_FDL5ywiBoI"
      },
      "execution_count": 14,
      "outputs": []
    },
    {
      "cell_type": "code",
      "source": [
        "flights.count()"
      ],
      "metadata": {
        "colab": {
          "base_uri": "https://localhost:8080/"
        },
        "id": "dGGqfWMtl09j",
        "outputId": "64653640-2f6a-40c9-eb28-b6410e89ad8e"
      },
      "execution_count": 15,
      "outputs": [
        {
          "output_type": "execute_result",
          "data": {
            "text/plain": [
              "983867"
            ]
          },
          "metadata": {},
          "execution_count": 15
        }
      ]
    },
    {
      "cell_type": "code",
      "source": [
        "flights_infos.count()"
      ],
      "metadata": {
        "colab": {
          "base_uri": "https://localhost:8080/"
        },
        "id": "Wxd3eC85lzzl",
        "outputId": "f5d3e00d-6ba3-4918-cf04-f668e04a8975"
      },
      "execution_count": 16,
      "outputs": [
        {
          "output_type": "execute_result",
          "data": {
            "text/plain": [
              "983867"
            ]
          },
          "metadata": {},
          "execution_count": 16
        }
      ]
    },
    {
      "cell_type": "code",
      "source": [
        "flights_infos.show()"
      ],
      "metadata": {
        "colab": {
          "base_uri": "https://localhost:8080/"
        },
        "id": "uNgKZQgol-d4",
        "outputId": "f1a63891-0b98-44d5-bf3c-c094ef3a0c22"
      },
      "execution_count": 17,
      "outputs": [
        {
          "output_type": "stream",
          "name": "stdout",
          "text": [
            "+------------------------+----------+---------+-----------------+---------------------------+-------------------+-------------------+----------------------------+-------------------+-------------------+------------+--------------------+-----------------+-------------+---------------+----------------+--------------------+-----------------+-------------+----------------+-----------------+\n",
            "|sigla_icao_empresa_aerea|numero_voo|codigo_di|codigo_tipo_linha|sigla_icao_aeroporto_origem|   partida_prevista|       partida_real|sigla_icao_aeroporto_destino|   chegada_prevista|       chegada_real|situacao_voo|         nome_origem|    cidade_origem|  pais_origem|latitude_origem|longitude_origem|        nome_destino|   cidade_destino| pais_destino|latitude_destino|longitude_destino|\n",
            "+------------------------+----------+---------+-----------------+---------------------------+-------------------+-------------------+----------------------------+-------------------+-------------------+------------+--------------------+-----------------+-------------+---------------+----------------+--------------------+-----------------+-------------+----------------+-----------------+\n",
            "|                     AAL|       905|        0|                I|                       KMIA|2023-01-01 21:45:00|2023-01-01 00:56:00|                        SBGL|2023-01-02 06:20:00|2023-01-01 09:03:00|   REALIZADO|Miami Internation...|            Miami|United States|        25.7932|        -80.2906|Rio Galeão – Tom ...|   Rio De Janeiro|       Brazil|          -22.81|       -43.250557|\n",
            "|                     AAL|       929|        0|                I|                       KMIA|2023-01-01 21:45:00|2023-01-01 21:51:00|                        SBGR|2023-01-02 06:20:00|2023-01-02 06:33:00|   REALIZADO|Miami Internation...|            Miami|United States|        25.7932|        -80.2906|Guarulhos - Gover...|        Sao Paulo|       Brazil|      -23.435556|       -46.473057|\n",
            "|                     AAL|       930|        0|                I|                       SBGR|2023-01-01 22:00:00|2023-01-01 22:27:00|                        KMIA|2023-01-02 06:55:00|2023-01-02 06:33:00|   REALIZADO|Guarulhos - Gover...|        Sao Paulo|       Brazil|     -23.435556|      -46.473057|Miami Internation...|            Miami|United States|         25.7932|         -80.2906|\n",
            "|                     AAL|       950|        0|                I|                       SBGR|2023-01-01 23:20:00|2023-01-01 23:18:00|                        KJFK|2023-01-02 09:03:00|2023-01-02 09:43:00|   REALIZADO|Guarulhos - Gover...|        Sao Paulo|       Brazil|     -23.435556|      -46.473057|John F Kennedy In...|         New York|United States|         40.6398|         -73.7789|\n",
            "|                     AAL|       951|        0|                I|                       KJFK|2023-01-01 00:59:00|2023-01-01 00:52:00|                        SBGR|2023-01-01 10:25:00|2023-01-01 11:02:00|   REALIZADO|John F Kennedy In...|         New York|United States|        40.6398|        -73.7789|Guarulhos - Gover...|        Sao Paulo|       Brazil|      -23.435556|       -46.473057|\n",
            "|                     AAL|       957|        0|                I|                       KMIA|2023-01-01 23:00:00|2023-01-02 01:27:00|                        SBGR|2023-01-02 07:25:00|2023-01-02 09:24:00|   REALIZADO|Miami Internation...|            Miami|United States|        25.7932|        -80.2906|Guarulhos - Gover...|        Sao Paulo|       Brazil|      -23.435556|       -46.473057|\n",
            "|                     AAL|       958|        0|                I|                       SBGR|2023-01-01 10:50:00|2023-01-01 12:50:00|                        KMIA|2023-01-01 19:10:00|2023-01-01 21:48:00|   REALIZADO|Guarulhos - Gover...|        Sao Paulo|       Brazil|     -23.435556|      -46.473057|Miami Internation...|            Miami|United States|         25.7932|         -80.2906|\n",
            "|                     AAL|       962|        0|                I|                       SBGR|2023-01-01 21:50:00|2023-01-02 12:33:00|                        KDFW|2023-01-02 08:13:00|2023-01-02 22:48:00|   REALIZADO|Guarulhos - Gover...|        Sao Paulo|       Brazil|     -23.435556|      -46.473057|Dallas Fort Worth...|Dallas-Fort Worth|United States|         32.8968|          -97.038|\n",
            "|                     AAL|       963|        0|                I|                       KDFW|2023-01-01 22:36:00|2023-01-01 22:34:00|                        SBGR|2023-01-02 08:35:00|2023-01-02 08:28:00|   REALIZADO|Dallas Fort Worth...|Dallas-Fort Worth|United States|        32.8968|         -97.038|Guarulhos - Gover...|        Sao Paulo|       Brazil|      -23.435556|       -46.473057|\n",
            "|                     AAL|       974|        2|                X|                       SBGL|               NULL|2023-01-01 22:47:00|                        KJFK|               NULL|2023-01-02 08:27:00|   REALIZADO|Rio Galeão – Tom ...|   Rio De Janeiro|       Brazil|         -22.81|      -43.250557|John F Kennedy In...|         New York|United States|         40.6398|         -73.7789|\n",
            "|                     AAL|       995|        0|                I|                       KMIA|2023-01-01 00:48:00|2023-01-01 00:45:00|                        SBGR|2023-01-01 09:15:00|2023-01-01 09:06:00|   REALIZADO|Miami Internation...|            Miami|United States|        25.7932|        -80.2906|Guarulhos - Gover...|        Sao Paulo|       Brazil|      -23.435556|       -46.473057|\n",
            "|                     AAL|       904|        0|                I|                       SBGL|2023-01-02 00:05:00|2023-01-01 23:48:00|                        KMIA|2023-01-02 08:37:00|2023-01-02 08:11:00|   REALIZADO|Rio Galeão – Tom ...|   Rio De Janeiro|       Brazil|         -22.81|      -43.250557|Miami Internation...|            Miami|United States|         25.7932|         -80.2906|\n",
            "|                     AAL|       905|        0|                I|                       KMIA|2023-01-02 21:45:00|2023-01-02 01:04:00|                        SBGL|2023-01-03 06:20:00|2023-01-02 09:14:00|   REALIZADO|Miami Internation...|            Miami|United States|        25.7932|        -80.2906|Rio Galeão – Tom ...|   Rio De Janeiro|       Brazil|          -22.81|       -43.250557|\n",
            "|                     AAL|       906|        0|                I|                       SBGR|2023-01-02 00:00:00|2023-01-01 23:56:00|                        KMIA|2023-01-02 06:30:00|2023-01-02 08:13:00|   REALIZADO|Guarulhos - Gover...|        Sao Paulo|       Brazil|     -23.435556|      -46.473057|Miami Internation...|            Miami|United States|         25.7932|         -80.2906|\n",
            "|                     AAL|       929|        0|                I|                       KMIA|2023-01-02 21:45:00|2023-01-02 21:48:00|                        SBGR|2023-01-03 06:20:00|2023-01-03 06:38:00|   REALIZADO|Miami Internation...|            Miami|United States|        25.7932|        -80.2906|Guarulhos - Gover...|        Sao Paulo|       Brazil|      -23.435556|       -46.473057|\n",
            "|                     AAL|       930|        0|                I|                       SBGR|2023-01-02 22:00:00|2023-01-02 22:35:00|                        KMIA|2023-01-03 06:55:00|2023-01-03 06:22:00|   REALIZADO|Guarulhos - Gover...|        Sao Paulo|       Brazil|     -23.435556|      -46.473057|Miami Internation...|            Miami|United States|         25.7932|         -80.2906|\n",
            "|                     AAL|       950|        0|                I|                       SBGR|2023-01-02 23:20:00|2023-01-02 23:26:00|                        KJFK|2023-01-03 09:03:00|2023-01-03 08:43:00|   REALIZADO|Guarulhos - Gover...|        Sao Paulo|       Brazil|     -23.435556|      -46.473057|John F Kennedy In...|         New York|United States|         40.6398|         -73.7789|\n",
            "|                     AAL|       951|        0|                I|                       KJFK|2023-01-02 00:59:00|2023-01-02 00:53:00|                        SBGR|2023-01-02 10:25:00|2023-01-02 10:11:00|   REALIZADO|John F Kennedy In...|         New York|United States|        40.6398|        -73.7789|Guarulhos - Gover...|        Sao Paulo|       Brazil|      -23.435556|       -46.473057|\n",
            "|                     AAL|       957|        0|                I|                       KMIA|2023-01-02 23:05:00|2023-01-02 00:41:00|                        SBGR|2023-01-03 07:30:00|2023-01-02 09:07:00|   REALIZADO|Miami Internation...|            Miami|United States|        25.7932|        -80.2906|Guarulhos - Gover...|        Sao Paulo|       Brazil|      -23.435556|       -46.473057|\n",
            "|                     AAL|       958|        0|                I|                       SBGR|2023-01-02 10:50:00|2023-01-02 11:03:00|                        KMIA|2023-01-02 19:10:00|2023-01-02 19:23:00|   REALIZADO|Guarulhos - Gover...|        Sao Paulo|       Brazil|     -23.435556|      -46.473057|Miami Internation...|            Miami|United States|         25.7932|         -80.2906|\n",
            "+------------------------+----------+---------+-----------------+---------------------------+-------------------+-------------------+----------------------------+-------------------+-------------------+------------+--------------------+-----------------+-------------+---------------+----------------+--------------------+-----------------+-------------+----------------+-----------------+\n",
            "only showing top 20 rows\n",
            "\n"
          ]
        }
      ]
    },
    {
      "cell_type": "code",
      "source": [
        "flights_infos.createOrReplaceTempView(\"flights_infos\")"
      ],
      "metadata": {
        "id": "BTqrAnxZnO9t"
      },
      "execution_count": 18,
      "outputs": []
    },
    {
      "cell_type": "code",
      "source": [
        "flights_infos.select(count(when(isnull(flights_infos.cidade_origem), True))\\\n",
        "                     .alias(\"null_count\")).show()"
      ],
      "metadata": {
        "colab": {
          "base_uri": "https://localhost:8080/"
        },
        "id": "QMexhzmnmVTA",
        "outputId": "c846e5a0-3f2a-460b-885f-ac3f9ff7b637"
      },
      "execution_count": 19,
      "outputs": [
        {
          "output_type": "stream",
          "name": "stdout",
          "text": [
            "+----------+\n",
            "|null_count|\n",
            "+----------+\n",
            "|     17095|\n",
            "+----------+\n",
            "\n"
          ]
        }
      ]
    },
    {
      "cell_type": "code",
      "source": [
        "spark.sql(\"select count(1) from flights_infos where cidade_origem is null\").show()"
      ],
      "metadata": {
        "colab": {
          "base_uri": "https://localhost:8080/"
        },
        "id": "4EqGKx0WnIU6",
        "outputId": "756edee7-0b01-4ef9-ac1f-a2ac017a42a9"
      },
      "execution_count": 20,
      "outputs": [
        {
          "output_type": "stream",
          "name": "stdout",
          "text": [
            "+--------+\n",
            "|count(1)|\n",
            "+--------+\n",
            "|   17095|\n",
            "+--------+\n",
            "\n"
          ]
        }
      ]
    },
    {
      "cell_type": "code",
      "source": [
        "spark.sql(\"select count(1) from flights_infos where cidade_destino is null\").show()"
      ],
      "metadata": {
        "colab": {
          "base_uri": "https://localhost:8080/"
        },
        "id": "aNg_4_oynYBP",
        "outputId": "fb5ba9c7-1770-47be-9d5b-5038d3a327e0"
      },
      "execution_count": 21,
      "outputs": [
        {
          "output_type": "stream",
          "name": "stdout",
          "text": [
            "+--------+\n",
            "|count(1)|\n",
            "+--------+\n",
            "|   17059|\n",
            "+--------+\n",
            "\n"
          ]
        }
      ]
    },
    {
      "cell_type": "code",
      "source": [
        "spark.sql(\"select count(1) from flights_infos where partida_prevista is null\").show()"
      ],
      "metadata": {
        "colab": {
          "base_uri": "https://localhost:8080/"
        },
        "id": "cTB6zFLPnf2-",
        "outputId": "3bf8a2fd-839d-4494-f16e-1331fe31710b"
      },
      "execution_count": 22,
      "outputs": [
        {
          "output_type": "stream",
          "name": "stdout",
          "text": [
            "+--------+\n",
            "|count(1)|\n",
            "+--------+\n",
            "|   38129|\n",
            "+--------+\n",
            "\n"
          ]
        }
      ]
    },
    {
      "cell_type": "code",
      "source": [
        "null_count = flights_infos.select(\n",
        "    *[\n",
        "        count(when(isnull(c), True)).alias(c)\n",
        "        for c in flights_infos.columns\n",
        "    ]\n",
        ").first()\n",
        "\n",
        "for column, count in zip(flights_infos.columns, null_count):\n",
        "    print(f\"Column: {column}, Null count: {count}\")\n"
      ],
      "metadata": {
        "colab": {
          "base_uri": "https://localhost:8080/"
        },
        "id": "OEYagtLAnpYI",
        "outputId": "247aedb4-6f39-47ae-81d5-af8dd7e2ec57"
      },
      "execution_count": 23,
      "outputs": [
        {
          "output_type": "stream",
          "name": "stdout",
          "text": [
            "Column: sigla_icao_empresa_aerea, Null count: 0\n",
            "Column: numero_voo, Null count: 2999\n",
            "Column: codigo_di, Null count: 1186\n",
            "Column: codigo_tipo_linha, Null count: 0\n",
            "Column: sigla_icao_aeroporto_origem, Null count: 0\n",
            "Column: partida_prevista, Null count: 38129\n",
            "Column: partida_real, Null count: 57420\n",
            "Column: sigla_icao_aeroporto_destino, Null count: 0\n",
            "Column: chegada_prevista, Null count: 38129\n",
            "Column: chegada_real, Null count: 57420\n",
            "Column: situacao_voo, Null count: 0\n",
            "Column: nome_origem, Null count: 17095\n",
            "Column: cidade_origem, Null count: 17095\n",
            "Column: pais_origem, Null count: 17095\n",
            "Column: latitude_origem, Null count: 17095\n",
            "Column: longitude_origem, Null count: 17095\n",
            "Column: nome_destino, Null count: 17059\n",
            "Column: cidade_destino, Null count: 17059\n",
            "Column: pais_destino, Null count: 17059\n",
            "Column: latitude_destino, Null count: 17059\n",
            "Column: longitude_destino, Null count: 17059\n"
          ]
        }
      ]
    },
    {
      "cell_type": "markdown",
      "source": [
        "# Informações de Voo"
      ],
      "metadata": {
        "id": "kt1w1dzxDJlJ"
      }
    },
    {
      "cell_type": "code",
      "source": [
        "from geopy.distance import great_circle\n",
        "\n",
        "# Entrada: latitude e longitude dos pontos a e b\n",
        "# Saída: distância em km\n",
        "\n",
        "@udf(returnType=FloatType())\n",
        "def distance_in_km(lata, longa, latb, longb):\n",
        "    origin = (lata, longa)\n",
        "    destination = (latb, longb)\n",
        "    distance = great_circle(origin, destination).kilometers\n",
        "    return distance"
      ],
      "metadata": {
        "id": "N1pBPDWNDNjt"
      },
      "execution_count": 24,
      "outputs": []
    },
    {
      "cell_type": "code",
      "source": [
        "flights_infos = flights_infos.withColumn(\"airports_distance(km)\",\n",
        "                                         distance_in_km(\"latitude_destino\",\n",
        "                                                        \"longitude_destino\",\n",
        "                                                        \"latitude_origem\",\n",
        "                                                        \"longitude_origem\")\n",
        "                                         )"
      ],
      "metadata": {
        "id": "Ea_Ikd_UpGCX"
      },
      "execution_count": 25,
      "outputs": []
    },
    {
      "cell_type": "code",
      "source": [
        "flights_infos.show(10)"
      ],
      "metadata": {
        "colab": {
          "base_uri": "https://localhost:8080/"
        },
        "id": "nvKp-Uq2p8v1",
        "outputId": "c48fffdb-6aa6-41db-ea20-a1d8c3e03993"
      },
      "execution_count": 26,
      "outputs": [
        {
          "output_type": "stream",
          "name": "stdout",
          "text": [
            "+------------------------+----------+---------+-----------------+---------------------------+-------------------+-------------------+----------------------------+-------------------+-------------------+------------+--------------------+-----------------+-------------+---------------+----------------+--------------------+-----------------+-------------+----------------+-----------------+---------------------+\n",
            "|sigla_icao_empresa_aerea|numero_voo|codigo_di|codigo_tipo_linha|sigla_icao_aeroporto_origem|   partida_prevista|       partida_real|sigla_icao_aeroporto_destino|   chegada_prevista|       chegada_real|situacao_voo|         nome_origem|    cidade_origem|  pais_origem|latitude_origem|longitude_origem|        nome_destino|   cidade_destino| pais_destino|latitude_destino|longitude_destino|airports_distance(km)|\n",
            "+------------------------+----------+---------+-----------------+---------------------------+-------------------+-------------------+----------------------------+-------------------+-------------------+------------+--------------------+-----------------+-------------+---------------+----------------+--------------------+-----------------+-------------+----------------+-----------------+---------------------+\n",
            "|                     AAL|       905|        0|                I|                       KMIA|2023-01-01 21:45:00|2023-01-01 00:56:00|                        SBGL|2023-01-02 06:20:00|2023-01-01 09:03:00|   REALIZADO|Miami Internation...|            Miami|United States|        25.7932|        -80.2906|Rio Galeão – Tom ...|   Rio De Janeiro|       Brazil|          -22.81|       -43.250557|             6717.246|\n",
            "|                     AAL|       929|        0|                I|                       KMIA|2023-01-01 21:45:00|2023-01-01 21:51:00|                        SBGR|2023-01-02 06:20:00|2023-01-02 06:33:00|   REALIZADO|Miami Internation...|            Miami|United States|        25.7932|        -80.2906|Guarulhos - Gover...|        Sao Paulo|       Brazil|      -23.435556|       -46.473057|             6573.594|\n",
            "|                     AAL|       930|        0|                I|                       SBGR|2023-01-01 22:00:00|2023-01-01 22:27:00|                        KMIA|2023-01-02 06:55:00|2023-01-02 06:33:00|   REALIZADO|Guarulhos - Gover...|        Sao Paulo|       Brazil|     -23.435556|      -46.473057|Miami Internation...|            Miami|United States|         25.7932|         -80.2906|             6573.594|\n",
            "|                     AAL|       950|        0|                I|                       SBGR|2023-01-01 23:20:00|2023-01-01 23:18:00|                        KJFK|2023-01-02 09:03:00|2023-01-02 09:43:00|   REALIZADO|Guarulhos - Gover...|        Sao Paulo|       Brazil|     -23.435556|      -46.473057|John F Kennedy In...|         New York|United States|         40.6398|         -73.7789|              7663.99|\n",
            "|                     AAL|       951|        0|                I|                       KJFK|2023-01-01 00:59:00|2023-01-01 00:52:00|                        SBGR|2023-01-01 10:25:00|2023-01-01 11:02:00|   REALIZADO|John F Kennedy In...|         New York|United States|        40.6398|        -73.7789|Guarulhos - Gover...|        Sao Paulo|       Brazil|      -23.435556|       -46.473057|              7663.99|\n",
            "|                     AAL|       957|        0|                I|                       KMIA|2023-01-01 23:00:00|2023-01-02 01:27:00|                        SBGR|2023-01-02 07:25:00|2023-01-02 09:24:00|   REALIZADO|Miami Internation...|            Miami|United States|        25.7932|        -80.2906|Guarulhos - Gover...|        Sao Paulo|       Brazil|      -23.435556|       -46.473057|             6573.594|\n",
            "|                     AAL|       958|        0|                I|                       SBGR|2023-01-01 10:50:00|2023-01-01 12:50:00|                        KMIA|2023-01-01 19:10:00|2023-01-01 21:48:00|   REALIZADO|Guarulhos - Gover...|        Sao Paulo|       Brazil|     -23.435556|      -46.473057|Miami Internation...|            Miami|United States|         25.7932|         -80.2906|             6573.594|\n",
            "|                     AAL|       962|        0|                I|                       SBGR|2023-01-01 21:50:00|2023-01-02 12:33:00|                        KDFW|2023-01-02 08:13:00|2023-01-02 22:48:00|   REALIZADO|Guarulhos - Gover...|        Sao Paulo|       Brazil|     -23.435556|      -46.473057|Dallas Fort Worth...|Dallas-Fort Worth|United States|         32.8968|          -97.038|             8243.656|\n",
            "|                     AAL|       963|        0|                I|                       KDFW|2023-01-01 22:36:00|2023-01-01 22:34:00|                        SBGR|2023-01-02 08:35:00|2023-01-02 08:28:00|   REALIZADO|Dallas Fort Worth...|Dallas-Fort Worth|United States|        32.8968|         -97.038|Guarulhos - Gover...|        Sao Paulo|       Brazil|      -23.435556|       -46.473057|             8243.656|\n",
            "|                     AAL|       974|        2|                X|                       SBGL|               NULL|2023-01-01 22:47:00|                        KJFK|               NULL|2023-01-02 08:27:00|   REALIZADO|Rio Galeão – Tom ...|   Rio De Janeiro|       Brazil|         -22.81|      -43.250557|John F Kennedy In...|         New York|United States|         40.6398|         -73.7789|              7729.34|\n",
            "+------------------------+----------+---------+-----------------+---------------------------+-------------------+-------------------+----------------------------+-------------------+-------------------+------------+--------------------+-----------------+-------------+---------------+----------------+--------------------+-----------------+-------------+----------------+-----------------+---------------------+\n",
            "only showing top 10 rows\n",
            "\n"
          ]
        }
      ]
    },
    {
      "cell_type": "code",
      "source": [
        "flights_infos.printSchema()"
      ],
      "metadata": {
        "colab": {
          "base_uri": "https://localhost:8080/"
        },
        "id": "AMT6Kh5eqRtx",
        "outputId": "c6db813f-d9c8-465a-fc3c-74c12066ce02"
      },
      "execution_count": 27,
      "outputs": [
        {
          "output_type": "stream",
          "name": "stdout",
          "text": [
            "root\n",
            " |-- sigla_icao_empresa_aerea: string (nullable = true)\n",
            " |-- numero_voo: integer (nullable = true)\n",
            " |-- codigo_di: integer (nullable = true)\n",
            " |-- codigo_tipo_linha: string (nullable = true)\n",
            " |-- sigla_icao_aeroporto_origem: string (nullable = true)\n",
            " |-- partida_prevista: timestamp (nullable = true)\n",
            " |-- partida_real: timestamp (nullable = true)\n",
            " |-- sigla_icao_aeroporto_destino: string (nullable = true)\n",
            " |-- chegada_prevista: timestamp (nullable = true)\n",
            " |-- chegada_real: timestamp (nullable = true)\n",
            " |-- situacao_voo: string (nullable = true)\n",
            " |-- nome_origem: string (nullable = true)\n",
            " |-- cidade_origem: string (nullable = true)\n",
            " |-- pais_origem: string (nullable = true)\n",
            " |-- latitude_origem: float (nullable = true)\n",
            " |-- longitude_origem: float (nullable = true)\n",
            " |-- nome_destino: string (nullable = true)\n",
            " |-- cidade_destino: string (nullable = true)\n",
            " |-- pais_destino: string (nullable = true)\n",
            " |-- latitude_destino: float (nullable = true)\n",
            " |-- longitude_destino: float (nullable = true)\n",
            " |-- airports_distance(km): float (nullable = true)\n",
            "\n"
          ]
        }
      ]
    },
    {
      "cell_type": "code",
      "source": [
        "spark.sql(\"select * from flights_infos limit 10\").show()"
      ],
      "metadata": {
        "colab": {
          "base_uri": "https://localhost:8080/"
        },
        "id": "uMyqUrIHqCxw",
        "outputId": "c0637553-b754-4aee-f0f6-6413313a5f46"
      },
      "execution_count": 28,
      "outputs": [
        {
          "output_type": "stream",
          "name": "stdout",
          "text": [
            "+------------------------+----------+---------+-----------------+---------------------------+-------------------+-------------------+----------------------------+-------------------+-------------------+------------+--------------------+-----------------+-------------+---------------+----------------+--------------------+-----------------+-------------+----------------+-----------------+\n",
            "|sigla_icao_empresa_aerea|numero_voo|codigo_di|codigo_tipo_linha|sigla_icao_aeroporto_origem|   partida_prevista|       partida_real|sigla_icao_aeroporto_destino|   chegada_prevista|       chegada_real|situacao_voo|         nome_origem|    cidade_origem|  pais_origem|latitude_origem|longitude_origem|        nome_destino|   cidade_destino| pais_destino|latitude_destino|longitude_destino|\n",
            "+------------------------+----------+---------+-----------------+---------------------------+-------------------+-------------------+----------------------------+-------------------+-------------------+------------+--------------------+-----------------+-------------+---------------+----------------+--------------------+-----------------+-------------+----------------+-----------------+\n",
            "|                     AAL|       905|        0|                I|                       KMIA|2023-01-01 21:45:00|2023-01-01 00:56:00|                        SBGL|2023-01-02 06:20:00|2023-01-01 09:03:00|   REALIZADO|Miami Internation...|            Miami|United States|        25.7932|        -80.2906|Rio Galeão – Tom ...|   Rio De Janeiro|       Brazil|          -22.81|       -43.250557|\n",
            "|                     AAL|       929|        0|                I|                       KMIA|2023-01-01 21:45:00|2023-01-01 21:51:00|                        SBGR|2023-01-02 06:20:00|2023-01-02 06:33:00|   REALIZADO|Miami Internation...|            Miami|United States|        25.7932|        -80.2906|Guarulhos - Gover...|        Sao Paulo|       Brazil|      -23.435556|       -46.473057|\n",
            "|                     AAL|       930|        0|                I|                       SBGR|2023-01-01 22:00:00|2023-01-01 22:27:00|                        KMIA|2023-01-02 06:55:00|2023-01-02 06:33:00|   REALIZADO|Guarulhos - Gover...|        Sao Paulo|       Brazil|     -23.435556|      -46.473057|Miami Internation...|            Miami|United States|         25.7932|         -80.2906|\n",
            "|                     AAL|       950|        0|                I|                       SBGR|2023-01-01 23:20:00|2023-01-01 23:18:00|                        KJFK|2023-01-02 09:03:00|2023-01-02 09:43:00|   REALIZADO|Guarulhos - Gover...|        Sao Paulo|       Brazil|     -23.435556|      -46.473057|John F Kennedy In...|         New York|United States|         40.6398|         -73.7789|\n",
            "|                     AAL|       951|        0|                I|                       KJFK|2023-01-01 00:59:00|2023-01-01 00:52:00|                        SBGR|2023-01-01 10:25:00|2023-01-01 11:02:00|   REALIZADO|John F Kennedy In...|         New York|United States|        40.6398|        -73.7789|Guarulhos - Gover...|        Sao Paulo|       Brazil|      -23.435556|       -46.473057|\n",
            "|                     AAL|       957|        0|                I|                       KMIA|2023-01-01 23:00:00|2023-01-02 01:27:00|                        SBGR|2023-01-02 07:25:00|2023-01-02 09:24:00|   REALIZADO|Miami Internation...|            Miami|United States|        25.7932|        -80.2906|Guarulhos - Gover...|        Sao Paulo|       Brazil|      -23.435556|       -46.473057|\n",
            "|                     AAL|       958|        0|                I|                       SBGR|2023-01-01 10:50:00|2023-01-01 12:50:00|                        KMIA|2023-01-01 19:10:00|2023-01-01 21:48:00|   REALIZADO|Guarulhos - Gover...|        Sao Paulo|       Brazil|     -23.435556|      -46.473057|Miami Internation...|            Miami|United States|         25.7932|         -80.2906|\n",
            "|                     AAL|       962|        0|                I|                       SBGR|2023-01-01 21:50:00|2023-01-02 12:33:00|                        KDFW|2023-01-02 08:13:00|2023-01-02 22:48:00|   REALIZADO|Guarulhos - Gover...|        Sao Paulo|       Brazil|     -23.435556|      -46.473057|Dallas Fort Worth...|Dallas-Fort Worth|United States|         32.8968|          -97.038|\n",
            "|                     AAL|       963|        0|                I|                       KDFW|2023-01-01 22:36:00|2023-01-01 22:34:00|                        SBGR|2023-01-02 08:35:00|2023-01-02 08:28:00|   REALIZADO|Dallas Fort Worth...|Dallas-Fort Worth|United States|        32.8968|         -97.038|Guarulhos - Gover...|        Sao Paulo|       Brazil|      -23.435556|       -46.473057|\n",
            "|                     AAL|       974|        2|                X|                       SBGL|               NULL|2023-01-01 22:47:00|                        KJFK|               NULL|2023-01-02 08:27:00|   REALIZADO|Rio Galeão – Tom ...|   Rio De Janeiro|       Brazil|         -22.81|      -43.250557|John F Kennedy In...|         New York|United States|         40.6398|         -73.7789|\n",
            "+------------------------+----------+---------+-----------------+---------------------------+-------------------+-------------------+----------------------------+-------------------+-------------------+------------+--------------------+-----------------+-------------+---------------+----------------+--------------------+-----------------+-------------+----------------+-----------------+\n",
            "\n"
          ]
        }
      ]
    },
    {
      "cell_type": "code",
      "source": [
        "flights_infos.createOrReplaceTempView(\"flights_infos\")"
      ],
      "metadata": {
        "id": "ss69cxZbqK7c"
      },
      "execution_count": 29,
      "outputs": []
    },
    {
      "cell_type": "code",
      "source": [
        "spark.sql(\"select * from flights_infos limit 10\").show()"
      ],
      "metadata": {
        "colab": {
          "base_uri": "https://localhost:8080/"
        },
        "id": "nybj73lkqNbd",
        "outputId": "f6e70786-77d9-4ea1-9efd-aad472c53077"
      },
      "execution_count": 30,
      "outputs": [
        {
          "output_type": "stream",
          "name": "stdout",
          "text": [
            "+------------------------+----------+---------+-----------------+---------------------------+-------------------+-------------------+----------------------------+-------------------+-------------------+------------+--------------------+-----------------+-------------+---------------+----------------+--------------------+-----------------+-------------+----------------+-----------------+---------------------+\n",
            "|sigla_icao_empresa_aerea|numero_voo|codigo_di|codigo_tipo_linha|sigla_icao_aeroporto_origem|   partida_prevista|       partida_real|sigla_icao_aeroporto_destino|   chegada_prevista|       chegada_real|situacao_voo|         nome_origem|    cidade_origem|  pais_origem|latitude_origem|longitude_origem|        nome_destino|   cidade_destino| pais_destino|latitude_destino|longitude_destino|airports_distance(km)|\n",
            "+------------------------+----------+---------+-----------------+---------------------------+-------------------+-------------------+----------------------------+-------------------+-------------------+------------+--------------------+-----------------+-------------+---------------+----------------+--------------------+-----------------+-------------+----------------+-----------------+---------------------+\n",
            "|                     AAL|       905|        0|                I|                       KMIA|2023-01-01 21:45:00|2023-01-01 00:56:00|                        SBGL|2023-01-02 06:20:00|2023-01-01 09:03:00|   REALIZADO|Miami Internation...|            Miami|United States|        25.7932|        -80.2906|Rio Galeão – Tom ...|   Rio De Janeiro|       Brazil|          -22.81|       -43.250557|             6717.246|\n",
            "|                     AAL|       929|        0|                I|                       KMIA|2023-01-01 21:45:00|2023-01-01 21:51:00|                        SBGR|2023-01-02 06:20:00|2023-01-02 06:33:00|   REALIZADO|Miami Internation...|            Miami|United States|        25.7932|        -80.2906|Guarulhos - Gover...|        Sao Paulo|       Brazil|      -23.435556|       -46.473057|             6573.594|\n",
            "|                     AAL|       930|        0|                I|                       SBGR|2023-01-01 22:00:00|2023-01-01 22:27:00|                        KMIA|2023-01-02 06:55:00|2023-01-02 06:33:00|   REALIZADO|Guarulhos - Gover...|        Sao Paulo|       Brazil|     -23.435556|      -46.473057|Miami Internation...|            Miami|United States|         25.7932|         -80.2906|             6573.594|\n",
            "|                     AAL|       950|        0|                I|                       SBGR|2023-01-01 23:20:00|2023-01-01 23:18:00|                        KJFK|2023-01-02 09:03:00|2023-01-02 09:43:00|   REALIZADO|Guarulhos - Gover...|        Sao Paulo|       Brazil|     -23.435556|      -46.473057|John F Kennedy In...|         New York|United States|         40.6398|         -73.7789|              7663.99|\n",
            "|                     AAL|       951|        0|                I|                       KJFK|2023-01-01 00:59:00|2023-01-01 00:52:00|                        SBGR|2023-01-01 10:25:00|2023-01-01 11:02:00|   REALIZADO|John F Kennedy In...|         New York|United States|        40.6398|        -73.7789|Guarulhos - Gover...|        Sao Paulo|       Brazil|      -23.435556|       -46.473057|              7663.99|\n",
            "|                     AAL|       957|        0|                I|                       KMIA|2023-01-01 23:00:00|2023-01-02 01:27:00|                        SBGR|2023-01-02 07:25:00|2023-01-02 09:24:00|   REALIZADO|Miami Internation...|            Miami|United States|        25.7932|        -80.2906|Guarulhos - Gover...|        Sao Paulo|       Brazil|      -23.435556|       -46.473057|             6573.594|\n",
            "|                     AAL|       958|        0|                I|                       SBGR|2023-01-01 10:50:00|2023-01-01 12:50:00|                        KMIA|2023-01-01 19:10:00|2023-01-01 21:48:00|   REALIZADO|Guarulhos - Gover...|        Sao Paulo|       Brazil|     -23.435556|      -46.473057|Miami Internation...|            Miami|United States|         25.7932|         -80.2906|             6573.594|\n",
            "|                     AAL|       962|        0|                I|                       SBGR|2023-01-01 21:50:00|2023-01-02 12:33:00|                        KDFW|2023-01-02 08:13:00|2023-01-02 22:48:00|   REALIZADO|Guarulhos - Gover...|        Sao Paulo|       Brazil|     -23.435556|      -46.473057|Dallas Fort Worth...|Dallas-Fort Worth|United States|         32.8968|          -97.038|             8243.656|\n",
            "|                     AAL|       963|        0|                I|                       KDFW|2023-01-01 22:36:00|2023-01-01 22:34:00|                        SBGR|2023-01-02 08:35:00|2023-01-02 08:28:00|   REALIZADO|Dallas Fort Worth...|Dallas-Fort Worth|United States|        32.8968|         -97.038|Guarulhos - Gover...|        Sao Paulo|       Brazil|      -23.435556|       -46.473057|             8243.656|\n",
            "|                     AAL|       974|        2|                X|                       SBGL|               NULL|2023-01-01 22:47:00|                        KJFK|               NULL|2023-01-02 08:27:00|   REALIZADO|Rio Galeão – Tom ...|   Rio De Janeiro|       Brazil|         -22.81|      -43.250557|John F Kennedy In...|         New York|United States|         40.6398|         -73.7789|              7729.34|\n",
            "+------------------------+----------+---------+-----------------+---------------------------+-------------------+-------------------+----------------------------+-------------------+-------------------+------------+--------------------+-----------------+-------------+---------------+----------------+--------------------+-----------------+-------------+----------------+-----------------+---------------------+\n",
            "\n"
          ]
        }
      ]
    },
    {
      "cell_type": "code",
      "source": [
        "flights_infos = flights_infos.withColumn(\"tempo_voo(segundos)\",\n",
        "                                         (col(\"chegada_real\").cast(\"long\") - col(\"partida_real\").cast(\"long\")))\n"
      ],
      "metadata": {
        "id": "rOvtJf8wroTZ"
      },
      "execution_count": 31,
      "outputs": []
    },
    {
      "cell_type": "code",
      "source": [
        "flights_infos = flights_infos.withColumn(\"tempo_voo(min)\",\n",
        "                                         round(col(\"tempo_voo(segundos)\").cast(\"long\") / 60, 3))\n",
        "\n",
        "flights_infos = flights_infos.withColumn(\"tempo_voo(horas)\",\n",
        "                                         round(col(\"tempo_voo(segundos)\").cast(\"long\") / 3600, 3))"
      ],
      "metadata": {
        "id": "VIkDQiKrtMlE"
      },
      "execution_count": 32,
      "outputs": []
    },
    {
      "cell_type": "code",
      "source": [
        "flights_infos.show(10)"
      ],
      "metadata": {
        "colab": {
          "base_uri": "https://localhost:8080/"
        },
        "id": "4ZFKcPEWtmrR",
        "outputId": "dee62a77-5008-4ee5-90b7-63efcb1ade26"
      },
      "execution_count": 33,
      "outputs": [
        {
          "output_type": "stream",
          "name": "stdout",
          "text": [
            "+------------------------+----------+---------+-----------------+---------------------------+-------------------+-------------------+----------------------------+-------------------+-------------------+------------+--------------------+-----------------+-------------+---------------+----------------+--------------------+-----------------+-------------+----------------+-----------------+---------------------+-------------------+--------------+----------------+\n",
            "|sigla_icao_empresa_aerea|numero_voo|codigo_di|codigo_tipo_linha|sigla_icao_aeroporto_origem|   partida_prevista|       partida_real|sigla_icao_aeroporto_destino|   chegada_prevista|       chegada_real|situacao_voo|         nome_origem|    cidade_origem|  pais_origem|latitude_origem|longitude_origem|        nome_destino|   cidade_destino| pais_destino|latitude_destino|longitude_destino|airports_distance(km)|tempo_voo(segundos)|tempo_voo(min)|tempo_voo(horas)|\n",
            "+------------------------+----------+---------+-----------------+---------------------------+-------------------+-------------------+----------------------------+-------------------+-------------------+------------+--------------------+-----------------+-------------+---------------+----------------+--------------------+-----------------+-------------+----------------+-----------------+---------------------+-------------------+--------------+----------------+\n",
            "|                     AAL|       905|        0|                I|                       KMIA|2023-01-01 21:45:00|2023-01-01 00:56:00|                        SBGL|2023-01-02 06:20:00|2023-01-01 09:03:00|   REALIZADO|Miami Internation...|            Miami|United States|        25.7932|        -80.2906|Rio Galeão – Tom ...|   Rio De Janeiro|       Brazil|          -22.81|       -43.250557|             6717.246|              29220|         487.0|           8.117|\n",
            "|                     AAL|       929|        0|                I|                       KMIA|2023-01-01 21:45:00|2023-01-01 21:51:00|                        SBGR|2023-01-02 06:20:00|2023-01-02 06:33:00|   REALIZADO|Miami Internation...|            Miami|United States|        25.7932|        -80.2906|Guarulhos - Gover...|        Sao Paulo|       Brazil|      -23.435556|       -46.473057|             6573.594|              31320|         522.0|             8.7|\n",
            "|                     AAL|       930|        0|                I|                       SBGR|2023-01-01 22:00:00|2023-01-01 22:27:00|                        KMIA|2023-01-02 06:55:00|2023-01-02 06:33:00|   REALIZADO|Guarulhos - Gover...|        Sao Paulo|       Brazil|     -23.435556|      -46.473057|Miami Internation...|            Miami|United States|         25.7932|         -80.2906|             6573.594|              29160|         486.0|             8.1|\n",
            "|                     AAL|       950|        0|                I|                       SBGR|2023-01-01 23:20:00|2023-01-01 23:18:00|                        KJFK|2023-01-02 09:03:00|2023-01-02 09:43:00|   REALIZADO|Guarulhos - Gover...|        Sao Paulo|       Brazil|     -23.435556|      -46.473057|John F Kennedy In...|         New York|United States|         40.6398|         -73.7789|              7663.99|              37500|         625.0|          10.417|\n",
            "|                     AAL|       951|        0|                I|                       KJFK|2023-01-01 00:59:00|2023-01-01 00:52:00|                        SBGR|2023-01-01 10:25:00|2023-01-01 11:02:00|   REALIZADO|John F Kennedy In...|         New York|United States|        40.6398|        -73.7789|Guarulhos - Gover...|        Sao Paulo|       Brazil|      -23.435556|       -46.473057|              7663.99|              36600|         610.0|          10.167|\n",
            "|                     AAL|       957|        0|                I|                       KMIA|2023-01-01 23:00:00|2023-01-02 01:27:00|                        SBGR|2023-01-02 07:25:00|2023-01-02 09:24:00|   REALIZADO|Miami Internation...|            Miami|United States|        25.7932|        -80.2906|Guarulhos - Gover...|        Sao Paulo|       Brazil|      -23.435556|       -46.473057|             6573.594|              28620|         477.0|            7.95|\n",
            "|                     AAL|       958|        0|                I|                       SBGR|2023-01-01 10:50:00|2023-01-01 12:50:00|                        KMIA|2023-01-01 19:10:00|2023-01-01 21:48:00|   REALIZADO|Guarulhos - Gover...|        Sao Paulo|       Brazil|     -23.435556|      -46.473057|Miami Internation...|            Miami|United States|         25.7932|         -80.2906|             6573.594|              32280|         538.0|           8.967|\n",
            "|                     AAL|       962|        0|                I|                       SBGR|2023-01-01 21:50:00|2023-01-02 12:33:00|                        KDFW|2023-01-02 08:13:00|2023-01-02 22:48:00|   REALIZADO|Guarulhos - Gover...|        Sao Paulo|       Brazil|     -23.435556|      -46.473057|Dallas Fort Worth...|Dallas-Fort Worth|United States|         32.8968|          -97.038|             8243.656|              36900|         615.0|           10.25|\n",
            "|                     AAL|       963|        0|                I|                       KDFW|2023-01-01 22:36:00|2023-01-01 22:34:00|                        SBGR|2023-01-02 08:35:00|2023-01-02 08:28:00|   REALIZADO|Dallas Fort Worth...|Dallas-Fort Worth|United States|        32.8968|         -97.038|Guarulhos - Gover...|        Sao Paulo|       Brazil|      -23.435556|       -46.473057|             8243.656|              35640|         594.0|             9.9|\n",
            "|                     AAL|       974|        2|                X|                       SBGL|               NULL|2023-01-01 22:47:00|                        KJFK|               NULL|2023-01-02 08:27:00|   REALIZADO|Rio Galeão – Tom ...|   Rio De Janeiro|       Brazil|         -22.81|      -43.250557|John F Kennedy In...|         New York|United States|         40.6398|         -73.7789|              7729.34|              34800|         580.0|           9.667|\n",
            "+------------------------+----------+---------+-----------------+---------------------------+-------------------+-------------------+----------------------------+-------------------+-------------------+------------+--------------------+-----------------+-------------+---------------+----------------+--------------------+-----------------+-------------+----------------+-----------------+---------------------+-------------------+--------------+----------------+\n",
            "only showing top 10 rows\n",
            "\n"
          ]
        }
      ]
    },
    {
      "cell_type": "code",
      "source": [
        "flights_infos.printSchema()"
      ],
      "metadata": {
        "colab": {
          "base_uri": "https://localhost:8080/"
        },
        "id": "Ze5VXQ6vrM5v",
        "outputId": "523c939d-237c-4cf7-ad93-9a6a5bcf1fd8"
      },
      "execution_count": 34,
      "outputs": [
        {
          "output_type": "stream",
          "name": "stdout",
          "text": [
            "root\n",
            " |-- sigla_icao_empresa_aerea: string (nullable = true)\n",
            " |-- numero_voo: integer (nullable = true)\n",
            " |-- codigo_di: integer (nullable = true)\n",
            " |-- codigo_tipo_linha: string (nullable = true)\n",
            " |-- sigla_icao_aeroporto_origem: string (nullable = true)\n",
            " |-- partida_prevista: timestamp (nullable = true)\n",
            " |-- partida_real: timestamp (nullable = true)\n",
            " |-- sigla_icao_aeroporto_destino: string (nullable = true)\n",
            " |-- chegada_prevista: timestamp (nullable = true)\n",
            " |-- chegada_real: timestamp (nullable = true)\n",
            " |-- situacao_voo: string (nullable = true)\n",
            " |-- nome_origem: string (nullable = true)\n",
            " |-- cidade_origem: string (nullable = true)\n",
            " |-- pais_origem: string (nullable = true)\n",
            " |-- latitude_origem: float (nullable = true)\n",
            " |-- longitude_origem: float (nullable = true)\n",
            " |-- nome_destino: string (nullable = true)\n",
            " |-- cidade_destino: string (nullable = true)\n",
            " |-- pais_destino: string (nullable = true)\n",
            " |-- latitude_destino: float (nullable = true)\n",
            " |-- longitude_destino: float (nullable = true)\n",
            " |-- airports_distance(km): float (nullable = true)\n",
            " |-- tempo_voo(segundos): long (nullable = true)\n",
            " |-- tempo_voo(min): double (nullable = true)\n",
            " |-- tempo_voo(horas): double (nullable = true)\n",
            "\n"
          ]
        }
      ]
    },
    {
      "cell_type": "code",
      "source": [
        "# Velocidade media em km/h\n",
        "flights_infos = flights_infos.withColumn(\"vel_media(km/h)\", col(\"airports_distance(km)\") / col(\"tempo_voo(horas)\"))"
      ],
      "metadata": {
        "id": "Nng89YxYrdZY"
      },
      "execution_count": 35,
      "outputs": []
    },
    {
      "cell_type": "code",
      "source": [
        "# Diferença de tempo entre chegada real e prevista em segundos\n",
        "flights_infos = flights_infos.withColumn(\"diff_chegada_real_prevista\",\n",
        "                                         (col(\"chegada_real\").cast(\"long\") - col(\"chegada_prevista\").cast(\"long\")) )"
      ],
      "metadata": {
        "id": "QTHJWibyhDR9"
      },
      "execution_count": 36,
      "outputs": []
    },
    {
      "cell_type": "code",
      "source": [
        "flights_infos = flights_infos.withColumn(\"diff_chegada_real_prevista(h)\",\n",
        "                                         round((col(\"chegada_real\").cast(\"long\") - col(\"chegada_prevista\").cast(\"long\"))/3600, 3) )"
      ],
      "metadata": {
        "id": "3oNp8jV9u-yE"
      },
      "execution_count": 37,
      "outputs": []
    },
    {
      "cell_type": "code",
      "source": [
        "# Diferença de tempo entre saida real e prevista em segundos\n",
        "flights_infos = flights_infos.withColumn(\"diff_saida_real_prevista\",\n",
        "                                         (col(\"partida_real\").cast(\"long\") - col(\"partida_prevista\").cast(\"long\")) )"
      ],
      "metadata": {
        "id": "LPhA2fMMiMnw"
      },
      "execution_count": 38,
      "outputs": []
    },
    {
      "cell_type": "code",
      "source": [
        "flights_infos = flights_infos.withColumn(\"diff_saida_real_prevista(h)\",\n",
        "                                         round((col(\"partida_real\").cast(\"long\") - col(\"partida_prevista\").cast(\"long\"))/3600, 3))"
      ],
      "metadata": {
        "id": "9SwCKG1WvTru"
      },
      "execution_count": 39,
      "outputs": []
    },
    {
      "cell_type": "code",
      "source": [
        "flights_infos.show(10)"
      ],
      "metadata": {
        "colab": {
          "base_uri": "https://localhost:8080/"
        },
        "id": "Nz_zAhgUvhW7",
        "outputId": "053d3dbb-0a3c-4dea-b861-9aaa8b29741d"
      },
      "execution_count": 40,
      "outputs": [
        {
          "output_type": "stream",
          "name": "stdout",
          "text": [
            "+------------------------+----------+---------+-----------------+---------------------------+-------------------+-------------------+----------------------------+-------------------+-------------------+------------+--------------------+-----------------+-------------+---------------+----------------+--------------------+-----------------+-------------+----------------+-----------------+---------------------+-------------------+--------------+----------------+-----------------+--------------------------+-----------------------------+------------------------+---------------------------+\n",
            "|sigla_icao_empresa_aerea|numero_voo|codigo_di|codigo_tipo_linha|sigla_icao_aeroporto_origem|   partida_prevista|       partida_real|sigla_icao_aeroporto_destino|   chegada_prevista|       chegada_real|situacao_voo|         nome_origem|    cidade_origem|  pais_origem|latitude_origem|longitude_origem|        nome_destino|   cidade_destino| pais_destino|latitude_destino|longitude_destino|airports_distance(km)|tempo_voo(segundos)|tempo_voo(min)|tempo_voo(horas)|  vel_media(km/h)|diff_chegada_real_prevista|diff_chegada_real_prevista(h)|diff_saida_real_prevista|diff_saida_real_prevista(h)|\n",
            "+------------------------+----------+---------+-----------------+---------------------------+-------------------+-------------------+----------------------------+-------------------+-------------------+------------+--------------------+-----------------+-------------+---------------+----------------+--------------------+-----------------+-------------+----------------+-----------------+---------------------+-------------------+--------------+----------------+-----------------+--------------------------+-----------------------------+------------------------+---------------------------+\n",
            "|                     AAL|       905|        0|                I|                       KMIA|2023-01-01 21:45:00|2023-01-01 00:56:00|                        SBGL|2023-01-02 06:20:00|2023-01-01 09:03:00|   REALIZADO|Miami Internation...|            Miami|United States|        25.7932|        -80.2906|Rio Galeão – Tom ...|   Rio De Janeiro|       Brazil|          -22.81|       -43.250557|             6717.246|              29220|         487.0|           8.117|827.5528019896512|                    -76620|                      -21.283|                  -74940|                    -20.817|\n",
            "|                     AAL|       929|        0|                I|                       KMIA|2023-01-01 21:45:00|2023-01-01 21:51:00|                        SBGR|2023-01-02 06:20:00|2023-01-02 06:33:00|   REALIZADO|Miami Internation...|            Miami|United States|        25.7932|        -80.2906|Guarulhos - Gover...|        Sao Paulo|       Brazil|      -23.435556|       -46.473057|             6573.594|              31320|         522.0|             8.7|755.5855446300288|                       780|                        0.217|                     360|                        0.1|\n",
            "|                     AAL|       930|        0|                I|                       SBGR|2023-01-01 22:00:00|2023-01-01 22:27:00|                        KMIA|2023-01-02 06:55:00|2023-01-02 06:33:00|   REALIZADO|Guarulhos - Gover...|        Sao Paulo|       Brazil|     -23.435556|      -46.473057|Miami Internation...|            Miami|United States|         25.7932|         -80.2906|             6573.594|              29160|         486.0|             8.1|811.5548442322531|                     -1320|                       -0.367|                    1620|                       0.45|\n",
            "|                     AAL|       950|        0|                I|                       SBGR|2023-01-01 23:20:00|2023-01-01 23:18:00|                        KJFK|2023-01-02 09:03:00|2023-01-02 09:43:00|   REALIZADO|Guarulhos - Gover...|        Sao Paulo|       Brazil|     -23.435556|      -46.473057|John F Kennedy In...|         New York|United States|         40.6398|         -73.7789|              7663.99|              37500|         625.0|          10.417|735.7195194753768|                      2400|                        0.667|                    -120|                     -0.033|\n",
            "|                     AAL|       951|        0|                I|                       KJFK|2023-01-01 00:59:00|2023-01-01 00:52:00|                        SBGR|2023-01-01 10:25:00|2023-01-01 11:02:00|   REALIZADO|John F Kennedy In...|         New York|United States|        40.6398|        -73.7789|Guarulhos - Gover...|        Sao Paulo|       Brazil|      -23.435556|       -46.473057|              7663.99|              36600|         610.0|          10.167|753.8103899257402|                      2220|                        0.617|                    -420|                     -0.117|\n",
            "|                     AAL|       957|        0|                I|                       KMIA|2023-01-01 23:00:00|2023-01-02 01:27:00|                        SBGR|2023-01-02 07:25:00|2023-01-02 09:24:00|   REALIZADO|Miami Internation...|            Miami|United States|        25.7932|        -80.2906|Guarulhos - Gover...|        Sao Paulo|       Brazil|      -23.435556|       -46.473057|             6573.594|              28620|         477.0|            7.95|826.8671997838051|                      7140|                        1.983|                    8820|                       2.45|\n",
            "|                     AAL|       958|        0|                I|                       SBGR|2023-01-01 10:50:00|2023-01-01 12:50:00|                        KMIA|2023-01-01 19:10:00|2023-01-01 21:48:00|   REALIZADO|Guarulhos - Gover...|        Sao Paulo|       Brazil|     -23.435556|      -46.473057|Miami Internation...|            Miami|United States|         25.7932|         -80.2906|             6573.594|              32280|         538.0|           8.967|733.0873467471005|                      9480|                        2.633|                    7200|                        2.0|\n",
            "|                     AAL|       962|        0|                I|                       SBGR|2023-01-01 21:50:00|2023-01-02 12:33:00|                        KDFW|2023-01-02 08:13:00|2023-01-02 22:48:00|   REALIZADO|Guarulhos - Gover...|        Sao Paulo|       Brazil|     -23.435556|      -46.473057|Dallas Fort Worth...|Dallas-Fort Worth|United States|         32.8968|          -97.038|             8243.656|              36900|         615.0|           10.25|804.2591463414634|                     52500|                       14.583|                   52980|                     14.717|\n",
            "|                     AAL|       963|        0|                I|                       KDFW|2023-01-01 22:36:00|2023-01-01 22:34:00|                        SBGR|2023-01-02 08:35:00|2023-01-02 08:28:00|   REALIZADO|Dallas Fort Worth...|Dallas-Fort Worth|United States|        32.8968|         -97.038|Guarulhos - Gover...|        Sao Paulo|       Brazil|      -23.435556|       -46.473057|             8243.656|              35640|         594.0|             9.9|832.6925505050505|                      -420|                       -0.117|                    -120|                     -0.033|\n",
            "|                     AAL|       974|        2|                X|                       SBGL|               NULL|2023-01-01 22:47:00|                        KJFK|               NULL|2023-01-02 08:27:00|   REALIZADO|Rio Galeão – Tom ...|   Rio De Janeiro|       Brazil|         -22.81|      -43.250557|John F Kennedy In...|         New York|United States|         40.6398|         -73.7789|              7729.34|              34800|         580.0|           9.667|799.5593093772628|                      NULL|                         NULL|                    NULL|                       NULL|\n",
            "+------------------------+----------+---------+-----------------+---------------------------+-------------------+-------------------+----------------------------+-------------------+-------------------+------------+--------------------+-----------------+-------------+---------------+----------------+--------------------+-----------------+-------------+----------------+-----------------+---------------------+-------------------+--------------+----------------+-----------------+--------------------------+-----------------------------+------------------------+---------------------------+\n",
            "only showing top 10 rows\n",
            "\n"
          ]
        }
      ]
    },
    {
      "cell_type": "markdown",
      "source": [
        "# Filtros de dados"
      ],
      "metadata": {
        "id": "MFm1f7QZDqPH"
      }
    },
    {
      "cell_type": "code",
      "source": [
        "paises_lst = flights_infos.select(\"pais_origem\").distinct().collect()\n",
        "paises_lst = [pais[\"pais_origem\"] for pais in paises_lst]\n",
        "\n",
        "\"Brazil\" in paises_lst or \"Brasil\" in paises_lst"
      ],
      "metadata": {
        "colab": {
          "base_uri": "https://localhost:8080/"
        },
        "id": "ndmAIJ-Wx7E0",
        "outputId": "bd5ec0c0-769a-4c8d-d939-0302e2c1778e"
      },
      "execution_count": 41,
      "outputs": [
        {
          "output_type": "execute_result",
          "data": {
            "text/plain": [
              "True"
            ]
          },
          "metadata": {},
          "execution_count": 41
        }
      ]
    },
    {
      "cell_type": "code",
      "source": [
        "\"Brasil\" in paises_lst"
      ],
      "metadata": {
        "colab": {
          "base_uri": "https://localhost:8080/"
        },
        "id": "wQN1TvFRyGuZ",
        "outputId": "84ac1647-33e8-4328-bbef-e995e8e67ab7"
      },
      "execution_count": 42,
      "outputs": [
        {
          "output_type": "execute_result",
          "data": {
            "text/plain": [
              "False"
            ]
          },
          "metadata": {},
          "execution_count": 42
        }
      ]
    },
    {
      "cell_type": "code",
      "source": [
        "paises_lst = flights_infos.select(\"pais_destino\").distinct().collect()\n",
        "paises_lst = [pais[\"pais_destino\"] for pais in paises_lst]\n",
        "\n",
        "print(\"Brazil\" in paises_lst)\n",
        "print(\"Brasil\" in paises_lst)"
      ],
      "metadata": {
        "colab": {
          "base_uri": "https://localhost:8080/"
        },
        "id": "nrneEVIayrI3",
        "outputId": "debcd4e4-48c7-406a-a787-5bea07849c6a"
      },
      "execution_count": 43,
      "outputs": [
        {
          "output_type": "stream",
          "name": "stdout",
          "text": [
            "True\n",
            "False\n"
          ]
        }
      ]
    },
    {
      "cell_type": "code",
      "source": [
        "flights_infos.createOrReplaceTempView(\"flights_infos\")"
      ],
      "metadata": {
        "id": "WaKkfo6GzLzN"
      },
      "execution_count": 44,
      "outputs": []
    },
    {
      "cell_type": "code",
      "source": [
        "flights_infos.printSchema()"
      ],
      "metadata": {
        "colab": {
          "base_uri": "https://localhost:8080/"
        },
        "id": "Z-DC2eT3zJoK",
        "outputId": "210fd07a-1a87-4789-8ab0-b2c4239cead6"
      },
      "execution_count": 45,
      "outputs": [
        {
          "output_type": "stream",
          "name": "stdout",
          "text": [
            "root\n",
            " |-- sigla_icao_empresa_aerea: string (nullable = true)\n",
            " |-- numero_voo: integer (nullable = true)\n",
            " |-- codigo_di: integer (nullable = true)\n",
            " |-- codigo_tipo_linha: string (nullable = true)\n",
            " |-- sigla_icao_aeroporto_origem: string (nullable = true)\n",
            " |-- partida_prevista: timestamp (nullable = true)\n",
            " |-- partida_real: timestamp (nullable = true)\n",
            " |-- sigla_icao_aeroporto_destino: string (nullable = true)\n",
            " |-- chegada_prevista: timestamp (nullable = true)\n",
            " |-- chegada_real: timestamp (nullable = true)\n",
            " |-- situacao_voo: string (nullable = true)\n",
            " |-- nome_origem: string (nullable = true)\n",
            " |-- cidade_origem: string (nullable = true)\n",
            " |-- pais_origem: string (nullable = true)\n",
            " |-- latitude_origem: float (nullable = true)\n",
            " |-- longitude_origem: float (nullable = true)\n",
            " |-- nome_destino: string (nullable = true)\n",
            " |-- cidade_destino: string (nullable = true)\n",
            " |-- pais_destino: string (nullable = true)\n",
            " |-- latitude_destino: float (nullable = true)\n",
            " |-- longitude_destino: float (nullable = true)\n",
            " |-- airports_distance(km): float (nullable = true)\n",
            " |-- tempo_voo(segundos): long (nullable = true)\n",
            " |-- tempo_voo(min): double (nullable = true)\n",
            " |-- tempo_voo(horas): double (nullable = true)\n",
            " |-- vel_media(km/h): double (nullable = true)\n",
            " |-- diff_chegada_real_prevista: long (nullable = true)\n",
            " |-- diff_chegada_real_prevista(h): double (nullable = true)\n",
            " |-- diff_saida_real_prevista: long (nullable = true)\n",
            " |-- diff_saida_real_prevista(h): double (nullable = true)\n",
            "\n"
          ]
        }
      ]
    },
    {
      "cell_type": "code",
      "source": [
        "flights_infos.show()"
      ],
      "metadata": {
        "colab": {
          "base_uri": "https://localhost:8080/"
        },
        "id": "Mc-hQFLUz3Sn",
        "outputId": "25bd7b03-9a45-479e-d173-60dcea5d6fb6"
      },
      "execution_count": 46,
      "outputs": [
        {
          "output_type": "stream",
          "name": "stdout",
          "text": [
            "+------------------------+----------+---------+-----------------+---------------------------+-------------------+-------------------+----------------------------+-------------------+-------------------+------------+--------------------+-----------------+-------------+---------------+----------------+--------------------+-----------------+-------------+----------------+-----------------+---------------------+-------------------+--------------+----------------+-----------------+--------------------------+-----------------------------+------------------------+---------------------------+\n",
            "|sigla_icao_empresa_aerea|numero_voo|codigo_di|codigo_tipo_linha|sigla_icao_aeroporto_origem|   partida_prevista|       partida_real|sigla_icao_aeroporto_destino|   chegada_prevista|       chegada_real|situacao_voo|         nome_origem|    cidade_origem|  pais_origem|latitude_origem|longitude_origem|        nome_destino|   cidade_destino| pais_destino|latitude_destino|longitude_destino|airports_distance(km)|tempo_voo(segundos)|tempo_voo(min)|tempo_voo(horas)|  vel_media(km/h)|diff_chegada_real_prevista|diff_chegada_real_prevista(h)|diff_saida_real_prevista|diff_saida_real_prevista(h)|\n",
            "+------------------------+----------+---------+-----------------+---------------------------+-------------------+-------------------+----------------------------+-------------------+-------------------+------------+--------------------+-----------------+-------------+---------------+----------------+--------------------+-----------------+-------------+----------------+-----------------+---------------------+-------------------+--------------+----------------+-----------------+--------------------------+-----------------------------+------------------------+---------------------------+\n",
            "|                     AAL|       905|        0|                I|                       KMIA|2023-01-01 21:45:00|2023-01-01 00:56:00|                        SBGL|2023-01-02 06:20:00|2023-01-01 09:03:00|   REALIZADO|Miami Internation...|            Miami|United States|        25.7932|        -80.2906|Rio Galeão – Tom ...|   Rio De Janeiro|       Brazil|          -22.81|       -43.250557|             6717.246|              29220|         487.0|           8.117|827.5528019896512|                    -76620|                      -21.283|                  -74940|                    -20.817|\n",
            "|                     AAL|       929|        0|                I|                       KMIA|2023-01-01 21:45:00|2023-01-01 21:51:00|                        SBGR|2023-01-02 06:20:00|2023-01-02 06:33:00|   REALIZADO|Miami Internation...|            Miami|United States|        25.7932|        -80.2906|Guarulhos - Gover...|        Sao Paulo|       Brazil|      -23.435556|       -46.473057|             6573.594|              31320|         522.0|             8.7|755.5855446300288|                       780|                        0.217|                     360|                        0.1|\n",
            "|                     AAL|       930|        0|                I|                       SBGR|2023-01-01 22:00:00|2023-01-01 22:27:00|                        KMIA|2023-01-02 06:55:00|2023-01-02 06:33:00|   REALIZADO|Guarulhos - Gover...|        Sao Paulo|       Brazil|     -23.435556|      -46.473057|Miami Internation...|            Miami|United States|         25.7932|         -80.2906|             6573.594|              29160|         486.0|             8.1|811.5548442322531|                     -1320|                       -0.367|                    1620|                       0.45|\n",
            "|                     AAL|       950|        0|                I|                       SBGR|2023-01-01 23:20:00|2023-01-01 23:18:00|                        KJFK|2023-01-02 09:03:00|2023-01-02 09:43:00|   REALIZADO|Guarulhos - Gover...|        Sao Paulo|       Brazil|     -23.435556|      -46.473057|John F Kennedy In...|         New York|United States|         40.6398|         -73.7789|              7663.99|              37500|         625.0|          10.417|735.7195194753768|                      2400|                        0.667|                    -120|                     -0.033|\n",
            "|                     AAL|       951|        0|                I|                       KJFK|2023-01-01 00:59:00|2023-01-01 00:52:00|                        SBGR|2023-01-01 10:25:00|2023-01-01 11:02:00|   REALIZADO|John F Kennedy In...|         New York|United States|        40.6398|        -73.7789|Guarulhos - Gover...|        Sao Paulo|       Brazil|      -23.435556|       -46.473057|              7663.99|              36600|         610.0|          10.167|753.8103899257402|                      2220|                        0.617|                    -420|                     -0.117|\n",
            "|                     AAL|       957|        0|                I|                       KMIA|2023-01-01 23:00:00|2023-01-02 01:27:00|                        SBGR|2023-01-02 07:25:00|2023-01-02 09:24:00|   REALIZADO|Miami Internation...|            Miami|United States|        25.7932|        -80.2906|Guarulhos - Gover...|        Sao Paulo|       Brazil|      -23.435556|       -46.473057|             6573.594|              28620|         477.0|            7.95|826.8671997838051|                      7140|                        1.983|                    8820|                       2.45|\n",
            "|                     AAL|       958|        0|                I|                       SBGR|2023-01-01 10:50:00|2023-01-01 12:50:00|                        KMIA|2023-01-01 19:10:00|2023-01-01 21:48:00|   REALIZADO|Guarulhos - Gover...|        Sao Paulo|       Brazil|     -23.435556|      -46.473057|Miami Internation...|            Miami|United States|         25.7932|         -80.2906|             6573.594|              32280|         538.0|           8.967|733.0873467471005|                      9480|                        2.633|                    7200|                        2.0|\n",
            "|                     AAL|       962|        0|                I|                       SBGR|2023-01-01 21:50:00|2023-01-02 12:33:00|                        KDFW|2023-01-02 08:13:00|2023-01-02 22:48:00|   REALIZADO|Guarulhos - Gover...|        Sao Paulo|       Brazil|     -23.435556|      -46.473057|Dallas Fort Worth...|Dallas-Fort Worth|United States|         32.8968|          -97.038|             8243.656|              36900|         615.0|           10.25|804.2591463414634|                     52500|                       14.583|                   52980|                     14.717|\n",
            "|                     AAL|       963|        0|                I|                       KDFW|2023-01-01 22:36:00|2023-01-01 22:34:00|                        SBGR|2023-01-02 08:35:00|2023-01-02 08:28:00|   REALIZADO|Dallas Fort Worth...|Dallas-Fort Worth|United States|        32.8968|         -97.038|Guarulhos - Gover...|        Sao Paulo|       Brazil|      -23.435556|       -46.473057|             8243.656|              35640|         594.0|             9.9|832.6925505050505|                      -420|                       -0.117|                    -120|                     -0.033|\n",
            "|                     AAL|       974|        2|                X|                       SBGL|               NULL|2023-01-01 22:47:00|                        KJFK|               NULL|2023-01-02 08:27:00|   REALIZADO|Rio Galeão – Tom ...|   Rio De Janeiro|       Brazil|         -22.81|      -43.250557|John F Kennedy In...|         New York|United States|         40.6398|         -73.7789|              7729.34|              34800|         580.0|           9.667|799.5593093772628|                      NULL|                         NULL|                    NULL|                       NULL|\n",
            "|                     AAL|       995|        0|                I|                       KMIA|2023-01-01 00:48:00|2023-01-01 00:45:00|                        SBGR|2023-01-01 09:15:00|2023-01-01 09:06:00|   REALIZADO|Miami Internation...|            Miami|United States|        25.7932|        -80.2906|Guarulhos - Gover...|        Sao Paulo|       Brazil|      -23.435556|       -46.473057|             6573.594|              30060|         501.0|            8.35|787.2567950037426|                      -540|                        -0.15|                    -180|                      -0.05|\n",
            "|                     AAL|       904|        0|                I|                       SBGL|2023-01-02 00:05:00|2023-01-01 23:48:00|                        KMIA|2023-01-02 08:37:00|2023-01-02 08:11:00|   REALIZADO|Rio Galeão – Tom ...|   Rio De Janeiro|       Brazil|         -22.81|      -43.250557|Miami Internation...|            Miami|United States|         25.7932|         -80.2906|             6717.246|              30180|         503.0|           8.383|801.2938200823095|                     -1560|                       -0.433|                   -1020|                     -0.283|\n",
            "|                     AAL|       905|        0|                I|                       KMIA|2023-01-02 21:45:00|2023-01-02 01:04:00|                        SBGL|2023-01-03 06:20:00|2023-01-02 09:14:00|   REALIZADO|Miami Internation...|            Miami|United States|        25.7932|        -80.2906|Rio Galeão – Tom ...|   Rio De Janeiro|       Brazil|          -22.81|       -43.250557|             6717.246|              29400|         490.0|           8.167|822.4863589751438|                    -75960|                        -21.1|                  -74460|                    -20.683|\n",
            "|                     AAL|       906|        0|                I|                       SBGR|2023-01-02 00:00:00|2023-01-01 23:56:00|                        KMIA|2023-01-02 06:30:00|2023-01-02 08:13:00|   REALIZADO|Guarulhos - Gover...|        Sao Paulo|       Brazil|     -23.435556|      -46.473057|Miami Internation...|            Miami|United States|         25.7932|         -80.2906|             6573.594|              29820|         497.0|           8.283|793.6248024002475|                      6180|                        1.717|                    -240|                     -0.067|\n",
            "|                     AAL|       929|        0|                I|                       KMIA|2023-01-02 21:45:00|2023-01-02 21:48:00|                        SBGR|2023-01-03 06:20:00|2023-01-03 06:38:00|   REALIZADO|Miami Internation...|            Miami|United States|        25.7932|        -80.2906|Guarulhos - Gover...|        Sao Paulo|       Brazil|      -23.435556|       -46.473057|             6573.594|              31800|         530.0|           8.833|  744.20856314743|                      1080|                          0.3|                     180|                       0.05|\n",
            "|                     AAL|       930|        0|                I|                       SBGR|2023-01-02 22:00:00|2023-01-02 22:35:00|                        KMIA|2023-01-03 06:55:00|2023-01-03 06:22:00|   REALIZADO|Guarulhos - Gover...|        Sao Paulo|       Brazil|     -23.435556|      -46.473057|Miami Internation...|            Miami|United States|         25.7932|         -80.2906|             6573.594|              28020|         467.0|           7.783|844.6093072441539|                     -1980|                        -0.55|                    2100|                      0.583|\n",
            "|                     AAL|       950|        0|                I|                       SBGR|2023-01-02 23:20:00|2023-01-02 23:26:00|                        KJFK|2023-01-03 09:03:00|2023-01-03 08:43:00|   REALIZADO|Guarulhos - Gover...|        Sao Paulo|       Brazil|     -23.435556|      -46.473057|John F Kennedy In...|         New York|United States|         40.6398|         -73.7789|              7663.99|              33420|         557.0|           9.283|825.5941219837338|                     -1200|                       -0.333|                     360|                        0.1|\n",
            "|                     AAL|       951|        0|                I|                       KJFK|2023-01-02 00:59:00|2023-01-02 00:53:00|                        SBGR|2023-01-02 10:25:00|2023-01-02 10:11:00|   REALIZADO|John F Kennedy In...|         New York|United States|        40.6398|        -73.7789|Guarulhos - Gover...|        Sao Paulo|       Brazil|      -23.435556|       -46.473057|              7663.99|              33480|         558.0|             9.3| 824.084971438172|                      -840|                       -0.233|                    -360|                       -0.1|\n",
            "|                     AAL|       957|        0|                I|                       KMIA|2023-01-02 23:05:00|2023-01-02 00:41:00|                        SBGR|2023-01-03 07:30:00|2023-01-02 09:07:00|   REALIZADO|Miami Internation...|            Miami|United States|        25.7932|        -80.2906|Guarulhos - Gover...|        Sao Paulo|       Brazil|      -23.435556|       -46.473057|             6573.594|              30360|         506.0|           8.433|779.5083882700403|                    -80580|                      -22.383|                  -80640|                      -22.4|\n",
            "|                     AAL|       958|        0|                I|                       SBGR|2023-01-02 10:50:00|2023-01-02 11:03:00|                        KMIA|2023-01-02 19:10:00|2023-01-02 19:23:00|   REALIZADO|Guarulhos - Gover...|        Sao Paulo|       Brazil|     -23.435556|      -46.473057|Miami Internation...|            Miami|United States|         25.7932|         -80.2906|             6573.594|              30000|         500.0|           8.333|788.8628631082743|                       780|                        0.217|                     780|                      0.217|\n",
            "+------------------------+----------+---------+-----------------+---------------------------+-------------------+-------------------+----------------------------+-------------------+-------------------+------------+--------------------+-----------------+-------------+---------------+----------------+--------------------+-----------------+-------------+----------------+-----------------+---------------------+-------------------+--------------+----------------+-----------------+--------------------------+-----------------------------+------------------------+---------------------------+\n",
            "only showing top 20 rows\n",
            "\n"
          ]
        }
      ]
    },
    {
      "cell_type": "code",
      "source": [
        "flights_infos.describe().show()"
      ],
      "metadata": {
        "colab": {
          "base_uri": "https://localhost:8080/"
        },
        "id": "szw3BDt30glT",
        "outputId": "20629c6d-8e7a-40c1-aa0f-65cba7893b13"
      },
      "execution_count": 47,
      "outputs": [
        {
          "output_type": "stream",
          "name": "stdout",
          "text": [
            "+-------+------------------------+------------------+-------------------+-----------------+---------------------------+----------------------------+------------+--------------------+-------------+-----------+-------------------+-------------------+--------------------+--------------+------------+-------------------+-------------------+---------------------+-------------------+-----------------+------------------+------------------+--------------------------+-----------------------------+------------------------+---------------------------+\n",
            "|summary|sigla_icao_empresa_aerea|        numero_voo|          codigo_di|codigo_tipo_linha|sigla_icao_aeroporto_origem|sigla_icao_aeroporto_destino|situacao_voo|         nome_origem|cidade_origem|pais_origem|    latitude_origem|   longitude_origem|        nome_destino|cidade_destino|pais_destino|   latitude_destino|  longitude_destino|airports_distance(km)|tempo_voo(segundos)|   tempo_voo(min)|  tempo_voo(horas)|   vel_media(km/h)|diff_chegada_real_prevista|diff_chegada_real_prevista(h)|diff_saida_real_prevista|diff_saida_real_prevista(h)|\n",
            "+-------+------------------------+------------------+-------------------+-----------------+---------------------------+----------------------------+------------+--------------------+-------------+-----------+-------------------+-------------------+--------------------+--------------+------------+-------------------+-------------------+---------------------+-------------------+-----------------+------------------+------------------+--------------------------+-----------------------------+------------------------+---------------------------+\n",
            "|  count|                  983867|            980868|             982681|           983867|                     983867|                      983867|      983867|              966772|       966772|     966772|             966772|             966772|              966808|        966808|      966808|             966808|             966808|               983867|             926444|           926444|            926444|            926423|                    888318|                       888318|                  888318|                     888318|\n",
            "|   mean|                    NULL|3483.3271337223764|0.16490906001031871|             NULL|                       NULL|                        NULL|        NULL|                NULL|         NULL|       NULL|-16.795849714439463|-46.007200565623485|                NULL|          NULL|        NULL|-16.889118095491977|-46.021255532919085|   1719.5248839051226| 15383.858387554996|256.3976397925833| 4.273293547154517| 619.6849409743237|        7199.9972982648105|           1.9999993921096582|       388.9168743625593|        0.10803019639356434|\n",
            "| stddev|                    NULL| 2134.838726019216| 0.9244329358026041|             NULL|                       NULL|                        NULL|        NULL|                NULL|         NULL|       NULL| 13.934563842110524| 12.757966466487956|                NULL|          NULL|        NULL| 13.843218933760538| 12.652327496889033|    2149.471384292634|    5874523.6241311|97908.72706885409|1631.8121181453841| 758.3441654100399|         5999229.432085412|           1666.4526203864484|      11167.293002395334|         3.1020259560742485|\n",
            "|    min|                     1ED|                 1|                  0|                C|                       CYMX|                        CYUL|   CANCELADO|\"Châteauroux-Déol...|         APUI|     Angola|           -54.8433|         -157.92422|\"Châteauroux-Déol...|          APUI|      Angola|           -54.8433|         -157.92422|                  0.0|                  0|              0.0|               0.0|               0.0|                   -176580|                       -49.05|                -7949040|                  -2208.067|\n",
            "|    max|                     WFL|              9999|                  9|                X|                       ZSPD|                        ZWTP|   REALIZADO|      Örebro Airport|       Zurich|  Venezuela|            61.1744|            144.843|      Zürich Airport|        Zurich|   Venezuela|            61.1744|            153.117|            14093.118|         5648674740|      9.4144579E7|       1569076.317|123577.22024356617|                5648660340|                  1569072.317|                 2418600|                    671.833|\n",
            "+-------+------------------------+------------------+-------------------+-----------------+---------------------------+----------------------------+------------+--------------------+-------------+-----------+-------------------+-------------------+--------------------+--------------+------------+-------------------+-------------------+---------------------+-------------------+-----------------+------------------+------------------+--------------------------+-----------------------------+------------------------+---------------------------+\n",
            "\n"
          ]
        }
      ]
    },
    {
      "cell_type": "code",
      "source": [
        "# Velocidade media de um aviao de passageiros eh 900km/h\n",
        "# https://www.terra.com.br/byte/ciencia/por-que-nao-percebemos-a-real-velocidade-de-um-aviao,6d14e86647e38d25a57e6d1850729516ght1mcr8.html\n",
        "\n",
        "# Informacoes sobre voos no Brasil\n",
        "# https://www.gov.br/turismo/pt-br/assuntos/noticias/conheca-os-voos-mais-curtos-e-os-mais-longos-realizados-no-brasil\n",
        "\n",
        "\n",
        "flights_infos = flights_infos.withColumnRenamed(\"tempo_voo(min)\", \"tempo_voo_min\")\\\n",
        "       .withColumnRenamed(\"tempo_voo(horas)\", \"tempo_voo_horas\")\\\n",
        "       .withColumnRenamed(\"vel_media(km/h)\", \"vel_media_kmh\")\n",
        "\n",
        "flights_infos.createOrReplaceTempView(\"flights_infos\")\n"
      ],
      "metadata": {
        "id": "ESy85CrvyyYw"
      },
      "execution_count": 48,
      "outputs": []
    },
    {
      "cell_type": "code",
      "source": [
        "flights_infos.select(\"situacao_voo\").distinct().show()"
      ],
      "metadata": {
        "colab": {
          "base_uri": "https://localhost:8080/"
        },
        "id": "DTXWVNXs54oV",
        "outputId": "5610889b-09d9-484f-c731-becde7183275"
      },
      "execution_count": 49,
      "outputs": [
        {
          "output_type": "stream",
          "name": "stdout",
          "text": [
            "+-------------+\n",
            "| situacao_voo|\n",
            "+-------------+\n",
            "|    CANCELADO|\n",
            "|NÃO INFORMADO|\n",
            "|    REALIZADO|\n",
            "+-------------+\n",
            "\n"
          ]
        }
      ]
    },
    {
      "cell_type": "code",
      "source": [
        "filtered_flights = spark.sql(\"\"\"\n",
        "    select\n",
        "        *\n",
        "    from flights_infos\n",
        "    where\n",
        "        pais_origem = 'Brazil' and\n",
        "        pais_destino = 'Brazil' and\n",
        "        cidade_origem <> cidade_destino and\n",
        "        partida_prevista is not null and\n",
        "        chegada_prevista is not null and\n",
        "        partida_real is not null and\n",
        "        chegada_real is not null and\n",
        "        tempo_voo_min >= 15 and\n",
        "        tempo_voo_horas <= 15 and\n",
        "        vel_media_kmh > 0 and\n",
        "        vel_media_kmh <= 1200 and\n",
        "        situacao_voo = 'REALIZADO'\n",
        "\"\"\")"
      ],
      "metadata": {
        "id": "xy6TyKIY5HfL"
      },
      "execution_count": 50,
      "outputs": []
    },
    {
      "cell_type": "code",
      "source": [
        "filtered_flights.count()"
      ],
      "metadata": {
        "colab": {
          "base_uri": "https://localhost:8080/"
        },
        "id": "NFPXj7ZHzfkO",
        "outputId": "fc449d05-0fe7-48c0-a56e-47c63b4eaa42"
      },
      "execution_count": 51,
      "outputs": [
        {
          "output_type": "execute_result",
          "data": {
            "text/plain": [
              "748484"
            ]
          },
          "metadata": {},
          "execution_count": 51
        }
      ]
    },
    {
      "cell_type": "code",
      "source": [
        "filtered_flights.show()"
      ],
      "metadata": {
        "colab": {
          "base_uri": "https://localhost:8080/"
        },
        "id": "GdEgw2bD5eqY",
        "outputId": "ebc13b3c-32d4-4142-d1fc-877d731501f3"
      },
      "execution_count": 52,
      "outputs": [
        {
          "output_type": "stream",
          "name": "stdout",
          "text": [
            "+------------------------+----------+---------+-----------------+---------------------------+-------------------+-------------------+----------------------------+-------------------+-------------------+------------+--------------------+------------------+-----------+---------------+----------------+--------------------+------------------+------------+----------------+-----------------+---------------------+-------------------+-------------+---------------+------------------+--------------------------+-----------------------------+------------------------+---------------------------+\n",
            "|sigla_icao_empresa_aerea|numero_voo|codigo_di|codigo_tipo_linha|sigla_icao_aeroporto_origem|   partida_prevista|       partida_real|sigla_icao_aeroporto_destino|   chegada_prevista|       chegada_real|situacao_voo|         nome_origem|     cidade_origem|pais_origem|latitude_origem|longitude_origem|        nome_destino|    cidade_destino|pais_destino|latitude_destino|longitude_destino|airports_distance(km)|tempo_voo(segundos)|tempo_voo_min|tempo_voo_horas|     vel_media_kmh|diff_chegada_real_prevista|diff_chegada_real_prevista(h)|diff_saida_real_prevista|diff_saida_real_prevista(h)|\n",
            "+------------------------+----------+---------+-----------------+---------------------------+-------------------+-------------------+----------------------------+-------------------+-------------------+------------+--------------------+------------------+-----------+---------------+----------------+--------------------+------------------+------------+----------------+-----------------+---------------------+-------------------+-------------+---------------+------------------+--------------------------+-----------------------------+------------------------+---------------------------+\n",
            "|                     ABJ|      1404|        0|                N|                       SBSV|2023-01-01 11:15:00|2023-01-01 10:41:00|                        SNCL|2023-01-01 11:45:00|2023-01-01 11:01:00|   REALIZADO|Deputado Luiz Edu...|          Salvador|     Brazil|     -12.908611|        -38.3225|     Lorenzo Airport|Morro de Sao Paulo|      Brazil|      -13.389444|           -38.91|             83.09885|               1200|         20.0|          0.333|249.54608539203264|                     -2640|                       -0.733|                   -2040|                     -0.567|\n",
            "|                     ABJ|      1405|        0|                N|                       SNCL|2023-01-01 12:00:00|2023-01-01 11:37:00|                        SBSV|2023-01-01 12:30:00|2023-01-01 12:00:00|   REALIZADO|     Lorenzo Airport|Morro de Sao Paulo|     Brazil|     -13.389444|          -38.91|Deputado Luiz Edu...|          Salvador|      Brazil|      -12.908611|         -38.3225|             83.09885|               1380|         23.0|          0.383|216.96826745573597|                     -1800|                         -0.5|                   -1380|                     -0.383|\n",
            "|                     ABJ|      1406|        0|                N|                       SBSV|2023-01-01 13:00:00|2023-01-01 12:32:00|                        SNCL|2023-01-01 13:30:00|2023-01-01 12:54:00|   REALIZADO|Deputado Luiz Edu...|          Salvador|     Brazil|     -12.908611|        -38.3225|     Lorenzo Airport|Morro de Sao Paulo|      Brazil|      -13.389444|           -38.91|             83.09885|               1320|         22.0|          0.367|226.42737448377895|                     -2160|                         -0.6|                   -1680|                     -0.467|\n",
            "|                     ABJ|      1407|        0|                N|                       SNCL|2023-01-01 13:45:00|2023-01-01 13:42:00|                        SBSV|2023-01-01 14:15:00|2023-01-01 14:04:00|   REALIZADO|     Lorenzo Airport|Morro de Sao Paulo|     Brazil|     -13.389444|          -38.91|Deputado Luiz Edu...|          Salvador|      Brazil|      -12.908611|         -38.3225|             83.09885|               1320|         22.0|          0.367|226.42737448377895|                      -660|                       -0.183|                    -180|                      -0.05|\n",
            "|                     ABJ|      1404|        0|                N|                       SBSV|2023-01-02 11:15:00|2023-01-02 09:12:00|                        SNCL|2023-01-02 11:45:00|2023-01-02 09:44:00|   REALIZADO|Deputado Luiz Edu...|          Salvador|     Brazil|     -12.908611|        -38.3225|     Lorenzo Airport|Morro de Sao Paulo|      Brazil|      -13.389444|           -38.91|             83.09885|               1920|         32.0|          0.533| 155.9077794287934|                     -7260|                       -2.017|                   -7380|                      -2.05|\n",
            "|                     ABJ|      1405|        0|                N|                       SNCL|2023-01-02 12:00:00|2023-01-02 10:09:00|                        SBSV|2023-01-02 12:30:00|2023-01-02 10:49:00|   REALIZADO|     Lorenzo Airport|Morro de Sao Paulo|     Brazil|     -13.389444|          -38.91|Deputado Luiz Edu...|          Salvador|      Brazil|      -12.908611|         -38.3225|             83.09885|               2400|         40.0|          0.667|124.58597666498781|                     -6060|                       -1.683|                   -6660|                      -1.85|\n",
            "|                     ABJ|      1406|        0|                N|                       SBSV|2023-01-02 13:00:00|2023-01-02 11:14:00|                        SNCL|2023-01-02 13:30:00|2023-01-02 11:48:00|   REALIZADO|Deputado Luiz Edu...|          Salvador|     Brazil|     -12.908611|        -38.3225|     Lorenzo Airport|Morro de Sao Paulo|      Brazil|      -13.389444|           -38.91|             83.09885|               2040|         34.0|          0.567|146.55881205563824|                     -6120|                         -1.7|                   -6360|                     -1.767|\n",
            "|                     ABJ|      1407|        0|                N|                       SNCL|2023-01-02 13:45:00|2023-01-02 12:03:00|                        SBSV|2023-01-02 14:15:00|2023-01-02 12:30:00|   REALIZADO|     Lorenzo Airport|Morro de Sao Paulo|     Brazil|     -13.389444|          -38.91|Deputado Luiz Edu...|          Salvador|      Brazil|      -12.908611|         -38.3225|             83.09885|               1620|         27.0|           0.45|184.66410319010416|                     -6300|                        -1.75|                   -6120|                       -1.7|\n",
            "|                     ABJ|      1408|        0|                N|                       SBSV|2023-01-02 14:45:00|2023-01-02 12:53:00|                        SNCL|2023-01-02 15:15:00|2023-01-02 13:17:00|   REALIZADO|Deputado Luiz Edu...|          Salvador|     Brazil|     -12.908611|        -38.3225|     Lorenzo Airport|Morro de Sao Paulo|      Brazil|      -13.389444|           -38.91|             83.09885|               1440|         24.0|            0.4| 207.7471160888672|                     -7080|                       -1.967|                   -6720|                     -1.867|\n",
            "|                     ABJ|      1409|        0|                N|                       SNCL|2023-01-02 15:30:00|2023-01-02 13:33:00|                        SBSV|2023-01-02 16:00:00|2023-01-02 13:57:00|   REALIZADO|     Lorenzo Airport|Morro de Sao Paulo|     Brazil|     -13.389444|          -38.91|Deputado Luiz Edu...|          Salvador|      Brazil|      -12.908611|         -38.3225|             83.09885|               1440|         24.0|            0.4| 207.7471160888672|                     -7380|                        -2.05|                   -7020|                      -1.95|\n",
            "|                     ABJ|      1410|        0|                N|                       SBSV|2023-01-02 16:30:00|2023-01-02 15:05:00|                        SNCL|2023-01-02 17:00:00|2023-01-02 15:23:00|   REALIZADO|Deputado Luiz Edu...|          Salvador|     Brazil|     -12.908611|        -38.3225|     Lorenzo Airport|Morro de Sao Paulo|      Brazil|      -13.389444|           -38.91|             83.09885|               1080|         18.0|            0.3|276.99615478515625|                     -5820|                       -1.617|                   -5100|                     -1.417|\n",
            "|                     ABJ|      1411|        0|                N|                       SNCL|2023-01-02 17:15:00|2023-01-02 15:36:00|                        SBSV|2023-01-02 17:45:00|2023-01-02 16:01:00|   REALIZADO|     Lorenzo Airport|Morro de Sao Paulo|     Brazil|     -13.389444|          -38.91|Deputado Luiz Edu...|          Salvador|      Brazil|      -12.908611|         -38.3225|             83.09885|               1500|         25.0|          0.417|199.27780919795416|                     -6240|                       -1.733|                   -5940|                      -1.65|\n",
            "|                     ABJ|      1404|        0|                N|                       SBSV|2023-01-03 11:15:00|2023-01-03 10:50:00|                        SNCL|2023-01-03 11:45:00|2023-01-03 11:14:00|   REALIZADO|Deputado Luiz Edu...|          Salvador|     Brazil|     -12.908611|        -38.3225|     Lorenzo Airport|Morro de Sao Paulo|      Brazil|      -13.389444|           -38.91|             83.09885|               1440|         24.0|            0.4| 207.7471160888672|                     -1860|                       -0.517|                   -1500|                     -0.417|\n",
            "|                     ABJ|      1405|        0|                N|                       SNCL|2023-01-03 12:00:00|2023-01-03 11:37:00|                        SBSV|2023-01-03 12:30:00|2023-01-03 12:02:00|   REALIZADO|     Lorenzo Airport|Morro de Sao Paulo|     Brazil|     -13.389444|          -38.91|Deputado Luiz Edu...|          Salvador|      Brazil|      -12.908611|         -38.3225|             83.09885|               1500|         25.0|          0.417|199.27780919795416|                     -1680|                       -0.467|                   -1380|                     -0.383|\n",
            "|                     ABJ|      1406|        0|                N|                       SBSV|2023-01-03 13:00:00|2023-01-03 12:35:00|                        SNCL|2023-01-03 13:30:00|2023-01-03 12:58:00|   REALIZADO|Deputado Luiz Edu...|          Salvador|     Brazil|     -12.908611|        -38.3225|     Lorenzo Airport|Morro de Sao Paulo|      Brazil|      -13.389444|           -38.91|             83.09885|               1380|         23.0|          0.383|216.96826745573597|                     -1920|                       -0.533|                   -1500|                     -0.417|\n",
            "|                     ABJ|      1407|        0|                N|                       SNCL|2023-01-03 13:45:00|2023-01-03 13:32:00|                        SBSV|2023-01-03 14:15:00|2023-01-03 13:56:00|   REALIZADO|     Lorenzo Airport|Morro de Sao Paulo|     Brazil|     -13.389444|          -38.91|Deputado Luiz Edu...|          Salvador|      Brazil|      -12.908611|         -38.3225|             83.09885|               1440|         24.0|            0.4| 207.7471160888672|                     -1140|                       -0.317|                    -780|                     -0.217|\n",
            "|                     ABJ|      1408|        0|                N|                       SBSV|2023-01-03 14:45:00|2023-01-03 14:38:00|                        SNCL|2023-01-03 15:15:00|2023-01-03 15:01:00|   REALIZADO|Deputado Luiz Edu...|          Salvador|     Brazil|     -12.908611|        -38.3225|     Lorenzo Airport|Morro de Sao Paulo|      Brazil|      -13.389444|           -38.91|             83.09885|               1380|         23.0|          0.383|216.96826745573597|                      -840|                       -0.233|                    -420|                     -0.117|\n",
            "|                     ABJ|      1409|        0|                N|                       SNCL|2023-01-03 15:30:00|2023-01-03 16:16:00|                        SBSV|2023-01-03 16:00:00|2023-01-03 16:38:00|   REALIZADO|     Lorenzo Airport|Morro de Sao Paulo|     Brazil|     -13.389444|          -38.91|Deputado Luiz Edu...|          Salvador|      Brazil|      -12.908611|         -38.3225|             83.09885|               1320|         22.0|          0.367|226.42737448377895|                      2280|                        0.633|                    2760|                      0.767|\n",
            "|                     ABJ|      1410|        0|                N|                       SBSV|2023-01-03 16:30:00|2023-01-03 16:16:00|                        SNCL|2023-01-03 17:00:00|2023-01-03 16:38:00|   REALIZADO|Deputado Luiz Edu...|          Salvador|     Brazil|     -12.908611|        -38.3225|     Lorenzo Airport|Morro de Sao Paulo|      Brazil|      -13.389444|           -38.91|             83.09885|               1320|         22.0|          0.367|226.42737448377895|                     -1320|                       -0.367|                    -840|                     -0.233|\n",
            "|                     ABJ|      1411|        0|                N|                       SNCL|2023-01-03 17:15:00|2023-01-03 16:55:00|                        SBSV|2023-01-03 17:45:00|2023-01-03 17:19:00|   REALIZADO|     Lorenzo Airport|Morro de Sao Paulo|     Brazil|     -13.389444|          -38.91|Deputado Luiz Edu...|          Salvador|      Brazil|      -12.908611|         -38.3225|             83.09885|               1440|         24.0|            0.4| 207.7471160888672|                     -1560|                       -0.433|                   -1200|                     -0.333|\n",
            "+------------------------+----------+---------+-----------------+---------------------------+-------------------+-------------------+----------------------------+-------------------+-------------------+------------+--------------------+------------------+-----------+---------------+----------------+--------------------+------------------+------------+----------------+-----------------+---------------------+-------------------+-------------+---------------+------------------+--------------------------+-----------------------------+------------------------+---------------------------+\n",
            "only showing top 20 rows\n",
            "\n"
          ]
        }
      ]
    },
    {
      "cell_type": "markdown",
      "source": [
        "# Questões de Análise"
      ],
      "metadata": {
        "id": "yTpf_MoQDtlY"
      }
    },
    {
      "cell_type": "markdown",
      "source": [
        "## Questão 1: Qual foi a cidade com mais voos de origem? >>> São Paulo"
      ],
      "metadata": {
        "id": "vrtFRInfDwIR"
      }
    },
    {
      "cell_type": "code",
      "source": [
        "# Cidade com mais voos\n",
        "filtered_flights.select(\"cidade_origem\")\\\n",
        "    .groupBy(\"cidade_origem\").count().orderBy(desc(\"count\")).show()"
      ],
      "metadata": {
        "id": "z6piRqIODyYv",
        "colab": {
          "base_uri": "https://localhost:8080/"
        },
        "outputId": "0b07db92-7392-4f21-85c6-1e0ce4b0ffcf"
      },
      "execution_count": 53,
      "outputs": [
        {
          "output_type": "stream",
          "name": "stdout",
          "text": [
            "+--------------+------+\n",
            "| cidade_origem| count|\n",
            "+--------------+------+\n",
            "|     Sao Paulo|180795|\n",
            "|Rio De Janeiro| 67078|\n",
            "|      Campinas| 52226|\n",
            "|      Brasilia| 51394|\n",
            "|Belo Horizonte| 45603|\n",
            "|        Recife| 35630|\n",
            "|  Porto Alegre| 27694|\n",
            "|      Salvador| 25649|\n",
            "|      Curitiba| 24559|\n",
            "|     Fortaleza| 17934|\n",
            "|       Goiania| 13836|\n",
            "|       Vitoria| 13348|\n",
            "|         Belem| 13346|\n",
            "| Florianopolis| 13314|\n",
            "|        Manaus| 10811|\n",
            "|        Cuiaba| 10498|\n",
            "|        Maceio|  8532|\n",
            "|    Navegantes|  8301|\n",
            "|         Natal|  7886|\n",
            "|  Porto Seguro|  7263|\n",
            "+--------------+------+\n",
            "only showing top 20 rows\n",
            "\n"
          ]
        }
      ]
    },
    {
      "cell_type": "markdown",
      "source": [
        "## Questão 2: Quais foram as cidades de origem e destino com maior número de voos? >>> São Paulo para Rio de Janeiro"
      ],
      "metadata": {
        "id": "3zOnGcT8Dzi_"
      }
    },
    {
      "cell_type": "code",
      "source": [
        "# Cidades de origem e destino com maior numero de voos\n",
        "# Cidade com mais voos\n",
        "filtered_flights.select(\"cidade_origem\", \"cidade_destino\")\\\n",
        "    .groupBy(\"cidade_origem\", \"cidade_destino\").count().orderBy(desc(\"count\")).show()\n",
        "# Grande parte dos voos estao possivelmente vinculados a passageiros que fazem viagem de ida e volta"
      ],
      "metadata": {
        "id": "EhA5_aLCDzjY",
        "colab": {
          "base_uri": "https://localhost:8080/"
        },
        "outputId": "3157d891-da10-49fd-d01b-26fbb1f62e40"
      },
      "execution_count": 54,
      "outputs": [
        {
          "output_type": "stream",
          "name": "stdout",
          "text": [
            "+--------------+--------------+-----+\n",
            "| cidade_origem|cidade_destino|count|\n",
            "+--------------+--------------+-----+\n",
            "|     Sao Paulo|Rio De Janeiro|26940|\n",
            "|Rio De Janeiro|     Sao Paulo|26547|\n",
            "|     Sao Paulo|  Porto Alegre|14506|\n",
            "|  Porto Alegre|     Sao Paulo|14364|\n",
            "|Belo Horizonte|     Sao Paulo|13498|\n",
            "|     Sao Paulo|Belo Horizonte|13371|\n",
            "|     Sao Paulo|      Brasilia|13290|\n",
            "|      Brasilia|     Sao Paulo|13224|\n",
            "|     Sao Paulo|      Curitiba|11248|\n",
            "|      Curitiba|     Sao Paulo|11203|\n",
            "|     Sao Paulo|        Recife| 9316|\n",
            "|        Recife|     Sao Paulo| 9129|\n",
            "|     Sao Paulo|      Salvador| 8369|\n",
            "|      Salvador|     Sao Paulo| 8345|\n",
            "|     Sao Paulo| Florianopolis| 7409|\n",
            "| Florianopolis|     Sao Paulo| 7346|\n",
            "|       Goiania|     Sao Paulo| 6456|\n",
            "|     Sao Paulo|       Goiania| 6368|\n",
            "|Rio De Janeiro|      Brasilia| 6203|\n",
            "|      Brasilia|Rio De Janeiro| 6156|\n",
            "+--------------+--------------+-----+\n",
            "only showing top 20 rows\n",
            "\n"
          ]
        }
      ]
    },
    {
      "cell_type": "markdown",
      "source": [
        "## Questão 3: Quais foram as rotas com maiores atrasos médios na chegada? >>>\n",
        "\n",
        "```\n",
        "+---------------------------+--------------------------------+--------------------------------+\n",
        "|rota                       |avg_diff_chegada_real_prevista_h|avg_diff_chegada_real_prevista_s|\n",
        "+---------------------------+--------------------------------+--------------------------------+\n",
        "|Cuiaba_Campo Grande        |1.201210084033614               |4324.285714285715               |\n",
        "|Salvador_Morro de Sao Paulo|1.1935126760563386              |4296.6760563380285              |\n",
        "|Morro de Sao Paulo_Salvador|1.0366450704225343              |3731.830985915493               |\n",
        "|Belem_Boa Vista            |0.9821456692913384              |3535.748031496063               |\n",
        "|Belem_Santarem             |0.7859358074222673              |2829.3881644934804              |\n",
        "|Ribeirao Preto_Brasilia    |0.7384905660377354              |2658.566037735849               |\n",
        "|Sao Paulo_Campinas         |0.6421021505376344              |2311.6129032258063              |\n",
        "|Goiania_Campo Grande       |0.568141592920354               |2045.3097345132744              |\n",
        "|Porto Velho_Rio Branco     |0.5511673469387759              |1984.1632653061224              |\n",
        "|Brasilia_Araguaina         |0.5396289308176102              |1942.6415094339623              |\n",
        "+---------------------------+--------------------------------+--------------------------------+\n",
        "```"
      ],
      "metadata": {
        "id": "glNiz3efDzwX"
      }
    },
    {
      "cell_type": "code",
      "source": [
        "# Rotas com maiores atrasos médios na chegada\n",
        "filtered_flights = filtered_flights.withColumn(\"rota\",\n",
        "                                               concat(col(\"cidade_origem\"), lit(\"_\"), col(\"cidade_destino\")))"
      ],
      "metadata": {
        "id": "lWauWVhHDzwX"
      },
      "execution_count": 55,
      "outputs": []
    },
    {
      "cell_type": "code",
      "source": [
        "filtered_flights.show(5)"
      ],
      "metadata": {
        "colab": {
          "base_uri": "https://localhost:8080/"
        },
        "id": "Ve2xvDi79U6S",
        "outputId": "e408ddb3-a868-4d7a-be4d-5481c8ed3532"
      },
      "execution_count": 56,
      "outputs": [
        {
          "output_type": "stream",
          "name": "stdout",
          "text": [
            "+------------------------+----------+---------+-----------------+---------------------------+-------------------+-------------------+----------------------------+-------------------+-------------------+------------+--------------------+------------------+-----------+---------------+----------------+--------------------+------------------+------------+----------------+-----------------+---------------------+-------------------+-------------+---------------+------------------+--------------------------+-----------------------------+------------------------+---------------------------+--------------------+\n",
            "|sigla_icao_empresa_aerea|numero_voo|codigo_di|codigo_tipo_linha|sigla_icao_aeroporto_origem|   partida_prevista|       partida_real|sigla_icao_aeroporto_destino|   chegada_prevista|       chegada_real|situacao_voo|         nome_origem|     cidade_origem|pais_origem|latitude_origem|longitude_origem|        nome_destino|    cidade_destino|pais_destino|latitude_destino|longitude_destino|airports_distance(km)|tempo_voo(segundos)|tempo_voo_min|tempo_voo_horas|     vel_media_kmh|diff_chegada_real_prevista|diff_chegada_real_prevista(h)|diff_saida_real_prevista|diff_saida_real_prevista(h)|                rota|\n",
            "+------------------------+----------+---------+-----------------+---------------------------+-------------------+-------------------+----------------------------+-------------------+-------------------+------------+--------------------+------------------+-----------+---------------+----------------+--------------------+------------------+------------+----------------+-----------------+---------------------+-------------------+-------------+---------------+------------------+--------------------------+-----------------------------+------------------------+---------------------------+--------------------+\n",
            "|                     ABJ|      1404|        0|                N|                       SBSV|2023-01-01 11:15:00|2023-01-01 10:41:00|                        SNCL|2023-01-01 11:45:00|2023-01-01 11:01:00|   REALIZADO|Deputado Luiz Edu...|          Salvador|     Brazil|     -12.908611|        -38.3225|     Lorenzo Airport|Morro de Sao Paulo|      Brazil|      -13.389444|           -38.91|             83.09885|               1200|         20.0|          0.333|249.54608539203264|                     -2640|                       -0.733|                   -2040|                     -0.567|Salvador_Morro de...|\n",
            "|                     ABJ|      1405|        0|                N|                       SNCL|2023-01-01 12:00:00|2023-01-01 11:37:00|                        SBSV|2023-01-01 12:30:00|2023-01-01 12:00:00|   REALIZADO|     Lorenzo Airport|Morro de Sao Paulo|     Brazil|     -13.389444|          -38.91|Deputado Luiz Edu...|          Salvador|      Brazil|      -12.908611|         -38.3225|             83.09885|               1380|         23.0|          0.383|216.96826745573597|                     -1800|                         -0.5|                   -1380|                     -0.383|Morro de Sao Paul...|\n",
            "|                     ABJ|      1406|        0|                N|                       SBSV|2023-01-01 13:00:00|2023-01-01 12:32:00|                        SNCL|2023-01-01 13:30:00|2023-01-01 12:54:00|   REALIZADO|Deputado Luiz Edu...|          Salvador|     Brazil|     -12.908611|        -38.3225|     Lorenzo Airport|Morro de Sao Paulo|      Brazil|      -13.389444|           -38.91|             83.09885|               1320|         22.0|          0.367|226.42737448377895|                     -2160|                         -0.6|                   -1680|                     -0.467|Salvador_Morro de...|\n",
            "|                     ABJ|      1407|        0|                N|                       SNCL|2023-01-01 13:45:00|2023-01-01 13:42:00|                        SBSV|2023-01-01 14:15:00|2023-01-01 14:04:00|   REALIZADO|     Lorenzo Airport|Morro de Sao Paulo|     Brazil|     -13.389444|          -38.91|Deputado Luiz Edu...|          Salvador|      Brazil|      -12.908611|         -38.3225|             83.09885|               1320|         22.0|          0.367|226.42737448377895|                      -660|                       -0.183|                    -180|                      -0.05|Morro de Sao Paul...|\n",
            "|                     ABJ|      1404|        0|                N|                       SBSV|2023-01-02 11:15:00|2023-01-02 09:12:00|                        SNCL|2023-01-02 11:45:00|2023-01-02 09:44:00|   REALIZADO|Deputado Luiz Edu...|          Salvador|     Brazil|     -12.908611|        -38.3225|     Lorenzo Airport|Morro de Sao Paulo|      Brazil|      -13.389444|           -38.91|             83.09885|               1920|         32.0|          0.533| 155.9077794287934|                     -7260|                       -2.017|                   -7380|                      -2.05|Salvador_Morro de...|\n",
            "+------------------------+----------+---------+-----------------+---------------------------+-------------------+-------------------+----------------------------+-------------------+-------------------+------------+--------------------+------------------+-----------+---------------+----------------+--------------------+------------------+------------+----------------+-----------------+---------------------+-------------------+-------------+---------------+------------------+--------------------------+-----------------------------+------------------------+---------------------------+--------------------+\n",
            "only showing top 5 rows\n",
            "\n"
          ]
        }
      ]
    },
    {
      "cell_type": "code",
      "source": [
        "rotas_count = filtered_flights.groupBy(\"rota\").count().filter(col(\"count\") > 100)"
      ],
      "metadata": {
        "id": "GW7EXvKDA9ee"
      },
      "execution_count": 57,
      "outputs": []
    },
    {
      "cell_type": "code",
      "source": [
        "filtered_flights.count()"
      ],
      "metadata": {
        "colab": {
          "base_uri": "https://localhost:8080/"
        },
        "id": "nNFbIc0tCdea",
        "outputId": "ca1eb178-7201-4ef3-ea39-151fad09bfd3"
      },
      "execution_count": 58,
      "outputs": [
        {
          "output_type": "execute_result",
          "data": {
            "text/plain": [
              "748484"
            ]
          },
          "metadata": {},
          "execution_count": 58
        }
      ]
    },
    {
      "cell_type": "code",
      "source": [
        "rotas_count.count()"
      ],
      "metadata": {
        "colab": {
          "base_uri": "https://localhost:8080/"
        },
        "id": "V2gukHpYCk_o",
        "outputId": "1f864cbf-53a3-49f9-a256-445e262b63a9"
      },
      "execution_count": 59,
      "outputs": [
        {
          "output_type": "execute_result",
          "data": {
            "text/plain": [
              "590"
            ]
          },
          "metadata": {},
          "execution_count": 59
        }
      ]
    },
    {
      "cell_type": "code",
      "source": [
        "rotas_flights_agg = filtered_flights.join(rotas_count, \"rota\")"
      ],
      "metadata": {
        "id": "kyHzMiulCHD-"
      },
      "execution_count": 60,
      "outputs": []
    },
    {
      "cell_type": "code",
      "source": [
        "rotas_flights_agg.count()"
      ],
      "metadata": {
        "colab": {
          "base_uri": "https://localhost:8080/"
        },
        "id": "y5QKYKlTCiH3",
        "outputId": "fd9f80a7-18c2-413d-b544-6f2db78049c9"
      },
      "execution_count": 61,
      "outputs": [
        {
          "output_type": "execute_result",
          "data": {
            "text/plain": [
              "737676"
            ]
          },
          "metadata": {},
          "execution_count": 61
        }
      ]
    },
    {
      "cell_type": "code",
      "source": [
        "rotas_flights_agg.printSchema()"
      ],
      "metadata": {
        "colab": {
          "base_uri": "https://localhost:8080/"
        },
        "id": "E1ouaB5YDNAg",
        "outputId": "2b1af190-eea9-4fb3-b114-e7c73f45ab7c"
      },
      "execution_count": 62,
      "outputs": [
        {
          "output_type": "stream",
          "name": "stdout",
          "text": [
            "root\n",
            " |-- rota: string (nullable = true)\n",
            " |-- sigla_icao_empresa_aerea: string (nullable = true)\n",
            " |-- numero_voo: integer (nullable = true)\n",
            " |-- codigo_di: integer (nullable = true)\n",
            " |-- codigo_tipo_linha: string (nullable = true)\n",
            " |-- sigla_icao_aeroporto_origem: string (nullable = true)\n",
            " |-- partida_prevista: timestamp (nullable = true)\n",
            " |-- partida_real: timestamp (nullable = true)\n",
            " |-- sigla_icao_aeroporto_destino: string (nullable = true)\n",
            " |-- chegada_prevista: timestamp (nullable = true)\n",
            " |-- chegada_real: timestamp (nullable = true)\n",
            " |-- situacao_voo: string (nullable = true)\n",
            " |-- nome_origem: string (nullable = true)\n",
            " |-- cidade_origem: string (nullable = true)\n",
            " |-- pais_origem: string (nullable = true)\n",
            " |-- latitude_origem: float (nullable = true)\n",
            " |-- longitude_origem: float (nullable = true)\n",
            " |-- nome_destino: string (nullable = true)\n",
            " |-- cidade_destino: string (nullable = true)\n",
            " |-- pais_destino: string (nullable = true)\n",
            " |-- latitude_destino: float (nullable = true)\n",
            " |-- longitude_destino: float (nullable = true)\n",
            " |-- airports_distance(km): float (nullable = true)\n",
            " |-- tempo_voo(segundos): long (nullable = true)\n",
            " |-- tempo_voo_min: double (nullable = true)\n",
            " |-- tempo_voo_horas: double (nullable = true)\n",
            " |-- vel_media_kmh: double (nullable = true)\n",
            " |-- diff_chegada_real_prevista: long (nullable = true)\n",
            " |-- diff_chegada_real_prevista(h): double (nullable = true)\n",
            " |-- diff_saida_real_prevista: long (nullable = true)\n",
            " |-- diff_saida_real_prevista(h): double (nullable = true)\n",
            " |-- count: long (nullable = false)\n",
            "\n"
          ]
        }
      ]
    },
    {
      "cell_type": "code",
      "source": [
        "rotas_flights_agg.groupBy(\"rota\")\\\n",
        "    .agg(\n",
        "        avg(col(\"diff_chegada_real_prevista(h)\")).alias(\"avg_diff_chegada_real_prevista_h\"),\n",
        "        avg(col(\"diff_chegada_real_prevista\")).alias(\"avg_diff_chegada_real_prevista_s\")\n",
        "    )\\\n",
        "    .orderBy(desc(\"avg_diff_chegada_real_prevista_s\"))\\\n",
        "    .show(10, truncate=False)"
      ],
      "metadata": {
        "colab": {
          "base_uri": "https://localhost:8080/"
        },
        "id": "X809FrVwC-Eg",
        "outputId": "09d3cfe2-3116-4606-a935-9dd6a9fc486b"
      },
      "execution_count": 63,
      "outputs": [
        {
          "output_type": "stream",
          "name": "stdout",
          "text": [
            "+---------------------------+--------------------------------+--------------------------------+\n",
            "|rota                       |avg_diff_chegada_real_prevista_h|avg_diff_chegada_real_prevista_s|\n",
            "+---------------------------+--------------------------------+--------------------------------+\n",
            "|Cuiaba_Campo Grande        |1.201210084033614               |4324.285714285715               |\n",
            "|Salvador_Morro de Sao Paulo|1.1935126760563386              |4296.6760563380285              |\n",
            "|Morro de Sao Paulo_Salvador|1.0366450704225343              |3731.830985915493               |\n",
            "|Belem_Boa Vista            |0.9821456692913384              |3535.748031496063               |\n",
            "|Belem_Santarem             |0.7859358074222673              |2829.3881644934804              |\n",
            "|Ribeirao Preto_Brasilia    |0.7384905660377354              |2658.566037735849               |\n",
            "|Sao Paulo_Campinas         |0.6421021505376344              |2311.6129032258063              |\n",
            "|Goiania_Campo Grande       |0.568141592920354               |2045.3097345132744              |\n",
            "|Porto Velho_Rio Branco     |0.5511673469387759              |1984.1632653061224              |\n",
            "|Brasilia_Araguaina         |0.5396289308176102              |1942.6415094339623              |\n",
            "+---------------------------+--------------------------------+--------------------------------+\n",
            "only showing top 10 rows\n",
            "\n"
          ]
        }
      ]
    },
    {
      "cell_type": "markdown",
      "source": [
        "## Questão 4: Quais foram as rotas com maiores velocidades médias? >>> Rotas com as maiores velocidades médias registradas:\n",
        "\n",
        "```\n",
        "+----------------------+------------------+\n",
        "|rota                  |max(vel_media_kmh)|\n",
        "+----------------------+------------------+\n",
        "|Sao Paulo_Vitoria     |1194.4480763415777|\n",
        "|Teresina_Brasilia     |1185.759213958986 |\n",
        "|Campinas_Recife       |1181.3162452239906|\n",
        "|Brasilia_Curitiba     |1159.6431098439175|\n",
        "|Campinas_Vitoria      |1155.7644639594264|\n",
        "|Campinas_Maceio       |1144.3797319472296|\n",
        "|Sao Paulo_Porto Alegre|1128.5257152970175|\n",
        "|Sao Paulo_Brasilia    |1114.437799953105 |\n",
        "|Belem_Manaus          |1113.171418099293 |\n",
        "|Brasilia_Palmas       |1097.008975935571 |\n",
        "+----------------------+------------------+\n",
        "```"
      ],
      "metadata": {
        "id": "s_bK65hUFEg3"
      }
    },
    {
      "cell_type": "code",
      "source": [
        "rotas_flights_agg.printSchema()"
      ],
      "metadata": {
        "colab": {
          "base_uri": "https://localhost:8080/"
        },
        "id": "4CK04zw_FP_R",
        "outputId": "56ac1bab-259f-4ca9-d85c-3955bf6ee157"
      },
      "execution_count": 64,
      "outputs": [
        {
          "output_type": "stream",
          "name": "stdout",
          "text": [
            "root\n",
            " |-- rota: string (nullable = true)\n",
            " |-- sigla_icao_empresa_aerea: string (nullable = true)\n",
            " |-- numero_voo: integer (nullable = true)\n",
            " |-- codigo_di: integer (nullable = true)\n",
            " |-- codigo_tipo_linha: string (nullable = true)\n",
            " |-- sigla_icao_aeroporto_origem: string (nullable = true)\n",
            " |-- partida_prevista: timestamp (nullable = true)\n",
            " |-- partida_real: timestamp (nullable = true)\n",
            " |-- sigla_icao_aeroporto_destino: string (nullable = true)\n",
            " |-- chegada_prevista: timestamp (nullable = true)\n",
            " |-- chegada_real: timestamp (nullable = true)\n",
            " |-- situacao_voo: string (nullable = true)\n",
            " |-- nome_origem: string (nullable = true)\n",
            " |-- cidade_origem: string (nullable = true)\n",
            " |-- pais_origem: string (nullable = true)\n",
            " |-- latitude_origem: float (nullable = true)\n",
            " |-- longitude_origem: float (nullable = true)\n",
            " |-- nome_destino: string (nullable = true)\n",
            " |-- cidade_destino: string (nullable = true)\n",
            " |-- pais_destino: string (nullable = true)\n",
            " |-- latitude_destino: float (nullable = true)\n",
            " |-- longitude_destino: float (nullable = true)\n",
            " |-- airports_distance(km): float (nullable = true)\n",
            " |-- tempo_voo(segundos): long (nullable = true)\n",
            " |-- tempo_voo_min: double (nullable = true)\n",
            " |-- tempo_voo_horas: double (nullable = true)\n",
            " |-- vel_media_kmh: double (nullable = true)\n",
            " |-- diff_chegada_real_prevista: long (nullable = true)\n",
            " |-- diff_chegada_real_prevista(h): double (nullable = true)\n",
            " |-- diff_saida_real_prevista: long (nullable = true)\n",
            " |-- diff_saida_real_prevista(h): double (nullable = true)\n",
            " |-- count: long (nullable = false)\n",
            "\n"
          ]
        }
      ]
    },
    {
      "cell_type": "code",
      "source": [
        "rotas_flights_agg.groupBy(\"rota\").max(\"vel_media_kmh\")\\\n",
        "    .orderBy(desc(\"max(vel_media_kmh)\"))\\\n",
        "    .show(10, truncate=False)\n",
        "# Validar se continuo tomando o maximo ou deixo a media...talvez pra pergunta o máximo faça mais sentido"
      ],
      "metadata": {
        "colab": {
          "base_uri": "https://localhost:8080/"
        },
        "id": "LD_99joOC-Bz",
        "outputId": "fc09448c-2487-4a3f-b049-222d4699151c"
      },
      "execution_count": 65,
      "outputs": [
        {
          "output_type": "stream",
          "name": "stdout",
          "text": [
            "+----------------------+------------------+\n",
            "|rota                  |max(vel_media_kmh)|\n",
            "+----------------------+------------------+\n",
            "|Sao Paulo_Vitoria     |1194.4480763415777|\n",
            "|Teresina_Brasilia     |1185.759213958986 |\n",
            "|Campinas_Recife       |1181.3162452239906|\n",
            "|Brasilia_Curitiba     |1159.6431098439175|\n",
            "|Campinas_Vitoria      |1155.7644639594264|\n",
            "|Campinas_Maceio       |1144.3797319472296|\n",
            "|Sao Paulo_Porto Alegre|1128.5257152970175|\n",
            "|Sao Paulo_Brasilia    |1114.437799953105 |\n",
            "|Belem_Manaus          |1113.171418099293 |\n",
            "|Brasilia_Palmas       |1097.008975935571 |\n",
            "+----------------------+------------------+\n",
            "only showing top 10 rows\n",
            "\n"
          ]
        }
      ]
    },
    {
      "cell_type": "markdown",
      "source": [
        "## Questão 5: Para um aeroporto da sua escolha, qual é a companhia aérea com menor atraso médio nas saídas? >>> Sigla da companhia aérea com menor atraso médio com aeroporto de origem Tancredo Neves International Airport: **AZU**"
      ],
      "metadata": {
        "id": "5RRRzQ6iH4Xa"
      }
    },
    {
      "cell_type": "code",
      "source": [
        "filtered_flights.show(10)"
      ],
      "metadata": {
        "colab": {
          "base_uri": "https://localhost:8080/"
        },
        "id": "cRSq0xYiIdGa",
        "outputId": "1eb8f27d-65b1-4b55-8613-56128648e938"
      },
      "execution_count": 66,
      "outputs": [
        {
          "output_type": "stream",
          "name": "stdout",
          "text": [
            "+------------------------+----------+---------+-----------------+---------------------------+-------------------+-------------------+----------------------------+-------------------+-------------------+------------+--------------------+------------------+-----------+---------------+----------------+--------------------+------------------+------------+----------------+-----------------+---------------------+-------------------+-------------+---------------+------------------+--------------------------+-----------------------------+------------------------+---------------------------+--------------------+\n",
            "|sigla_icao_empresa_aerea|numero_voo|codigo_di|codigo_tipo_linha|sigla_icao_aeroporto_origem|   partida_prevista|       partida_real|sigla_icao_aeroporto_destino|   chegada_prevista|       chegada_real|situacao_voo|         nome_origem|     cidade_origem|pais_origem|latitude_origem|longitude_origem|        nome_destino|    cidade_destino|pais_destino|latitude_destino|longitude_destino|airports_distance(km)|tempo_voo(segundos)|tempo_voo_min|tempo_voo_horas|     vel_media_kmh|diff_chegada_real_prevista|diff_chegada_real_prevista(h)|diff_saida_real_prevista|diff_saida_real_prevista(h)|                rota|\n",
            "+------------------------+----------+---------+-----------------+---------------------------+-------------------+-------------------+----------------------------+-------------------+-------------------+------------+--------------------+------------------+-----------+---------------+----------------+--------------------+------------------+------------+----------------+-----------------+---------------------+-------------------+-------------+---------------+------------------+--------------------------+-----------------------------+------------------------+---------------------------+--------------------+\n",
            "|                     ABJ|      1404|        0|                N|                       SBSV|2023-01-01 11:15:00|2023-01-01 10:41:00|                        SNCL|2023-01-01 11:45:00|2023-01-01 11:01:00|   REALIZADO|Deputado Luiz Edu...|          Salvador|     Brazil|     -12.908611|        -38.3225|     Lorenzo Airport|Morro de Sao Paulo|      Brazil|      -13.389444|           -38.91|             83.09885|               1200|         20.0|          0.333|249.54608539203264|                     -2640|                       -0.733|                   -2040|                     -0.567|Salvador_Morro de...|\n",
            "|                     ABJ|      1405|        0|                N|                       SNCL|2023-01-01 12:00:00|2023-01-01 11:37:00|                        SBSV|2023-01-01 12:30:00|2023-01-01 12:00:00|   REALIZADO|     Lorenzo Airport|Morro de Sao Paulo|     Brazil|     -13.389444|          -38.91|Deputado Luiz Edu...|          Salvador|      Brazil|      -12.908611|         -38.3225|             83.09885|               1380|         23.0|          0.383|216.96826745573597|                     -1800|                         -0.5|                   -1380|                     -0.383|Morro de Sao Paul...|\n",
            "|                     ABJ|      1406|        0|                N|                       SBSV|2023-01-01 13:00:00|2023-01-01 12:32:00|                        SNCL|2023-01-01 13:30:00|2023-01-01 12:54:00|   REALIZADO|Deputado Luiz Edu...|          Salvador|     Brazil|     -12.908611|        -38.3225|     Lorenzo Airport|Morro de Sao Paulo|      Brazil|      -13.389444|           -38.91|             83.09885|               1320|         22.0|          0.367|226.42737448377895|                     -2160|                         -0.6|                   -1680|                     -0.467|Salvador_Morro de...|\n",
            "|                     ABJ|      1407|        0|                N|                       SNCL|2023-01-01 13:45:00|2023-01-01 13:42:00|                        SBSV|2023-01-01 14:15:00|2023-01-01 14:04:00|   REALIZADO|     Lorenzo Airport|Morro de Sao Paulo|     Brazil|     -13.389444|          -38.91|Deputado Luiz Edu...|          Salvador|      Brazil|      -12.908611|         -38.3225|             83.09885|               1320|         22.0|          0.367|226.42737448377895|                      -660|                       -0.183|                    -180|                      -0.05|Morro de Sao Paul...|\n",
            "|                     ABJ|      1404|        0|                N|                       SBSV|2023-01-02 11:15:00|2023-01-02 09:12:00|                        SNCL|2023-01-02 11:45:00|2023-01-02 09:44:00|   REALIZADO|Deputado Luiz Edu...|          Salvador|     Brazil|     -12.908611|        -38.3225|     Lorenzo Airport|Morro de Sao Paulo|      Brazil|      -13.389444|           -38.91|             83.09885|               1920|         32.0|          0.533| 155.9077794287934|                     -7260|                       -2.017|                   -7380|                      -2.05|Salvador_Morro de...|\n",
            "|                     ABJ|      1405|        0|                N|                       SNCL|2023-01-02 12:00:00|2023-01-02 10:09:00|                        SBSV|2023-01-02 12:30:00|2023-01-02 10:49:00|   REALIZADO|     Lorenzo Airport|Morro de Sao Paulo|     Brazil|     -13.389444|          -38.91|Deputado Luiz Edu...|          Salvador|      Brazil|      -12.908611|         -38.3225|             83.09885|               2400|         40.0|          0.667|124.58597666498781|                     -6060|                       -1.683|                   -6660|                      -1.85|Morro de Sao Paul...|\n",
            "|                     ABJ|      1406|        0|                N|                       SBSV|2023-01-02 13:00:00|2023-01-02 11:14:00|                        SNCL|2023-01-02 13:30:00|2023-01-02 11:48:00|   REALIZADO|Deputado Luiz Edu...|          Salvador|     Brazil|     -12.908611|        -38.3225|     Lorenzo Airport|Morro de Sao Paulo|      Brazil|      -13.389444|           -38.91|             83.09885|               2040|         34.0|          0.567|146.55881205563824|                     -6120|                         -1.7|                   -6360|                     -1.767|Salvador_Morro de...|\n",
            "|                     ABJ|      1407|        0|                N|                       SNCL|2023-01-02 13:45:00|2023-01-02 12:03:00|                        SBSV|2023-01-02 14:15:00|2023-01-02 12:30:00|   REALIZADO|     Lorenzo Airport|Morro de Sao Paulo|     Brazil|     -13.389444|          -38.91|Deputado Luiz Edu...|          Salvador|      Brazil|      -12.908611|         -38.3225|             83.09885|               1620|         27.0|           0.45|184.66410319010416|                     -6300|                        -1.75|                   -6120|                       -1.7|Morro de Sao Paul...|\n",
            "|                     ABJ|      1408|        0|                N|                       SBSV|2023-01-02 14:45:00|2023-01-02 12:53:00|                        SNCL|2023-01-02 15:15:00|2023-01-02 13:17:00|   REALIZADO|Deputado Luiz Edu...|          Salvador|     Brazil|     -12.908611|        -38.3225|     Lorenzo Airport|Morro de Sao Paulo|      Brazil|      -13.389444|           -38.91|             83.09885|               1440|         24.0|            0.4| 207.7471160888672|                     -7080|                       -1.967|                   -6720|                     -1.867|Salvador_Morro de...|\n",
            "|                     ABJ|      1409|        0|                N|                       SNCL|2023-01-02 15:30:00|2023-01-02 13:33:00|                        SBSV|2023-01-02 16:00:00|2023-01-02 13:57:00|   REALIZADO|     Lorenzo Airport|Morro de Sao Paulo|     Brazil|     -13.389444|          -38.91|Deputado Luiz Edu...|          Salvador|      Brazil|      -12.908611|         -38.3225|             83.09885|               1440|         24.0|            0.4| 207.7471160888672|                     -7380|                        -2.05|                   -7020|                      -1.95|Morro de Sao Paul...|\n",
            "+------------------------+----------+---------+-----------------+---------------------------+-------------------+-------------------+----------------------------+-------------------+-------------------+------------+--------------------+------------------+-----------+---------------+----------------+--------------------+------------------+------------+----------------+-----------------+---------------------+-------------------+-------------+---------------+------------------+--------------------------+-----------------------------+------------------------+---------------------------+--------------------+\n",
            "only showing top 10 rows\n",
            "\n"
          ]
        }
      ]
    },
    {
      "cell_type": "code",
      "source": [
        "filtered_flights.select(\"nome_origem\").distinct().show(truncate=False)"
      ],
      "metadata": {
        "colab": {
          "base_uri": "https://localhost:8080/"
        },
        "id": "t4UvLA2NIoZb",
        "outputId": "ea1fa628-eb4a-4165-d65a-824f58e52602"
      },
      "execution_count": 67,
      "outputs": [
        {
          "output_type": "stream",
          "name": "stdout",
          "text": [
            "+-----------------------------------------------------------------+\n",
            "|nome_origem                                                      |\n",
            "+-----------------------------------------------------------------+\n",
            "|Tefé Airport                                                     |\n",
            "|Presidente Prudente Airport                                      |\n",
            "|Umuarama Airport                                                 |\n",
            "|Maués Airport                                                    |\n",
            "|Barcelos Airport                                                 |\n",
            "|Plácido de Castro Airport                                        |\n",
            "|Nelson Ribeiro Guimarães Airport                                 |\n",
            "|Hercílio Luz International Airport                               |\n",
            "|Senadora Eunice Micheles Airport                                 |\n",
            "|Coronel Horácio de Mattos Airport                                |\n",
            "|Santa Genoveva Airport                                           |\n",
            "|João Correa da Rocha Airport                                     |\n",
            "|Fernando de Noronha Airport                                      |\n",
            "|Juína Airport                                                    |\n",
            "|Marechal Cunha Machado International Airport                     |\n",
            "|Governador José Richa Airport                                    |\n",
            "|Lorenzo Airport                                                  |\n",
            "|Porto Seguro Airport                                             |\n",
            "|Guarulhos - Governador André Franco Montoro International Airport|\n",
            "|Maestro Wilson Fonseca Airport                                   |\n",
            "+-----------------------------------------------------------------+\n",
            "only showing top 20 rows\n",
            "\n"
          ]
        }
      ]
    },
    {
      "cell_type": "code",
      "source": [
        "# Companhia aérea com menor atraso médio nas saídas\n",
        "# Vamos usar como referencia os aeroportos usados para partida para contar os mais frequentes,\n",
        "# porem podemos contar em conjunto os de partida e chegada, se fizer mais sentido\n",
        "\n",
        "freq_aeroportos = filtered_flights.select(\"nome_origem\")\\\n",
        "                    .groupBy(\"nome_origem\").count().filter(col(\"count\") > 1000)"
      ],
      "metadata": {
        "id": "bwkMpMTxC9-2"
      },
      "execution_count": 68,
      "outputs": []
    },
    {
      "cell_type": "code",
      "source": [
        "freq_aeroportos.orderBy(desc(\"count\")).show(10, truncate=False)"
      ],
      "metadata": {
        "colab": {
          "base_uri": "https://localhost:8080/"
        },
        "id": "SuR2OGslJLD7",
        "outputId": "b0bf9434-f660-4de4-aceb-dcbb1615f72b"
      },
      "execution_count": 69,
      "outputs": [
        {
          "output_type": "stream",
          "name": "stdout",
          "text": [
            "+-----------------------------------------------------------------+-----+\n",
            "|nome_origem                                                      |count|\n",
            "+-----------------------------------------------------------------+-----+\n",
            "|Congonhas Airport                                                |90916|\n",
            "|Guarulhos - Governador André Franco Montoro International Airport|89879|\n",
            "|Santos Dumont Airport                                            |52368|\n",
            "|Viracopos International Airport                                  |52226|\n",
            "|Presidente Juscelino Kubistschek International Airport           |51394|\n",
            "|Tancredo Neves International Airport                             |45603|\n",
            "|Guararapes - Gilberto Freyre International Airport               |35630|\n",
            "|Salgado Filho Airport                                            |27694|\n",
            "|Deputado Luiz Eduardo Magalhães International Airport            |25649|\n",
            "|Afonso Pena Airport                                              |24559|\n",
            "+-----------------------------------------------------------------+-----+\n",
            "only showing top 10 rows\n",
            "\n"
          ]
        }
      ]
    },
    {
      "cell_type": "code",
      "source": [
        "filtered_flights.printSchema()"
      ],
      "metadata": {
        "colab": {
          "base_uri": "https://localhost:8080/"
        },
        "id": "zpLGsVuDK_IH",
        "outputId": "c43275ae-879a-4dd1-9f26-647e30989c2b"
      },
      "execution_count": 70,
      "outputs": [
        {
          "output_type": "stream",
          "name": "stdout",
          "text": [
            "root\n",
            " |-- sigla_icao_empresa_aerea: string (nullable = true)\n",
            " |-- numero_voo: integer (nullable = true)\n",
            " |-- codigo_di: integer (nullable = true)\n",
            " |-- codigo_tipo_linha: string (nullable = true)\n",
            " |-- sigla_icao_aeroporto_origem: string (nullable = true)\n",
            " |-- partida_prevista: timestamp (nullable = true)\n",
            " |-- partida_real: timestamp (nullable = true)\n",
            " |-- sigla_icao_aeroporto_destino: string (nullable = true)\n",
            " |-- chegada_prevista: timestamp (nullable = true)\n",
            " |-- chegada_real: timestamp (nullable = true)\n",
            " |-- situacao_voo: string (nullable = true)\n",
            " |-- nome_origem: string (nullable = true)\n",
            " |-- cidade_origem: string (nullable = true)\n",
            " |-- pais_origem: string (nullable = true)\n",
            " |-- latitude_origem: float (nullable = true)\n",
            " |-- longitude_origem: float (nullable = true)\n",
            " |-- nome_destino: string (nullable = true)\n",
            " |-- cidade_destino: string (nullable = true)\n",
            " |-- pais_destino: string (nullable = true)\n",
            " |-- latitude_destino: float (nullable = true)\n",
            " |-- longitude_destino: float (nullable = true)\n",
            " |-- airports_distance(km): float (nullable = true)\n",
            " |-- tempo_voo(segundos): long (nullable = true)\n",
            " |-- tempo_voo_min: double (nullable = true)\n",
            " |-- tempo_voo_horas: double (nullable = true)\n",
            " |-- vel_media_kmh: double (nullable = true)\n",
            " |-- diff_chegada_real_prevista: long (nullable = true)\n",
            " |-- diff_chegada_real_prevista(h): double (nullable = true)\n",
            " |-- diff_saida_real_prevista: long (nullable = true)\n",
            " |-- diff_saida_real_prevista(h): double (nullable = true)\n",
            " |-- rota: string (nullable = true)\n",
            "\n"
          ]
        }
      ]
    },
    {
      "cell_type": "code",
      "source": [
        "filtered_flights.filter(col(\"nome_origem\") == \"Tancredo Neves International Airport\")\\\n",
        "    .groupBy(col(\"sigla_icao_empresa_aerea\"))\\\n",
        "    .agg(\n",
        "        avg(col(\"diff_saida_real_prevista(h)\")).alias(\"avg_diff_saida_real_prevista_h\"),\n",
        "        avg(col(\"diff_saida_real_prevista\")).alias(\"avg_diff_saida_real_prevista_s\")\n",
        "    )\\\n",
        "    .orderBy(asc(\"avg_diff_saida_real_prevista_s\"))\\\n",
        "    .show(10, truncate=False)"
      ],
      "metadata": {
        "colab": {
          "base_uri": "https://localhost:8080/"
        },
        "id": "4zEEQ76EJLA-",
        "outputId": "ffe7bd57-9250-4a34-a39b-12801bb410e1"
      },
      "execution_count": 71,
      "outputs": [
        {
          "output_type": "stream",
          "name": "stdout",
          "text": [
            "+------------------------+------------------------------+------------------------------+\n",
            "|sigla_icao_empresa_aerea|avg_diff_saida_real_prevista_h|avg_diff_saida_real_prevista_s|\n",
            "+------------------------+------------------------------+------------------------------+\n",
            "|AZU                     |0.06152397552889836           |221.49492463857274            |\n",
            "|TAM                     |0.07293918918918865           |262.5855855855856             |\n",
            "|GLO                     |0.09210205336284234           |331.5898192548875             |\n",
            "|ACN                     |0.09445535714285712           |340.0                         |\n",
            "|BUY                     |0.333                         |1200.0                        |\n",
            "|LAE                     |0.767                         |2760.0                        |\n",
            "|SID                     |2.733768264840182             |9841.575342465754             |\n",
            "|RUC                     |3.0                           |10800.0                       |\n",
            "+------------------------+------------------------------+------------------------------+\n",
            "\n"
          ]
        }
      ]
    },
    {
      "cell_type": "markdown",
      "source": [
        "## Questão 6: As rotas com um atraso médio maior do que zero tendem a ter uma velocidade média maior do que as rotas que não tem atraso? >>> Olhando para uma amostra de voos com atraso (flag = 1) e para uma amostra de voos sem atraso (flag = 0) e comparando as respectivas velocidades médias medianas aparantemente não há nada que indique um aumento de velocidade para voos com atraso. Porém se quisermos tirar uma conclusão mais assertiva um estudo mais robusto deve ser considerado.\n",
        "\n",
        "```\n",
        "+-----------------------------+------------------------------+--------------------+-----------+\n",
        "|rota                         |avg_diff_saida_real_prevista_s|median_vel_media_kmh|flag_atraso|\n",
        "+-----------------------------+------------------------------+--------------------+-----------+\n",
        "|Manaus_Porto Alegre          |10065.0                       |672.7808888371814   |1          |\n",
        "|Rio Branco_Curitiba          |25500.0                       |652.7406222879989   |1          |\n",
        "|Londrina_Cuiaba              |20460.0                       |387.54278368327766  |1          |\n",
        "|Sao Paulo_Sao Jose Dos Campos|14700.0                       |95.03370012555804   |1          |\n",
        "|Porto Velho_Belem            |16020.0                       |687.9942737926136   |1          |\n",
        "|Curitiba_Fortaleza           |0.0                           |712.6528645833333   |0          |\n",
        "|Campo Grande_Rio De Janeiro  |0.0                           |619.7643729967949   |0          |\n",
        "|BLUMENAU_Sao Paulo           |0.0                           |221.6891557742388   |0          |\n",
        "|Belo Horizonte_Araxa         |0.0                           |215.95128552667026  |0          |\n",
        "|Belo Horizonte_Joao Pessoa   |0.0                           |656.2753781485917   |0          |\n",
        "+-----------------------------+------------------------------+--------------------+-----------+\n",
        "```"
      ],
      "metadata": {
        "id": "YXy9tNJ2Dz73"
      }
    },
    {
      "cell_type": "code",
      "source": [
        "filtered_flights.createOrReplaceTempView(\"filtered_flights\")"
      ],
      "metadata": {
        "id": "8B9u5Gd_Dz74"
      },
      "execution_count": 72,
      "outputs": []
    },
    {
      "cell_type": "code",
      "source": [
        "filtered_flights = filtered_flights.withColumnRenamed(\"airports_distance(km)\", \"airports_distance_km\")"
      ],
      "metadata": {
        "id": "E9TAILHks70S"
      },
      "execution_count": 84,
      "outputs": []
    },
    {
      "cell_type": "code",
      "source": [
        "filtered_flights.createOrReplaceTempView(\"filtered_flights\")"
      ],
      "metadata": {
        "id": "K2CuzNLQtJgQ"
      },
      "execution_count": 85,
      "outputs": []
    },
    {
      "cell_type": "code",
      "source": [
        "spark.sql(\"select * from filtered_flights limit 10\").show()"
      ],
      "metadata": {
        "colab": {
          "base_uri": "https://localhost:8080/"
        },
        "id": "5Wfrbe3mmQpJ",
        "outputId": "bee8a647-878e-4366-a6a5-21ea5e337d12"
      },
      "execution_count": 86,
      "outputs": [
        {
          "output_type": "stream",
          "name": "stdout",
          "text": [
            "+------------------------+----------+---------+-----------------+---------------------------+-------------------+-------------------+----------------------------+-------------------+-------------------+------------+--------------------+------------------+-----------+---------------+----------------+--------------------+------------------+------------+----------------+-----------------+--------------------+-------------------+-------------+---------------+------------------+--------------------------+-----------------------------+------------------------+---------------------------+--------------------+\n",
            "|sigla_icao_empresa_aerea|numero_voo|codigo_di|codigo_tipo_linha|sigla_icao_aeroporto_origem|   partida_prevista|       partida_real|sigla_icao_aeroporto_destino|   chegada_prevista|       chegada_real|situacao_voo|         nome_origem|     cidade_origem|pais_origem|latitude_origem|longitude_origem|        nome_destino|    cidade_destino|pais_destino|latitude_destino|longitude_destino|airports_distance_km|tempo_voo(segundos)|tempo_voo_min|tempo_voo_horas|     vel_media_kmh|diff_chegada_real_prevista|diff_chegada_real_prevista(h)|diff_saida_real_prevista|diff_saida_real_prevista(h)|                rota|\n",
            "+------------------------+----------+---------+-----------------+---------------------------+-------------------+-------------------+----------------------------+-------------------+-------------------+------------+--------------------+------------------+-----------+---------------+----------------+--------------------+------------------+------------+----------------+-----------------+--------------------+-------------------+-------------+---------------+------------------+--------------------------+-----------------------------+------------------------+---------------------------+--------------------+\n",
            "|                     ABJ|      1404|        0|                N|                       SBSV|2023-01-01 11:15:00|2023-01-01 10:41:00|                        SNCL|2023-01-01 11:45:00|2023-01-01 11:01:00|   REALIZADO|Deputado Luiz Edu...|          Salvador|     Brazil|     -12.908611|        -38.3225|     Lorenzo Airport|Morro de Sao Paulo|      Brazil|      -13.389444|           -38.91|            83.09885|               1200|         20.0|          0.333|249.54608539203264|                     -2640|                       -0.733|                   -2040|                     -0.567|Salvador_Morro de...|\n",
            "|                     ABJ|      1405|        0|                N|                       SNCL|2023-01-01 12:00:00|2023-01-01 11:37:00|                        SBSV|2023-01-01 12:30:00|2023-01-01 12:00:00|   REALIZADO|     Lorenzo Airport|Morro de Sao Paulo|     Brazil|     -13.389444|          -38.91|Deputado Luiz Edu...|          Salvador|      Brazil|      -12.908611|         -38.3225|            83.09885|               1380|         23.0|          0.383|216.96826745573597|                     -1800|                         -0.5|                   -1380|                     -0.383|Morro de Sao Paul...|\n",
            "|                     ABJ|      1406|        0|                N|                       SBSV|2023-01-01 13:00:00|2023-01-01 12:32:00|                        SNCL|2023-01-01 13:30:00|2023-01-01 12:54:00|   REALIZADO|Deputado Luiz Edu...|          Salvador|     Brazil|     -12.908611|        -38.3225|     Lorenzo Airport|Morro de Sao Paulo|      Brazil|      -13.389444|           -38.91|            83.09885|               1320|         22.0|          0.367|226.42737448377895|                     -2160|                         -0.6|                   -1680|                     -0.467|Salvador_Morro de...|\n",
            "|                     ABJ|      1407|        0|                N|                       SNCL|2023-01-01 13:45:00|2023-01-01 13:42:00|                        SBSV|2023-01-01 14:15:00|2023-01-01 14:04:00|   REALIZADO|     Lorenzo Airport|Morro de Sao Paulo|     Brazil|     -13.389444|          -38.91|Deputado Luiz Edu...|          Salvador|      Brazil|      -12.908611|         -38.3225|            83.09885|               1320|         22.0|          0.367|226.42737448377895|                      -660|                       -0.183|                    -180|                      -0.05|Morro de Sao Paul...|\n",
            "|                     ABJ|      1404|        0|                N|                       SBSV|2023-01-02 11:15:00|2023-01-02 09:12:00|                        SNCL|2023-01-02 11:45:00|2023-01-02 09:44:00|   REALIZADO|Deputado Luiz Edu...|          Salvador|     Brazil|     -12.908611|        -38.3225|     Lorenzo Airport|Morro de Sao Paulo|      Brazil|      -13.389444|           -38.91|            83.09885|               1920|         32.0|          0.533| 155.9077794287934|                     -7260|                       -2.017|                   -7380|                      -2.05|Salvador_Morro de...|\n",
            "|                     ABJ|      1405|        0|                N|                       SNCL|2023-01-02 12:00:00|2023-01-02 10:09:00|                        SBSV|2023-01-02 12:30:00|2023-01-02 10:49:00|   REALIZADO|     Lorenzo Airport|Morro de Sao Paulo|     Brazil|     -13.389444|          -38.91|Deputado Luiz Edu...|          Salvador|      Brazil|      -12.908611|         -38.3225|            83.09885|               2400|         40.0|          0.667|124.58597666498781|                     -6060|                       -1.683|                   -6660|                      -1.85|Morro de Sao Paul...|\n",
            "|                     ABJ|      1406|        0|                N|                       SBSV|2023-01-02 13:00:00|2023-01-02 11:14:00|                        SNCL|2023-01-02 13:30:00|2023-01-02 11:48:00|   REALIZADO|Deputado Luiz Edu...|          Salvador|     Brazil|     -12.908611|        -38.3225|     Lorenzo Airport|Morro de Sao Paulo|      Brazil|      -13.389444|           -38.91|            83.09885|               2040|         34.0|          0.567|146.55881205563824|                     -6120|                         -1.7|                   -6360|                     -1.767|Salvador_Morro de...|\n",
            "|                     ABJ|      1407|        0|                N|                       SNCL|2023-01-02 13:45:00|2023-01-02 12:03:00|                        SBSV|2023-01-02 14:15:00|2023-01-02 12:30:00|   REALIZADO|     Lorenzo Airport|Morro de Sao Paulo|     Brazil|     -13.389444|          -38.91|Deputado Luiz Edu...|          Salvador|      Brazil|      -12.908611|         -38.3225|            83.09885|               1620|         27.0|           0.45|184.66410319010416|                     -6300|                        -1.75|                   -6120|                       -1.7|Morro de Sao Paul...|\n",
            "|                     ABJ|      1408|        0|                N|                       SBSV|2023-01-02 14:45:00|2023-01-02 12:53:00|                        SNCL|2023-01-02 15:15:00|2023-01-02 13:17:00|   REALIZADO|Deputado Luiz Edu...|          Salvador|     Brazil|     -12.908611|        -38.3225|     Lorenzo Airport|Morro de Sao Paulo|      Brazil|      -13.389444|           -38.91|            83.09885|               1440|         24.0|            0.4| 207.7471160888672|                     -7080|                       -1.967|                   -6720|                     -1.867|Salvador_Morro de...|\n",
            "|                     ABJ|      1409|        0|                N|                       SNCL|2023-01-02 15:30:00|2023-01-02 13:33:00|                        SBSV|2023-01-02 16:00:00|2023-01-02 13:57:00|   REALIZADO|     Lorenzo Airport|Morro de Sao Paulo|     Brazil|     -13.389444|          -38.91|Deputado Luiz Edu...|          Salvador|      Brazil|      -12.908611|         -38.3225|            83.09885|               1440|         24.0|            0.4| 207.7471160888672|                     -7380|                        -2.05|                   -7020|                      -1.95|Morro de Sao Paul...|\n",
            "+------------------------+----------+---------+-----------------+---------------------------+-------------------+-------------------+----------------------------+-------------------+-------------------+------------+--------------------+------------------+-----------+---------------+----------------+--------------------+------------------+------------+----------------+-----------------+--------------------+-------------------+-------------+---------------+------------------+--------------------------+-----------------------------+------------------------+---------------------------+--------------------+\n",
            "\n"
          ]
        }
      ]
    },
    {
      "cell_type": "code",
      "source": [
        "spark.sql(\"\"\"\n",
        "    with atrasos as (\n",
        "        select\n",
        "            rota\n",
        "            ,avg(diff_saida_real_prevista) as avg_diff_saida_real_prevista_s\n",
        "            ,percentile_approx(vel_media_kmh, 0.5) as median_vel_media_kmh\n",
        "        from filtered_flights\n",
        "        group by rota\n",
        "        having avg(diff_saida_real_prevista) > 0\n",
        "    ),\n",
        "    sem_atrasos as (\n",
        "        select\n",
        "            rota\n",
        "            ,avg(diff_saida_real_prevista) as avg_diff_saida_real_prevista_s\n",
        "            ,percentile_approx(vel_media_kmh, 0.5) as median_vel_media_kmh\n",
        "        from filtered_flights\n",
        "        group by rota\n",
        "        having avg(diff_saida_real_prevista) = 0\n",
        "    ),\n",
        "    top5_atrasos as (\n",
        "        select\n",
        "            rota\n",
        "            ,avg_diff_saida_real_prevista_s\n",
        "            ,median_vel_media_kmh\n",
        "            ,1 as flag_atraso\n",
        "        from atrasos\n",
        "        order by avg_diff_saida_real_prevista_s desc limit 5\n",
        "    ),\n",
        "    top5_sem_atrasos as (\n",
        "        select\n",
        "            rota\n",
        "            ,avg_diff_saida_real_prevista_s\n",
        "            ,median_vel_media_kmh\n",
        "            ,0 as flag_atraso\n",
        "        from sem_atrasos\n",
        "        order by avg_diff_saida_real_prevista_s asc limit 5\n",
        "    )\n",
        "\n",
        "    select\n",
        "        rota\n",
        "        ,avg_diff_saida_real_prevista_s\n",
        "        ,median_vel_media_kmh\n",
        "        ,flag_atraso\n",
        "    from top5_atrasos\n",
        "    union\n",
        "    select\n",
        "        rota\n",
        "        ,avg_diff_saida_real_prevista_s\n",
        "        ,median_vel_media_kmh\n",
        "        ,flag_atraso\n",
        "    from top5_sem_atrasos\n",
        "\n",
        "\"\"\").show(truncate=False)"
      ],
      "metadata": {
        "colab": {
          "base_uri": "https://localhost:8080/"
        },
        "id": "J4SL-E3unROJ",
        "outputId": "2d84f182-b3bf-4a31-d760-35568cdc2903"
      },
      "execution_count": 91,
      "outputs": [
        {
          "output_type": "stream",
          "name": "stdout",
          "text": [
            "+-----------------------------+------------------------------+--------------------+-----------+\n",
            "|rota                         |avg_diff_saida_real_prevista_s|median_vel_media_kmh|flag_atraso|\n",
            "+-----------------------------+------------------------------+--------------------+-----------+\n",
            "|Manaus_Porto Alegre          |10065.0                       |672.7808888371814   |1          |\n",
            "|Rio Branco_Curitiba          |25500.0                       |652.7406222879989   |1          |\n",
            "|Londrina_Cuiaba              |20460.0                       |387.54278368327766  |1          |\n",
            "|Sao Paulo_Sao Jose Dos Campos|14700.0                       |95.03370012555804   |1          |\n",
            "|Porto Velho_Belem            |16020.0                       |687.9942737926136   |1          |\n",
            "|Curitiba_Fortaleza           |0.0                           |712.6528645833333   |0          |\n",
            "|Campo Grande_Rio De Janeiro  |0.0                           |619.7643729967949   |0          |\n",
            "|BLUMENAU_Sao Paulo           |0.0                           |221.6891557742388   |0          |\n",
            "|Belo Horizonte_Araxa         |0.0                           |215.95128552667026  |0          |\n",
            "|Belo Horizonte_Joao Pessoa   |0.0                           |656.2753781485917   |0          |\n",
            "+-----------------------------+------------------------------+--------------------+-----------+\n",
            "\n"
          ]
        }
      ]
    },
    {
      "cell_type": "code",
      "source": [],
      "metadata": {
        "id": "W_KJ-V3bqji1"
      },
      "execution_count": null,
      "outputs": []
    }
  ]
}